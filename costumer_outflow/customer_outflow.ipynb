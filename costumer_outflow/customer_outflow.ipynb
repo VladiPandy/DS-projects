{
  "cells": [
    {
      "cell_type": "markdown",
      "metadata": {
        "id": "PI0sCWc6lsi6"
      },
      "source": [
        "## Подготовка данных"
      ]
    },
    {
      "cell_type": "markdown",
      "metadata": {
        "id": "Ytbq4Pyvlsi-"
      },
      "source": [
        "Импортируем все нужные нам библиотеки:"
      ]
    },
    {
      "cell_type": "code",
      "source": [
        "pip install Catboost"
      ],
      "metadata": {
        "colab": {
          "base_uri": "https://localhost:8080/"
        },
        "id": "k_G8EMLqmKqy",
        "outputId": "9926d184-828a-41f5-e20e-0f5e8d90e714"
      },
      "execution_count": null,
      "outputs": [
        {
          "output_type": "stream",
          "name": "stdout",
          "text": [
            "Requirement already satisfied: Catboost in /usr/local/lib/python3.7/dist-packages (1.0.4)\n",
            "Requirement already satisfied: numpy>=1.16.0 in /usr/local/lib/python3.7/dist-packages (from Catboost) (1.19.5)\n",
            "Requirement already satisfied: pandas>=0.24.0 in /usr/local/lib/python3.7/dist-packages (from Catboost) (1.1.5)\n",
            "Requirement already satisfied: scipy in /usr/local/lib/python3.7/dist-packages (from Catboost) (1.4.1)\n",
            "Requirement already satisfied: matplotlib in /usr/local/lib/python3.7/dist-packages (from Catboost) (3.2.2)\n",
            "Requirement already satisfied: six in /usr/local/lib/python3.7/dist-packages (from Catboost) (1.15.0)\n",
            "Requirement already satisfied: graphviz in /usr/local/lib/python3.7/dist-packages (from Catboost) (0.10.1)\n",
            "Requirement already satisfied: plotly in /usr/local/lib/python3.7/dist-packages (from Catboost) (5.5.0)\n",
            "Requirement already satisfied: pytz>=2017.2 in /usr/local/lib/python3.7/dist-packages (from pandas>=0.24.0->Catboost) (2018.9)\n",
            "Requirement already satisfied: python-dateutil>=2.7.3 in /usr/local/lib/python3.7/dist-packages (from pandas>=0.24.0->Catboost) (2.8.2)\n",
            "Requirement already satisfied: cycler>=0.10 in /usr/local/lib/python3.7/dist-packages (from matplotlib->Catboost) (0.11.0)\n",
            "Requirement already satisfied: kiwisolver>=1.0.1 in /usr/local/lib/python3.7/dist-packages (from matplotlib->Catboost) (1.3.2)\n",
            "Requirement already satisfied: pyparsing!=2.0.4,!=2.1.2,!=2.1.6,>=2.0.1 in /usr/local/lib/python3.7/dist-packages (from matplotlib->Catboost) (3.0.7)\n",
            "Requirement already satisfied: tenacity>=6.2.0 in /usr/local/lib/python3.7/dist-packages (from plotly->Catboost) (8.0.1)\n"
          ]
        }
      ]
    },
    {
      "cell_type": "code",
      "execution_count": null,
      "metadata": {
        "id": "D2eya7z0lsjC"
      },
      "outputs": [],
      "source": [
        "import pandas as pd\n",
        "from sklearn.linear_model import LogisticRegression\n",
        "from sklearn.metrics import f1_score\n",
        "from sklearn.metrics import roc_auc_score,roc_curve,precision_score,recall_score\n",
        "import matplotlib.pyplot as plt\n",
        "from sklearn.metrics import accuracy_score\n",
        "from sklearn.metrics import confusion_matrix\n",
        "from sklearn.metrics import precision_recall_curve\n",
        "from sklearn.model_selection import train_test_split\n",
        "from sklearn.preprocessing import StandardScaler\n",
        "from sklearn.utils import shuffle\n",
        "from sklearn.tree import DecisionTreeClassifier\n",
        "from sklearn.metrics import accuracy_score \n",
        "from sklearn.ensemble import RandomForestClassifier \n",
        "from catboost import CatBoostClassifier\n",
        "import numpy as np"
      ]
    },
    {
      "cell_type": "markdown",
      "metadata": {
        "id": "pZmHgDCLlsjP"
      },
      "source": [
        "Прочитаем файл и сохраним его в переменной `data` и выведим первые 5 строк:"
      ]
    },
    {
      "cell_type": "code",
      "execution_count": null,
      "metadata": {
        "id": "rcS9A8tmlsjS"
      },
      "outputs": [],
      "source": [
        "data=pd.read_csv('__')"
      ]
    },
    {
      "cell_type": "code",
      "execution_count": null,
      "metadata": {
        "colab": {
          "base_uri": "https://localhost:8080/",
          "height": 206
        },
        "id": "tK-fsqONlsjV",
        "outputId": "8a13db99-7d21-4753-becf-f2dbe72843a2"
      },
      "outputs": [
        {
          "output_type": "execute_result",
          "data": {
            "text/html": [
              "\n",
              "  <div id=\"df-dd94d2b7-ddfc-47d4-b56e-17fc720cff2d\">\n",
              "    <div class=\"colab-df-container\">\n",
              "      <div>\n",
              "<style scoped>\n",
              "    .dataframe tbody tr th:only-of-type {\n",
              "        vertical-align: middle;\n",
              "    }\n",
              "\n",
              "    .dataframe tbody tr th {\n",
              "        vertical-align: top;\n",
              "    }\n",
              "\n",
              "    .dataframe thead th {\n",
              "        text-align: right;\n",
              "    }\n",
              "</style>\n",
              "<table border=\"1\" class=\"dataframe\">\n",
              "  <thead>\n",
              "    <tr style=\"text-align: right;\">\n",
              "      <th></th>\n",
              "      <th>RowNumber</th>\n",
              "      <th>CustomerId</th>\n",
              "      <th>Surname</th>\n",
              "      <th>CreditScore</th>\n",
              "      <th>Geography</th>\n",
              "      <th>Gender</th>\n",
              "      <th>Age</th>\n",
              "      <th>Tenure</th>\n",
              "      <th>Balance</th>\n",
              "      <th>NumOfProducts</th>\n",
              "      <th>HasCrCard</th>\n",
              "      <th>IsActiveMember</th>\n",
              "      <th>EstimatedSalary</th>\n",
              "      <th>Exited</th>\n",
              "    </tr>\n",
              "  </thead>\n",
              "  <tbody>\n",
              "    <tr>\n",
              "      <th>0</th>\n",
              "      <td>1</td>\n",
              "      <td>15634602</td>\n",
              "      <td>Hargrave</td>\n",
              "      <td>619</td>\n",
              "      <td>France</td>\n",
              "      <td>Female</td>\n",
              "      <td>42</td>\n",
              "      <td>2.0</td>\n",
              "      <td>0.00</td>\n",
              "      <td>1</td>\n",
              "      <td>1</td>\n",
              "      <td>1</td>\n",
              "      <td>101348.88</td>\n",
              "      <td>1</td>\n",
              "    </tr>\n",
              "    <tr>\n",
              "      <th>1</th>\n",
              "      <td>2</td>\n",
              "      <td>15647311</td>\n",
              "      <td>Hill</td>\n",
              "      <td>608</td>\n",
              "      <td>Spain</td>\n",
              "      <td>Female</td>\n",
              "      <td>41</td>\n",
              "      <td>1.0</td>\n",
              "      <td>83807.86</td>\n",
              "      <td>1</td>\n",
              "      <td>0</td>\n",
              "      <td>1</td>\n",
              "      <td>112542.58</td>\n",
              "      <td>0</td>\n",
              "    </tr>\n",
              "    <tr>\n",
              "      <th>2</th>\n",
              "      <td>3</td>\n",
              "      <td>15619304</td>\n",
              "      <td>Onio</td>\n",
              "      <td>502</td>\n",
              "      <td>France</td>\n",
              "      <td>Female</td>\n",
              "      <td>42</td>\n",
              "      <td>8.0</td>\n",
              "      <td>159660.80</td>\n",
              "      <td>3</td>\n",
              "      <td>1</td>\n",
              "      <td>0</td>\n",
              "      <td>113931.57</td>\n",
              "      <td>1</td>\n",
              "    </tr>\n",
              "    <tr>\n",
              "      <th>3</th>\n",
              "      <td>4</td>\n",
              "      <td>15701354</td>\n",
              "      <td>Boni</td>\n",
              "      <td>699</td>\n",
              "      <td>France</td>\n",
              "      <td>Female</td>\n",
              "      <td>39</td>\n",
              "      <td>1.0</td>\n",
              "      <td>0.00</td>\n",
              "      <td>2</td>\n",
              "      <td>0</td>\n",
              "      <td>0</td>\n",
              "      <td>93826.63</td>\n",
              "      <td>0</td>\n",
              "    </tr>\n",
              "    <tr>\n",
              "      <th>4</th>\n",
              "      <td>5</td>\n",
              "      <td>15737888</td>\n",
              "      <td>Mitchell</td>\n",
              "      <td>850</td>\n",
              "      <td>Spain</td>\n",
              "      <td>Female</td>\n",
              "      <td>43</td>\n",
              "      <td>2.0</td>\n",
              "      <td>125510.82</td>\n",
              "      <td>1</td>\n",
              "      <td>1</td>\n",
              "      <td>1</td>\n",
              "      <td>79084.10</td>\n",
              "      <td>0</td>\n",
              "    </tr>\n",
              "  </tbody>\n",
              "</table>\n",
              "</div>\n",
              "      <button class=\"colab-df-convert\" onclick=\"convertToInteractive('df-dd94d2b7-ddfc-47d4-b56e-17fc720cff2d')\"\n",
              "              title=\"Convert this dataframe to an interactive table.\"\n",
              "              style=\"display:none;\">\n",
              "        \n",
              "  <svg xmlns=\"http://www.w3.org/2000/svg\" height=\"24px\"viewBox=\"0 0 24 24\"\n",
              "       width=\"24px\">\n",
              "    <path d=\"M0 0h24v24H0V0z\" fill=\"none\"/>\n",
              "    <path d=\"M18.56 5.44l.94 2.06.94-2.06 2.06-.94-2.06-.94-.94-2.06-.94 2.06-2.06.94zm-11 1L8.5 8.5l.94-2.06 2.06-.94-2.06-.94L8.5 2.5l-.94 2.06-2.06.94zm10 10l.94 2.06.94-2.06 2.06-.94-2.06-.94-.94-2.06-.94 2.06-2.06.94z\"/><path d=\"M17.41 7.96l-1.37-1.37c-.4-.4-.92-.59-1.43-.59-.52 0-1.04.2-1.43.59L10.3 9.45l-7.72 7.72c-.78.78-.78 2.05 0 2.83L4 21.41c.39.39.9.59 1.41.59.51 0 1.02-.2 1.41-.59l7.78-7.78 2.81-2.81c.8-.78.8-2.07 0-2.86zM5.41 20L4 18.59l7.72-7.72 1.47 1.35L5.41 20z\"/>\n",
              "  </svg>\n",
              "      </button>\n",
              "      \n",
              "  <style>\n",
              "    .colab-df-container {\n",
              "      display:flex;\n",
              "      flex-wrap:wrap;\n",
              "      gap: 12px;\n",
              "    }\n",
              "\n",
              "    .colab-df-convert {\n",
              "      background-color: #E8F0FE;\n",
              "      border: none;\n",
              "      border-radius: 50%;\n",
              "      cursor: pointer;\n",
              "      display: none;\n",
              "      fill: #1967D2;\n",
              "      height: 32px;\n",
              "      padding: 0 0 0 0;\n",
              "      width: 32px;\n",
              "    }\n",
              "\n",
              "    .colab-df-convert:hover {\n",
              "      background-color: #E2EBFA;\n",
              "      box-shadow: 0px 1px 2px rgba(60, 64, 67, 0.3), 0px 1px 3px 1px rgba(60, 64, 67, 0.15);\n",
              "      fill: #174EA6;\n",
              "    }\n",
              "\n",
              "    [theme=dark] .colab-df-convert {\n",
              "      background-color: #3B4455;\n",
              "      fill: #D2E3FC;\n",
              "    }\n",
              "\n",
              "    [theme=dark] .colab-df-convert:hover {\n",
              "      background-color: #434B5C;\n",
              "      box-shadow: 0px 1px 3px 1px rgba(0, 0, 0, 0.15);\n",
              "      filter: drop-shadow(0px 1px 2px rgba(0, 0, 0, 0.3));\n",
              "      fill: #FFFFFF;\n",
              "    }\n",
              "  </style>\n",
              "\n",
              "      <script>\n",
              "        const buttonEl =\n",
              "          document.querySelector('#df-dd94d2b7-ddfc-47d4-b56e-17fc720cff2d button.colab-df-convert');\n",
              "        buttonEl.style.display =\n",
              "          google.colab.kernel.accessAllowed ? 'block' : 'none';\n",
              "\n",
              "        async function convertToInteractive(key) {\n",
              "          const element = document.querySelector('#df-dd94d2b7-ddfc-47d4-b56e-17fc720cff2d');\n",
              "          const dataTable =\n",
              "            await google.colab.kernel.invokeFunction('convertToInteractive',\n",
              "                                                     [key], {});\n",
              "          if (!dataTable) return;\n",
              "\n",
              "          const docLinkHtml = 'Like what you see? Visit the ' +\n",
              "            '<a target=\"_blank\" href=https://colab.research.google.com/notebooks/data_table.ipynb>data table notebook</a>'\n",
              "            + ' to learn more about interactive tables.';\n",
              "          element.innerHTML = '';\n",
              "          dataTable['output_type'] = 'display_data';\n",
              "          await google.colab.output.renderOutput(dataTable, element);\n",
              "          const docLink = document.createElement('div');\n",
              "          docLink.innerHTML = docLinkHtml;\n",
              "          element.appendChild(docLink);\n",
              "        }\n",
              "      </script>\n",
              "    </div>\n",
              "  </div>\n",
              "  "
            ],
            "text/plain": [
              "   RowNumber  CustomerId   Surname  ...  IsActiveMember EstimatedSalary Exited\n",
              "0          1    15634602  Hargrave  ...               1       101348.88      1\n",
              "1          2    15647311      Hill  ...               1       112542.58      0\n",
              "2          3    15619304      Onio  ...               0       113931.57      1\n",
              "3          4    15701354      Boni  ...               0        93826.63      0\n",
              "4          5    15737888  Mitchell  ...               1        79084.10      0\n",
              "\n",
              "[5 rows x 14 columns]"
            ]
          },
          "metadata": {},
          "execution_count": 10
        }
      ],
      "source": [
        "data.head()"
      ]
    },
    {
      "cell_type": "markdown",
      "metadata": {
        "id": "aO4lLQUalsjb"
      },
      "source": [
        "Согласно документации 14 столбцов:"
      ]
    },
    {
      "cell_type": "markdown",
      "metadata": {
        "id": "7SCSnUfMlsjc"
      },
      "source": [
        "* `RowNumber` — индекс строки в данных\n",
        "* `CustomerId` — уникальный идентификатор клиента\n",
        "* `Surname` — фамилия\n",
        "* `CreditScore` — кредитный рейтинг\n",
        "* `Geography` — страна проживания\n",
        "* `Gender` — пол\n",
        "* `Age` — возраст\n",
        "* `Tenure` — сколько лет человек является клиентом банка\n",
        "* `Balance` — баланс на счёте\n",
        "* `NumOfProducts` — количество продуктов банка, используемых клиентом \n",
        "* `HasCrCard` — наличие кредитной карты\n",
        "* `IsActiveMember` — активность клиента\n",
        "* `EstimatedSalary` — предполагаемая зарплата"
      ]
    },
    {
      "cell_type": "markdown",
      "metadata": {
        "id": "ZYu8m60Zlsjf"
      },
      "source": [
        "Выведим общую информацию о таблице:"
      ]
    },
    {
      "cell_type": "code",
      "execution_count": null,
      "metadata": {
        "colab": {
          "base_uri": "https://localhost:8080/"
        },
        "id": "jcp4D2-Dlsjg",
        "outputId": "4ebaf22f-8874-4303-c45f-ebed52bc04a1"
      },
      "outputs": [
        {
          "output_type": "stream",
          "name": "stdout",
          "text": [
            "<class 'pandas.core.frame.DataFrame'>\n",
            "RangeIndex: 10000 entries, 0 to 9999\n",
            "Data columns (total 14 columns):\n",
            " #   Column           Non-Null Count  Dtype  \n",
            "---  ------           --------------  -----  \n",
            " 0   RowNumber        10000 non-null  int64  \n",
            " 1   CustomerId       10000 non-null  int64  \n",
            " 2   Surname          10000 non-null  object \n",
            " 3   CreditScore      10000 non-null  int64  \n",
            " 4   Geography        10000 non-null  object \n",
            " 5   Gender           10000 non-null  object \n",
            " 6   Age              10000 non-null  int64  \n",
            " 7   Tenure           9091 non-null   float64\n",
            " 8   Balance          10000 non-null  float64\n",
            " 9   NumOfProducts    10000 non-null  int64  \n",
            " 10  HasCrCard        10000 non-null  int64  \n",
            " 11  IsActiveMember   10000 non-null  int64  \n",
            " 12  EstimatedSalary  10000 non-null  float64\n",
            " 13  Exited           10000 non-null  int64  \n",
            "dtypes: float64(3), int64(8), object(3)\n",
            "memory usage: 1.1+ MB\n"
          ]
        }
      ],
      "source": [
        "data.info()"
      ]
    },
    {
      "cell_type": "markdown",
      "metadata": {
        "id": "OH0v9YW4lsji"
      },
      "source": [
        "Приведем названия столбцов к нижнему и змеиному регистру:"
      ]
    },
    {
      "cell_type": "code",
      "execution_count": null,
      "metadata": {
        "id": "eHHzd-uKlsjj"
      },
      "outputs": [],
      "source": [
        "data.columns=['Row_Number', 'Customer_Id', 'Surname', 'Credit_Score', 'Geography',\n",
        "       'Gender', 'Age', 'Tenure', 'Balance', 'Num_Of_Products', 'Has_Cr_Card',\n",
        "       'Is_Active_Member', 'Estimated_Salary', 'Exited']"
      ]
    },
    {
      "cell_type": "code",
      "execution_count": null,
      "metadata": {
        "id": "fUn7qCtllsjk"
      },
      "outputs": [],
      "source": [
        "data.columns=data.columns.str.lower()"
      ]
    },
    {
      "cell_type": "markdown",
      "metadata": {
        "id": "GZXfYN2Plsjl"
      },
      "source": [
        "**Вывод**\n",
        "\n",
        "Мы привели название столбцов к стандарту, а также обнаружили пропуски в столбце `tenure`. Далее посмотрим что с ними можно сделать."
      ]
    },
    {
      "cell_type": "markdown",
      "metadata": {
        "id": "9lkW6tCrlsjn"
      },
      "source": [
        "### Пропуски в `tenure`"
      ]
    },
    {
      "cell_type": "markdown",
      "metadata": {
        "id": "XULItG21lsjo"
      },
      "source": [
        "Посмотрим на строки, где пропущенно `tenure`:"
      ]
    },
    {
      "cell_type": "code",
      "execution_count": null,
      "metadata": {
        "colab": {
          "base_uri": "https://localhost:8080/",
          "height": 206
        },
        "id": "aqLxTiI5lsjp",
        "outputId": "2954ae8c-a935-4a45-d708-01105e0a5bac"
      },
      "outputs": [
        {
          "output_type": "execute_result",
          "data": {
            "text/html": [
              "\n",
              "  <div id=\"df-a31f8688-44d6-4663-9a8b-de8a2816098c\">\n",
              "    <div class=\"colab-df-container\">\n",
              "      <div>\n",
              "<style scoped>\n",
              "    .dataframe tbody tr th:only-of-type {\n",
              "        vertical-align: middle;\n",
              "    }\n",
              "\n",
              "    .dataframe tbody tr th {\n",
              "        vertical-align: top;\n",
              "    }\n",
              "\n",
              "    .dataframe thead th {\n",
              "        text-align: right;\n",
              "    }\n",
              "</style>\n",
              "<table border=\"1\" class=\"dataframe\">\n",
              "  <thead>\n",
              "    <tr style=\"text-align: right;\">\n",
              "      <th></th>\n",
              "      <th>row_number</th>\n",
              "      <th>customer_id</th>\n",
              "      <th>surname</th>\n",
              "      <th>credit_score</th>\n",
              "      <th>geography</th>\n",
              "      <th>gender</th>\n",
              "      <th>age</th>\n",
              "      <th>tenure</th>\n",
              "      <th>balance</th>\n",
              "      <th>num_of_products</th>\n",
              "      <th>has_cr_card</th>\n",
              "      <th>is_active_member</th>\n",
              "      <th>estimated_salary</th>\n",
              "      <th>exited</th>\n",
              "    </tr>\n",
              "  </thead>\n",
              "  <tbody>\n",
              "    <tr>\n",
              "      <th>30</th>\n",
              "      <td>31</td>\n",
              "      <td>15589475</td>\n",
              "      <td>Azikiwe</td>\n",
              "      <td>591</td>\n",
              "      <td>Spain</td>\n",
              "      <td>Female</td>\n",
              "      <td>39</td>\n",
              "      <td>NaN</td>\n",
              "      <td>0.00</td>\n",
              "      <td>3</td>\n",
              "      <td>1</td>\n",
              "      <td>0</td>\n",
              "      <td>140469.38</td>\n",
              "      <td>1</td>\n",
              "    </tr>\n",
              "    <tr>\n",
              "      <th>48</th>\n",
              "      <td>49</td>\n",
              "      <td>15766205</td>\n",
              "      <td>Yin</td>\n",
              "      <td>550</td>\n",
              "      <td>Germany</td>\n",
              "      <td>Male</td>\n",
              "      <td>38</td>\n",
              "      <td>NaN</td>\n",
              "      <td>103391.38</td>\n",
              "      <td>1</td>\n",
              "      <td>0</td>\n",
              "      <td>1</td>\n",
              "      <td>90878.13</td>\n",
              "      <td>0</td>\n",
              "    </tr>\n",
              "    <tr>\n",
              "      <th>51</th>\n",
              "      <td>52</td>\n",
              "      <td>15768193</td>\n",
              "      <td>Trevisani</td>\n",
              "      <td>585</td>\n",
              "      <td>Germany</td>\n",
              "      <td>Male</td>\n",
              "      <td>36</td>\n",
              "      <td>NaN</td>\n",
              "      <td>146050.97</td>\n",
              "      <td>2</td>\n",
              "      <td>0</td>\n",
              "      <td>0</td>\n",
              "      <td>86424.57</td>\n",
              "      <td>0</td>\n",
              "    </tr>\n",
              "    <tr>\n",
              "      <th>53</th>\n",
              "      <td>54</td>\n",
              "      <td>15702298</td>\n",
              "      <td>Parkhill</td>\n",
              "      <td>655</td>\n",
              "      <td>Germany</td>\n",
              "      <td>Male</td>\n",
              "      <td>41</td>\n",
              "      <td>NaN</td>\n",
              "      <td>125561.97</td>\n",
              "      <td>1</td>\n",
              "      <td>0</td>\n",
              "      <td>0</td>\n",
              "      <td>164040.94</td>\n",
              "      <td>1</td>\n",
              "    </tr>\n",
              "    <tr>\n",
              "      <th>60</th>\n",
              "      <td>61</td>\n",
              "      <td>15651280</td>\n",
              "      <td>Hunter</td>\n",
              "      <td>742</td>\n",
              "      <td>Germany</td>\n",
              "      <td>Male</td>\n",
              "      <td>35</td>\n",
              "      <td>NaN</td>\n",
              "      <td>136857.00</td>\n",
              "      <td>1</td>\n",
              "      <td>0</td>\n",
              "      <td>0</td>\n",
              "      <td>84509.57</td>\n",
              "      <td>0</td>\n",
              "    </tr>\n",
              "  </tbody>\n",
              "</table>\n",
              "</div>\n",
              "      <button class=\"colab-df-convert\" onclick=\"convertToInteractive('df-a31f8688-44d6-4663-9a8b-de8a2816098c')\"\n",
              "              title=\"Convert this dataframe to an interactive table.\"\n",
              "              style=\"display:none;\">\n",
              "        \n",
              "  <svg xmlns=\"http://www.w3.org/2000/svg\" height=\"24px\"viewBox=\"0 0 24 24\"\n",
              "       width=\"24px\">\n",
              "    <path d=\"M0 0h24v24H0V0z\" fill=\"none\"/>\n",
              "    <path d=\"M18.56 5.44l.94 2.06.94-2.06 2.06-.94-2.06-.94-.94-2.06-.94 2.06-2.06.94zm-11 1L8.5 8.5l.94-2.06 2.06-.94-2.06-.94L8.5 2.5l-.94 2.06-2.06.94zm10 10l.94 2.06.94-2.06 2.06-.94-2.06-.94-.94-2.06-.94 2.06-2.06.94z\"/><path d=\"M17.41 7.96l-1.37-1.37c-.4-.4-.92-.59-1.43-.59-.52 0-1.04.2-1.43.59L10.3 9.45l-7.72 7.72c-.78.78-.78 2.05 0 2.83L4 21.41c.39.39.9.59 1.41.59.51 0 1.02-.2 1.41-.59l7.78-7.78 2.81-2.81c.8-.78.8-2.07 0-2.86zM5.41 20L4 18.59l7.72-7.72 1.47 1.35L5.41 20z\"/>\n",
              "  </svg>\n",
              "      </button>\n",
              "      \n",
              "  <style>\n",
              "    .colab-df-container {\n",
              "      display:flex;\n",
              "      flex-wrap:wrap;\n",
              "      gap: 12px;\n",
              "    }\n",
              "\n",
              "    .colab-df-convert {\n",
              "      background-color: #E8F0FE;\n",
              "      border: none;\n",
              "      border-radius: 50%;\n",
              "      cursor: pointer;\n",
              "      display: none;\n",
              "      fill: #1967D2;\n",
              "      height: 32px;\n",
              "      padding: 0 0 0 0;\n",
              "      width: 32px;\n",
              "    }\n",
              "\n",
              "    .colab-df-convert:hover {\n",
              "      background-color: #E2EBFA;\n",
              "      box-shadow: 0px 1px 2px rgba(60, 64, 67, 0.3), 0px 1px 3px 1px rgba(60, 64, 67, 0.15);\n",
              "      fill: #174EA6;\n",
              "    }\n",
              "\n",
              "    [theme=dark] .colab-df-convert {\n",
              "      background-color: #3B4455;\n",
              "      fill: #D2E3FC;\n",
              "    }\n",
              "\n",
              "    [theme=dark] .colab-df-convert:hover {\n",
              "      background-color: #434B5C;\n",
              "      box-shadow: 0px 1px 3px 1px rgba(0, 0, 0, 0.15);\n",
              "      filter: drop-shadow(0px 1px 2px rgba(0, 0, 0, 0.3));\n",
              "      fill: #FFFFFF;\n",
              "    }\n",
              "  </style>\n",
              "\n",
              "      <script>\n",
              "        const buttonEl =\n",
              "          document.querySelector('#df-a31f8688-44d6-4663-9a8b-de8a2816098c button.colab-df-convert');\n",
              "        buttonEl.style.display =\n",
              "          google.colab.kernel.accessAllowed ? 'block' : 'none';\n",
              "\n",
              "        async function convertToInteractive(key) {\n",
              "          const element = document.querySelector('#df-a31f8688-44d6-4663-9a8b-de8a2816098c');\n",
              "          const dataTable =\n",
              "            await google.colab.kernel.invokeFunction('convertToInteractive',\n",
              "                                                     [key], {});\n",
              "          if (!dataTable) return;\n",
              "\n",
              "          const docLinkHtml = 'Like what you see? Visit the ' +\n",
              "            '<a target=\"_blank\" href=https://colab.research.google.com/notebooks/data_table.ipynb>data table notebook</a>'\n",
              "            + ' to learn more about interactive tables.';\n",
              "          element.innerHTML = '';\n",
              "          dataTable['output_type'] = 'display_data';\n",
              "          await google.colab.output.renderOutput(dataTable, element);\n",
              "          const docLink = document.createElement('div');\n",
              "          docLink.innerHTML = docLinkHtml;\n",
              "          element.appendChild(docLink);\n",
              "        }\n",
              "      </script>\n",
              "    </div>\n",
              "  </div>\n",
              "  "
            ],
            "text/plain": [
              "    row_number  customer_id  ... estimated_salary  exited\n",
              "30          31     15589475  ...        140469.38       1\n",
              "48          49     15766205  ...         90878.13       0\n",
              "51          52     15768193  ...         86424.57       0\n",
              "53          54     15702298  ...        164040.94       1\n",
              "60          61     15651280  ...         84509.57       0\n",
              "\n",
              "[5 rows x 14 columns]"
            ]
          },
          "metadata": {},
          "execution_count": 14
        }
      ],
      "source": [
        "data[data['tenure'].isna()].head()"
      ]
    },
    {
      "cell_type": "markdown",
      "metadata": {
        "id": "cM8wkoWXlsjq"
      },
      "source": [
        "Предположим, что пропуски связанны с тем, что клиент новый.\n",
        "\n",
        "Заменим значения на `0`:"
      ]
    },
    {
      "cell_type": "code",
      "execution_count": null,
      "metadata": {
        "id": "zmlT3Yazlsjr"
      },
      "outputs": [],
      "source": [
        "data['tenure']=data['tenure'].fillna(0)"
      ]
    },
    {
      "cell_type": "markdown",
      "metadata": {
        "id": "581TpueWlsjs"
      },
      "source": [
        "**Вывод**\n",
        "\n",
        "Мы предположили, что пропуски это новый клиент и заменили на значение `0`."
      ]
    },
    {
      "cell_type": "markdown",
      "metadata": {
        "id": "ZWTGyDkLlsjt"
      },
      "source": [
        "## Исследование задачи"
      ]
    },
    {
      "cell_type": "markdown",
      "metadata": {
        "id": "t2nvB3Cklsju"
      },
      "source": [
        "Для нас важно сохранить клиента, поэтому нам предпочтительно наилучшое предсказания класса `1`. В рассматриваемых моделях будем ориентироваться на метрику `полнота`, так как нам важно, чтобы модель хорошо разобралась в особенностях этого класса и распознала его.\n",
        "\n",
        "Перед тем, как начать тестировать модели, нам ниобхадимо преобразовать данные."
      ]
    },
    {
      "cell_type": "markdown",
      "metadata": {
        "id": "QGrtrncNlsju"
      },
      "source": [
        "### One-Hot Encoding"
      ]
    },
    {
      "cell_type": "markdown",
      "metadata": {
        "id": "F5bwgJB5lsjv"
      },
      "source": [
        "Преобразуем категориальные признаки в численные методом прямого кодирования.\n",
        "\n",
        "Отберем столбцы, которые будем кодировать:"
      ]
    },
    {
      "cell_type": "code",
      "execution_count": null,
      "metadata": {
        "id": "DdnRGRpolsjv"
      },
      "outputs": [],
      "source": [
        "data_dum=data.drop(['surname','customer_id'],axis=1)"
      ]
    },
    {
      "cell_type": "markdown",
      "metadata": {
        "id": "vsvsMp4qlsjw"
      },
      "source": [
        "Для избижания дамми-ловушки, будем удалять первый преобразованный столбец:"
      ]
    },
    {
      "cell_type": "code",
      "execution_count": null,
      "metadata": {
        "id": "v9eX1wCylsjw"
      },
      "outputs": [],
      "source": [
        "data_dum = pd.get_dummies(data_dum, drop_first=True)"
      ]
    },
    {
      "cell_type": "markdown",
      "metadata": {
        "id": "NPBkORO1lsjy"
      },
      "source": [
        "Cоединим обратно таблицу:"
      ]
    },
    {
      "cell_type": "code",
      "execution_count": null,
      "metadata": {
        "colab": {
          "base_uri": "https://localhost:8080/",
          "height": 423
        },
        "id": "I2Lt_OIdlsjz",
        "outputId": "716c4894-40dc-4f28-876e-5882d5f14602"
      },
      "outputs": [
        {
          "output_type": "execute_result",
          "data": {
            "text/html": [
              "\n",
              "  <div id=\"df-7e6249ad-2b2f-4137-83d0-1b9882ca0990\">\n",
              "    <div class=\"colab-df-container\">\n",
              "      <div>\n",
              "<style scoped>\n",
              "    .dataframe tbody tr th:only-of-type {\n",
              "        vertical-align: middle;\n",
              "    }\n",
              "\n",
              "    .dataframe tbody tr th {\n",
              "        vertical-align: top;\n",
              "    }\n",
              "\n",
              "    .dataframe thead th {\n",
              "        text-align: right;\n",
              "    }\n",
              "</style>\n",
              "<table border=\"1\" class=\"dataframe\">\n",
              "  <thead>\n",
              "    <tr style=\"text-align: right;\">\n",
              "      <th></th>\n",
              "      <th>row_number</th>\n",
              "      <th>customer_id</th>\n",
              "      <th>surname</th>\n",
              "      <th>credit_score</th>\n",
              "      <th>geography</th>\n",
              "      <th>gender</th>\n",
              "      <th>age</th>\n",
              "      <th>tenure</th>\n",
              "      <th>balance</th>\n",
              "      <th>num_of_products</th>\n",
              "      <th>has_cr_card</th>\n",
              "      <th>is_active_member</th>\n",
              "      <th>estimated_salary</th>\n",
              "      <th>exited</th>\n",
              "    </tr>\n",
              "  </thead>\n",
              "  <tbody>\n",
              "    <tr>\n",
              "      <th>0</th>\n",
              "      <td>1</td>\n",
              "      <td>15634602</td>\n",
              "      <td>Hargrave</td>\n",
              "      <td>619</td>\n",
              "      <td>France</td>\n",
              "      <td>Female</td>\n",
              "      <td>42</td>\n",
              "      <td>2.0</td>\n",
              "      <td>0.00</td>\n",
              "      <td>1</td>\n",
              "      <td>1</td>\n",
              "      <td>1</td>\n",
              "      <td>101348.88</td>\n",
              "      <td>1</td>\n",
              "    </tr>\n",
              "    <tr>\n",
              "      <th>1</th>\n",
              "      <td>2</td>\n",
              "      <td>15647311</td>\n",
              "      <td>Hill</td>\n",
              "      <td>608</td>\n",
              "      <td>Spain</td>\n",
              "      <td>Female</td>\n",
              "      <td>41</td>\n",
              "      <td>1.0</td>\n",
              "      <td>83807.86</td>\n",
              "      <td>1</td>\n",
              "      <td>0</td>\n",
              "      <td>1</td>\n",
              "      <td>112542.58</td>\n",
              "      <td>0</td>\n",
              "    </tr>\n",
              "    <tr>\n",
              "      <th>2</th>\n",
              "      <td>3</td>\n",
              "      <td>15619304</td>\n",
              "      <td>Onio</td>\n",
              "      <td>502</td>\n",
              "      <td>France</td>\n",
              "      <td>Female</td>\n",
              "      <td>42</td>\n",
              "      <td>8.0</td>\n",
              "      <td>159660.80</td>\n",
              "      <td>3</td>\n",
              "      <td>1</td>\n",
              "      <td>0</td>\n",
              "      <td>113931.57</td>\n",
              "      <td>1</td>\n",
              "    </tr>\n",
              "    <tr>\n",
              "      <th>3</th>\n",
              "      <td>4</td>\n",
              "      <td>15701354</td>\n",
              "      <td>Boni</td>\n",
              "      <td>699</td>\n",
              "      <td>France</td>\n",
              "      <td>Female</td>\n",
              "      <td>39</td>\n",
              "      <td>1.0</td>\n",
              "      <td>0.00</td>\n",
              "      <td>2</td>\n",
              "      <td>0</td>\n",
              "      <td>0</td>\n",
              "      <td>93826.63</td>\n",
              "      <td>0</td>\n",
              "    </tr>\n",
              "    <tr>\n",
              "      <th>4</th>\n",
              "      <td>5</td>\n",
              "      <td>15737888</td>\n",
              "      <td>Mitchell</td>\n",
              "      <td>850</td>\n",
              "      <td>Spain</td>\n",
              "      <td>Female</td>\n",
              "      <td>43</td>\n",
              "      <td>2.0</td>\n",
              "      <td>125510.82</td>\n",
              "      <td>1</td>\n",
              "      <td>1</td>\n",
              "      <td>1</td>\n",
              "      <td>79084.10</td>\n",
              "      <td>0</td>\n",
              "    </tr>\n",
              "    <tr>\n",
              "      <th>...</th>\n",
              "      <td>...</td>\n",
              "      <td>...</td>\n",
              "      <td>...</td>\n",
              "      <td>...</td>\n",
              "      <td>...</td>\n",
              "      <td>...</td>\n",
              "      <td>...</td>\n",
              "      <td>...</td>\n",
              "      <td>...</td>\n",
              "      <td>...</td>\n",
              "      <td>...</td>\n",
              "      <td>...</td>\n",
              "      <td>...</td>\n",
              "      <td>...</td>\n",
              "    </tr>\n",
              "    <tr>\n",
              "      <th>9995</th>\n",
              "      <td>9996</td>\n",
              "      <td>15606229</td>\n",
              "      <td>Obijiaku</td>\n",
              "      <td>771</td>\n",
              "      <td>France</td>\n",
              "      <td>Male</td>\n",
              "      <td>39</td>\n",
              "      <td>5.0</td>\n",
              "      <td>0.00</td>\n",
              "      <td>2</td>\n",
              "      <td>1</td>\n",
              "      <td>0</td>\n",
              "      <td>96270.64</td>\n",
              "      <td>0</td>\n",
              "    </tr>\n",
              "    <tr>\n",
              "      <th>9996</th>\n",
              "      <td>9997</td>\n",
              "      <td>15569892</td>\n",
              "      <td>Johnstone</td>\n",
              "      <td>516</td>\n",
              "      <td>France</td>\n",
              "      <td>Male</td>\n",
              "      <td>35</td>\n",
              "      <td>10.0</td>\n",
              "      <td>57369.61</td>\n",
              "      <td>1</td>\n",
              "      <td>1</td>\n",
              "      <td>1</td>\n",
              "      <td>101699.77</td>\n",
              "      <td>0</td>\n",
              "    </tr>\n",
              "    <tr>\n",
              "      <th>9997</th>\n",
              "      <td>9998</td>\n",
              "      <td>15584532</td>\n",
              "      <td>Liu</td>\n",
              "      <td>709</td>\n",
              "      <td>France</td>\n",
              "      <td>Female</td>\n",
              "      <td>36</td>\n",
              "      <td>7.0</td>\n",
              "      <td>0.00</td>\n",
              "      <td>1</td>\n",
              "      <td>0</td>\n",
              "      <td>1</td>\n",
              "      <td>42085.58</td>\n",
              "      <td>1</td>\n",
              "    </tr>\n",
              "    <tr>\n",
              "      <th>9998</th>\n",
              "      <td>9999</td>\n",
              "      <td>15682355</td>\n",
              "      <td>Sabbatini</td>\n",
              "      <td>772</td>\n",
              "      <td>Germany</td>\n",
              "      <td>Male</td>\n",
              "      <td>42</td>\n",
              "      <td>3.0</td>\n",
              "      <td>75075.31</td>\n",
              "      <td>2</td>\n",
              "      <td>1</td>\n",
              "      <td>0</td>\n",
              "      <td>92888.52</td>\n",
              "      <td>1</td>\n",
              "    </tr>\n",
              "    <tr>\n",
              "      <th>9999</th>\n",
              "      <td>10000</td>\n",
              "      <td>15628319</td>\n",
              "      <td>Walker</td>\n",
              "      <td>792</td>\n",
              "      <td>France</td>\n",
              "      <td>Female</td>\n",
              "      <td>28</td>\n",
              "      <td>0.0</td>\n",
              "      <td>130142.79</td>\n",
              "      <td>1</td>\n",
              "      <td>1</td>\n",
              "      <td>0</td>\n",
              "      <td>38190.78</td>\n",
              "      <td>0</td>\n",
              "    </tr>\n",
              "  </tbody>\n",
              "</table>\n",
              "<p>10000 rows × 14 columns</p>\n",
              "</div>\n",
              "      <button class=\"colab-df-convert\" onclick=\"convertToInteractive('df-7e6249ad-2b2f-4137-83d0-1b9882ca0990')\"\n",
              "              title=\"Convert this dataframe to an interactive table.\"\n",
              "              style=\"display:none;\">\n",
              "        \n",
              "  <svg xmlns=\"http://www.w3.org/2000/svg\" height=\"24px\"viewBox=\"0 0 24 24\"\n",
              "       width=\"24px\">\n",
              "    <path d=\"M0 0h24v24H0V0z\" fill=\"none\"/>\n",
              "    <path d=\"M18.56 5.44l.94 2.06.94-2.06 2.06-.94-2.06-.94-.94-2.06-.94 2.06-2.06.94zm-11 1L8.5 8.5l.94-2.06 2.06-.94-2.06-.94L8.5 2.5l-.94 2.06-2.06.94zm10 10l.94 2.06.94-2.06 2.06-.94-2.06-.94-.94-2.06-.94 2.06-2.06.94z\"/><path d=\"M17.41 7.96l-1.37-1.37c-.4-.4-.92-.59-1.43-.59-.52 0-1.04.2-1.43.59L10.3 9.45l-7.72 7.72c-.78.78-.78 2.05 0 2.83L4 21.41c.39.39.9.59 1.41.59.51 0 1.02-.2 1.41-.59l7.78-7.78 2.81-2.81c.8-.78.8-2.07 0-2.86zM5.41 20L4 18.59l7.72-7.72 1.47 1.35L5.41 20z\"/>\n",
              "  </svg>\n",
              "      </button>\n",
              "      \n",
              "  <style>\n",
              "    .colab-df-container {\n",
              "      display:flex;\n",
              "      flex-wrap:wrap;\n",
              "      gap: 12px;\n",
              "    }\n",
              "\n",
              "    .colab-df-convert {\n",
              "      background-color: #E8F0FE;\n",
              "      border: none;\n",
              "      border-radius: 50%;\n",
              "      cursor: pointer;\n",
              "      display: none;\n",
              "      fill: #1967D2;\n",
              "      height: 32px;\n",
              "      padding: 0 0 0 0;\n",
              "      width: 32px;\n",
              "    }\n",
              "\n",
              "    .colab-df-convert:hover {\n",
              "      background-color: #E2EBFA;\n",
              "      box-shadow: 0px 1px 2px rgba(60, 64, 67, 0.3), 0px 1px 3px 1px rgba(60, 64, 67, 0.15);\n",
              "      fill: #174EA6;\n",
              "    }\n",
              "\n",
              "    [theme=dark] .colab-df-convert {\n",
              "      background-color: #3B4455;\n",
              "      fill: #D2E3FC;\n",
              "    }\n",
              "\n",
              "    [theme=dark] .colab-df-convert:hover {\n",
              "      background-color: #434B5C;\n",
              "      box-shadow: 0px 1px 3px 1px rgba(0, 0, 0, 0.15);\n",
              "      filter: drop-shadow(0px 1px 2px rgba(0, 0, 0, 0.3));\n",
              "      fill: #FFFFFF;\n",
              "    }\n",
              "  </style>\n",
              "\n",
              "      <script>\n",
              "        const buttonEl =\n",
              "          document.querySelector('#df-7e6249ad-2b2f-4137-83d0-1b9882ca0990 button.colab-df-convert');\n",
              "        buttonEl.style.display =\n",
              "          google.colab.kernel.accessAllowed ? 'block' : 'none';\n",
              "\n",
              "        async function convertToInteractive(key) {\n",
              "          const element = document.querySelector('#df-7e6249ad-2b2f-4137-83d0-1b9882ca0990');\n",
              "          const dataTable =\n",
              "            await google.colab.kernel.invokeFunction('convertToInteractive',\n",
              "                                                     [key], {});\n",
              "          if (!dataTable) return;\n",
              "\n",
              "          const docLinkHtml = 'Like what you see? Visit the ' +\n",
              "            '<a target=\"_blank\" href=https://colab.research.google.com/notebooks/data_table.ipynb>data table notebook</a>'\n",
              "            + ' to learn more about interactive tables.';\n",
              "          element.innerHTML = '';\n",
              "          dataTable['output_type'] = 'display_data';\n",
              "          await google.colab.output.renderOutput(dataTable, element);\n",
              "          const docLink = document.createElement('div');\n",
              "          docLink.innerHTML = docLinkHtml;\n",
              "          element.appendChild(docLink);\n",
              "        }\n",
              "      </script>\n",
              "    </div>\n",
              "  </div>\n",
              "  "
            ],
            "text/plain": [
              "      row_number  customer_id  ... estimated_salary  exited\n",
              "0              1     15634602  ...        101348.88       1\n",
              "1              2     15647311  ...        112542.58       0\n",
              "2              3     15619304  ...        113931.57       1\n",
              "3              4     15701354  ...         93826.63       0\n",
              "4              5     15737888  ...         79084.10       0\n",
              "...          ...          ...  ...              ...     ...\n",
              "9995        9996     15606229  ...         96270.64       0\n",
              "9996        9997     15569892  ...        101699.77       0\n",
              "9997        9998     15584532  ...         42085.58       1\n",
              "9998        9999     15682355  ...         92888.52       1\n",
              "9999       10000     15628319  ...         38190.78       0\n",
              "\n",
              "[10000 rows x 14 columns]"
            ]
          },
          "metadata": {},
          "execution_count": 18
        }
      ],
      "source": [
        "data_dum=data_dum.join(data[['surname','customer_id']]).reset_index(drop=True)\n",
        "data"
      ]
    },
    {
      "cell_type": "markdown",
      "metadata": {
        "id": "5pSNf222lsj1"
      },
      "source": [
        "**Вывод**\n",
        "\n",
        "Мы преобразовали категориальные признаки в численные методом OHE."
      ]
    },
    {
      "cell_type": "markdown",
      "metadata": {
        "id": "qESabeK7lsj2"
      },
      "source": [
        "### Разабьем данные на выборки"
      ]
    },
    {
      "cell_type": "markdown",
      "metadata": {
        "id": "i6HDnKBwlsj2"
      },
      "source": [
        "Отдельной тестовой выборки у нас нет.Значит данные разабьем на три части: обучающую, валидационную и тестовую.\n",
        "\n",
        "Разбиваем в отношении 3:1:1.\n",
        "\n",
        "Поделим данные на целевой признак и признаки:"
      ]
    },
    {
      "cell_type": "code",
      "execution_count": null,
      "metadata": {
        "id": "bYNSwbHRlsj3"
      },
      "outputs": [],
      "source": [
        "target = data_dum['exited']\n",
        "features = data_dum[['credit_score', 'age', 'tenure', 'balance',\n",
        "                 'num_of_products', \n",
        "                 'has_cr_card', 'is_active_member',\n",
        "                 'estimated_salary','geography_Germany', 'geography_Spain','gender_Male']]"
      ]
    },
    {
      "cell_type": "markdown",
      "metadata": {
        "id": "ehlqlgiBlsj5"
      },
      "source": [
        "Сначало разабьем данные на тестовую и остальные:"
      ]
    },
    {
      "cell_type": "code",
      "execution_count": null,
      "metadata": {
        "id": "yIuyvDp2lsj5"
      },
      "outputs": [],
      "source": [
        "features_train, features_valid_test, target_train, target_valid_test = train_test_split(\n",
        "    features, target, test_size=0.40, random_state=12345)"
      ]
    },
    {
      "cell_type": "markdown",
      "metadata": {
        "id": "KObwUSJIlsj6"
      },
      "source": [
        "Теперь разбиваем оставщуюся часть на валидационную и тестовую:"
      ]
    },
    {
      "cell_type": "code",
      "execution_count": null,
      "metadata": {
        "id": "y647MH6Clsj6"
      },
      "outputs": [],
      "source": [
        "features_test, features_valid, target_test, target_valid = train_test_split(\n",
        "    features_valid_test, target_valid_test, test_size=0.50, random_state=12345)"
      ]
    },
    {
      "cell_type": "markdown",
      "metadata": {
        "id": "xNW6CelVlsj7"
      },
      "source": [
        "Посмотрим на размеры получившихся выборок:"
      ]
    },
    {
      "cell_type": "code",
      "execution_count": null,
      "metadata": {
        "colab": {
          "base_uri": "https://localhost:8080/"
        },
        "id": "uEec6QVPlsj8",
        "outputId": "798666c5-8e1b-4325-8b3d-d98ebb607cf4"
      },
      "outputs": [
        {
          "output_type": "stream",
          "name": "stdout",
          "text": [
            "Размер тренировочной выборки: (6000,)\n",
            "Размер валидационной выборки: (2000,)\n",
            "Размер тестовой выборки: (2000,)\n"
          ]
        }
      ],
      "source": [
        "print('Размер тренировочной выборки:',target_train.shape)\n",
        "print('Размер валидационной выборки:',target_valid.shape)\n",
        "print('Размер тестовой выборки:',target_test.shape)"
      ]
    },
    {
      "cell_type": "markdown",
      "metadata": {
        "id": "YHCXUOkwlsj8"
      },
      "source": [
        "**Вывод**\n",
        "\n",
        "Мы разбили данные на три части : обучающую (60%), валидационную(20%) и тестовую(20%)"
      ]
    },
    {
      "cell_type": "markdown",
      "metadata": {
        "id": "Gr2d-sMLlsj-"
      },
      "source": [
        "### Масштабирование"
      ]
    },
    {
      "cell_type": "markdown",
      "metadata": {
        "id": "-1SSbr0llsj-"
      },
      "source": [
        "Для масштабирования будем использовать структуру `StandartScaler`, который стандартизирует данные:"
      ]
    },
    {
      "cell_type": "markdown",
      "metadata": {
        "id": "r8PHly8Klsj_"
      },
      "source": [
        "Передадим все численные столбцы в переменную:"
      ]
    },
    {
      "cell_type": "code",
      "execution_count": null,
      "metadata": {
        "id": "JBLtpcrBlsj_"
      },
      "outputs": [],
      "source": [
        "numeric = ['credit_score', 'age','estimated_salary','tenure','balance']"
      ]
    },
    {
      "cell_type": "markdown",
      "metadata": {
        "id": "Q02ZNWj6lskA"
      },
      "source": [
        "Стандартизируем их"
      ]
    },
    {
      "cell_type": "code",
      "execution_count": null,
      "metadata": {
        "id": "S2sufkYYlskB"
      },
      "outputs": [],
      "source": [
        "scaler=StandardScaler()\n",
        "scaler.fit(features_train[numeric])\n",
        "features_train[numeric] = scaler.transform(features_train[numeric])\n",
        "features_valid[numeric] = scaler.transform(features_valid[numeric])\n",
        "features_test[numeric] = scaler.transform(features_test[numeric])"
      ]
    },
    {
      "cell_type": "markdown",
      "metadata": {
        "id": "j1iDMYvelskC"
      },
      "source": [
        "Посмотрим на преобразованную таблицу:"
      ]
    },
    {
      "cell_type": "code",
      "execution_count": null,
      "metadata": {
        "colab": {
          "base_uri": "https://localhost:8080/",
          "height": 206
        },
        "id": "JZ47qKAwlskD",
        "outputId": "630a0cf9-425b-49cb-8632-783bce669a22"
      },
      "outputs": [
        {
          "output_type": "execute_result",
          "data": {
            "text/html": [
              "\n",
              "  <div id=\"df-a3d94f05-7ed4-44c0-983b-ea342f87b593\">\n",
              "    <div class=\"colab-df-container\">\n",
              "      <div>\n",
              "<style scoped>\n",
              "    .dataframe tbody tr th:only-of-type {\n",
              "        vertical-align: middle;\n",
              "    }\n",
              "\n",
              "    .dataframe tbody tr th {\n",
              "        vertical-align: top;\n",
              "    }\n",
              "\n",
              "    .dataframe thead th {\n",
              "        text-align: right;\n",
              "    }\n",
              "</style>\n",
              "<table border=\"1\" class=\"dataframe\">\n",
              "  <thead>\n",
              "    <tr style=\"text-align: right;\">\n",
              "      <th></th>\n",
              "      <th>credit_score</th>\n",
              "      <th>age</th>\n",
              "      <th>tenure</th>\n",
              "      <th>balance</th>\n",
              "      <th>num_of_products</th>\n",
              "      <th>has_cr_card</th>\n",
              "      <th>is_active_member</th>\n",
              "      <th>estimated_salary</th>\n",
              "      <th>geography_Germany</th>\n",
              "      <th>geography_Spain</th>\n",
              "      <th>gender_Male</th>\n",
              "    </tr>\n",
              "  </thead>\n",
              "  <tbody>\n",
              "    <tr>\n",
              "      <th>7479</th>\n",
              "      <td>-0.886751</td>\n",
              "      <td>-0.373192</td>\n",
              "      <td>1.104696</td>\n",
              "      <td>1.232271</td>\n",
              "      <td>1</td>\n",
              "      <td>1</td>\n",
              "      <td>0</td>\n",
              "      <td>-0.187705</td>\n",
              "      <td>0</td>\n",
              "      <td>1</td>\n",
              "      <td>1</td>\n",
              "    </tr>\n",
              "    <tr>\n",
              "      <th>3411</th>\n",
              "      <td>0.608663</td>\n",
              "      <td>-0.183385</td>\n",
              "      <td>1.104696</td>\n",
              "      <td>0.600563</td>\n",
              "      <td>1</td>\n",
              "      <td>0</td>\n",
              "      <td>0</td>\n",
              "      <td>-0.333945</td>\n",
              "      <td>0</td>\n",
              "      <td>0</td>\n",
              "      <td>0</td>\n",
              "    </tr>\n",
              "    <tr>\n",
              "      <th>6027</th>\n",
              "      <td>2.052152</td>\n",
              "      <td>0.480939</td>\n",
              "      <td>-0.503694</td>\n",
              "      <td>1.027098</td>\n",
              "      <td>2</td>\n",
              "      <td>0</td>\n",
              "      <td>1</td>\n",
              "      <td>1.503095</td>\n",
              "      <td>1</td>\n",
              "      <td>0</td>\n",
              "      <td>1</td>\n",
              "    </tr>\n",
              "    <tr>\n",
              "      <th>1247</th>\n",
              "      <td>-1.457915</td>\n",
              "      <td>-1.417129</td>\n",
              "      <td>0.461340</td>\n",
              "      <td>-1.233163</td>\n",
              "      <td>2</td>\n",
              "      <td>1</td>\n",
              "      <td>0</td>\n",
              "      <td>-1.071061</td>\n",
              "      <td>0</td>\n",
              "      <td>0</td>\n",
              "      <td>1</td>\n",
              "    </tr>\n",
              "    <tr>\n",
              "      <th>3716</th>\n",
              "      <td>0.130961</td>\n",
              "      <td>-1.132419</td>\n",
              "      <td>-0.825373</td>\n",
              "      <td>1.140475</td>\n",
              "      <td>1</td>\n",
              "      <td>0</td>\n",
              "      <td>0</td>\n",
              "      <td>1.524268</td>\n",
              "      <td>1</td>\n",
              "      <td>0</td>\n",
              "      <td>0</td>\n",
              "    </tr>\n",
              "  </tbody>\n",
              "</table>\n",
              "</div>\n",
              "      <button class=\"colab-df-convert\" onclick=\"convertToInteractive('df-a3d94f05-7ed4-44c0-983b-ea342f87b593')\"\n",
              "              title=\"Convert this dataframe to an interactive table.\"\n",
              "              style=\"display:none;\">\n",
              "        \n",
              "  <svg xmlns=\"http://www.w3.org/2000/svg\" height=\"24px\"viewBox=\"0 0 24 24\"\n",
              "       width=\"24px\">\n",
              "    <path d=\"M0 0h24v24H0V0z\" fill=\"none\"/>\n",
              "    <path d=\"M18.56 5.44l.94 2.06.94-2.06 2.06-.94-2.06-.94-.94-2.06-.94 2.06-2.06.94zm-11 1L8.5 8.5l.94-2.06 2.06-.94-2.06-.94L8.5 2.5l-.94 2.06-2.06.94zm10 10l.94 2.06.94-2.06 2.06-.94-2.06-.94-.94-2.06-.94 2.06-2.06.94z\"/><path d=\"M17.41 7.96l-1.37-1.37c-.4-.4-.92-.59-1.43-.59-.52 0-1.04.2-1.43.59L10.3 9.45l-7.72 7.72c-.78.78-.78 2.05 0 2.83L4 21.41c.39.39.9.59 1.41.59.51 0 1.02-.2 1.41-.59l7.78-7.78 2.81-2.81c.8-.78.8-2.07 0-2.86zM5.41 20L4 18.59l7.72-7.72 1.47 1.35L5.41 20z\"/>\n",
              "  </svg>\n",
              "      </button>\n",
              "      \n",
              "  <style>\n",
              "    .colab-df-container {\n",
              "      display:flex;\n",
              "      flex-wrap:wrap;\n",
              "      gap: 12px;\n",
              "    }\n",
              "\n",
              "    .colab-df-convert {\n",
              "      background-color: #E8F0FE;\n",
              "      border: none;\n",
              "      border-radius: 50%;\n",
              "      cursor: pointer;\n",
              "      display: none;\n",
              "      fill: #1967D2;\n",
              "      height: 32px;\n",
              "      padding: 0 0 0 0;\n",
              "      width: 32px;\n",
              "    }\n",
              "\n",
              "    .colab-df-convert:hover {\n",
              "      background-color: #E2EBFA;\n",
              "      box-shadow: 0px 1px 2px rgba(60, 64, 67, 0.3), 0px 1px 3px 1px rgba(60, 64, 67, 0.15);\n",
              "      fill: #174EA6;\n",
              "    }\n",
              "\n",
              "    [theme=dark] .colab-df-convert {\n",
              "      background-color: #3B4455;\n",
              "      fill: #D2E3FC;\n",
              "    }\n",
              "\n",
              "    [theme=dark] .colab-df-convert:hover {\n",
              "      background-color: #434B5C;\n",
              "      box-shadow: 0px 1px 3px 1px rgba(0, 0, 0, 0.15);\n",
              "      filter: drop-shadow(0px 1px 2px rgba(0, 0, 0, 0.3));\n",
              "      fill: #FFFFFF;\n",
              "    }\n",
              "  </style>\n",
              "\n",
              "      <script>\n",
              "        const buttonEl =\n",
              "          document.querySelector('#df-a3d94f05-7ed4-44c0-983b-ea342f87b593 button.colab-df-convert');\n",
              "        buttonEl.style.display =\n",
              "          google.colab.kernel.accessAllowed ? 'block' : 'none';\n",
              "\n",
              "        async function convertToInteractive(key) {\n",
              "          const element = document.querySelector('#df-a3d94f05-7ed4-44c0-983b-ea342f87b593');\n",
              "          const dataTable =\n",
              "            await google.colab.kernel.invokeFunction('convertToInteractive',\n",
              "                                                     [key], {});\n",
              "          if (!dataTable) return;\n",
              "\n",
              "          const docLinkHtml = 'Like what you see? Visit the ' +\n",
              "            '<a target=\"_blank\" href=https://colab.research.google.com/notebooks/data_table.ipynb>data table notebook</a>'\n",
              "            + ' to learn more about interactive tables.';\n",
              "          element.innerHTML = '';\n",
              "          dataTable['output_type'] = 'display_data';\n",
              "          await google.colab.output.renderOutput(dataTable, element);\n",
              "          const docLink = document.createElement('div');\n",
              "          docLink.innerHTML = docLinkHtml;\n",
              "          element.appendChild(docLink);\n",
              "        }\n",
              "      </script>\n",
              "    </div>\n",
              "  </div>\n",
              "  "
            ],
            "text/plain": [
              "      credit_score       age  ...  geography_Spain  gender_Male\n",
              "7479     -0.886751 -0.373192  ...                1            1\n",
              "3411      0.608663 -0.183385  ...                0            0\n",
              "6027      2.052152  0.480939  ...                0            1\n",
              "1247     -1.457915 -1.417129  ...                0            1\n",
              "3716      0.130961 -1.132419  ...                0            0\n",
              "\n",
              "[5 rows x 11 columns]"
            ]
          },
          "metadata": {},
          "execution_count": 25
        }
      ],
      "source": [
        "features_train.head()"
      ]
    },
    {
      "cell_type": "markdown",
      "metadata": {
        "id": "ndP_gi0BlskE"
      },
      "source": [
        "## Борьба с дисбалансом"
      ]
    },
    {
      "cell_type": "markdown",
      "metadata": {
        "id": "D68AH0CXlskE"
      },
      "source": [
        "В таблице наблюдается сильный дисбаланс нашей метрики:"
      ]
    },
    {
      "cell_type": "code",
      "execution_count": null,
      "metadata": {
        "colab": {
          "base_uri": "https://localhost:8080/"
        },
        "id": "vt_-1XwklskF",
        "outputId": "4cfd6585-b5bb-4632-ccc2-b7638730ca87"
      },
      "outputs": [
        {
          "output_type": "execute_result",
          "data": {
            "text/plain": [
              "0    0.7963\n",
              "1    0.2037\n",
              "Name: exited, dtype: float64"
            ]
          },
          "metadata": {},
          "execution_count": 26
        }
      ],
      "source": [
        "data['exited'].value_counts(normalize=True)"
      ]
    },
    {
      "cell_type": "markdown",
      "metadata": {
        "id": "ZbPbvqEhlskG"
      },
      "source": [
        "Всего 20% данных с положительной метрикой.\n",
        "\n",
        "Для борьбы с этой проблемой используем два метода.\n",
        "\n",
        "Создадим функцию увеличения редкого класса:"
      ]
    },
    {
      "cell_type": "code",
      "execution_count": null,
      "metadata": {
        "id": "AIE6EsEklskH"
      },
      "outputs": [],
      "source": [
        "def upsample(features, target, repeat):\n",
        "    features_zeros = features[target == 0]\n",
        "    features_ones = features[target == 1]\n",
        "    target_zeros = target[target == 0]\n",
        "    target_ones = target[target == 1]\n",
        "    features_upsampled = pd.concat([features_zeros] + [features_ones] * repeat)\n",
        "    target_upsampled = pd.concat([target_zeros] + [target_ones] * repeat)\n",
        "    features_upsampled, target_upsampled = shuffle(\n",
        "        features_upsampled, target_upsampled, random_state=12345)\n",
        "    \n",
        "    return features_upsampled, target_upsampled\n",
        "\n",
        "features_upsampled, target_upsampled = upsample(features_train, target_train, 4)"
      ]
    },
    {
      "cell_type": "markdown",
      "metadata": {
        "id": "-DU6I3mrlskJ"
      },
      "source": [
        "Посмотрим в каком отношении разбися целевой признак:"
      ]
    },
    {
      "cell_type": "code",
      "execution_count": null,
      "metadata": {
        "colab": {
          "base_uri": "https://localhost:8080/"
        },
        "id": "ZwowTOHClskJ",
        "outputId": "68d24d6a-52b4-4ae0-8c3f-debfe57fae90"
      },
      "outputs": [
        {
          "output_type": "execute_result",
          "data": {
            "text/plain": [
              "0    0.501043\n",
              "1    0.498957\n",
              "Name: exited, dtype: float64"
            ]
          },
          "metadata": {},
          "execution_count": 28
        }
      ],
      "source": [
        "target_upsampled.value_counts(normalize=True)"
      ]
    },
    {
      "cell_type": "markdown",
      "metadata": {
        "id": "EdeQMUPRlskL"
      },
      "source": [
        "Создадим функцию уменьшения частого класса:"
      ]
    },
    {
      "cell_type": "code",
      "execution_count": null,
      "metadata": {
        "id": "3eaK4hCrlskL"
      },
      "outputs": [],
      "source": [
        "\n",
        "def downsample(features, target, fraction):\n",
        "    features_zeros = features[target == 0]\n",
        "    features_ones = features[target == 1]\n",
        "    target_zeros = target[target == 0]\n",
        "    target_ones = target[target == 1]\n",
        "\n",
        "    features_downsampled = pd.concat(\n",
        "        [features_zeros.sample(frac=fraction, random_state=12345)] + [features_ones])\n",
        "    target_downsampled = pd.concat(\n",
        "        [target_zeros.sample(frac=fraction, random_state=12345)] + [target_ones])\n",
        "    \n",
        "    features_downsampled, target_downsampled = shuffle(\n",
        "        features_downsampled, target_downsampled, random_state=12345)\n",
        "    \n",
        "    return features_downsampled, target_downsampled\n",
        "\n",
        "features_downsampled, target_downsampled = downsample(features_train, target_train, 0.25)"
      ]
    },
    {
      "cell_type": "markdown",
      "metadata": {
        "id": "7R2UP7nglskM"
      },
      "source": [
        "Посмотрим в каком отношении разбися целевой признак:"
      ]
    },
    {
      "cell_type": "code",
      "execution_count": null,
      "metadata": {
        "colab": {
          "base_uri": "https://localhost:8080/"
        },
        "id": "3MNCPJYAlskN",
        "outputId": "6db3fa4a-dc9b-44e4-edb9-bd3040e21b32"
      },
      "outputs": [
        {
          "output_type": "execute_result",
          "data": {
            "text/plain": [
              "0    0.501043\n",
              "1    0.498957\n",
              "Name: exited, dtype: float64"
            ]
          },
          "metadata": {},
          "execution_count": 30
        }
      ],
      "source": [
        "target_downsampled.value_counts(normalize=True)"
      ]
    },
    {
      "cell_type": "markdown",
      "metadata": {
        "id": "7m686N_slskN"
      },
      "source": [
        "**Вывод**\n",
        "\n",
        "Мы методом OHE закодировали категориальные признаки, затем разбили данные на обучающую, валидационную и тестовую (в соотношении 3:1:1).После этого стандартизировали все колличественные признаки.\n",
        "\n",
        "Для борьбы с дисбалансом создали функции, которые увеличивает частоту редкого класса и уменьшает частый класс."
      ]
    },
    {
      "cell_type": "markdown",
      "metadata": {
        "id": "xtAP-eYJlskO"
      },
      "source": [
        "## Тестирование модели"
      ]
    },
    {
      "cell_type": "markdown",
      "metadata": {
        "id": "EI2XqlVBlskP"
      },
      "source": [
        "Для упрощения дальнейшего исследования создадим функции для расчета метрик, которые нам нужны:"
      ]
    },
    {
      "cell_type": "code",
      "execution_count": null,
      "metadata": {
        "id": "E_NqDr8ElskQ"
      },
      "outputs": [],
      "source": [
        "def metrics(model,target,features,prediction):\n",
        "    probabilities_valid = model.predict_proba(features_valid)\n",
        "    probabilities_one = probabilities_valid[:, 1]\n",
        "    auc_roc=roc_auc_score(target_valid,probabilities_one)\n",
        "    \n",
        "    return (\n",
        "        print(\" f1:\", f1_score(target,prediction),'\\n',\"Точность:\",\n",
        "        precision_score(target,prediction),'\\n',\"Полнота:\",\n",
        "        recall_score(target,prediction),'\\n',\"Матрица ошибок:\",\n",
        "        confusion_matrix(target,prediction),\"\\n\",'площадь под ROC-кривой:',\n",
        "        auc_roc)\n",
        "    )"
      ]
    },
    {
      "cell_type": "markdown",
      "metadata": {
        "id": "iB3lS14NlskQ"
      },
      "source": [
        "Функция PR-кривой:"
      ]
    },
    {
      "cell_type": "code",
      "execution_count": null,
      "metadata": {
        "id": "UibIUa4ilskR"
      },
      "outputs": [],
      "source": [
        "def pr(model):\n",
        "    probabilities_valid = model.predict_proba(features_valid)\n",
        "    probabilities_one_valid = probabilities_valid[:, 1]\n",
        "    precision, recall, thresholds = precision_recall_curve(target_valid, probabilities_valid[:, 1])\n",
        "\n",
        "    return (plt.figure(figsize=(6, 6)),\n",
        "            plt.step(recall, precision, where='post'),\n",
        "            plt.xlabel('Recall'),\n",
        "            plt.ylabel('Precision'),\n",
        "            plt.ylim([0.0, 1.05]),\n",
        "            plt.xlim([0.0, 1.0]),\n",
        "            plt.title('Кривая Precision-Recall'),\n",
        "            plt.show(),\n",
        "           )"
      ]
    },
    {
      "cell_type": "markdown",
      "metadata": {
        "id": "kJLslPoblskS"
      },
      "source": [
        "Функция ROC-кривой:"
      ]
    },
    {
      "cell_type": "code",
      "execution_count": null,
      "metadata": {
        "id": "XQJy1mpilskS"
      },
      "outputs": [],
      "source": [
        "def roc(model):\n",
        "    probabilities_valid = model.predict_proba(features_valid)\n",
        "    probabilities_one_valid = probabilities_valid[:, 1]\n",
        "    fpr, tpr, thresholds = roc_curve(target_valid, probabilities_one_valid)# < напишите код здесь >\n",
        "    return (plt.figure(),\n",
        "            plt.plot([0, 1], [0, 1], linestyle='--'),\n",
        "            plt.plot(fpr, tpr),\n",
        "            plt.xlim([0.0, 1.0]),\n",
        "            plt.ylim([0.0, 1.0]),\n",
        "            plt.xlabel('False Positive Rate'),\n",
        "            plt.ylabel('True Positive Rate'),\n",
        "            plt.title('ROC-кривая'), \n",
        "            plt.show()\n",
        "           ) \n",
        "    "
      ]
    },
    {
      "cell_type": "markdown",
      "metadata": {
        "id": "UBIKTWl4lskT"
      },
      "source": [
        "### Логистическая регрессия"
      ]
    },
    {
      "cell_type": "markdown",
      "metadata": {
        "id": "-vZNVKZ8lskU"
      },
      "source": [
        "Создадим модель логистической регрессии:"
      ]
    },
    {
      "cell_type": "code",
      "execution_count": null,
      "metadata": {
        "id": "kmJ9U2SVlskU"
      },
      "outputs": [],
      "source": [
        "model=LogisticRegression(random_state=12345,solver='liblinear')"
      ]
    },
    {
      "cell_type": "markdown",
      "metadata": {
        "scrolled": true,
        "id": "3gDaTiRslskV"
      },
      "source": [
        "#### C уменьшенной выборкой"
      ]
    },
    {
      "cell_type": "markdown",
      "metadata": {
        "id": "V_e94mwklskW"
      },
      "source": [
        "Обучим модель на данных с уменьшенной выборкой:"
      ]
    },
    {
      "cell_type": "code",
      "execution_count": null,
      "metadata": {
        "scrolled": false,
        "id": "rPX2Z441lskW"
      },
      "outputs": [],
      "source": [
        "model.fit(features_downsampled,target_downsampled)\n",
        "predicted_valid=model.predict(features_valid)"
      ]
    },
    {
      "cell_type": "markdown",
      "metadata": {
        "id": "ApUBlomLlskX"
      },
      "source": [
        "Выведим интересующие нас метрики:"
      ]
    },
    {
      "cell_type": "code",
      "execution_count": null,
      "metadata": {
        "colab": {
          "base_uri": "https://localhost:8080/"
        },
        "id": "3nqB2ZT_lskX",
        "outputId": "977efef0-4782-446b-fe93-be5146bbf0e7"
      },
      "outputs": [
        {
          "output_type": "stream",
          "name": "stdout",
          "text": [
            " f1: 0.485885372112917 \n",
            " Точность: 0.3806970509383378 \n",
            " Полнота: 0.6713947990543735 \n",
            " Матрица ошибок: [[1115  462]\n",
            " [ 139  284]] \n",
            " площадь под ROC-кривой: 0.7413153922146218\n"
          ]
        }
      ],
      "source": [
        "metrics(model,target_valid, features_valid,predicted_valid)"
      ]
    },
    {
      "cell_type": "markdown",
      "metadata": {
        "id": "WmuLn2MvlskY"
      },
      "source": [
        "Построим PR-кривую:"
      ]
    },
    {
      "cell_type": "code",
      "execution_count": null,
      "metadata": {
        "colab": {
          "base_uri": "https://localhost:8080/",
          "height": 543
        },
        "id": "xxa_cyDTlskZ",
        "outputId": "9ee2e391-b52c-4d8c-fdaf-ff5f3163c067"
      },
      "outputs": [
        {
          "output_type": "display_data",
          "data": {
            "image/png": "[encoded data removed]",
            "text/plain": [
              "<Figure size 432x432 with 1 Axes>"
            ]
          },
          "metadata": {
            "needs_background": "light"
          }
        },
        {
          "output_type": "execute_result",
          "data": {
            "text/plain": [
              "(<Figure size 432x432 with 1 Axes>,\n",
              " [<matplotlib.lines.Line2D at 0x7fb893024ad0>],\n",
              " Text(0.5, 17.200000000000003, 'Recall'),\n",
              " Text(17.200000000000003, 0.5, 'Precision'),\n",
              " (0.0, 1.05),\n",
              " (0.0, 1.0),\n",
              " Text(0.5, 1.0, 'Кривая Precision-Recall'),\n",
              " None)"
            ]
          },
          "metadata": {},
          "execution_count": 37
        }
      ],
      "source": [
        "pr(model)"
      ]
    },
    {
      "cell_type": "markdown",
      "metadata": {
        "id": "2EGAIMJalskZ"
      },
      "source": [
        "Построим ROC-кривую:"
      ]
    },
    {
      "cell_type": "code",
      "execution_count": null,
      "metadata": {
        "colab": {
          "base_uri": "https://localhost:8080/",
          "height": 451
        },
        "id": "qssSARFClska",
        "outputId": "5a009b16-920d-4b94-e660-23dfdc3adbdb"
      },
      "outputs": [
        {
          "output_type": "display_data",
          "data": {
            "image/png": "[encoded data removed]",
            "text/plain": [
              "<Figure size 432x288 with 1 Axes>"
            ]
          },
          "metadata": {
            "needs_background": "light"
          }
        },
        {
          "output_type": "execute_result",
          "data": {
            "text/plain": [
              "(<Figure size 432x288 with 1 Axes>,\n",
              " [<matplotlib.lines.Line2D at 0x7fb893061650>],\n",
              " [<matplotlib.lines.Line2D at 0x7fb889aa6650>],\n",
              " (0.0, 1.0),\n",
              " (0.0, 1.0),\n",
              " Text(0.5, 17.200000000000003, 'False Positive Rate'),\n",
              " Text(17.200000000000003, 0.5, 'True Positive Rate'),\n",
              " Text(0.5, 1.0, 'ROC-кривая'),\n",
              " None)"
            ]
          },
          "metadata": {},
          "execution_count": 38
        }
      ],
      "source": [
        "roc(model)"
      ]
    },
    {
      "cell_type": "markdown",
      "metadata": {
        "id": "4V__q8y4lskb"
      },
      "source": [
        "#### C увеличенной выборкой"
      ]
    },
    {
      "cell_type": "markdown",
      "metadata": {
        "id": "d1RRC_0Nlskc"
      },
      "source": [
        "Теперь обучим модель на данных с увеличенной выборкой:"
      ]
    },
    {
      "cell_type": "code",
      "execution_count": null,
      "metadata": {
        "id": "h44II5P1lskc"
      },
      "outputs": [],
      "source": [
        "model.fit(features_upsampled, target_upsampled)\n",
        "predicted_valid=model.predict(features_valid)"
      ]
    },
    {
      "cell_type": "markdown",
      "metadata": {
        "id": "FpUB6Nwolskd"
      },
      "source": [
        "Выведим интересующие нас метрики:"
      ]
    },
    {
      "cell_type": "code",
      "execution_count": null,
      "metadata": {
        "scrolled": true,
        "colab": {
          "base_uri": "https://localhost:8080/"
        },
        "id": "45Wa8-8Nlskd",
        "outputId": "92083a7b-dab5-4f3c-fa83-e6a1d859bd67"
      },
      "outputs": [
        {
          "output_type": "stream",
          "name": "stdout",
          "text": [
            " f1: 0.4779220779220779 \n",
            " Точность: 0.3770491803278688 \n",
            " Полнота: 0.6524822695035462 \n",
            " Матрица ошибок: [[1121  456]\n",
            " [ 147  276]] \n",
            " площадь под ROC-кривой: 0.7416631812805534\n"
          ]
        }
      ],
      "source": [
        "metrics(model,target_valid, features_valid,predicted_valid)"
      ]
    },
    {
      "cell_type": "markdown",
      "metadata": {
        "id": "-H8VehOTlske"
      },
      "source": [
        "Построим PR-кривую:"
      ]
    },
    {
      "cell_type": "code",
      "execution_count": null,
      "metadata": {
        "colab": {
          "base_uri": "https://localhost:8080/",
          "height": 543
        },
        "id": "Xwg2G4HLlskf",
        "outputId": "169b6da6-d25b-4508-9ae8-c7eb1ef64832"
      },
      "outputs": [
        {
          "output_type": "display_data",
          "data": {
            "image/png": "[encoded data removed]",
            "text/plain": [
              "<Figure size 432x432 with 1 Axes>"
            ]
          },
          "metadata": {
            "needs_background": "light"
          }
        },
        {
          "output_type": "execute_result",
          "data": {
            "text/plain": [
              "(<Figure size 432x432 with 1 Axes>,\n",
              " [<matplotlib.lines.Line2D at 0x7fb889a0ef90>],\n",
              " Text(0.5, 17.200000000000003, 'Recall'),\n",
              " Text(17.200000000000003, 0.5, 'Precision'),\n",
              " (0.0, 1.05),\n",
              " (0.0, 1.0),\n",
              " Text(0.5, 1.0, 'Кривая Precision-Recall'),\n",
              " None)"
            ]
          },
          "metadata": {},
          "execution_count": 41
        }
      ],
      "source": [
        "pr(model)"
      ]
    },
    {
      "cell_type": "markdown",
      "metadata": {
        "id": "1S9kUwdJlskg"
      },
      "source": [
        "Построим ROC-кривую:"
      ]
    },
    {
      "cell_type": "code",
      "execution_count": null,
      "metadata": {
        "scrolled": true,
        "colab": {
          "base_uri": "https://localhost:8080/",
          "height": 451
        },
        "id": "sAXOGZWOlskg",
        "outputId": "7ca8202d-6c31-4911-e933-9b968b0af45a"
      },
      "outputs": [
        {
          "output_type": "display_data",
          "data": {
            "image/png": "[encoded data removed]",
            "text/plain": [
              "<Figure size 432x288 with 1 Axes>"
            ]
          },
          "metadata": {
            "needs_background": "light"
          }
        },
        {
          "output_type": "execute_result",
          "data": {
            "text/plain": [
              "(<Figure size 432x288 with 1 Axes>,\n",
              " [<matplotlib.lines.Line2D at 0x7fb8899f8490>],\n",
              " [<matplotlib.lines.Line2D at 0x7fb8899f8a90>],\n",
              " (0.0, 1.0),\n",
              " (0.0, 1.0),\n",
              " Text(0.5, 17.200000000000003, 'False Positive Rate'),\n",
              " Text(17.200000000000003, 0.5, 'True Positive Rate'),\n",
              " Text(0.5, 1.0, 'ROC-кривая'),\n",
              " None)"
            ]
          },
          "metadata": {},
          "execution_count": 42
        }
      ],
      "source": [
        "roc(model)"
      ]
    },
    {
      "cell_type": "markdown",
      "metadata": {
        "id": "YgD2LWdRlskh"
      },
      "source": [
        "####  без изменения выборки"
      ]
    },
    {
      "cell_type": "markdown",
      "metadata": {
        "id": "5hX7qiEtlskh"
      },
      "source": [
        "Теперь обучим модель на данных с оригинальной выборокой.\n",
        "\n",
        "Только в моделе логистической регрессии укажем в весе класса - сбалансированный:"
      ]
    },
    {
      "cell_type": "code",
      "execution_count": null,
      "metadata": {
        "id": "YFpN3FOXlski"
      },
      "outputs": [],
      "source": [
        "model=LogisticRegression(random_state=12345,solver='liblinear',class_weight='balanced')\n",
        "model.fit(features_train, target_train)\n",
        "predicted_valid=model.predict(features_valid)"
      ]
    },
    {
      "cell_type": "markdown",
      "metadata": {
        "id": "lHs_exXOlskj"
      },
      "source": [
        "Выведим интересующие нас метрики:"
      ]
    },
    {
      "cell_type": "code",
      "execution_count": null,
      "metadata": {
        "colab": {
          "base_uri": "https://localhost:8080/"
        },
        "id": "YsDT3mRclskj",
        "outputId": "0e99dafd-c833-447e-a251-519c0c40d104"
      },
      "outputs": [
        {
          "output_type": "stream",
          "name": "stdout",
          "text": [
            " f1: 0.4797238999137188 \n",
            " Точность: 0.37771739130434784 \n",
            " Полнота: 0.6572104018912529 \n",
            " Матрица ошибок: [[1119  458]\n",
            " [ 145  278]] \n",
            " площадь под ROC-кривой: 0.7417051558229933\n"
          ]
        }
      ],
      "source": [
        "metrics(model,target_valid, features_valid,predicted_valid)"
      ]
    },
    {
      "cell_type": "code",
      "execution_count": null,
      "metadata": {
        "colab": {
          "base_uri": "https://localhost:8080/"
        },
        "id": "aPUF9WQXlskk",
        "outputId": "f574e885-41c3-4deb-c57d-8d72ffb869a9"
      },
      "outputs": [
        {
          "output_type": "stream",
          "name": "stdout",
          "text": [
            "0.7417051558229933\n"
          ]
        }
      ],
      "source": [
        "probabilities_valid = model.predict_proba(features_valid)\n",
        "probabilities_one_valid = probabilities_valid[:, 1]\n",
        "\n",
        "auc_roc=roc_auc_score(target_valid,probabilities_one_valid)\n",
        "print(auc_roc)"
      ]
    },
    {
      "cell_type": "markdown",
      "metadata": {
        "id": "A6chqVillskk"
      },
      "source": [
        "Построим PR-кривую:"
      ]
    },
    {
      "cell_type": "code",
      "execution_count": null,
      "metadata": {
        "colab": {
          "base_uri": "https://localhost:8080/",
          "height": 543
        },
        "id": "j3BEVwhIlskl",
        "outputId": "bd5d7192-f2df-4b1d-8de9-fc8bd4ca8662"
      },
      "outputs": [
        {
          "output_type": "display_data",
          "data": {
            "image/png": "[encoded data removed]",
            "text/plain": [
              "<Figure size 432x432 with 1 Axes>"
            ]
          },
          "metadata": {
            "needs_background": "light"
          }
        },
        {
          "output_type": "execute_result",
          "data": {
            "text/plain": [
              "(<Figure size 432x432 with 1 Axes>,\n",
              " [<matplotlib.lines.Line2D at 0x7fb8899641d0>],\n",
              " Text(0.5, 17.200000000000003, 'Recall'),\n",
              " Text(17.200000000000003, 0.5, 'Precision'),\n",
              " (0.0, 1.05),\n",
              " (0.0, 1.0),\n",
              " Text(0.5, 1.0, 'Кривая Precision-Recall'),\n",
              " None)"
            ]
          },
          "metadata": {},
          "execution_count": 46
        }
      ],
      "source": [
        "pr(model)"
      ]
    },
    {
      "cell_type": "markdown",
      "metadata": {
        "id": "RDZhiQCrlskn"
      },
      "source": [
        "Построим ROC-кривую:"
      ]
    },
    {
      "cell_type": "code",
      "execution_count": null,
      "metadata": {
        "scrolled": true,
        "colab": {
          "base_uri": "https://localhost:8080/",
          "height": 451
        },
        "id": "rzbVAqK0lsko",
        "outputId": "c0d5c53a-b8ae-4149-ddf0-011b336ab714"
      },
      "outputs": [
        {
          "output_type": "display_data",
          "data": {
            "image/png": "[encoded data removed]",
            "text/plain": [
              "<Figure size 432x288 with 1 Axes>"
            ]
          },
          "metadata": {
            "needs_background": "light"
          }
        },
        {
          "output_type": "execute_result",
          "data": {
            "text/plain": [
              "(<Figure size 432x288 with 1 Axes>,\n",
              " [<matplotlib.lines.Line2D at 0x7fb8898c57d0>],\n",
              " [<matplotlib.lines.Line2D at 0x7fb8898c5dd0>],\n",
              " (0.0, 1.0),\n",
              " (0.0, 1.0),\n",
              " Text(0.5, 17.200000000000003, 'False Positive Rate'),\n",
              " Text(17.200000000000003, 0.5, 'True Positive Rate'),\n",
              " Text(0.5, 1.0, 'ROC-кривая'),\n",
              " None)"
            ]
          },
          "metadata": {},
          "execution_count": 47
        }
      ],
      "source": [
        "roc(model)"
      ]
    },
    {
      "cell_type": "markdown",
      "metadata": {
        "id": "PW6zIUnUlskp"
      },
      "source": [
        "#### Без учета дисбаланса "
      ]
    },
    {
      "cell_type": "markdown",
      "metadata": {
        "id": "qTg61W5llskq"
      },
      "source": [
        "Теперь обучим без какого-либо баланса"
      ]
    },
    {
      "cell_type": "code",
      "execution_count": null,
      "metadata": {
        "id": "6KpzV9q0lskr"
      },
      "outputs": [],
      "source": [
        "model=LogisticRegression(random_state=12345,solver='liblinear')\n",
        "model.fit(features_train, target_train)\n",
        "predicted_valid=model.predict(features_valid)"
      ]
    },
    {
      "cell_type": "markdown",
      "metadata": {
        "id": "Vl-p2Df_lsks"
      },
      "source": [
        "Посмотрим на получившиеся метрики:"
      ]
    },
    {
      "cell_type": "code",
      "execution_count": null,
      "metadata": {
        "colab": {
          "base_uri": "https://localhost:8080/"
        },
        "id": "uI7UH9Kwlskt",
        "outputId": "e3656d87-780f-464e-adbb-b85027a0b7c6"
      },
      "outputs": [
        {
          "output_type": "stream",
          "name": "stdout",
          "text": [
            " f1: 0.2743055555555555 \n",
            " Точность: 0.5163398692810458 \n",
            " Полнота: 0.1867612293144208 \n",
            " Матрица ошибок: [[1503   74]\n",
            " [ 344   79]] \n",
            " площадь под ROC-кривой: 0.738820905121044\n"
          ]
        }
      ],
      "source": [
        "metrics(model,target_valid, features_valid,predicted_valid)"
      ]
    },
    {
      "cell_type": "markdown",
      "metadata": {
        "id": "Q05U1vRmlskt"
      },
      "source": [
        "**Вывод**\n",
        "\n",
        "Наибольшая f1-мера  и полнота была достигнута на уменьшенной выборке(`48.6% и 67.1%`).\n",
        "\n",
        "Заметно как отсутствие баланса влияет на f1. Она становиться катастрофически маленькой(происходит из-за полноты). Всего 27.4% вместо 48.6%. А полнота 18.7% против  67.1%. Модель катострафически не может правильно определять 1 класс.\n",
        "\n",
        "К последующим моделям будем применять данные с уменьшенной выборкой."
      ]
    },
    {
      "cell_type": "markdown",
      "metadata": {
        "id": "B2dDjKielskv"
      },
      "source": [
        "### Дерево решений"
      ]
    },
    {
      "cell_type": "markdown",
      "metadata": {
        "id": "cdafmjlelskv"
      },
      "source": [
        "Обучим модель на обучающихся данных.\n",
        "\n",
        "Чтобы определить наилучший `f1`, в цикле переберем гиперпараметр `max_depth`:"
      ]
    },
    {
      "cell_type": "code",
      "execution_count": null,
      "metadata": {
        "colab": {
          "base_uri": "https://localhost:8080/"
        },
        "id": "9WVzFLbnlskw",
        "outputId": "0a93984d-f94a-44e6-f284-a04770112e79"
      },
      "outputs": [
        {
          "output_type": "stream",
          "name": "stdout",
          "text": [
            "F1 наилучшей модели на валидационной выборке: 0.6074380165289257\n",
            "Наилучшая глубина дерева на валидационной выборке: 5\n"
          ]
        }
      ],
      "source": [
        "best_model_DecisionTree = None\n",
        "best_predicted_valid=None\n",
        "best_result = 0\n",
        "best_depth=0\n",
        "for index in range(1,10):\n",
        "    model=DecisionTreeClassifier(random_state=12345,max_depth=index)\n",
        "    model.fit(features_downsampled, target_downsampled)\n",
        "    predicted_valid=model.predict(features_valid)\n",
        "    #result=model.score(features_valid,target_valid)\n",
        "    result=f1_score(target_valid,predicted_valid)\n",
        "    if result > best_result:\n",
        "        best_predicted_valid=predicted_valid\n",
        "        best_model_DecisionTree = model\n",
        "        best_result = result\n",
        "        best_depth = index\n",
        "print(\"F1 наилучшей модели на валидационной выборке:\", best_result)\n",
        "print(\"Наилучшая глубина дерева на валидационной выборке:\", best_depth)"
      ]
    },
    {
      "cell_type": "markdown",
      "metadata": {
        "id": "2yWPzRIolsky"
      },
      "source": [
        "Выведим интересующие нас метрики:"
      ]
    },
    {
      "cell_type": "code",
      "execution_count": null,
      "metadata": {
        "colab": {
          "base_uri": "https://localhost:8080/"
        },
        "id": "qsGf-OM-lsky",
        "outputId": "cf7ca18e-b270-49f4-9bd6-f2ba812cc36f"
      },
      "outputs": [
        {
          "output_type": "stream",
          "name": "stdout",
          "text": [
            " f1: 0.6074380165289257 \n",
            " Точность: 0.5394495412844037 \n",
            " Полнота: 0.6950354609929078 \n",
            " Матрица ошибок: [[1326  251]\n",
            " [ 129  294]] \n",
            " площадь под ROC-кривой: 0.8371844976022043\n"
          ]
        }
      ],
      "source": [
        "metrics(best_model_DecisionTree,target_valid, features_valid,best_predicted_valid)"
      ]
    },
    {
      "cell_type": "markdown",
      "metadata": {
        "id": "mWkz4DUblsk0"
      },
      "source": [
        "Построим PR-кривую:"
      ]
    },
    {
      "cell_type": "code",
      "execution_count": null,
      "metadata": {
        "colab": {
          "base_uri": "https://localhost:8080/",
          "height": 543
        },
        "id": "1PLrxgNolsk1",
        "outputId": "ff2b8708-e888-48da-b787-d78bb54843aa"
      },
      "outputs": [
        {
          "output_type": "display_data",
          "data": {
            "image/png": "[encoded data removed]",
            "text/plain": [
              "<Figure size 432x432 with 1 Axes>"
            ]
          },
          "metadata": {
            "needs_background": "light"
          }
        },
        {
          "output_type": "execute_result",
          "data": {
            "text/plain": [
              "(<Figure size 432x432 with 1 Axes>,\n",
              " [<matplotlib.lines.Line2D at 0x7fb8898b2590>],\n",
              " Text(0.5, 17.200000000000003, 'Recall'),\n",
              " Text(17.200000000000003, 0.5, 'Precision'),\n",
              " (0.0, 1.05),\n",
              " (0.0, 1.0),\n",
              " Text(0.5, 1.0, 'Кривая Precision-Recall'),\n",
              " None)"
            ]
          },
          "metadata": {},
          "execution_count": 52
        }
      ],
      "source": [
        "pr(best_model_DecisionTree)"
      ]
    },
    {
      "cell_type": "markdown",
      "metadata": {
        "id": "fx6WswH6lsk2"
      },
      "source": [
        "Построим ROC-кривую:"
      ]
    },
    {
      "cell_type": "code",
      "execution_count": null,
      "metadata": {
        "colab": {
          "base_uri": "https://localhost:8080/",
          "height": 451
        },
        "id": "JwxcKny_lsk3",
        "outputId": "c5fc4431-5933-4490-b244-bf1c4321baf2"
      },
      "outputs": [
        {
          "output_type": "display_data",
          "data": {
            "image/png": "[encoded data removed]",
            "text/plain": [
              "<Figure size 432x288 with 1 Axes>"
            ]
          },
          "metadata": {
            "needs_background": "light"
          }
        },
        {
          "output_type": "execute_result",
          "data": {
            "text/plain": [
              "(<Figure size 432x288 with 1 Axes>,\n",
              " [<matplotlib.lines.Line2D at 0x7fb889812910>],\n",
              " [<matplotlib.lines.Line2D at 0x7fb889812f10>],\n",
              " (0.0, 1.0),\n",
              " (0.0, 1.0),\n",
              " Text(0.5, 17.200000000000003, 'False Positive Rate'),\n",
              " Text(17.200000000000003, 0.5, 'True Positive Rate'),\n",
              " Text(0.5, 1.0, 'ROC-кривая'),\n",
              " None)"
            ]
          },
          "metadata": {},
          "execution_count": 53
        }
      ],
      "source": [
        "roc(best_model_DecisionTree)"
      ]
    },
    {
      "cell_type": "markdown",
      "metadata": {
        "id": "YL3T522glsk4"
      },
      "source": [
        "### Случайный лес"
      ]
    },
    {
      "cell_type": "markdown",
      "metadata": {
        "id": "dBhCq9eUlsk5"
      },
      "source": [
        "Чтобы получить наилучшую метрику качества, в цикле переберем колличество деревьев(`n_estimators`) и глубину дерева(`max_depth`):"
      ]
    },
    {
      "cell_type": "code",
      "execution_count": null,
      "metadata": {
        "colab": {
          "base_uri": "https://localhost:8080/"
        },
        "id": "VlnM8KBllsk6",
        "outputId": "1eba44d3-8db6-429b-bda7-e06c66051faa"
      },
      "outputs": [
        {
          "output_type": "stream",
          "name": "stdout",
          "text": [
            "F1 наилучшей модели на валидационной выборке: 0.5913875598086125\n",
            "Наилучшая глубина дерева на валидационной выборке: 7\n",
            "Наилучшее колличество деревьев на валидационной выборке: 11\n",
            "CPU times: user 9.19 s, sys: 34.4 ms, total: 9.22 s\n",
            "Wall time: 11.1 s\n"
          ]
        }
      ],
      "source": [
        "%%time\n",
        "\n",
        "best_model_RandomForest = None\n",
        "best_result = 0\n",
        "best_depth=0\n",
        "best_est=0\n",
        "predicted_valid=None\n",
        "for est in range(1, 20):\n",
        "    for depth in range (1, 10):       \n",
        "        model = RandomForestClassifier(random_state=12345, n_estimators=est,max_depth=depth) \n",
        "        model.fit(features_downsampled,target_downsampled) \n",
        "        predicted_valid=model.predict(features_valid)\n",
        "        #result=model.score(features_valid,target_valid)\n",
        "        result=f1_score(target_valid,predicted_valid)\n",
        "        if result > best_result:\n",
        "            best_predicted_valid=predicted_valid\n",
        "            best_model_RandomForest = model\n",
        "            best_result = result\n",
        "            best_depth = depth\n",
        "            best_est = est\n",
        "\n",
        "print(\"F1 наилучшей модели на валидационной выборке:\", best_result)\n",
        "print(\"Наилучшая глубина дерева на валидационной выборке:\", best_depth)\n",
        "print(\"Наилучшее колличество деревьев на валидационной выборке:\", best_est)"
      ]
    },
    {
      "cell_type": "markdown",
      "metadata": {
        "id": "eeZ0EkL4lsk8"
      },
      "source": [
        "Выведим интересующие нас метрики:"
      ]
    },
    {
      "cell_type": "code",
      "execution_count": null,
      "metadata": {
        "scrolled": true,
        "colab": {
          "base_uri": "https://localhost:8080/"
        },
        "id": "2a7F39q3lsk8",
        "outputId": "cc21ecda-6d16-4464-bacb-404626afcd60"
      },
      "outputs": [
        {
          "output_type": "stream",
          "name": "stdout",
          "text": [
            " f1: 0.5913875598086125 \n",
            " Точность: 0.4967845659163987 \n",
            " Полнота: 0.7304964539007093 \n",
            " Матрица ошибок: [[1264  313]\n",
            " [ 114  309]] \n",
            " площадь под ROC-кривой: 0.8434814285136065\n"
          ]
        }
      ],
      "source": [
        "metrics(best_model_RandomForest,target_valid, features_valid,best_predicted_valid)"
      ]
    },
    {
      "cell_type": "markdown",
      "metadata": {
        "id": "rLAuDNYSlsk9"
      },
      "source": [
        "Построим PR-кривую:"
      ]
    },
    {
      "cell_type": "code",
      "execution_count": null,
      "metadata": {
        "colab": {
          "base_uri": "https://localhost:8080/",
          "height": 543
        },
        "id": "SJ5DPJGflsk9",
        "outputId": "592bc6b3-3316-4905-88fa-4b68c484c591"
      },
      "outputs": [
        {
          "output_type": "display_data",
          "data": {
            "image/png": "[encoded data removed]",
            "text/plain": [
              "<Figure size 432x432 with 1 Axes>"
            ]
          },
          "metadata": {
            "needs_background": "light"
          }
        },
        {
          "output_type": "execute_result",
          "data": {
            "text/plain": [
              "(<Figure size 432x432 with 1 Axes>,\n",
              " [<matplotlib.lines.Line2D at 0x7fb8897b62d0>],\n",
              " Text(0.5, 17.200000000000003, 'Recall'),\n",
              " Text(17.200000000000003, 0.5, 'Precision'),\n",
              " (0.0, 1.05),\n",
              " (0.0, 1.0),\n",
              " Text(0.5, 1.0, 'Кривая Precision-Recall'),\n",
              " None)"
            ]
          },
          "metadata": {},
          "execution_count": 56
        }
      ],
      "source": [
        "pr(best_model_RandomForest)"
      ]
    },
    {
      "cell_type": "markdown",
      "metadata": {
        "id": "25QVTD9xlsk-"
      },
      "source": [
        "Построим ROC-кривую:"
      ]
    },
    {
      "cell_type": "code",
      "execution_count": null,
      "metadata": {
        "colab": {
          "base_uri": "https://localhost:8080/",
          "height": 451
        },
        "id": "bHyDIT32lsk_",
        "outputId": "5f7e9a54-0fbd-4937-81d8-a3e147ed988f"
      },
      "outputs": [
        {
          "output_type": "display_data",
          "data": {
            "image/png": "[encoded data removed]",
            "text/plain": [
              "<Figure size 432x288 with 1 Axes>"
            ]
          },
          "metadata": {
            "needs_background": "light"
          }
        },
        {
          "output_type": "execute_result",
          "data": {
            "text/plain": [
              "(<Figure size 432x288 with 1 Axes>,\n",
              " [<matplotlib.lines.Line2D at 0x7fb88970e710>],\n",
              " [<matplotlib.lines.Line2D at 0x7fb88970ecd0>],\n",
              " (0.0, 1.0),\n",
              " (0.0, 1.0),\n",
              " Text(0.5, 17.200000000000003, 'False Positive Rate'),\n",
              " Text(17.200000000000003, 0.5, 'True Positive Rate'),\n",
              " Text(0.5, 1.0, 'ROC-кривая'),\n",
              " None)"
            ]
          },
          "metadata": {},
          "execution_count": 57
        }
      ],
      "source": [
        "roc(best_model_RandomForest)"
      ]
    },
    {
      "cell_type": "markdown",
      "metadata": {
        "id": "J1TrCUj0lsk_"
      },
      "source": [
        "### Сatboost"
      ]
    },
    {
      "cell_type": "markdown",
      "metadata": {
        "id": "K98qStyRlslA"
      },
      "source": [
        "Для кэтбуста наилучший результат выдает увеличенная выборка.\n",
        "\n",
        "Создадим модель градиентного бустинга:"
      ]
    },
    {
      "cell_type": "code",
      "execution_count": null,
      "metadata": {
        "id": "Pgeq1uISlslB"
      },
      "outputs": [],
      "source": [
        "model=CatBoostClassifier(verbose=100,early_stopping_rounds=200)"
      ]
    },
    {
      "cell_type": "code",
      "execution_count": null,
      "metadata": {
        "scrolled": true,
        "colab": {
          "base_uri": "https://localhost:8080/"
        },
        "id": "2sME4ULplslB",
        "outputId": "163610c4-5713-4aec-ecce-b4dac19b25e2"
      },
      "outputs": [
        {
          "output_type": "stream",
          "name": "stdout",
          "text": [
            "Learning rate set to 0.055385\n",
            "0:\tlearn: 0.6615881\ttest: 0.6649280\tbest: 0.6649280 (0)\ttotal: 55.2ms\tremaining: 55.1s\n",
            "100:\tlearn: 0.3923342\ttest: 0.4306225\tbest: 0.4306225 (100)\ttotal: 1.02s\tremaining: 9.08s\n",
            "200:\tlearn: 0.3396933\ttest: 0.4180967\tbest: 0.4180967 (200)\ttotal: 2.17s\tremaining: 8.64s\n",
            "300:\tlearn: 0.2993873\ttest: 0.4109927\tbest: 0.4109927 (300)\ttotal: 3.34s\tremaining: 7.76s\n",
            "400:\tlearn: 0.2665956\ttest: 0.4060194\tbest: 0.4060194 (400)\ttotal: 4.63s\tremaining: 6.92s\n",
            "500:\tlearn: 0.2362305\ttest: 0.4008633\tbest: 0.4008200 (499)\ttotal: 5.55s\tremaining: 5.53s\n",
            "600:\tlearn: 0.2116555\ttest: 0.3973169\tbest: 0.3971230 (582)\ttotal: 6.74s\tremaining: 4.47s\n",
            "700:\tlearn: 0.1911006\ttest: 0.3952523\tbest: 0.3951902 (698)\ttotal: 8.05s\tremaining: 3.43s\n",
            "800:\tlearn: 0.1728871\ttest: 0.3929422\tbest: 0.3926480 (794)\ttotal: 9.04s\tremaining: 2.25s\n",
            "900:\tlearn: 0.1569180\ttest: 0.3917526\tbest: 0.3917526 (900)\ttotal: 9.86s\tremaining: 1.08s\n",
            "999:\tlearn: 0.1426650\ttest: 0.3919893\tbest: 0.3911269 (933)\ttotal: 10.6s\tremaining: 0us\n",
            "\n",
            "bestTest = 0.3911268855\n",
            "bestIteration = 933\n",
            "\n",
            "Shrink model to first 934 iterations.\n"
          ]
        }
      ],
      "source": [
        "model.fit(features_upsampled, target_upsampled,eval_set=(features_valid,target_valid))\n",
        "predicted_valid=model.predict(features_valid)"
      ]
    },
    {
      "cell_type": "markdown",
      "metadata": {
        "id": "eB93bSJHlslC"
      },
      "source": [
        "Выведим интересующие нас метрики:"
      ]
    },
    {
      "cell_type": "code",
      "execution_count": null,
      "metadata": {
        "scrolled": true,
        "colab": {
          "base_uri": "https://localhost:8080/"
        },
        "id": "iRHQMLjnlslD",
        "outputId": "592333d3-863c-4a63-c4ed-f6cb0e993b8c"
      },
      "outputs": [
        {
          "output_type": "stream",
          "name": "stdout",
          "text": [
            " f1: 0.6118192352259559 \n",
            " Точность: 0.6 \n",
            " Полнота: 0.624113475177305 \n",
            " Матрица ошибок: [[1401  176]\n",
            " [ 159  264]] \n",
            " площадь под ROC-кривой: 0.8513561524935127\n"
          ]
        }
      ],
      "source": [
        "metrics(model,target_valid, features_valid,predicted_valid)"
      ]
    },
    {
      "cell_type": "markdown",
      "metadata": {
        "id": "jAqr0MlKlslD"
      },
      "source": [
        "Построим PR-кривую:"
      ]
    },
    {
      "cell_type": "code",
      "execution_count": null,
      "metadata": {
        "scrolled": true,
        "colab": {
          "base_uri": "https://localhost:8080/",
          "height": 543
        },
        "id": "ToUN0lLllslE",
        "outputId": "59a9f112-37a9-4b2f-ec38-5cc672fd17d0"
      },
      "outputs": [
        {
          "output_type": "display_data",
          "data": {
            "image/png": "[encoded data removed]",
            "text/plain": [
              "<Figure size 432x432 with 1 Axes>"
            ]
          },
          "metadata": {
            "needs_background": "light"
          }
        },
        {
          "output_type": "execute_result",
          "data": {
            "text/plain": [
              "(<Figure size 432x432 with 1 Axes>,\n",
              " [<matplotlib.lines.Line2D at 0x7fb888a7f690>],\n",
              " Text(0.5, 17.200000000000003, 'Recall'),\n",
              " Text(17.200000000000003, 0.5, 'Precision'),\n",
              " (0.0, 1.05),\n",
              " (0.0, 1.0),\n",
              " Text(0.5, 1.0, 'Кривая Precision-Recall'),\n",
              " None)"
            ]
          },
          "metadata": {},
          "execution_count": 61
        }
      ],
      "source": [
        "pr(model)"
      ]
    },
    {
      "cell_type": "markdown",
      "metadata": {
        "id": "P9YuvuSElslG"
      },
      "source": [
        "Построим ROC-кривую:"
      ]
    },
    {
      "cell_type": "code",
      "execution_count": null,
      "metadata": {
        "colab": {
          "base_uri": "https://localhost:8080/",
          "height": 451
        },
        "id": "Pu3fIx_AlslG",
        "outputId": "9686fe41-ef98-4ab4-90a3-c30556a9757d"
      },
      "outputs": [
        {
          "output_type": "display_data",
          "data": {
            "image/png": "[encoded data removed]",
            "text/plain": [
              "<Figure size 432x288 with 1 Axes>"
            ]
          },
          "metadata": {
            "needs_background": "light"
          }
        },
        {
          "output_type": "execute_result",
          "data": {
            "text/plain": [
              "(<Figure size 432x288 with 1 Axes>,\n",
              " [<matplotlib.lines.Line2D at 0x7fb888a5bb90>],\n",
              " [<matplotlib.lines.Line2D at 0x7fb888a671d0>],\n",
              " (0.0, 1.0),\n",
              " (0.0, 1.0),\n",
              " Text(0.5, 17.200000000000003, 'False Positive Rate'),\n",
              " Text(17.200000000000003, 0.5, 'True Positive Rate'),\n",
              " Text(0.5, 1.0, 'ROC-кривая'),\n",
              " None)"
            ]
          },
          "metadata": {},
          "execution_count": 62
        }
      ],
      "source": [
        "roc(model)"
      ]
    },
    {
      "cell_type": "markdown",
      "metadata": {
        "id": "J8-Cv6qylslH"
      },
      "source": [
        "**Вывод**\n",
        "\n",
        "Наилучшей параметр `полнота` достигается в модели случайного леса(`73%`). А `f1` метрика в дерево решений (`60.7%`).\n",
        "\n",
        "Наибольшая площадь ROC-кривой достигается в Catboost (`85.1%`)"
      ]
    },
    {
      "cell_type": "markdown",
      "metadata": {
        "id": "NP0eFJGFlslK"
      },
      "source": [
        "## Проверка модели на тестовой выборке"
      ]
    },
    {
      "cell_type": "markdown",
      "metadata": {
        "id": "i6xoLBtnlslL"
      },
      "source": [
        "В качестве основной модели я возьму `Случайный лес`, так как полнота наивысшая."
      ]
    },
    {
      "cell_type": "code",
      "execution_count": null,
      "metadata": {
        "scrolled": true,
        "colab": {
          "base_uri": "https://localhost:8080/"
        },
        "id": "g2Q7oFJ_lslM",
        "outputId": "8100a391-c0bd-4248-aef1-161fe31b6372"
      },
      "outputs": [
        {
          "output_type": "stream",
          "name": "stdout",
          "text": [
            "f1 на тестовой выборке: 0.5931174089068827\n",
            "полнота на тестовой выборке: 0.7009569377990431\n"
          ]
        }
      ],
      "source": [
        "predictions = best_model_DecisionTree.predict(features_test)\n",
        "f1=f1_score(target_test,predictions)\n",
        "recall=recall_score(target_test,predictions)\n",
        "print(\"f1 на тестовой выборке:\", f1)\n",
        "print(\"полнота на тестовой выборке:\", recall)"
      ]
    },
    {
      "cell_type": "markdown",
      "metadata": {
        "id": "8LcymjEqlslN"
      },
      "source": [
        "Посмотрим на матрицу ошибок:"
      ]
    },
    {
      "cell_type": "code",
      "execution_count": null,
      "metadata": {
        "colab": {
          "base_uri": "https://localhost:8080/"
        },
        "id": "KkO8tFaqlslN",
        "outputId": "cf8179e7-83d8-4c1d-c6fa-e5ae08c8a328"
      },
      "outputs": [
        {
          "output_type": "execute_result",
          "data": {
            "text/plain": [
              "array([[1305,  277],\n",
              "       [ 125,  293]])"
            ]
          },
          "metadata": {},
          "execution_count": 64
        }
      ],
      "source": [
        "confusion_matrix(target_test,predictions)"
      ]
    },
    {
      "cell_type": "markdown",
      "metadata": {
        "id": "tmzPRTKklslO"
      },
      "source": [
        "### Манипуляции с порогом"
      ]
    },
    {
      "cell_type": "markdown",
      "metadata": {
        "id": "4wlhjWjDlslP"
      },
      "source": [
        "Так как AUC-ROC наибольший у `Catboost`, то поэксперементируем с порогом в этой модели."
      ]
    },
    {
      "cell_type": "markdown",
      "metadata": {
        "id": "4gs_cQuPlslP"
      },
      "source": [
        "Добавим в  основную тестовую таблицу столбцы, где указана вероятность присвоени класса `1` (`score`) и столбец предскозания значения (`prediction`)."
      ]
    },
    {
      "cell_type": "code",
      "execution_count": null,
      "metadata": {
        "id": "Q02wYQaJlslQ"
      },
      "outputs": [],
      "source": [
        "probabilities_valid = model.predict_proba(features_test)\n",
        "probabilities_one_test = probabilities_valid[:, 1]"
      ]
    },
    {
      "cell_type": "code",
      "execution_count": null,
      "metadata": {
        "id": "0hFe3jQZlslR"
      },
      "outputs": [],
      "source": [
        "data_predict_score = data.merge(target_test,how='right',\n",
        "           left_index=True,\n",
        "           right_index=True).drop('exited_x',axis=1).join(pd.DataFrame\n",
        "                                                 ({'score': probabilities_one_test,'prediction': predictions},\n",
        "                                                  index=target_test.index))\n"
      ]
    },
    {
      "cell_type": "code",
      "execution_count": null,
      "metadata": {
        "colab": {
          "base_uri": "https://localhost:8080/",
          "height": 270
        },
        "id": "K_HanfJQlslS",
        "outputId": "7ee3727d-f913-4d2e-fada-a698e13ec3ae"
      },
      "outputs": [
        {
          "output_type": "execute_result",
          "data": {
            "text/html": [
              "\n",
              "  <div id=\"df-506e3b9b-49c1-4811-aa81-6b4e9b40acbe\">\n",
              "    <div class=\"colab-df-container\">\n",
              "      <div>\n",
              "<style scoped>\n",
              "    .dataframe tbody tr th:only-of-type {\n",
              "        vertical-align: middle;\n",
              "    }\n",
              "\n",
              "    .dataframe tbody tr th {\n",
              "        vertical-align: top;\n",
              "    }\n",
              "\n",
              "    .dataframe thead th {\n",
              "        text-align: right;\n",
              "    }\n",
              "</style>\n",
              "<table border=\"1\" class=\"dataframe\">\n",
              "  <thead>\n",
              "    <tr style=\"text-align: right;\">\n",
              "      <th></th>\n",
              "      <th>row_number</th>\n",
              "      <th>customer_id</th>\n",
              "      <th>surname</th>\n",
              "      <th>credit_score</th>\n",
              "      <th>geography</th>\n",
              "      <th>gender</th>\n",
              "      <th>age</th>\n",
              "      <th>tenure</th>\n",
              "      <th>balance</th>\n",
              "      <th>num_of_products</th>\n",
              "      <th>has_cr_card</th>\n",
              "      <th>is_active_member</th>\n",
              "      <th>estimated_salary</th>\n",
              "      <th>exited_y</th>\n",
              "      <th>score</th>\n",
              "      <th>prediction</th>\n",
              "    </tr>\n",
              "  </thead>\n",
              "  <tbody>\n",
              "    <tr>\n",
              "      <th>8532</th>\n",
              "      <td>8533</td>\n",
              "      <td>15780805</td>\n",
              "      <td>Lu</td>\n",
              "      <td>585</td>\n",
              "      <td>France</td>\n",
              "      <td>Female</td>\n",
              "      <td>35</td>\n",
              "      <td>2.0</td>\n",
              "      <td>0.00</td>\n",
              "      <td>2</td>\n",
              "      <td>1</td>\n",
              "      <td>0</td>\n",
              "      <td>98621.04</td>\n",
              "      <td>1</td>\n",
              "      <td>0.033688</td>\n",
              "      <td>0</td>\n",
              "    </tr>\n",
              "    <tr>\n",
              "      <th>5799</th>\n",
              "      <td>5800</td>\n",
              "      <td>15649853</td>\n",
              "      <td>Craig</td>\n",
              "      <td>625</td>\n",
              "      <td>France</td>\n",
              "      <td>Female</td>\n",
              "      <td>45</td>\n",
              "      <td>3.0</td>\n",
              "      <td>0.00</td>\n",
              "      <td>1</td>\n",
              "      <td>1</td>\n",
              "      <td>1</td>\n",
              "      <td>184474.15</td>\n",
              "      <td>1</td>\n",
              "      <td>0.708747</td>\n",
              "      <td>1</td>\n",
              "    </tr>\n",
              "    <tr>\n",
              "      <th>5511</th>\n",
              "      <td>5512</td>\n",
              "      <td>15714970</td>\n",
              "      <td>Holbrook</td>\n",
              "      <td>667</td>\n",
              "      <td>Germany</td>\n",
              "      <td>Male</td>\n",
              "      <td>32</td>\n",
              "      <td>0.0</td>\n",
              "      <td>103846.65</td>\n",
              "      <td>1</td>\n",
              "      <td>1</td>\n",
              "      <td>0</td>\n",
              "      <td>20560.69</td>\n",
              "      <td>0</td>\n",
              "      <td>0.268979</td>\n",
              "      <td>1</td>\n",
              "    </tr>\n",
              "    <tr>\n",
              "      <th>7365</th>\n",
              "      <td>7366</td>\n",
              "      <td>15593178</td>\n",
              "      <td>Graham</td>\n",
              "      <td>568</td>\n",
              "      <td>Spain</td>\n",
              "      <td>Female</td>\n",
              "      <td>36</td>\n",
              "      <td>10.0</td>\n",
              "      <td>153610.61</td>\n",
              "      <td>1</td>\n",
              "      <td>1</td>\n",
              "      <td>1</td>\n",
              "      <td>54083.80</td>\n",
              "      <td>1</td>\n",
              "      <td>0.016206</td>\n",
              "      <td>0</td>\n",
              "    </tr>\n",
              "    <tr>\n",
              "      <th>7367</th>\n",
              "      <td>7368</td>\n",
              "      <td>15736399</td>\n",
              "      <td>Korovin</td>\n",
              "      <td>606</td>\n",
              "      <td>Spain</td>\n",
              "      <td>Male</td>\n",
              "      <td>42</td>\n",
              "      <td>10.0</td>\n",
              "      <td>0.00</td>\n",
              "      <td>2</td>\n",
              "      <td>1</td>\n",
              "      <td>0</td>\n",
              "      <td>177938.52</td>\n",
              "      <td>0</td>\n",
              "      <td>0.027651</td>\n",
              "      <td>0</td>\n",
              "    </tr>\n",
              "  </tbody>\n",
              "</table>\n",
              "</div>\n",
              "      <button class=\"colab-df-convert\" onclick=\"convertToInteractive('df-506e3b9b-49c1-4811-aa81-6b4e9b40acbe')\"\n",
              "              title=\"Convert this dataframe to an interactive table.\"\n",
              "              style=\"display:none;\">\n",
              "        \n",
              "  <svg xmlns=\"http://www.w3.org/2000/svg\" height=\"24px\"viewBox=\"0 0 24 24\"\n",
              "       width=\"24px\">\n",
              "    <path d=\"M0 0h24v24H0V0z\" fill=\"none\"/>\n",
              "    <path d=\"M18.56 5.44l.94 2.06.94-2.06 2.06-.94-2.06-.94-.94-2.06-.94 2.06-2.06.94zm-11 1L8.5 8.5l.94-2.06 2.06-.94-2.06-.94L8.5 2.5l-.94 2.06-2.06.94zm10 10l.94 2.06.94-2.06 2.06-.94-2.06-.94-.94-2.06-.94 2.06-2.06.94z\"/><path d=\"M17.41 7.96l-1.37-1.37c-.4-.4-.92-.59-1.43-.59-.52 0-1.04.2-1.43.59L10.3 9.45l-7.72 7.72c-.78.78-.78 2.05 0 2.83L4 21.41c.39.39.9.59 1.41.59.51 0 1.02-.2 1.41-.59l7.78-7.78 2.81-2.81c.8-.78.8-2.07 0-2.86zM5.41 20L4 18.59l7.72-7.72 1.47 1.35L5.41 20z\"/>\n",
              "  </svg>\n",
              "      </button>\n",
              "      \n",
              "  <style>\n",
              "    .colab-df-container {\n",
              "      display:flex;\n",
              "      flex-wrap:wrap;\n",
              "      gap: 12px;\n",
              "    }\n",
              "\n",
              "    .colab-df-convert {\n",
              "      background-color: #E8F0FE;\n",
              "      border: none;\n",
              "      border-radius: 50%;\n",
              "      cursor: pointer;\n",
              "      display: none;\n",
              "      fill: #1967D2;\n",
              "      height: 32px;\n",
              "      padding: 0 0 0 0;\n",
              "      width: 32px;\n",
              "    }\n",
              "\n",
              "    .colab-df-convert:hover {\n",
              "      background-color: #E2EBFA;\n",
              "      box-shadow: 0px 1px 2px rgba(60, 64, 67, 0.3), 0px 1px 3px 1px rgba(60, 64, 67, 0.15);\n",
              "      fill: #174EA6;\n",
              "    }\n",
              "\n",
              "    [theme=dark] .colab-df-convert {\n",
              "      background-color: #3B4455;\n",
              "      fill: #D2E3FC;\n",
              "    }\n",
              "\n",
              "    [theme=dark] .colab-df-convert:hover {\n",
              "      background-color: #434B5C;\n",
              "      box-shadow: 0px 1px 3px 1px rgba(0, 0, 0, 0.15);\n",
              "      filter: drop-shadow(0px 1px 2px rgba(0, 0, 0, 0.3));\n",
              "      fill: #FFFFFF;\n",
              "    }\n",
              "  </style>\n",
              "\n",
              "      <script>\n",
              "        const buttonEl =\n",
              "          document.querySelector('#df-506e3b9b-49c1-4811-aa81-6b4e9b40acbe button.colab-df-convert');\n",
              "        buttonEl.style.display =\n",
              "          google.colab.kernel.accessAllowed ? 'block' : 'none';\n",
              "\n",
              "        async function convertToInteractive(key) {\n",
              "          const element = document.querySelector('#df-506e3b9b-49c1-4811-aa81-6b4e9b40acbe');\n",
              "          const dataTable =\n",
              "            await google.colab.kernel.invokeFunction('convertToInteractive',\n",
              "                                                     [key], {});\n",
              "          if (!dataTable) return;\n",
              "\n",
              "          const docLinkHtml = 'Like what you see? Visit the ' +\n",
              "            '<a target=\"_blank\" href=https://colab.research.google.com/notebooks/data_table.ipynb>data table notebook</a>'\n",
              "            + ' to learn more about interactive tables.';\n",
              "          element.innerHTML = '';\n",
              "          dataTable['output_type'] = 'display_data';\n",
              "          await google.colab.output.renderOutput(dataTable, element);\n",
              "          const docLink = document.createElement('div');\n",
              "          docLink.innerHTML = docLinkHtml;\n",
              "          element.appendChild(docLink);\n",
              "        }\n",
              "      </script>\n",
              "    </div>\n",
              "  </div>\n",
              "  "
            ],
            "text/plain": [
              "      row_number  customer_id   surname  ...  exited_y     score prediction\n",
              "8532        8533     15780805        Lu  ...         1  0.033688          0\n",
              "5799        5800     15649853     Craig  ...         1  0.708747          1\n",
              "5511        5512     15714970  Holbrook  ...         0  0.268979          1\n",
              "7365        7366     15593178    Graham  ...         1  0.016206          0\n",
              "7367        7368     15736399   Korovin  ...         0  0.027651          0\n",
              "\n",
              "[5 rows x 16 columns]"
            ]
          },
          "metadata": {},
          "execution_count": 67
        }
      ],
      "source": [
        "data_predict_score.head()"
      ]
    },
    {
      "cell_type": "markdown",
      "metadata": {
        "id": "b_j4TKCwlslS"
      },
      "source": [
        "Теперь добавим новый столбец с предсказанием, при пороге `0.3`:"
      ]
    },
    {
      "cell_type": "code",
      "execution_count": null,
      "metadata": {
        "id": "zINXwQh3lslT"
      },
      "outputs": [],
      "source": [
        "data_predict_score['prediction_new']=(data_predict_score['score'] > 0.18)*1"
      ]
    },
    {
      "cell_type": "markdown",
      "metadata": {
        "id": "7NVzIImTlslU"
      },
      "source": [
        "Посмотрим на матрицу ошибок с измененым порогом:"
      ]
    },
    {
      "cell_type": "code",
      "execution_count": null,
      "metadata": {
        "colab": {
          "base_uri": "https://localhost:8080/"
        },
        "id": "fA7PWWHWlslU",
        "outputId": "11c2c64e-5739-43f6-9147-ff2e1e643b9b"
      },
      "outputs": [
        {
          "output_type": "execute_result",
          "data": {
            "text/plain": [
              "array([[1050,  532],\n",
              "       [  75,  343]])"
            ]
          },
          "metadata": {},
          "execution_count": 69
        }
      ],
      "source": [
        "confusion_matrix(target_test,np.asarray(data_predict_score['prediction_new']))"
      ]
    },
    {
      "cell_type": "markdown",
      "metadata": {
        "id": "XCP_Xex3lslV"
      },
      "source": [
        "Достигнутая полнота:"
      ]
    },
    {
      "cell_type": "code",
      "execution_count": null,
      "metadata": {
        "colab": {
          "base_uri": "https://localhost:8080/"
        },
        "id": "R5UED-twlslW",
        "outputId": "465a86f1-3381-4dc6-d150-1967376fd2a9"
      },
      "outputs": [
        {
          "output_type": "execute_result",
          "data": {
            "text/plain": [
              "0.8205741626794258"
            ]
          },
          "metadata": {},
          "execution_count": 70
        }
      ],
      "source": [
        "recall_score(target_test,np.asarray(data_predict_score['prediction_new']))"
      ]
    },
    {
      "cell_type": "markdown",
      "metadata": {
        "id": "J28pEBnmlslX"
      },
      "source": [
        "Дополнительно взглянем, какие параметры больше всего влияют на модель предсказания:"
      ]
    },
    {
      "cell_type": "code",
      "execution_count": null,
      "metadata": {
        "colab": {
          "base_uri": "https://localhost:8080/",
          "height": 394
        },
        "id": "fKd8cRR7lslY",
        "outputId": "d1c7079b-6abb-4c65-80f9-63be11a9c881"
      },
      "outputs": [
        {
          "output_type": "execute_result",
          "data": {
            "text/html": [
              "\n",
              "  <div id=\"df-4b9497f4-0177-4b02-831a-b7ca854868b9\">\n",
              "    <div class=\"colab-df-container\">\n",
              "      <div>\n",
              "<style scoped>\n",
              "    .dataframe tbody tr th:only-of-type {\n",
              "        vertical-align: middle;\n",
              "    }\n",
              "\n",
              "    .dataframe tbody tr th {\n",
              "        vertical-align: top;\n",
              "    }\n",
              "\n",
              "    .dataframe thead th {\n",
              "        text-align: right;\n",
              "    }\n",
              "</style>\n",
              "<table border=\"1\" class=\"dataframe\">\n",
              "  <thead>\n",
              "    <tr style=\"text-align: right;\">\n",
              "      <th></th>\n",
              "      <th>fi</th>\n",
              "      <th>feature</th>\n",
              "    </tr>\n",
              "  </thead>\n",
              "  <tbody>\n",
              "    <tr>\n",
              "      <th>1</th>\n",
              "      <td>18.021153</td>\n",
              "      <td>(a, g, e)</td>\n",
              "    </tr>\n",
              "    <tr>\n",
              "      <th>7</th>\n",
              "      <td>14.796366</td>\n",
              "      <td>(e, s, t, i, m, a, t, e, d, _, s, a, l, a, r, y)</td>\n",
              "    </tr>\n",
              "    <tr>\n",
              "      <th>3</th>\n",
              "      <td>14.686112</td>\n",
              "      <td>(b, a, l, a, n, c, e)</td>\n",
              "    </tr>\n",
              "    <tr>\n",
              "      <th>0</th>\n",
              "      <td>14.597690</td>\n",
              "      <td>(c, r, e, d, i, t, _, s, c, o, r, e)</td>\n",
              "    </tr>\n",
              "    <tr>\n",
              "      <th>4</th>\n",
              "      <td>13.918629</td>\n",
              "      <td>(n, u, m, _, o, f, _, p, r, o, d, u, c, t, s)</td>\n",
              "    </tr>\n",
              "    <tr>\n",
              "      <th>2</th>\n",
              "      <td>7.371735</td>\n",
              "      <td>(t, e, n, u, r, e)</td>\n",
              "    </tr>\n",
              "    <tr>\n",
              "      <th>6</th>\n",
              "      <td>5.497574</td>\n",
              "      <td>(i, s, _, a, c, t, i, v, e, _, m, e, m, b, e, r)</td>\n",
              "    </tr>\n",
              "    <tr>\n",
              "      <th>8</th>\n",
              "      <td>4.562742</td>\n",
              "      <td>(g, e, o, g, r, a, p, h, y, _, G, e, r, m, a, ...</td>\n",
              "    </tr>\n",
              "    <tr>\n",
              "      <th>10</th>\n",
              "      <td>2.940738</td>\n",
              "      <td>(g, e, n, d, e, r, _, M, a, l, e)</td>\n",
              "    </tr>\n",
              "    <tr>\n",
              "      <th>9</th>\n",
              "      <td>1.904336</td>\n",
              "      <td>(g, e, o, g, r, a, p, h, y, _, S, p, a, i, n)</td>\n",
              "    </tr>\n",
              "    <tr>\n",
              "      <th>5</th>\n",
              "      <td>1.702925</td>\n",
              "      <td>(h, a, s, _, c, r, _, c, a, r, d)</td>\n",
              "    </tr>\n",
              "  </tbody>\n",
              "</table>\n",
              "</div>\n",
              "      <button class=\"colab-df-convert\" onclick=\"convertToInteractive('df-4b9497f4-0177-4b02-831a-b7ca854868b9')\"\n",
              "              title=\"Convert this dataframe to an interactive table.\"\n",
              "              style=\"display:none;\">\n",
              "        \n",
              "  <svg xmlns=\"http://www.w3.org/2000/svg\" height=\"24px\"viewBox=\"0 0 24 24\"\n",
              "       width=\"24px\">\n",
              "    <path d=\"M0 0h24v24H0V0z\" fill=\"none\"/>\n",
              "    <path d=\"M18.56 5.44l.94 2.06.94-2.06 2.06-.94-2.06-.94-.94-2.06-.94 2.06-2.06.94zm-11 1L8.5 8.5l.94-2.06 2.06-.94-2.06-.94L8.5 2.5l-.94 2.06-2.06.94zm10 10l.94 2.06.94-2.06 2.06-.94-2.06-.94-.94-2.06-.94 2.06-2.06.94z\"/><path d=\"M17.41 7.96l-1.37-1.37c-.4-.4-.92-.59-1.43-.59-.52 0-1.04.2-1.43.59L10.3 9.45l-7.72 7.72c-.78.78-.78 2.05 0 2.83L4 21.41c.39.39.9.59 1.41.59.51 0 1.02-.2 1.41-.59l7.78-7.78 2.81-2.81c.8-.78.8-2.07 0-2.86zM5.41 20L4 18.59l7.72-7.72 1.47 1.35L5.41 20z\"/>\n",
              "  </svg>\n",
              "      </button>\n",
              "      \n",
              "  <style>\n",
              "    .colab-df-container {\n",
              "      display:flex;\n",
              "      flex-wrap:wrap;\n",
              "      gap: 12px;\n",
              "    }\n",
              "\n",
              "    .colab-df-convert {\n",
              "      background-color: #E8F0FE;\n",
              "      border: none;\n",
              "      border-radius: 50%;\n",
              "      cursor: pointer;\n",
              "      display: none;\n",
              "      fill: #1967D2;\n",
              "      height: 32px;\n",
              "      padding: 0 0 0 0;\n",
              "      width: 32px;\n",
              "    }\n",
              "\n",
              "    .colab-df-convert:hover {\n",
              "      background-color: #E2EBFA;\n",
              "      box-shadow: 0px 1px 2px rgba(60, 64, 67, 0.3), 0px 1px 3px 1px rgba(60, 64, 67, 0.15);\n",
              "      fill: #174EA6;\n",
              "    }\n",
              "\n",
              "    [theme=dark] .colab-df-convert {\n",
              "      background-color: #3B4455;\n",
              "      fill: #D2E3FC;\n",
              "    }\n",
              "\n",
              "    [theme=dark] .colab-df-convert:hover {\n",
              "      background-color: #434B5C;\n",
              "      box-shadow: 0px 1px 3px 1px rgba(0, 0, 0, 0.15);\n",
              "      filter: drop-shadow(0px 1px 2px rgba(0, 0, 0, 0.3));\n",
              "      fill: #FFFFFF;\n",
              "    }\n",
              "  </style>\n",
              "\n",
              "      <script>\n",
              "        const buttonEl =\n",
              "          document.querySelector('#df-4b9497f4-0177-4b02-831a-b7ca854868b9 button.colab-df-convert');\n",
              "        buttonEl.style.display =\n",
              "          google.colab.kernel.accessAllowed ? 'block' : 'none';\n",
              "\n",
              "        async function convertToInteractive(key) {\n",
              "          const element = document.querySelector('#df-4b9497f4-0177-4b02-831a-b7ca854868b9');\n",
              "          const dataTable =\n",
              "            await google.colab.kernel.invokeFunction('convertToInteractive',\n",
              "                                                     [key], {});\n",
              "          if (!dataTable) return;\n",
              "\n",
              "          const docLinkHtml = 'Like what you see? Visit the ' +\n",
              "            '<a target=\"_blank\" href=https://colab.research.google.com/notebooks/data_table.ipynb>data table notebook</a>'\n",
              "            + ' to learn more about interactive tables.';\n",
              "          element.innerHTML = '';\n",
              "          dataTable['output_type'] = 'display_data';\n",
              "          await google.colab.output.renderOutput(dataTable, element);\n",
              "          const docLink = document.createElement('div');\n",
              "          docLink.innerHTML = docLinkHtml;\n",
              "          element.appendChild(docLink);\n",
              "        }\n",
              "      </script>\n",
              "    </div>\n",
              "  </div>\n",
              "  "
            ],
            "text/plain": [
              "           fi                                            feature\n",
              "1   18.021153                                          (a, g, e)\n",
              "7   14.796366   (e, s, t, i, m, a, t, e, d, _, s, a, l, a, r, y)\n",
              "3   14.686112                              (b, a, l, a, n, c, e)\n",
              "0   14.597690               (c, r, e, d, i, t, _, s, c, o, r, e)\n",
              "4   13.918629      (n, u, m, _, o, f, _, p, r, o, d, u, c, t, s)\n",
              "2    7.371735                                 (t, e, n, u, r, e)\n",
              "6    5.497574   (i, s, _, a, c, t, i, v, e, _, m, e, m, b, e, r)\n",
              "8    4.562742  (g, e, o, g, r, a, p, h, y, _, G, e, r, m, a, ...\n",
              "10   2.940738                  (g, e, n, d, e, r, _, M, a, l, e)\n",
              "9    1.904336      (g, e, o, g, r, a, p, h, y, _, S, p, a, i, n)\n",
              "5    1.702925                  (h, a, s, _, c, r, _, c, a, r, d)"
            ]
          },
          "metadata": {},
          "execution_count": 71
        }
      ],
      "source": [
        "pd.DataFrame({'fi':model.feature_importances_,\n",
        "              'feature': features}).sort_values('fi',ascending=False)"
      ]
    },
    {
      "cell_type": "markdown",
      "metadata": {
        "id": "8dHxMy7FlslZ"
      },
      "source": [
        "**Вывод**\n",
        "\n",
        "Был проведен исследования данных в результате которого методом OHE категориальные признаки были закодированы. Также колличественные признаки были стандартизированы. \n",
        "\n",
        "Был проведен анализ дисбаланса в результате которого выяснили, что лучшие качества метрики наблюдаеются у таблицы с уменьшением частого класса.\n",
        "\n",
        "В ходе тестирования модели я ориентировался на `полноту`, так как нам больше всего важно не упустить клиента.\n",
        "Лучше всего показала себя модель `Случайного леса`(`recall = 70.3`)\n",
        "\n",
        "Для изменения порога я использовал `Catboost`, так как площадь AUC-ROC наибольшая. При изменении порога на `0.18` полната составила `80.8%`"
      ]
    }
  ],
  "metadata": {
    "ExecuteTimeLog": [
      {
        "duration": 679,
        "start_time": "2022-01-13T13:02:28.200Z"
      },
      {
        "duration": 9,
        "start_time": "2022-01-13T13:02:37.963Z"
      },
      {
        "duration": 21,
        "start_time": "2022-01-13T13:03:08.840Z"
      },
      {
        "duration": 363,
        "start_time": "2022-01-13T13:06:48.274Z"
      },
      {
        "duration": 271,
        "start_time": "2022-01-13T13:06:54.281Z"
      },
      {
        "duration": 281,
        "start_time": "2022-01-13T13:06:57.801Z"
      },
      {
        "duration": 15,
        "start_time": "2022-01-13T13:07:16.799Z"
      },
      {
        "duration": 15,
        "start_time": "2022-01-13T13:07:48.490Z"
      },
      {
        "duration": 13,
        "start_time": "2022-01-13T13:07:56.951Z"
      },
      {
        "duration": 6572,
        "start_time": "2022-01-13T13:09:34.248Z"
      },
      {
        "duration": 5,
        "start_time": "2022-01-13T13:10:10.680Z"
      },
      {
        "duration": 4,
        "start_time": "2022-01-13T13:10:31.748Z"
      },
      {
        "duration": 4,
        "start_time": "2022-01-13T13:11:11.250Z"
      },
      {
        "duration": 13,
        "start_time": "2022-01-13T13:11:16.361Z"
      },
      {
        "duration": 4,
        "start_time": "2022-01-13T13:11:52.191Z"
      },
      {
        "duration": 13,
        "start_time": "2022-01-13T13:11:56.114Z"
      },
      {
        "duration": 9,
        "start_time": "2022-01-13T13:13:19.131Z"
      },
      {
        "duration": 6,
        "start_time": "2022-01-13T13:14:23.763Z"
      },
      {
        "duration": 23,
        "start_time": "2022-01-13T13:15:11.307Z"
      },
      {
        "duration": 14,
        "start_time": "2022-01-13T13:16:22.992Z"
      },
      {
        "duration": 266,
        "start_time": "2022-01-13T13:16:40.889Z"
      },
      {
        "duration": 8,
        "start_time": "2022-01-13T13:16:53.714Z"
      },
      {
        "duration": 22,
        "start_time": "2022-01-13T13:19:15.828Z"
      },
      {
        "duration": 283,
        "start_time": "2022-01-13T13:20:26.721Z"
      },
      {
        "duration": 270,
        "start_time": "2022-01-13T13:21:58.914Z"
      },
      {
        "duration": 85,
        "start_time": "2022-01-13T13:22:22.845Z"
      },
      {
        "duration": 7,
        "start_time": "2022-01-13T13:22:29.930Z"
      },
      {
        "duration": 8,
        "start_time": "2022-01-13T13:24:41.471Z"
      },
      {
        "duration": 6,
        "start_time": "2022-01-13T13:24:52.952Z"
      },
      {
        "duration": 8,
        "start_time": "2022-01-13T13:25:02.692Z"
      },
      {
        "duration": 8,
        "start_time": "2022-01-13T13:26:10.269Z"
      },
      {
        "duration": 225,
        "start_time": "2022-01-13T13:35:25.512Z"
      },
      {
        "duration": 28,
        "start_time": "2022-01-13T13:35:30.611Z"
      },
      {
        "duration": 4,
        "start_time": "2022-01-13T13:38:15.312Z"
      },
      {
        "duration": 28,
        "start_time": "2022-01-13T13:38:33.399Z"
      },
      {
        "duration": 9,
        "start_time": "2022-01-13T13:38:33.429Z"
      },
      {
        "duration": 23,
        "start_time": "2022-01-13T13:38:33.440Z"
      },
      {
        "duration": 8,
        "start_time": "2022-01-13T13:38:33.465Z"
      },
      {
        "duration": 10,
        "start_time": "2022-01-13T13:38:33.475Z"
      },
      {
        "duration": 13,
        "start_time": "2022-01-13T13:38:33.486Z"
      },
      {
        "duration": 7,
        "start_time": "2022-01-13T13:38:33.715Z"
      },
      {
        "duration": 9,
        "start_time": "2022-01-13T13:38:33.724Z"
      },
      {
        "duration": 4,
        "start_time": "2022-01-13T13:38:36.833Z"
      },
      {
        "duration": 14,
        "start_time": "2022-01-13T13:38:37.524Z"
      },
      {
        "duration": 20,
        "start_time": "2022-01-13T13:38:38.471Z"
      },
      {
        "duration": 8,
        "start_time": "2022-01-13T13:39:04.714Z"
      },
      {
        "duration": 5,
        "start_time": "2022-01-13T13:39:59.724Z"
      },
      {
        "duration": 23,
        "start_time": "2022-01-13T13:40:04.388Z"
      },
      {
        "duration": 8,
        "start_time": "2022-01-13T13:40:31.330Z"
      },
      {
        "duration": 21,
        "start_time": "2022-01-13T13:40:33.370Z"
      },
      {
        "duration": 5,
        "start_time": "2022-01-13T13:43:23.111Z"
      },
      {
        "duration": 22,
        "start_time": "2022-01-13T13:44:34.601Z"
      },
      {
        "duration": 5,
        "start_time": "2022-01-13T13:48:48.936Z"
      },
      {
        "duration": 6,
        "start_time": "2022-01-13T13:48:59.234Z"
      },
      {
        "duration": 4,
        "start_time": "2022-01-13T13:49:14.119Z"
      },
      {
        "duration": 6,
        "start_time": "2022-01-13T13:49:18.787Z"
      },
      {
        "duration": 27,
        "start_time": "2022-01-13T13:49:35.152Z"
      },
      {
        "duration": 9,
        "start_time": "2022-01-13T13:49:35.182Z"
      },
      {
        "duration": 14,
        "start_time": "2022-01-13T13:49:35.194Z"
      },
      {
        "duration": 10,
        "start_time": "2022-01-13T13:49:35.210Z"
      },
      {
        "duration": 7,
        "start_time": "2022-01-13T13:49:35.222Z"
      },
      {
        "duration": 19,
        "start_time": "2022-01-13T13:49:35.231Z"
      },
      {
        "duration": 32,
        "start_time": "2022-01-13T13:49:35.251Z"
      },
      {
        "duration": 19,
        "start_time": "2022-01-13T13:49:35.286Z"
      },
      {
        "duration": 8,
        "start_time": "2022-01-13T13:49:39.272Z"
      },
      {
        "duration": 4,
        "start_time": "2022-01-13T13:49:40.600Z"
      },
      {
        "duration": 5,
        "start_time": "2022-01-13T13:49:44.434Z"
      },
      {
        "duration": 16,
        "start_time": "2022-01-13T13:49:45.053Z"
      },
      {
        "duration": 7,
        "start_time": "2022-01-13T13:49:46.117Z"
      },
      {
        "duration": 463,
        "start_time": "2022-01-13T13:49:47.562Z"
      },
      {
        "duration": 6721,
        "start_time": "2022-01-13T13:49:48.267Z"
      },
      {
        "duration": 23,
        "start_time": "2022-01-13T13:50:25.409Z"
      },
      {
        "duration": 6647,
        "start_time": "2022-01-13T13:51:22.937Z"
      },
      {
        "duration": 6573,
        "start_time": "2022-01-13T13:52:40.415Z"
      },
      {
        "duration": 31,
        "start_time": "2022-01-13T13:55:24.073Z"
      },
      {
        "duration": 20,
        "start_time": "2022-01-13T13:55:40.113Z"
      },
      {
        "duration": 15,
        "start_time": "2022-01-13T13:55:52.450Z"
      },
      {
        "duration": 22,
        "start_time": "2022-01-13T13:56:17.571Z"
      },
      {
        "duration": 28,
        "start_time": "2022-01-13T13:57:10.395Z"
      },
      {
        "duration": 18,
        "start_time": "2022-01-13T13:57:34.507Z"
      },
      {
        "duration": 492,
        "start_time": "2022-01-13T14:08:12.235Z"
      },
      {
        "duration": 20,
        "start_time": "2022-01-13T14:08:40.007Z"
      },
      {
        "duration": 19,
        "start_time": "2022-01-13T14:09:00.014Z"
      },
      {
        "duration": 7,
        "start_time": "2022-01-13T14:09:46.728Z"
      },
      {
        "duration": 28,
        "start_time": "2022-01-13T14:10:22.510Z"
      },
      {
        "duration": 8,
        "start_time": "2022-01-13T14:10:22.540Z"
      },
      {
        "duration": 24,
        "start_time": "2022-01-13T14:10:22.551Z"
      },
      {
        "duration": 9,
        "start_time": "2022-01-13T14:10:22.577Z"
      },
      {
        "duration": 12,
        "start_time": "2022-01-13T14:10:22.588Z"
      },
      {
        "duration": 23,
        "start_time": "2022-01-13T14:10:22.602Z"
      },
      {
        "duration": 9,
        "start_time": "2022-01-13T14:10:22.627Z"
      },
      {
        "duration": 20,
        "start_time": "2022-01-13T14:10:22.639Z"
      },
      {
        "duration": 17,
        "start_time": "2022-01-13T14:10:22.661Z"
      },
      {
        "duration": 12,
        "start_time": "2022-01-13T14:10:22.679Z"
      },
      {
        "duration": 23,
        "start_time": "2022-01-13T14:10:22.693Z"
      },
      {
        "duration": 32,
        "start_time": "2022-01-13T14:10:22.723Z"
      },
      {
        "duration": 8,
        "start_time": "2022-01-13T14:10:22.757Z"
      },
      {
        "duration": 48,
        "start_time": "2022-01-13T14:10:22.767Z"
      },
      {
        "duration": 17,
        "start_time": "2022-01-13T14:10:26.634Z"
      },
      {
        "duration": 7,
        "start_time": "2022-01-13T14:10:26.653Z"
      },
      {
        "duration": 30,
        "start_time": "2022-01-13T14:10:37.067Z"
      },
      {
        "duration": 10,
        "start_time": "2022-01-13T14:10:37.099Z"
      },
      {
        "duration": 47,
        "start_time": "2022-01-13T14:10:37.111Z"
      },
      {
        "duration": 17,
        "start_time": "2022-01-13T14:10:37.161Z"
      },
      {
        "duration": 14,
        "start_time": "2022-01-13T14:10:37.180Z"
      },
      {
        "duration": 32,
        "start_time": "2022-01-13T14:10:37.196Z"
      },
      {
        "duration": 30,
        "start_time": "2022-01-13T14:10:37.229Z"
      },
      {
        "duration": 21,
        "start_time": "2022-01-13T14:10:37.262Z"
      },
      {
        "duration": 25,
        "start_time": "2022-01-13T14:10:37.286Z"
      },
      {
        "duration": 19,
        "start_time": "2022-01-13T14:10:37.314Z"
      },
      {
        "duration": 18,
        "start_time": "2022-01-13T14:10:37.335Z"
      },
      {
        "duration": 31,
        "start_time": "2022-01-13T14:10:37.355Z"
      },
      {
        "duration": 3,
        "start_time": "2022-01-13T14:10:37.388Z"
      },
      {
        "duration": 30,
        "start_time": "2022-01-13T14:10:37.393Z"
      },
      {
        "duration": 14,
        "start_time": "2022-01-13T14:10:40.194Z"
      },
      {
        "duration": 6,
        "start_time": "2022-01-13T14:10:40.652Z"
      },
      {
        "duration": 13,
        "start_time": "2022-01-13T14:13:00.416Z"
      },
      {
        "duration": 6,
        "start_time": "2022-01-13T14:13:37.446Z"
      },
      {
        "duration": 27,
        "start_time": "2022-01-13T14:13:49.447Z"
      },
      {
        "duration": 11,
        "start_time": "2022-01-13T14:13:49.476Z"
      },
      {
        "duration": 12,
        "start_time": "2022-01-13T14:13:49.490Z"
      },
      {
        "duration": 4,
        "start_time": "2022-01-13T14:13:49.504Z"
      },
      {
        "duration": 10,
        "start_time": "2022-01-13T14:13:49.510Z"
      },
      {
        "duration": 13,
        "start_time": "2022-01-13T14:13:49.522Z"
      },
      {
        "duration": 6,
        "start_time": "2022-01-13T14:13:49.537Z"
      },
      {
        "duration": 11,
        "start_time": "2022-01-13T14:13:49.545Z"
      },
      {
        "duration": 3,
        "start_time": "2022-01-13T14:13:49.558Z"
      },
      {
        "duration": 6,
        "start_time": "2022-01-13T14:13:49.563Z"
      },
      {
        "duration": 38,
        "start_time": "2022-01-13T14:13:49.570Z"
      },
      {
        "duration": 24,
        "start_time": "2022-01-13T14:13:49.610Z"
      },
      {
        "duration": 2,
        "start_time": "2022-01-13T14:13:49.636Z"
      },
      {
        "duration": 32,
        "start_time": "2022-01-13T14:13:49.640Z"
      },
      {
        "duration": 37,
        "start_time": "2022-01-13T14:13:49.674Z"
      },
      {
        "duration": 6,
        "start_time": "2022-01-13T14:13:49.712Z"
      },
      {
        "duration": 7,
        "start_time": "2022-01-13T14:13:51.652Z"
      },
      {
        "duration": 14,
        "start_time": "2022-01-13T14:13:52.155Z"
      },
      {
        "duration": 7,
        "start_time": "2022-01-13T14:13:52.634Z"
      },
      {
        "duration": 27,
        "start_time": "2022-01-13T14:14:01.152Z"
      },
      {
        "duration": 9,
        "start_time": "2022-01-13T14:14:01.181Z"
      },
      {
        "duration": 18,
        "start_time": "2022-01-13T14:14:01.192Z"
      },
      {
        "duration": 9,
        "start_time": "2022-01-13T14:14:01.212Z"
      },
      {
        "duration": 11,
        "start_time": "2022-01-13T14:14:01.223Z"
      },
      {
        "duration": 13,
        "start_time": "2022-01-13T14:14:01.236Z"
      },
      {
        "duration": 10,
        "start_time": "2022-01-13T14:14:01.251Z"
      },
      {
        "duration": 11,
        "start_time": "2022-01-13T14:14:01.263Z"
      },
      {
        "duration": 9,
        "start_time": "2022-01-13T14:14:01.276Z"
      },
      {
        "duration": 15,
        "start_time": "2022-01-13T14:14:01.287Z"
      },
      {
        "duration": 20,
        "start_time": "2022-01-13T14:14:01.304Z"
      },
      {
        "duration": 23,
        "start_time": "2022-01-13T14:14:01.326Z"
      },
      {
        "duration": 2,
        "start_time": "2022-01-13T14:14:01.351Z"
      },
      {
        "duration": 50,
        "start_time": "2022-01-13T14:14:01.355Z"
      },
      {
        "duration": 15,
        "start_time": "2022-01-13T14:14:01.407Z"
      },
      {
        "duration": 7,
        "start_time": "2022-01-13T14:14:01.423Z"
      },
      {
        "duration": 7,
        "start_time": "2022-01-13T14:14:02.757Z"
      },
      {
        "duration": 14,
        "start_time": "2022-01-13T14:14:03.235Z"
      },
      {
        "duration": 7,
        "start_time": "2022-01-13T14:14:03.994Z"
      },
      {
        "duration": 16,
        "start_time": "2022-01-13T14:16:17.401Z"
      },
      {
        "duration": 315,
        "start_time": "2022-01-13T14:16:18.680Z"
      },
      {
        "duration": 3,
        "start_time": "2022-01-13T14:16:39.533Z"
      },
      {
        "duration": 19,
        "start_time": "2022-01-13T14:16:39.932Z"
      },
      {
        "duration": 38,
        "start_time": "2022-01-13T14:17:23.515Z"
      },
      {
        "duration": 18,
        "start_time": "2022-01-13T14:17:30.313Z"
      },
      {
        "duration": 317,
        "start_time": "2022-01-13T14:20:45.474Z"
      },
      {
        "duration": 3,
        "start_time": "2022-01-13T14:20:49.797Z"
      },
      {
        "duration": 18,
        "start_time": "2022-01-13T14:20:50.318Z"
      },
      {
        "duration": 9,
        "start_time": "2022-01-13T14:20:51.314Z"
      },
      {
        "duration": 42,
        "start_time": "2022-01-13T14:20:53.156Z"
      },
      {
        "duration": 14,
        "start_time": "2022-01-13T14:20:55.171Z"
      },
      {
        "duration": 3,
        "start_time": "2022-01-13T14:22:42.594Z"
      },
      {
        "duration": 283,
        "start_time": "2022-01-13T14:22:45.280Z"
      },
      {
        "duration": 83,
        "start_time": "2022-01-13T14:23:02.438Z"
      },
      {
        "duration": 55,
        "start_time": "2022-01-13T14:23:03.043Z"
      },
      {
        "duration": 10,
        "start_time": "2022-01-13T14:23:03.515Z"
      },
      {
        "duration": 197,
        "start_time": "2022-01-13T14:23:04.291Z"
      },
      {
        "duration": 37,
        "start_time": "2022-01-13T14:23:34.881Z"
      },
      {
        "duration": 9,
        "start_time": "2022-01-13T14:23:35.362Z"
      },
      {
        "duration": 190,
        "start_time": "2022-01-13T14:23:36.034Z"
      },
      {
        "duration": 289,
        "start_time": "2022-01-13T14:31:27.633Z"
      },
      {
        "duration": 273,
        "start_time": "2022-01-13T14:32:14.400Z"
      },
      {
        "duration": 5,
        "start_time": "2022-01-13T14:32:33.391Z"
      },
      {
        "duration": 7,
        "start_time": "2022-01-13T14:32:40.874Z"
      },
      {
        "duration": 269,
        "start_time": "2022-01-13T14:34:25.692Z"
      },
      {
        "duration": 5,
        "start_time": "2022-01-13T14:34:59.393Z"
      },
      {
        "duration": 6,
        "start_time": "2022-01-13T14:35:19.193Z"
      },
      {
        "duration": 287,
        "start_time": "2022-01-13T14:36:36.676Z"
      },
      {
        "duration": 3,
        "start_time": "2022-01-13T14:36:43.322Z"
      },
      {
        "duration": 7,
        "start_time": "2022-01-13T14:36:47.754Z"
      },
      {
        "duration": 27,
        "start_time": "2022-01-13T14:39:59.361Z"
      },
      {
        "duration": 8,
        "start_time": "2022-01-13T14:40:05.438Z"
      },
      {
        "duration": 29,
        "start_time": "2022-01-13T14:42:17.526Z"
      },
      {
        "duration": 11,
        "start_time": "2022-01-13T14:42:17.557Z"
      },
      {
        "duration": 14,
        "start_time": "2022-01-13T14:42:17.571Z"
      },
      {
        "duration": 3,
        "start_time": "2022-01-13T14:42:17.909Z"
      },
      {
        "duration": 13,
        "start_time": "2022-01-13T14:42:17.914Z"
      },
      {
        "duration": 9,
        "start_time": "2022-01-13T14:42:17.960Z"
      },
      {
        "duration": 12,
        "start_time": "2022-01-13T14:42:17.971Z"
      },
      {
        "duration": 23,
        "start_time": "2022-01-13T14:42:17.985Z"
      },
      {
        "duration": 3,
        "start_time": "2022-01-13T14:42:18.536Z"
      },
      {
        "duration": 11,
        "start_time": "2022-01-13T14:42:18.541Z"
      },
      {
        "duration": 19,
        "start_time": "2022-01-13T14:42:18.554Z"
      },
      {
        "duration": 28,
        "start_time": "2022-01-13T14:42:18.575Z"
      },
      {
        "duration": 3,
        "start_time": "2022-01-13T14:42:18.604Z"
      },
      {
        "duration": 34,
        "start_time": "2022-01-13T14:42:18.609Z"
      },
      {
        "duration": 17,
        "start_time": "2022-01-13T14:42:18.645Z"
      },
      {
        "duration": 35,
        "start_time": "2022-01-13T14:42:18.664Z"
      },
      {
        "duration": 15,
        "start_time": "2022-01-13T14:42:18.955Z"
      },
      {
        "duration": 8,
        "start_time": "2022-01-13T14:42:18.973Z"
      },
      {
        "duration": 9,
        "start_time": "2022-01-13T14:42:18.983Z"
      },
      {
        "duration": 34,
        "start_time": "2022-01-13T14:42:18.994Z"
      },
      {
        "duration": 75,
        "start_time": "2022-01-13T14:42:19.031Z"
      },
      {
        "duration": 32,
        "start_time": "2022-01-13T14:42:21.367Z"
      },
      {
        "duration": 274,
        "start_time": "2022-01-13T14:42:22.293Z"
      },
      {
        "duration": 3,
        "start_time": "2022-01-13T14:42:44.163Z"
      },
      {
        "duration": 319,
        "start_time": "2022-01-13T14:42:46.166Z"
      },
      {
        "duration": 4,
        "start_time": "2022-01-13T14:43:27.604Z"
      },
      {
        "duration": 313,
        "start_time": "2022-01-13T14:43:31.278Z"
      },
      {
        "duration": 4,
        "start_time": "2022-01-13T14:43:51.357Z"
      },
      {
        "duration": 52,
        "start_time": "2022-01-13T14:43:53.346Z"
      },
      {
        "duration": 13,
        "start_time": "2022-01-13T14:43:54.278Z"
      },
      {
        "duration": 61,
        "start_time": "2022-01-13T14:43:55.045Z"
      },
      {
        "duration": 117,
        "start_time": "2022-01-13T14:44:08.323Z"
      },
      {
        "duration": 69,
        "start_time": "2022-01-13T14:44:33.971Z"
      },
      {
        "duration": 493,
        "start_time": "2022-01-13T14:46:53.234Z"
      },
      {
        "duration": 4,
        "start_time": "2022-01-13T14:46:59.667Z"
      },
      {
        "duration": 381,
        "start_time": "2022-01-13T14:47:01.924Z"
      },
      {
        "duration": 270,
        "start_time": "2022-01-13T14:48:58.613Z"
      },
      {
        "duration": 18,
        "start_time": "2022-01-13T15:03:56.035Z"
      },
      {
        "duration": 19,
        "start_time": "2022-01-13T15:09:23.022Z"
      },
      {
        "duration": 210,
        "start_time": "2022-01-13T15:09:41.710Z"
      },
      {
        "duration": 275,
        "start_time": "2022-01-13T15:10:23.784Z"
      },
      {
        "duration": 213,
        "start_time": "2022-01-13T15:10:32.398Z"
      },
      {
        "duration": 276,
        "start_time": "2022-01-13T15:10:50.383Z"
      },
      {
        "duration": 98,
        "start_time": "2022-01-13T15:11:39.625Z"
      },
      {
        "duration": 283,
        "start_time": "2022-01-13T15:11:47.492Z"
      },
      {
        "duration": 6,
        "start_time": "2022-01-13T15:13:43.081Z"
      },
      {
        "duration": 10,
        "start_time": "2022-01-13T15:16:17.055Z"
      },
      {
        "duration": 9489,
        "start_time": "2022-01-13T15:16:38.919Z"
      },
      {
        "duration": 13235,
        "start_time": "2022-01-13T15:17:27.055Z"
      },
      {
        "duration": 6,
        "start_time": "2022-01-13T15:17:49.518Z"
      },
      {
        "duration": 15,
        "start_time": "2022-01-13T15:18:58.005Z"
      },
      {
        "duration": 8,
        "start_time": "2022-01-13T15:20:09.057Z"
      },
      {
        "duration": 9,
        "start_time": "2022-01-13T15:20:23.040Z"
      },
      {
        "duration": 276,
        "start_time": "2022-01-13T15:20:33.535Z"
      },
      {
        "duration": 7,
        "start_time": "2022-01-13T15:20:34.722Z"
      },
      {
        "duration": 8,
        "start_time": "2022-01-13T15:20:36.395Z"
      },
      {
        "duration": 8,
        "start_time": "2022-01-13T15:23:21.326Z"
      },
      {
        "duration": 7,
        "start_time": "2022-01-13T15:23:23.083Z"
      },
      {
        "duration": 26,
        "start_time": "2022-01-13T15:23:44.338Z"
      },
      {
        "duration": 331,
        "start_time": "2022-01-13T15:25:25.556Z"
      },
      {
        "duration": 27,
        "start_time": "2022-01-13T15:25:39.174Z"
      },
      {
        "duration": 25,
        "start_time": "2022-01-13T15:25:53.126Z"
      },
      {
        "duration": 89,
        "start_time": "2022-01-13T15:37:38.711Z"
      },
      {
        "duration": 94,
        "start_time": "2022-01-13T15:39:48.713Z"
      },
      {
        "duration": 57,
        "start_time": "2022-01-13T15:40:06.244Z"
      },
      {
        "duration": 40,
        "start_time": "2022-01-13T15:40:54.297Z"
      },
      {
        "duration": 27,
        "start_time": "2022-01-13T15:41:02.735Z"
      },
      {
        "duration": 9,
        "start_time": "2022-01-13T15:41:02.764Z"
      },
      {
        "duration": 13,
        "start_time": "2022-01-13T15:41:02.775Z"
      },
      {
        "duration": 5,
        "start_time": "2022-01-13T15:41:02.790Z"
      },
      {
        "duration": 6,
        "start_time": "2022-01-13T15:41:02.797Z"
      },
      {
        "duration": 10,
        "start_time": "2022-01-13T15:41:02.804Z"
      },
      {
        "duration": 6,
        "start_time": "2022-01-13T15:41:02.816Z"
      },
      {
        "duration": 8,
        "start_time": "2022-01-13T15:41:02.825Z"
      },
      {
        "duration": 3,
        "start_time": "2022-01-13T15:41:02.835Z"
      },
      {
        "duration": 7,
        "start_time": "2022-01-13T15:41:02.840Z"
      },
      {
        "duration": 17,
        "start_time": "2022-01-13T15:41:02.849Z"
      },
      {
        "duration": 49,
        "start_time": "2022-01-13T15:41:02.868Z"
      },
      {
        "duration": 2,
        "start_time": "2022-01-13T15:41:02.919Z"
      },
      {
        "duration": 33,
        "start_time": "2022-01-13T15:41:02.923Z"
      },
      {
        "duration": 41,
        "start_time": "2022-01-13T15:41:02.958Z"
      },
      {
        "duration": 6,
        "start_time": "2022-01-13T15:41:03.001Z"
      },
      {
        "duration": 15,
        "start_time": "2022-01-13T15:41:03.010Z"
      },
      {
        "duration": 8,
        "start_time": "2022-01-13T15:41:03.027Z"
      },
      {
        "duration": 4,
        "start_time": "2022-01-13T15:41:03.117Z"
      },
      {
        "duration": 78,
        "start_time": "2022-01-13T15:41:03.124Z"
      },
      {
        "duration": 101,
        "start_time": "2022-01-13T15:41:03.205Z"
      },
      {
        "duration": 474,
        "start_time": "2022-01-13T15:41:03.308Z"
      },
      {
        "duration": 197,
        "start_time": "2022-01-13T15:41:03.784Z"
      },
      {
        "duration": 52,
        "start_time": "2022-01-13T15:41:08.647Z"
      },
      {
        "duration": 38,
        "start_time": "2022-01-13T15:41:27.086Z"
      },
      {
        "duration": 676,
        "start_time": "2022-01-13T15:41:40.840Z"
      },
      {
        "duration": 42,
        "start_time": "2022-01-13T15:41:52.880Z"
      },
      {
        "duration": 8,
        "start_time": "2022-01-13T15:41:57.642Z"
      },
      {
        "duration": 102,
        "start_time": "2022-01-13T15:42:03.098Z"
      },
      {
        "duration": 79,
        "start_time": "2022-01-13T15:42:11.921Z"
      },
      {
        "duration": 102,
        "start_time": "2022-01-13T15:42:21.398Z"
      },
      {
        "duration": 64,
        "start_time": "2022-01-13T15:42:33.236Z"
      },
      {
        "duration": 37,
        "start_time": "2022-01-13T15:42:43.966Z"
      },
      {
        "duration": 38,
        "start_time": "2022-01-13T15:42:48.957Z"
      },
      {
        "duration": 40,
        "start_time": "2022-01-13T15:42:52.758Z"
      },
      {
        "duration": 19,
        "start_time": "2022-01-13T15:43:53.778Z"
      },
      {
        "duration": 19,
        "start_time": "2022-01-13T15:47:52.767Z"
      },
      {
        "duration": 20,
        "start_time": "2022-01-13T15:48:10.738Z"
      },
      {
        "duration": 27,
        "start_time": "2022-01-13T15:49:03.197Z"
      },
      {
        "duration": 8,
        "start_time": "2022-01-13T15:49:10.195Z"
      },
      {
        "duration": 8,
        "start_time": "2022-01-13T15:49:36.446Z"
      },
      {
        "duration": 26,
        "start_time": "2022-01-13T15:49:45.055Z"
      },
      {
        "duration": 7,
        "start_time": "2022-01-13T15:49:45.801Z"
      },
      {
        "duration": 9,
        "start_time": "2022-01-13T15:49:46.751Z"
      },
      {
        "duration": 272,
        "start_time": "2022-01-13T15:50:06.760Z"
      },
      {
        "duration": 25,
        "start_time": "2022-01-13T15:51:00.861Z"
      },
      {
        "duration": 7,
        "start_time": "2022-01-13T15:51:03.955Z"
      },
      {
        "duration": 9,
        "start_time": "2022-01-13T15:51:09.958Z"
      },
      {
        "duration": 181,
        "start_time": "2022-01-13T15:51:11.552Z"
      },
      {
        "duration": 25,
        "start_time": "2022-01-13T15:53:38.419Z"
      },
      {
        "duration": 9,
        "start_time": "2022-01-13T15:53:38.446Z"
      },
      {
        "duration": 12,
        "start_time": "2022-01-13T15:53:38.458Z"
      },
      {
        "duration": 7,
        "start_time": "2022-01-13T15:53:38.472Z"
      },
      {
        "duration": 7,
        "start_time": "2022-01-13T15:53:38.480Z"
      },
      {
        "duration": 10,
        "start_time": "2022-01-13T15:53:38.489Z"
      },
      {
        "duration": 6,
        "start_time": "2022-01-13T15:53:38.501Z"
      },
      {
        "duration": 9,
        "start_time": "2022-01-13T15:53:38.509Z"
      },
      {
        "duration": 9,
        "start_time": "2022-01-13T15:53:38.520Z"
      },
      {
        "duration": 7,
        "start_time": "2022-01-13T15:53:38.531Z"
      },
      {
        "duration": 19,
        "start_time": "2022-01-13T15:53:38.540Z"
      },
      {
        "duration": 44,
        "start_time": "2022-01-13T15:53:38.561Z"
      },
      {
        "duration": 2,
        "start_time": "2022-01-13T15:53:38.607Z"
      },
      {
        "duration": 29,
        "start_time": "2022-01-13T15:53:38.610Z"
      },
      {
        "duration": 14,
        "start_time": "2022-01-13T15:53:38.641Z"
      },
      {
        "duration": 6,
        "start_time": "2022-01-13T15:53:38.656Z"
      },
      {
        "duration": 45,
        "start_time": "2022-01-13T15:53:38.663Z"
      },
      {
        "duration": 6,
        "start_time": "2022-01-13T15:53:38.709Z"
      },
      {
        "duration": 3,
        "start_time": "2022-01-13T15:53:38.717Z"
      },
      {
        "duration": 86,
        "start_time": "2022-01-13T15:53:38.722Z"
      },
      {
        "duration": 99,
        "start_time": "2022-01-13T15:53:38.901Z"
      },
      {
        "duration": 473,
        "start_time": "2022-01-13T15:53:39.003Z"
      },
      {
        "duration": 186,
        "start_time": "2022-01-13T15:53:39.478Z"
      },
      {
        "duration": 42,
        "start_time": "2022-01-13T15:53:39.666Z"
      },
      {
        "duration": 189,
        "start_time": "2022-01-13T15:53:39.711Z"
      },
      {
        "duration": 255,
        "start_time": "2022-01-13T15:53:39.903Z"
      },
      {
        "duration": 5,
        "start_time": "2022-01-13T15:53:40.160Z"
      },
      {
        "duration": 8,
        "start_time": "2022-01-13T15:53:40.166Z"
      },
      {
        "duration": 26,
        "start_time": "2022-01-13T15:53:40.176Z"
      },
      {
        "duration": 24,
        "start_time": "2022-01-13T15:53:40.204Z"
      },
      {
        "duration": 98,
        "start_time": "2022-01-13T15:53:40.300Z"
      },
      {
        "duration": 8,
        "start_time": "2022-01-13T15:53:40.401Z"
      },
      {
        "duration": 11,
        "start_time": "2022-01-13T15:53:42.835Z"
      },
      {
        "duration": 175,
        "start_time": "2022-01-13T15:53:43.538Z"
      },
      {
        "duration": 10,
        "start_time": "2022-01-13T15:58:37.127Z"
      },
      {
        "duration": 11,
        "start_time": "2022-01-13T15:58:50.039Z"
      },
      {
        "duration": 172,
        "start_time": "2022-01-13T15:59:41.570Z"
      },
      {
        "duration": 178,
        "start_time": "2022-01-13T15:59:50.055Z"
      },
      {
        "duration": 9,
        "start_time": "2022-01-13T16:01:11.575Z"
      },
      {
        "duration": 6,
        "start_time": "2022-01-13T16:01:26.414Z"
      },
      {
        "duration": 6,
        "start_time": "2022-01-13T16:01:34.694Z"
      },
      {
        "duration": 99,
        "start_time": "2022-01-13T16:02:48.203Z"
      },
      {
        "duration": 7,
        "start_time": "2022-01-13T16:02:58.952Z"
      },
      {
        "duration": 8,
        "start_time": "2022-01-13T16:03:15.133Z"
      },
      {
        "duration": 31,
        "start_time": "2022-01-13T17:14:37.157Z"
      },
      {
        "duration": 10,
        "start_time": "2022-01-13T17:14:37.189Z"
      },
      {
        "duration": 13,
        "start_time": "2022-01-13T17:14:37.201Z"
      },
      {
        "duration": 3,
        "start_time": "2022-01-13T17:14:37.233Z"
      },
      {
        "duration": 6,
        "start_time": "2022-01-13T17:14:37.238Z"
      },
      {
        "duration": 9,
        "start_time": "2022-01-13T17:14:37.246Z"
      },
      {
        "duration": 7,
        "start_time": "2022-01-13T17:14:37.256Z"
      },
      {
        "duration": 8,
        "start_time": "2022-01-13T17:14:37.265Z"
      },
      {
        "duration": 3,
        "start_time": "2022-01-13T17:14:37.275Z"
      },
      {
        "duration": 5,
        "start_time": "2022-01-13T17:14:37.312Z"
      },
      {
        "duration": 15,
        "start_time": "2022-01-13T17:14:37.319Z"
      },
      {
        "duration": 21,
        "start_time": "2022-01-13T17:14:37.337Z"
      },
      {
        "duration": 3,
        "start_time": "2022-01-13T17:14:37.359Z"
      },
      {
        "duration": 47,
        "start_time": "2022-01-13T17:14:37.364Z"
      },
      {
        "duration": 15,
        "start_time": "2022-01-13T17:14:37.413Z"
      },
      {
        "duration": 6,
        "start_time": "2022-01-13T17:14:37.430Z"
      },
      {
        "duration": 12,
        "start_time": "2022-01-13T17:14:37.438Z"
      },
      {
        "duration": 6,
        "start_time": "2022-01-13T17:14:37.453Z"
      },
      {
        "duration": 4,
        "start_time": "2022-01-13T17:14:37.461Z"
      },
      {
        "duration": 19,
        "start_time": "2022-01-13T17:14:37.499Z"
      },
      {
        "duration": 177,
        "start_time": "2022-01-13T17:14:37.520Z"
      },
      {
        "duration": 454,
        "start_time": "2022-01-13T17:14:37.701Z"
      },
      {
        "duration": 184,
        "start_time": "2022-01-13T17:14:38.157Z"
      },
      {
        "duration": 60,
        "start_time": "2022-01-13T17:14:38.343Z"
      },
      {
        "duration": 95,
        "start_time": "2022-01-13T17:14:38.407Z"
      },
      {
        "duration": 8,
        "start_time": "2022-01-13T17:14:38.504Z"
      },
      {
        "duration": 11,
        "start_time": "2022-01-13T17:14:38.598Z"
      },
      {
        "duration": 360,
        "start_time": "2022-01-13T17:14:38.612Z"
      },
      {
        "duration": 6,
        "start_time": "2022-01-13T17:14:38.974Z"
      },
      {
        "duration": 21,
        "start_time": "2022-01-13T17:14:38.981Z"
      },
      {
        "duration": 6,
        "start_time": "2022-01-13T17:14:39.004Z"
      },
      {
        "duration": 87,
        "start_time": "2022-01-13T17:14:39.012Z"
      },
      {
        "duration": 98,
        "start_time": "2022-01-13T17:14:39.104Z"
      },
      {
        "duration": 6,
        "start_time": "2022-01-13T17:14:39.203Z"
      },
      {
        "duration": 5,
        "start_time": "2022-01-13T17:14:39.211Z"
      },
      {
        "duration": 8,
        "start_time": "2022-01-13T17:14:39.218Z"
      },
      {
        "duration": 269,
        "start_time": "2022-01-13T17:14:39.300Z"
      },
      {
        "duration": 2,
        "start_time": "2022-01-13T17:14:39.571Z"
      },
      {
        "duration": 263,
        "start_time": "2022-01-13T17:14:39.575Z"
      },
      {
        "duration": 260,
        "start_time": "2022-01-13T17:14:42.272Z"
      },
      {
        "duration": 7,
        "start_time": "2022-01-13T17:14:42.918Z"
      },
      {
        "duration": 238,
        "start_time": "2022-01-13T17:14:58.526Z"
      },
      {
        "duration": 6,
        "start_time": "2022-01-13T17:23:19.929Z"
      },
      {
        "duration": 12051,
        "start_time": "2022-01-13T17:23:25.398Z"
      },
      {
        "duration": 15,
        "start_time": "2022-01-13T17:23:40.728Z"
      },
      {
        "duration": 14,
        "start_time": "2022-01-13T17:23:41.880Z"
      },
      {
        "duration": 171,
        "start_time": "2022-01-13T17:23:46.844Z"
      },
      {
        "duration": 7,
        "start_time": "2022-01-13T17:23:57.929Z"
      },
      {
        "duration": 42,
        "start_time": "2022-01-13T18:19:27.956Z"
      },
      {
        "duration": 5,
        "start_time": "2022-01-13T18:20:12.190Z"
      },
      {
        "duration": 71006,
        "start_time": "2022-01-13T18:22:35.397Z"
      },
      {
        "duration": 15,
        "start_time": "2022-01-13T18:37:12.323Z"
      },
      {
        "duration": 13,
        "start_time": "2022-01-13T18:37:50.467Z"
      },
      {
        "duration": 169,
        "start_time": "2022-01-13T18:38:10.366Z"
      },
      {
        "duration": 10,
        "start_time": "2022-01-13T18:41:30.561Z"
      },
      {
        "duration": 264,
        "start_time": "2022-01-13T18:44:31.767Z"
      },
      {
        "duration": 3,
        "start_time": "2022-01-13T18:44:37.584Z"
      },
      {
        "duration": 283,
        "start_time": "2022-01-13T19:04:46.249Z"
      },
      {
        "duration": 93,
        "start_time": "2022-01-13T19:05:15.715Z"
      },
      {
        "duration": 56373,
        "start_time": "2022-01-13T19:05:21.549Z"
      },
      {
        "duration": 5,
        "start_time": "2022-01-13T19:08:00.437Z"
      },
      {
        "duration": 12750,
        "start_time": "2022-01-13T19:08:26.512Z"
      },
      {
        "duration": 7,
        "start_time": "2022-01-13T19:08:41.878Z"
      },
      {
        "duration": 14,
        "start_time": "2022-01-13T19:11:17.174Z"
      },
      {
        "duration": 277,
        "start_time": "2022-01-13T19:11:58.918Z"
      },
      {
        "duration": 268,
        "start_time": "2022-01-13T19:12:22.608Z"
      },
      {
        "duration": 15,
        "start_time": "2022-01-13T19:12:32.528Z"
      },
      {
        "duration": 12,
        "start_time": "2022-01-13T19:14:01.947Z"
      },
      {
        "duration": 15,
        "start_time": "2022-01-13T19:14:11.287Z"
      },
      {
        "duration": 13,
        "start_time": "2022-01-13T19:16:22.327Z"
      },
      {
        "duration": 26,
        "start_time": "2022-01-13T19:19:29.213Z"
      },
      {
        "duration": 7,
        "start_time": "2022-01-13T19:19:29.241Z"
      },
      {
        "duration": 11,
        "start_time": "2022-01-13T19:19:29.250Z"
      },
      {
        "duration": 6,
        "start_time": "2022-01-13T19:19:29.262Z"
      },
      {
        "duration": 8,
        "start_time": "2022-01-13T19:19:29.270Z"
      },
      {
        "duration": 9,
        "start_time": "2022-01-13T19:19:29.279Z"
      },
      {
        "duration": 8,
        "start_time": "2022-01-13T19:19:29.291Z"
      },
      {
        "duration": 7,
        "start_time": "2022-01-13T19:19:29.318Z"
      },
      {
        "duration": 3,
        "start_time": "2022-01-13T19:19:29.326Z"
      },
      {
        "duration": 11,
        "start_time": "2022-01-13T19:21:42.396Z"
      },
      {
        "duration": 9,
        "start_time": "2022-01-13T19:22:01.452Z"
      },
      {
        "duration": 10,
        "start_time": "2022-01-13T19:22:10.694Z"
      },
      {
        "duration": 12,
        "start_time": "2022-01-13T19:22:46.690Z"
      },
      {
        "duration": 5,
        "start_time": "2022-01-13T19:24:12.878Z"
      },
      {
        "duration": 1470,
        "start_time": "2022-01-15T08:28:34.225Z"
      },
      {
        "duration": 36,
        "start_time": "2022-01-15T08:28:36.691Z"
      },
      {
        "duration": 23,
        "start_time": "2022-01-15T08:28:38.149Z"
      },
      {
        "duration": 513,
        "start_time": "2022-01-15T08:29:02.163Z"
      },
      {
        "duration": 6,
        "start_time": "2022-01-15T08:29:09.046Z"
      },
      {
        "duration": 5,
        "start_time": "2022-01-15T08:32:24.981Z"
      },
      {
        "duration": 4,
        "start_time": "2022-01-15T08:32:31.642Z"
      },
      {
        "duration": 36,
        "start_time": "2022-01-15T08:35:57.234Z"
      },
      {
        "duration": 21,
        "start_time": "2022-01-15T08:36:53.794Z"
      },
      {
        "duration": 6,
        "start_time": "2022-01-15T08:38:46.441Z"
      },
      {
        "duration": 34,
        "start_time": "2022-01-15T08:39:09.736Z"
      },
      {
        "duration": 35,
        "start_time": "2022-01-15T08:39:32.297Z"
      },
      {
        "duration": 4,
        "start_time": "2022-01-15T08:40:48.083Z"
      },
      {
        "duration": 6,
        "start_time": "2022-01-15T08:46:18.795Z"
      },
      {
        "duration": 21,
        "start_time": "2022-01-15T08:46:27.021Z"
      },
      {
        "duration": 31,
        "start_time": "2022-01-15T08:46:27.046Z"
      },
      {
        "duration": 9030,
        "start_time": "2022-01-15T08:46:52.472Z"
      },
      {
        "duration": -349,
        "start_time": "2022-01-15T08:47:01.854Z"
      },
      {
        "duration": -351,
        "start_time": "2022-01-15T08:47:01.858Z"
      },
      {
        "duration": -357,
        "start_time": "2022-01-15T08:47:01.866Z"
      },
      {
        "duration": -363,
        "start_time": "2022-01-15T08:47:01.873Z"
      },
      {
        "duration": -369,
        "start_time": "2022-01-15T08:47:01.880Z"
      },
      {
        "duration": -371,
        "start_time": "2022-01-15T08:47:01.884Z"
      },
      {
        "duration": -374,
        "start_time": "2022-01-15T08:47:01.889Z"
      },
      {
        "duration": -378,
        "start_time": "2022-01-15T08:47:01.894Z"
      },
      {
        "duration": -383,
        "start_time": "2022-01-15T08:47:01.900Z"
      },
      {
        "duration": -387,
        "start_time": "2022-01-15T08:47:01.906Z"
      },
      {
        "duration": -390,
        "start_time": "2022-01-15T08:47:01.910Z"
      },
      {
        "duration": -393,
        "start_time": "2022-01-15T08:47:01.914Z"
      },
      {
        "duration": 384,
        "start_time": "2022-01-15T08:47:05.081Z"
      },
      {
        "duration": 19,
        "start_time": "2022-01-15T08:47:05.546Z"
      },
      {
        "duration": -301,
        "start_time": "2022-01-15T08:47:15.241Z"
      },
      {
        "duration": 2655,
        "start_time": "2022-01-15T08:47:23.710Z"
      },
      {
        "duration": 370,
        "start_time": "2022-01-15T08:47:33.990Z"
      },
      {
        "duration": 5,
        "start_time": "2022-01-15T08:49:25.732Z"
      },
      {
        "duration": 35,
        "start_time": "2022-01-15T08:49:26.702Z"
      },
      {
        "duration": 18,
        "start_time": "2022-01-15T08:49:30.381Z"
      },
      {
        "duration": 116,
        "start_time": "2022-01-15T08:49:31.184Z"
      },
      {
        "duration": 12,
        "start_time": "2022-01-15T08:49:33.447Z"
      },
      {
        "duration": 4,
        "start_time": "2022-01-15T08:49:34.487Z"
      },
      {
        "duration": 4,
        "start_time": "2022-01-15T08:49:34.879Z"
      },
      {
        "duration": 19,
        "start_time": "2022-01-15T08:49:38.927Z"
      },
      {
        "duration": 5,
        "start_time": "2022-01-15T08:49:39.838Z"
      },
      {
        "duration": 15,
        "start_time": "2022-01-15T08:49:40.755Z"
      },
      {
        "duration": 11,
        "start_time": "2022-01-15T08:49:44.541Z"
      },
      {
        "duration": 7,
        "start_time": "2022-01-15T08:49:44.858Z"
      },
      {
        "duration": 5,
        "start_time": "2022-01-15T08:49:46.995Z"
      },
      {
        "duration": 24,
        "start_time": "2022-01-15T08:49:47.689Z"
      },
      {
        "duration": 35,
        "start_time": "2022-01-15T08:49:48.219Z"
      },
      {
        "duration": 19,
        "start_time": "2022-01-15T08:53:07.586Z"
      },
      {
        "duration": 352,
        "start_time": "2022-01-15T09:04:40.954Z"
      },
      {
        "duration": 7,
        "start_time": "2022-01-15T09:04:48.648Z"
      },
      {
        "duration": 353,
        "start_time": "2022-01-15T09:04:50.253Z"
      },
      {
        "duration": 5,
        "start_time": "2022-01-15T09:04:56.325Z"
      },
      {
        "duration": 9,
        "start_time": "2022-01-15T09:05:00.872Z"
      },
      {
        "duration": 8,
        "start_time": "2022-01-15T09:05:02.341Z"
      },
      {
        "duration": 351,
        "start_time": "2022-01-15T09:05:04.210Z"
      },
      {
        "duration": 6,
        "start_time": "2022-01-15T09:06:16.187Z"
      },
      {
        "duration": 407,
        "start_time": "2022-01-15T09:11:00.508Z"
      },
      {
        "duration": 3,
        "start_time": "2022-01-15T09:11:03.182Z"
      },
      {
        "duration": 38,
        "start_time": "2022-01-15T09:11:04.229Z"
      },
      {
        "duration": 20,
        "start_time": "2022-01-15T09:12:03.269Z"
      },
      {
        "duration": 6,
        "start_time": "2022-01-15T09:12:46.433Z"
      },
      {
        "duration": 50,
        "start_time": "2022-01-15T09:12:46.443Z"
      },
      {
        "duration": 25,
        "start_time": "2022-01-15T09:12:46.497Z"
      },
      {
        "duration": 112,
        "start_time": "2022-01-15T09:12:46.525Z"
      },
      {
        "duration": -1338,
        "start_time": "2022-01-15T09:12:47.978Z"
      },
      {
        "duration": -1341,
        "start_time": "2022-01-15T09:12:47.982Z"
      },
      {
        "duration": -1343,
        "start_time": "2022-01-15T09:12:47.986Z"
      },
      {
        "duration": -1345,
        "start_time": "2022-01-15T09:12:47.989Z"
      },
      {
        "duration": -1352,
        "start_time": "2022-01-15T09:12:47.997Z"
      },
      {
        "duration": -1354,
        "start_time": "2022-01-15T09:12:48.001Z"
      },
      {
        "duration": -1357,
        "start_time": "2022-01-15T09:12:48.005Z"
      },
      {
        "duration": -1361,
        "start_time": "2022-01-15T09:12:48.011Z"
      },
      {
        "duration": 372,
        "start_time": "2022-01-15T09:12:46.689Z"
      },
      {
        "duration": -969,
        "start_time": "2022-01-15T09:12:48.033Z"
      },
      {
        "duration": -971,
        "start_time": "2022-01-15T09:12:48.036Z"
      },
      {
        "duration": 9661,
        "start_time": "2022-01-15T09:12:47.289Z"
      },
      {
        "duration": -240,
        "start_time": "2022-01-15T09:12:57.194Z"
      },
      {
        "duration": -259,
        "start_time": "2022-01-15T09:12:57.216Z"
      },
      {
        "duration": -283,
        "start_time": "2022-01-15T09:12:57.242Z"
      },
      {
        "duration": 10086,
        "start_time": "2022-01-15T09:14:20.189Z"
      },
      {
        "duration": 119,
        "start_time": "2022-01-15T09:15:14.931Z"
      },
      {
        "duration": 34,
        "start_time": "2022-01-15T09:15:28.876Z"
      },
      {
        "duration": 20,
        "start_time": "2022-01-15T09:15:30.224Z"
      },
      {
        "duration": 17,
        "start_time": "2022-01-15T09:15:43.359Z"
      },
      {
        "duration": 5,
        "start_time": "2022-01-15T09:15:45.894Z"
      },
      {
        "duration": 6,
        "start_time": "2022-01-15T09:15:57.183Z"
      },
      {
        "duration": 37,
        "start_time": "2022-01-15T09:15:57.192Z"
      },
      {
        "duration": 18,
        "start_time": "2022-01-15T09:15:57.232Z"
      },
      {
        "duration": 12,
        "start_time": "2022-01-15T09:15:57.290Z"
      },
      {
        "duration": 4,
        "start_time": "2022-01-15T09:15:57.304Z"
      },
      {
        "duration": 5,
        "start_time": "2022-01-15T09:15:57.311Z"
      },
      {
        "duration": 24,
        "start_time": "2022-01-15T09:15:57.319Z"
      },
      {
        "duration": 5,
        "start_time": "2022-01-15T09:15:57.346Z"
      },
      {
        "duration": 11,
        "start_time": "2022-01-15T09:15:57.360Z"
      },
      {
        "duration": 16,
        "start_time": "2022-01-15T09:15:57.373Z"
      },
      {
        "duration": 8,
        "start_time": "2022-01-15T09:15:57.392Z"
      },
      {
        "duration": 7,
        "start_time": "2022-01-15T09:16:02.817Z"
      },
      {
        "duration": 21,
        "start_time": "2022-01-15T09:16:04.622Z"
      },
      {
        "duration": 35,
        "start_time": "2022-01-15T09:16:07.285Z"
      },
      {
        "duration": 6,
        "start_time": "2022-01-15T09:16:15.482Z"
      },
      {
        "duration": 10,
        "start_time": "2022-01-15T09:16:18.118Z"
      },
      {
        "duration": 9,
        "start_time": "2022-01-15T09:16:19.375Z"
      },
      {
        "duration": 7,
        "start_time": "2022-01-15T09:17:20.062Z"
      },
      {
        "duration": 9,
        "start_time": "2022-01-15T09:17:21.552Z"
      },
      {
        "duration": 8,
        "start_time": "2022-01-15T09:17:22.532Z"
      },
      {
        "duration": 6,
        "start_time": "2022-01-15T09:17:23.581Z"
      },
      {
        "duration": 3,
        "start_time": "2022-01-15T09:17:31.593Z"
      },
      {
        "duration": 35,
        "start_time": "2022-01-15T09:17:33.010Z"
      },
      {
        "duration": 17,
        "start_time": "2022-01-15T09:17:36.935Z"
      },
      {
        "duration": 9,
        "start_time": "2022-01-15T09:21:26.408Z"
      },
      {
        "duration": 6,
        "start_time": "2022-01-15T14:45:43.476Z"
      },
      {
        "duration": 1487,
        "start_time": "2022-01-15T14:50:40.627Z"
      },
      {
        "duration": 39,
        "start_time": "2022-01-15T14:50:42.118Z"
      },
      {
        "duration": 27,
        "start_time": "2022-01-15T14:50:42.160Z"
      },
      {
        "duration": 15,
        "start_time": "2022-01-15T14:50:42.190Z"
      },
      {
        "duration": 8,
        "start_time": "2022-01-15T14:50:42.208Z"
      },
      {
        "duration": 11,
        "start_time": "2022-01-15T14:50:42.219Z"
      },
      {
        "duration": 49,
        "start_time": "2022-01-15T14:50:42.232Z"
      },
      {
        "duration": 4,
        "start_time": "2022-01-15T14:50:42.285Z"
      },
      {
        "duration": 17,
        "start_time": "2022-01-15T14:50:42.292Z"
      },
      {
        "duration": 13,
        "start_time": "2022-01-15T14:50:42.312Z"
      },
      {
        "duration": 41,
        "start_time": "2022-01-15T14:50:42.327Z"
      },
      {
        "duration": 13,
        "start_time": "2022-01-15T14:50:42.371Z"
      },
      {
        "duration": 33,
        "start_time": "2022-01-15T14:50:42.387Z"
      },
      {
        "duration": 46,
        "start_time": "2022-01-15T14:50:42.423Z"
      },
      {
        "duration": 6,
        "start_time": "2022-01-15T14:50:42.471Z"
      },
      {
        "duration": 13,
        "start_time": "2022-01-15T14:50:42.479Z"
      },
      {
        "duration": 14,
        "start_time": "2022-01-15T14:50:42.495Z"
      },
      {
        "duration": 17,
        "start_time": "2022-01-15T14:50:42.511Z"
      },
      {
        "duration": 8,
        "start_time": "2022-01-15T14:50:42.531Z"
      },
      {
        "duration": 58,
        "start_time": "2022-01-15T14:50:42.542Z"
      },
      {
        "duration": 17,
        "start_time": "2022-01-15T14:50:42.602Z"
      },
      {
        "duration": 11,
        "start_time": "2022-01-15T14:50:42.621Z"
      },
      {
        "duration": 19,
        "start_time": "2022-01-15T14:50:42.668Z"
      },
      {
        "duration": 10,
        "start_time": "2022-01-15T14:50:42.689Z"
      },
      {
        "duration": 19,
        "start_time": "2022-01-15T14:50:42.701Z"
      },
      {
        "duration": 44,
        "start_time": "2022-01-15T14:50:42.723Z"
      },
      {
        "duration": 92,
        "start_time": "2022-01-15T14:52:34.336Z"
      },
      {
        "duration": 110,
        "start_time": "2022-01-15T14:52:49.251Z"
      },
      {
        "duration": 94,
        "start_time": "2022-01-15T14:53:07.719Z"
      },
      {
        "duration": 101,
        "start_time": "2022-01-15T14:54:34.342Z"
      },
      {
        "duration": 8,
        "start_time": "2022-01-15T14:54:55.537Z"
      },
      {
        "duration": 3,
        "start_time": "2022-01-15T14:57:02.798Z"
      },
      {
        "duration": 19,
        "start_time": "2022-01-15T14:58:11.163Z"
      },
      {
        "duration": 189,
        "start_time": "2022-01-15T15:00:15.580Z"
      },
      {
        "duration": 99,
        "start_time": "2022-01-15T15:00:23.834Z"
      },
      {
        "duration": 98,
        "start_time": "2022-01-15T15:01:45.939Z"
      },
      {
        "duration": 6,
        "start_time": "2022-01-15T15:01:51.289Z"
      },
      {
        "duration": 3,
        "start_time": "2022-01-15T15:01:52.605Z"
      },
      {
        "duration": 24,
        "start_time": "2022-01-15T15:01:54.659Z"
      },
      {
        "duration": 822,
        "start_time": "2022-01-15T15:01:56.352Z"
      },
      {
        "duration": 6,
        "start_time": "2022-01-15T15:02:16.760Z"
      },
      {
        "duration": 4,
        "start_time": "2022-01-15T15:02:17.944Z"
      },
      {
        "duration": 16,
        "start_time": "2022-01-15T15:02:19.128Z"
      },
      {
        "duration": 585,
        "start_time": "2022-01-15T15:02:20.048Z"
      },
      {
        "duration": 780,
        "start_time": "2022-01-15T15:03:44.192Z"
      },
      {
        "duration": 5,
        "start_time": "2022-01-15T15:04:33.323Z"
      },
      {
        "duration": 4,
        "start_time": "2022-01-15T15:04:51.189Z"
      },
      {
        "duration": 17,
        "start_time": "2022-01-15T15:04:52.090Z"
      },
      {
        "duration": 594,
        "start_time": "2022-01-15T15:04:52.536Z"
      },
      {
        "duration": 7,
        "start_time": "2022-01-15T15:05:59.021Z"
      },
      {
        "duration": 4,
        "start_time": "2022-01-15T15:06:00.106Z"
      },
      {
        "duration": 18,
        "start_time": "2022-01-15T15:06:01.108Z"
      },
      {
        "duration": 724,
        "start_time": "2022-01-15T15:06:01.600Z"
      },
      {
        "duration": 13,
        "start_time": "2022-01-15T15:06:25.170Z"
      },
      {
        "duration": 4,
        "start_time": "2022-01-15T15:06:26.039Z"
      },
      {
        "duration": 17,
        "start_time": "2022-01-15T15:06:27.080Z"
      },
      {
        "duration": 622,
        "start_time": "2022-01-15T15:06:27.811Z"
      },
      {
        "duration": 6,
        "start_time": "2022-01-15T15:07:22.610Z"
      },
      {
        "duration": 4,
        "start_time": "2022-01-15T15:07:23.507Z"
      },
      {
        "duration": 20,
        "start_time": "2022-01-15T15:07:24.342Z"
      },
      {
        "duration": 154,
        "start_time": "2022-01-15T15:07:24.812Z"
      },
      {
        "duration": 6,
        "start_time": "2022-01-15T15:07:35.065Z"
      },
      {
        "duration": 3,
        "start_time": "2022-01-15T15:07:37.235Z"
      },
      {
        "duration": 17,
        "start_time": "2022-01-15T15:07:37.246Z"
      },
      {
        "duration": 200,
        "start_time": "2022-01-15T15:07:37.269Z"
      },
      {
        "duration": 419,
        "start_time": "2022-01-15T15:11:43.719Z"
      },
      {
        "duration": 46,
        "start_time": "2022-01-15T15:13:56.641Z"
      },
      {
        "duration": 155,
        "start_time": "2022-01-15T15:14:51.311Z"
      },
      {
        "duration": 88,
        "start_time": "2022-01-15T15:17:14.065Z"
      },
      {
        "duration": 462,
        "start_time": "2022-01-15T15:17:48.647Z"
      },
      {
        "duration": 473,
        "start_time": "2022-01-15T15:18:44.064Z"
      },
      {
        "duration": 268,
        "start_time": "2022-01-15T15:18:50.464Z"
      },
      {
        "duration": 32,
        "start_time": "2022-01-15T15:22:19.892Z"
      },
      {
        "duration": 154,
        "start_time": "2022-01-15T15:22:59.012Z"
      },
      {
        "duration": 31,
        "start_time": "2022-01-15T15:23:41.614Z"
      },
      {
        "duration": 32,
        "start_time": "2022-01-15T15:23:45.663Z"
      },
      {
        "duration": 121,
        "start_time": "2022-01-15T15:23:47.163Z"
      },
      {
        "duration": 30,
        "start_time": "2022-01-15T15:24:06.199Z"
      },
      {
        "duration": 110,
        "start_time": "2022-01-15T15:24:07.460Z"
      },
      {
        "duration": 420,
        "start_time": "2022-01-15T15:25:15.635Z"
      },
      {
        "duration": 530,
        "start_time": "2022-01-15T15:25:50.041Z"
      },
      {
        "duration": 33,
        "start_time": "2022-01-15T15:26:20.869Z"
      },
      {
        "duration": 61,
        "start_time": "2022-01-15T15:26:22.213Z"
      },
      {
        "duration": 26,
        "start_time": "2022-01-15T15:26:23.272Z"
      },
      {
        "duration": 453,
        "start_time": "2022-01-15T15:26:24.103Z"
      },
      {
        "duration": 344,
        "start_time": "2022-01-15T15:26:25.825Z"
      },
      {
        "duration": 31,
        "start_time": "2022-01-15T15:27:11.535Z"
      },
      {
        "duration": 177,
        "start_time": "2022-01-15T15:27:12.193Z"
      },
      {
        "duration": 370,
        "start_time": "2022-01-15T15:28:42.827Z"
      },
      {
        "duration": 24,
        "start_time": "2022-01-15T15:28:54.294Z"
      },
      {
        "duration": 261,
        "start_time": "2022-01-15T15:29:07.884Z"
      },
      {
        "duration": 258,
        "start_time": "2022-01-15T15:29:39.722Z"
      },
      {
        "duration": 8,
        "start_time": "2022-01-15T15:30:09.432Z"
      },
      {
        "duration": 14,
        "start_time": "2022-01-15T15:30:26.794Z"
      },
      {
        "duration": 202,
        "start_time": "2022-01-15T15:30:29.132Z"
      },
      {
        "duration": 12,
        "start_time": "2022-01-15T15:31:11.738Z"
      },
      {
        "duration": 10,
        "start_time": "2022-01-15T15:31:26.589Z"
      },
      {
        "duration": 9,
        "start_time": "2022-01-15T15:31:27.251Z"
      },
      {
        "duration": 216,
        "start_time": "2022-01-15T15:31:34.359Z"
      },
      {
        "duration": 16311,
        "start_time": "2022-01-15T15:31:39.378Z"
      },
      {
        "duration": 19,
        "start_time": "2022-01-15T15:32:29.238Z"
      },
      {
        "duration": 13880,
        "start_time": "2022-01-15T15:33:09.210Z"
      },
      {
        "duration": 14475,
        "start_time": "2022-01-15T15:34:55.816Z"
      },
      {
        "duration": 15177,
        "start_time": "2022-01-15T15:35:47.244Z"
      },
      {
        "duration": 302,
        "start_time": "2022-01-15T15:36:20.711Z"
      },
      {
        "duration": 17,
        "start_time": "2022-01-15T15:36:53.702Z"
      },
      {
        "duration": 26,
        "start_time": "2022-01-15T15:37:05.372Z"
      },
      {
        "duration": 290,
        "start_time": "2022-01-15T15:37:31.212Z"
      },
      {
        "duration": 13,
        "start_time": "2022-01-15T15:37:38.587Z"
      },
      {
        "duration": 288,
        "start_time": "2022-01-15T15:37:42.190Z"
      },
      {
        "duration": 23,
        "start_time": "2022-01-15T15:40:56.522Z"
      },
      {
        "duration": 258,
        "start_time": "2022-01-15T15:41:02.590Z"
      },
      {
        "duration": 22,
        "start_time": "2022-01-15T15:41:04.322Z"
      },
      {
        "duration": 255,
        "start_time": "2022-01-15T15:41:59.449Z"
      },
      {
        "duration": 22,
        "start_time": "2022-01-15T15:42:11.602Z"
      },
      {
        "duration": 277,
        "start_time": "2022-01-15T15:43:08.445Z"
      },
      {
        "duration": 414,
        "start_time": "2022-01-15T15:44:17.592Z"
      },
      {
        "duration": 15486,
        "start_time": "2022-01-15T15:45:38.527Z"
      },
      {
        "duration": 43,
        "start_time": "2022-01-15T15:46:18.076Z"
      },
      {
        "duration": 250,
        "start_time": "2022-01-15T15:47:06.379Z"
      },
      {
        "duration": 16166,
        "start_time": "2022-01-15T15:48:07.810Z"
      },
      {
        "duration": 16350,
        "start_time": "2022-01-15T15:48:39.577Z"
      },
      {
        "duration": 38,
        "start_time": "2022-01-15T15:48:55.930Z"
      },
      {
        "duration": 36,
        "start_time": "2022-01-15T15:48:55.972Z"
      },
      {
        "duration": 15783,
        "start_time": "2022-01-15T15:49:03.762Z"
      },
      {
        "duration": 16,
        "start_time": "2022-01-15T15:49:33.357Z"
      },
      {
        "duration": 29,
        "start_time": "2022-01-15T15:49:34.990Z"
      },
      {
        "duration": 295,
        "start_time": "2022-01-15T15:51:01.847Z"
      },
      {
        "duration": 285,
        "start_time": "2022-01-15T15:52:14.252Z"
      },
      {
        "duration": 7,
        "start_time": "2022-01-15T15:52:52.707Z"
      },
      {
        "duration": 6,
        "start_time": "2022-01-15T15:53:25.041Z"
      },
      {
        "duration": 44,
        "start_time": "2022-01-15T15:53:25.049Z"
      },
      {
        "duration": 19,
        "start_time": "2022-01-15T15:53:25.096Z"
      },
      {
        "duration": 15,
        "start_time": "2022-01-15T15:53:25.119Z"
      },
      {
        "duration": 4,
        "start_time": "2022-01-15T15:53:25.168Z"
      },
      {
        "duration": 11,
        "start_time": "2022-01-15T15:53:25.174Z"
      },
      {
        "duration": 23,
        "start_time": "2022-01-15T15:53:25.188Z"
      },
      {
        "duration": 4,
        "start_time": "2022-01-15T15:53:25.216Z"
      },
      {
        "duration": 14,
        "start_time": "2022-01-15T15:53:25.223Z"
      },
      {
        "duration": 9,
        "start_time": "2022-01-15T15:53:25.268Z"
      },
      {
        "duration": 12,
        "start_time": "2022-01-15T15:53:25.279Z"
      },
      {
        "duration": 10,
        "start_time": "2022-01-15T15:53:25.294Z"
      },
      {
        "duration": 21,
        "start_time": "2022-01-15T15:53:25.306Z"
      },
      {
        "duration": 66,
        "start_time": "2022-01-15T15:53:25.330Z"
      },
      {
        "duration": 5,
        "start_time": "2022-01-15T15:53:25.399Z"
      },
      {
        "duration": 12,
        "start_time": "2022-01-15T15:53:25.406Z"
      },
      {
        "duration": 18,
        "start_time": "2022-01-15T15:53:25.420Z"
      },
      {
        "duration": 28,
        "start_time": "2022-01-15T15:53:25.440Z"
      },
      {
        "duration": 3,
        "start_time": "2022-01-15T15:53:25.471Z"
      },
      {
        "duration": 54,
        "start_time": "2022-01-15T15:53:25.476Z"
      },
      {
        "duration": 17,
        "start_time": "2022-01-15T15:53:25.532Z"
      },
      {
        "duration": 9,
        "start_time": "2022-01-15T15:53:25.568Z"
      },
      {
        "duration": 98,
        "start_time": "2022-01-15T15:53:25.581Z"
      },
      {
        "duration": -1368,
        "start_time": "2022-01-15T15:53:27.050Z"
      },
      {
        "duration": -1372,
        "start_time": "2022-01-15T15:53:27.055Z"
      },
      {
        "duration": -1416,
        "start_time": "2022-01-15T15:53:27.101Z"
      },
      {
        "duration": -1421,
        "start_time": "2022-01-15T15:53:27.108Z"
      },
      {
        "duration": -1427,
        "start_time": "2022-01-15T15:53:27.115Z"
      },
      {
        "duration": -1433,
        "start_time": "2022-01-15T15:53:27.123Z"
      },
      {
        "duration": -1437,
        "start_time": "2022-01-15T15:53:27.128Z"
      },
      {
        "duration": -1438,
        "start_time": "2022-01-15T15:53:27.131Z"
      },
      {
        "duration": 262,
        "start_time": "2022-01-15T15:53:25.823Z"
      },
      {
        "duration": 512,
        "start_time": "2022-01-15T15:53:26.088Z"
      },
      {
        "duration": -548,
        "start_time": "2022-01-15T15:53:27.151Z"
      },
      {
        "duration": -553,
        "start_time": "2022-01-15T15:53:27.157Z"
      },
      {
        "duration": -556,
        "start_time": "2022-01-15T15:53:27.162Z"
      },
      {
        "duration": -559,
        "start_time": "2022-01-15T15:53:27.166Z"
      },
      {
        "duration": -561,
        "start_time": "2022-01-15T15:53:27.170Z"
      },
      {
        "duration": -564,
        "start_time": "2022-01-15T15:53:27.174Z"
      },
      {
        "duration": -568,
        "start_time": "2022-01-15T15:53:27.179Z"
      },
      {
        "duration": 272,
        "start_time": "2022-01-15T15:53:26.718Z"
      },
      {
        "duration": 316,
        "start_time": "2022-01-15T15:53:26.992Z"
      },
      {
        "duration": 115,
        "start_time": "2022-01-15T15:53:27.195Z"
      },
      {
        "duration": 84,
        "start_time": "2022-01-15T15:53:27.228Z"
      },
      {
        "duration": 262,
        "start_time": "2022-01-15T15:53:27.345Z"
      },
      {
        "duration": 216,
        "start_time": "2022-01-15T15:53:30.313Z"
      },
      {
        "duration": 6,
        "start_time": "2022-01-15T15:56:09.253Z"
      },
      {
        "duration": 6,
        "start_time": "2022-01-15T15:56:20.447Z"
      },
      {
        "duration": 66,
        "start_time": "2022-01-15T15:56:20.457Z"
      },
      {
        "duration": 27,
        "start_time": "2022-01-15T15:56:20.527Z"
      },
      {
        "duration": 39,
        "start_time": "2022-01-15T15:56:20.558Z"
      },
      {
        "duration": 21,
        "start_time": "2022-01-15T15:56:20.600Z"
      },
      {
        "duration": 13,
        "start_time": "2022-01-15T15:56:20.624Z"
      },
      {
        "duration": 31,
        "start_time": "2022-01-15T15:56:20.643Z"
      },
      {
        "duration": 11,
        "start_time": "2022-01-15T15:56:20.677Z"
      },
      {
        "duration": 13,
        "start_time": "2022-01-15T15:56:20.691Z"
      },
      {
        "duration": 34,
        "start_time": "2022-01-15T15:56:20.707Z"
      },
      {
        "duration": 33,
        "start_time": "2022-01-15T15:56:20.744Z"
      },
      {
        "duration": 16,
        "start_time": "2022-01-15T15:56:20.781Z"
      },
      {
        "duration": 40,
        "start_time": "2022-01-15T15:56:20.799Z"
      },
      {
        "duration": 53,
        "start_time": "2022-01-15T15:56:20.842Z"
      },
      {
        "duration": 8,
        "start_time": "2022-01-15T15:56:20.897Z"
      },
      {
        "duration": 17,
        "start_time": "2022-01-15T15:56:22.802Z"
      },
      {
        "duration": 10,
        "start_time": "2022-01-15T15:56:23.790Z"
      },
      {
        "duration": 8,
        "start_time": "2022-01-15T15:56:25.057Z"
      },
      {
        "duration": 7,
        "start_time": "2022-01-15T15:56:25.893Z"
      },
      {
        "duration": 4,
        "start_time": "2022-01-15T15:56:28.499Z"
      },
      {
        "duration": 35,
        "start_time": "2022-01-15T15:56:29.283Z"
      },
      {
        "duration": 18,
        "start_time": "2022-01-15T15:56:30.915Z"
      },
      {
        "duration": 10,
        "start_time": "2022-01-15T15:56:32.246Z"
      },
      {
        "duration": 251,
        "start_time": "2022-01-15T15:56:33.187Z"
      },
      {
        "duration": 19,
        "start_time": "2022-01-15T15:57:01.259Z"
      },
      {
        "duration": 9,
        "start_time": "2022-01-15T15:57:02.770Z"
      },
      {
        "duration": 17,
        "start_time": "2022-01-15T15:57:04.265Z"
      },
      {
        "duration": 6,
        "start_time": "2022-01-15T15:57:17.001Z"
      },
      {
        "duration": 35,
        "start_time": "2022-01-15T15:57:17.010Z"
      },
      {
        "duration": 18,
        "start_time": "2022-01-15T15:57:17.048Z"
      },
      {
        "duration": 12,
        "start_time": "2022-01-15T15:57:17.069Z"
      },
      {
        "duration": 3,
        "start_time": "2022-01-15T15:57:17.084Z"
      },
      {
        "duration": 6,
        "start_time": "2022-01-15T15:57:17.090Z"
      },
      {
        "duration": 70,
        "start_time": "2022-01-15T15:57:17.098Z"
      },
      {
        "duration": 5,
        "start_time": "2022-01-15T15:57:17.172Z"
      },
      {
        "duration": 12,
        "start_time": "2022-01-15T15:57:17.181Z"
      },
      {
        "duration": 10,
        "start_time": "2022-01-15T15:57:17.196Z"
      },
      {
        "duration": 8,
        "start_time": "2022-01-15T15:57:17.209Z"
      },
      {
        "duration": 7,
        "start_time": "2022-01-15T15:57:17.268Z"
      },
      {
        "duration": 31,
        "start_time": "2022-01-15T15:57:17.278Z"
      },
      {
        "duration": 38,
        "start_time": "2022-01-15T15:57:17.312Z"
      },
      {
        "duration": 6,
        "start_time": "2022-01-15T15:57:17.367Z"
      },
      {
        "duration": 11,
        "start_time": "2022-01-15T15:57:17.375Z"
      },
      {
        "duration": 10,
        "start_time": "2022-01-15T15:57:17.389Z"
      },
      {
        "duration": 9,
        "start_time": "2022-01-15T15:57:17.401Z"
      },
      {
        "duration": 6,
        "start_time": "2022-01-15T15:57:17.413Z"
      },
      {
        "duration": 71,
        "start_time": "2022-01-15T15:57:17.422Z"
      },
      {
        "duration": 17,
        "start_time": "2022-01-15T15:57:17.496Z"
      },
      {
        "duration": 9,
        "start_time": "2022-01-15T15:57:17.515Z"
      },
      {
        "duration": 50,
        "start_time": "2022-01-15T15:57:17.530Z"
      },
      {
        "duration": 9,
        "start_time": "2022-01-15T15:57:17.583Z"
      },
      {
        "duration": 19,
        "start_time": "2022-01-15T15:57:17.594Z"
      },
      {
        "duration": 9,
        "start_time": "2022-01-15T15:57:17.615Z"
      },
      {
        "duration": 42,
        "start_time": "2022-01-15T15:57:17.626Z"
      },
      {
        "duration": 7,
        "start_time": "2022-01-15T15:57:17.671Z"
      },
      {
        "duration": 89,
        "start_time": "2022-01-15T15:57:17.681Z"
      },
      {
        "duration": 203,
        "start_time": "2022-01-15T15:57:17.773Z"
      },
      {
        "duration": 558,
        "start_time": "2022-01-15T15:57:17.978Z"
      },
      {
        "duration": 348,
        "start_time": "2022-01-15T15:57:18.539Z"
      },
      {
        "duration": 80,
        "start_time": "2022-01-15T15:57:18.890Z"
      },
      {
        "duration": 200,
        "start_time": "2022-01-15T15:57:18.973Z"
      },
      {
        "duration": 460,
        "start_time": "2022-01-15T15:57:19.175Z"
      },
      {
        "duration": 280,
        "start_time": "2022-01-15T15:57:19.637Z"
      },
      {
        "duration": 48,
        "start_time": "2022-01-15T15:57:19.920Z"
      },
      {
        "duration": 199,
        "start_time": "2022-01-15T15:57:19.971Z"
      },
      {
        "duration": 16,
        "start_time": "2022-01-15T15:57:20.173Z"
      },
      {
        "duration": 567,
        "start_time": "2022-01-15T15:57:20.269Z"
      },
      {
        "duration": 279,
        "start_time": "2022-01-15T15:57:20.839Z"
      },
      {
        "duration": 268,
        "start_time": "2022-01-15T15:57:21.121Z"
      },
      {
        "duration": 20,
        "start_time": "2022-01-15T15:57:21.391Z"
      },
      {
        "duration": 311,
        "start_time": "2022-01-15T15:57:21.414Z"
      },
      {
        "duration": 286,
        "start_time": "2022-01-15T15:57:21.728Z"
      },
      {
        "duration": 16864,
        "start_time": "2022-01-15T15:57:27.325Z"
      },
      {
        "duration": 345,
        "start_time": "2022-01-15T15:57:45.762Z"
      },
      {
        "duration": 28,
        "start_time": "2022-01-15T15:57:52.124Z"
      },
      {
        "duration": 6,
        "start_time": "2022-01-15T15:59:07.969Z"
      },
      {
        "duration": 39,
        "start_time": "2022-01-15T15:59:07.978Z"
      },
      {
        "duration": 19,
        "start_time": "2022-01-15T15:59:08.020Z"
      },
      {
        "duration": 13,
        "start_time": "2022-01-15T15:59:08.068Z"
      },
      {
        "duration": 5,
        "start_time": "2022-01-15T15:59:08.083Z"
      },
      {
        "duration": 7,
        "start_time": "2022-01-15T15:59:08.091Z"
      },
      {
        "duration": 72,
        "start_time": "2022-01-15T15:59:08.101Z"
      },
      {
        "duration": 5,
        "start_time": "2022-01-15T15:59:08.177Z"
      },
      {
        "duration": 11,
        "start_time": "2022-01-15T15:59:08.186Z"
      },
      {
        "duration": 12,
        "start_time": "2022-01-15T15:59:08.199Z"
      },
      {
        "duration": 6,
        "start_time": "2022-01-15T15:59:08.214Z"
      },
      {
        "duration": 49,
        "start_time": "2022-01-15T15:59:08.222Z"
      },
      {
        "duration": 24,
        "start_time": "2022-01-15T15:59:08.274Z"
      },
      {
        "duration": 35,
        "start_time": "2022-01-15T15:59:08.301Z"
      },
      {
        "duration": 31,
        "start_time": "2022-01-15T15:59:08.338Z"
      },
      {
        "duration": 8,
        "start_time": "2022-01-15T15:59:08.371Z"
      },
      {
        "duration": 7,
        "start_time": "2022-01-15T15:59:08.381Z"
      },
      {
        "duration": 7,
        "start_time": "2022-01-15T15:59:08.390Z"
      },
      {
        "duration": 10,
        "start_time": "2022-01-15T15:59:08.399Z"
      },
      {
        "duration": 336,
        "start_time": "2022-01-15T15:59:08.413Z"
      },
      {
        "duration": 874,
        "start_time": "2022-01-15T15:59:07.882Z"
      },
      {
        "duration": 870,
        "start_time": "2022-01-15T15:59:07.888Z"
      },
      {
        "duration": 867,
        "start_time": "2022-01-15T15:59:07.893Z"
      },
      {
        "duration": 864,
        "start_time": "2022-01-15T15:59:07.898Z"
      },
      {
        "duration": 863,
        "start_time": "2022-01-15T15:59:07.902Z"
      },
      {
        "duration": 859,
        "start_time": "2022-01-15T15:59:07.908Z"
      },
      {
        "duration": 856,
        "start_time": "2022-01-15T15:59:07.913Z"
      },
      {
        "duration": 854,
        "start_time": "2022-01-15T15:59:07.917Z"
      },
      {
        "duration": 853,
        "start_time": "2022-01-15T15:59:07.921Z"
      },
      {
        "duration": 846,
        "start_time": "2022-01-15T15:59:07.930Z"
      },
      {
        "duration": 845,
        "start_time": "2022-01-15T15:59:07.933Z"
      },
      {
        "duration": 843,
        "start_time": "2022-01-15T15:59:07.937Z"
      },
      {
        "duration": 842,
        "start_time": "2022-01-15T15:59:07.941Z"
      },
      {
        "duration": 841,
        "start_time": "2022-01-15T15:59:07.945Z"
      },
      {
        "duration": 839,
        "start_time": "2022-01-15T15:59:07.949Z"
      },
      {
        "duration": 837,
        "start_time": "2022-01-15T15:59:07.953Z"
      },
      {
        "duration": 836,
        "start_time": "2022-01-15T15:59:07.957Z"
      },
      {
        "duration": 835,
        "start_time": "2022-01-15T15:59:07.960Z"
      },
      {
        "duration": 833,
        "start_time": "2022-01-15T15:59:07.964Z"
      },
      {
        "duration": 833,
        "start_time": "2022-01-15T15:59:07.967Z"
      },
      {
        "duration": 831,
        "start_time": "2022-01-15T15:59:07.971Z"
      },
      {
        "duration": 821,
        "start_time": "2022-01-15T15:59:07.983Z"
      },
      {
        "duration": 818,
        "start_time": "2022-01-15T15:59:07.988Z"
      },
      {
        "duration": 6,
        "start_time": "2022-01-15T16:00:19.860Z"
      },
      {
        "duration": 42,
        "start_time": "2022-01-15T16:00:19.868Z"
      },
      {
        "duration": 18,
        "start_time": "2022-01-15T16:00:19.913Z"
      },
      {
        "duration": 38,
        "start_time": "2022-01-15T16:00:19.934Z"
      },
      {
        "duration": 8,
        "start_time": "2022-01-15T16:00:19.974Z"
      },
      {
        "duration": 11,
        "start_time": "2022-01-15T16:00:19.984Z"
      },
      {
        "duration": 24,
        "start_time": "2022-01-15T16:00:19.997Z"
      },
      {
        "duration": 43,
        "start_time": "2022-01-15T16:00:20.024Z"
      },
      {
        "duration": 11,
        "start_time": "2022-01-15T16:00:20.071Z"
      },
      {
        "duration": 10,
        "start_time": "2022-01-15T16:00:20.084Z"
      },
      {
        "duration": 10,
        "start_time": "2022-01-15T16:00:20.096Z"
      },
      {
        "duration": 8,
        "start_time": "2022-01-15T16:00:20.108Z"
      },
      {
        "duration": 64,
        "start_time": "2022-01-15T16:00:20.118Z"
      },
      {
        "duration": 48,
        "start_time": "2022-01-15T16:00:20.186Z"
      },
      {
        "duration": 6,
        "start_time": "2022-01-15T16:00:20.236Z"
      },
      {
        "duration": 9,
        "start_time": "2022-01-15T16:00:20.268Z"
      },
      {
        "duration": 8,
        "start_time": "2022-01-15T16:00:20.280Z"
      },
      {
        "duration": 7,
        "start_time": "2022-01-15T16:00:20.291Z"
      },
      {
        "duration": 5,
        "start_time": "2022-01-15T16:00:20.300Z"
      },
      {
        "duration": 83,
        "start_time": "2022-01-15T16:00:20.308Z"
      },
      {
        "duration": 15,
        "start_time": "2022-01-15T16:00:20.394Z"
      },
      {
        "duration": 10,
        "start_time": "2022-01-15T16:00:20.412Z"
      },
      {
        "duration": 47,
        "start_time": "2022-01-15T16:00:20.427Z"
      },
      {
        "duration": 9,
        "start_time": "2022-01-15T16:00:20.478Z"
      },
      {
        "duration": 18,
        "start_time": "2022-01-15T16:00:20.489Z"
      },
      {
        "duration": 10,
        "start_time": "2022-01-15T16:00:20.509Z"
      },
      {
        "duration": 7,
        "start_time": "2022-01-15T16:00:20.522Z"
      },
      {
        "duration": 4,
        "start_time": "2022-01-15T16:00:20.568Z"
      },
      {
        "duration": 95,
        "start_time": "2022-01-15T16:00:20.574Z"
      },
      {
        "duration": 204,
        "start_time": "2022-01-15T16:00:20.672Z"
      },
      {
        "duration": 464,
        "start_time": "2022-01-15T16:00:20.879Z"
      },
      {
        "duration": 280,
        "start_time": "2022-01-15T16:00:21.345Z"
      },
      {
        "duration": 50,
        "start_time": "2022-01-15T16:00:21.627Z"
      },
      {
        "duration": 206,
        "start_time": "2022-01-15T16:00:21.769Z"
      },
      {
        "duration": 462,
        "start_time": "2022-01-15T16:00:21.978Z"
      },
      {
        "duration": 275,
        "start_time": "2022-01-15T16:00:22.442Z"
      },
      {
        "duration": 49,
        "start_time": "2022-01-15T16:00:22.719Z"
      },
      {
        "duration": 207,
        "start_time": "2022-01-15T16:00:22.772Z"
      },
      {
        "duration": 86,
        "start_time": "2022-01-15T16:00:22.982Z"
      },
      {
        "duration": 555,
        "start_time": "2022-01-15T16:00:23.072Z"
      },
      {
        "duration": 361,
        "start_time": "2022-01-15T16:00:23.630Z"
      },
      {
        "duration": 258,
        "start_time": "2022-01-15T16:00:23.993Z"
      },
      {
        "duration": 27,
        "start_time": "2022-01-15T16:00:24.254Z"
      },
      {
        "duration": 298,
        "start_time": "2022-01-15T16:00:24.284Z"
      },
      {
        "duration": 286,
        "start_time": "2022-01-15T16:00:24.584Z"
      },
      {
        "duration": 13872,
        "start_time": "2022-01-15T16:00:24.872Z"
      },
      {
        "duration": 279,
        "start_time": "2022-01-15T16:00:38.746Z"
      },
      {
        "duration": 947,
        "start_time": "2022-01-15T16:00:38.081Z"
      },
      {
        "duration": 28,
        "start_time": "2022-01-15T16:00:52.816Z"
      },
      {
        "duration": 10,
        "start_time": "2022-01-15T16:02:23.883Z"
      },
      {
        "duration": 43,
        "start_time": "2022-01-15T16:02:23.897Z"
      },
      {
        "duration": 25,
        "start_time": "2022-01-15T16:02:23.943Z"
      },
      {
        "duration": 17,
        "start_time": "2022-01-15T16:02:23.972Z"
      },
      {
        "duration": 5,
        "start_time": "2022-01-15T16:02:23.992Z"
      },
      {
        "duration": 7,
        "start_time": "2022-01-15T16:02:24.000Z"
      },
      {
        "duration": 74,
        "start_time": "2022-01-15T16:02:24.010Z"
      },
      {
        "duration": 6,
        "start_time": "2022-01-15T16:02:24.090Z"
      },
      {
        "duration": 17,
        "start_time": "2022-01-15T16:02:24.100Z"
      },
      {
        "duration": 49,
        "start_time": "2022-01-15T16:02:24.121Z"
      },
      {
        "duration": 18,
        "start_time": "2022-01-15T16:02:24.173Z"
      },
      {
        "duration": 10,
        "start_time": "2022-01-15T16:02:24.194Z"
      },
      {
        "duration": 38,
        "start_time": "2022-01-15T16:02:24.206Z"
      },
      {
        "duration": 39,
        "start_time": "2022-01-15T16:02:24.268Z"
      },
      {
        "duration": 6,
        "start_time": "2022-01-15T16:02:24.309Z"
      },
      {
        "duration": 12,
        "start_time": "2022-01-15T16:02:24.317Z"
      },
      {
        "duration": 39,
        "start_time": "2022-01-15T16:02:24.332Z"
      },
      {
        "duration": 6,
        "start_time": "2022-01-15T16:02:24.374Z"
      },
      {
        "duration": 6,
        "start_time": "2022-01-15T16:02:24.383Z"
      },
      {
        "duration": 81,
        "start_time": "2022-01-15T16:02:24.392Z"
      },
      {
        "duration": 28,
        "start_time": "2022-01-15T16:02:24.477Z"
      },
      {
        "duration": 13,
        "start_time": "2022-01-15T16:02:24.508Z"
      },
      {
        "duration": 56,
        "start_time": "2022-01-15T16:02:24.531Z"
      },
      {
        "duration": 11,
        "start_time": "2022-01-15T16:02:24.592Z"
      },
      {
        "duration": 20,
        "start_time": "2022-01-15T16:02:24.606Z"
      },
      {
        "duration": 44,
        "start_time": "2022-01-15T16:02:24.628Z"
      },
      {
        "duration": 6,
        "start_time": "2022-01-15T16:02:24.675Z"
      },
      {
        "duration": 7,
        "start_time": "2022-01-15T16:02:24.683Z"
      },
      {
        "duration": 79,
        "start_time": "2022-01-15T16:02:24.693Z"
      },
      {
        "duration": 198,
        "start_time": "2022-01-15T16:02:24.775Z"
      },
      {
        "duration": 565,
        "start_time": "2022-01-15T16:02:24.977Z"
      },
      {
        "duration": 315,
        "start_time": "2022-01-15T16:02:25.545Z"
      },
      {
        "duration": 55,
        "start_time": "2022-01-15T16:02:25.863Z"
      },
      {
        "duration": 198,
        "start_time": "2022-01-15T16:02:25.969Z"
      },
      {
        "duration": 475,
        "start_time": "2022-01-15T16:02:26.170Z"
      },
      {
        "duration": 281,
        "start_time": "2022-01-15T16:02:26.648Z"
      },
      {
        "duration": 54,
        "start_time": "2022-01-15T16:02:26.933Z"
      },
      {
        "duration": 279,
        "start_time": "2022-01-15T16:02:26.990Z"
      },
      {
        "duration": 13,
        "start_time": "2022-01-15T16:02:27.272Z"
      },
      {
        "duration": 637,
        "start_time": "2022-01-15T16:02:27.288Z"
      },
      {
        "duration": 290,
        "start_time": "2022-01-15T16:02:27.927Z"
      },
      {
        "duration": 382,
        "start_time": "2022-01-15T16:02:28.220Z"
      },
      {
        "duration": 21,
        "start_time": "2022-01-15T16:02:28.605Z"
      },
      {
        "duration": 322,
        "start_time": "2022-01-15T16:02:28.629Z"
      },
      {
        "duration": 411,
        "start_time": "2022-01-15T16:02:28.954Z"
      },
      {
        "duration": 16519,
        "start_time": "2022-01-15T16:02:29.368Z"
      },
      {
        "duration": 16,
        "start_time": "2022-01-15T16:02:45.890Z"
      },
      {
        "duration": 29,
        "start_time": "2022-01-15T16:02:45.908Z"
      },
      {
        "duration": 331,
        "start_time": "2022-01-15T16:02:45.939Z"
      },
      {
        "duration": 370,
        "start_time": "2022-01-15T16:02:46.272Z"
      },
      {
        "duration": 74,
        "start_time": "2022-01-15T16:02:46.644Z"
      },
      {
        "duration": 4,
        "start_time": "2022-01-15T16:02:46.720Z"
      },
      {
        "duration": 27619,
        "start_time": "2022-01-15T16:02:46.727Z"
      },
      {
        "duration": 15,
        "start_time": "2022-01-15T16:03:14.348Z"
      },
      {
        "duration": 11,
        "start_time": "2022-01-15T16:03:14.365Z"
      },
      {
        "duration": 288,
        "start_time": "2022-01-15T16:03:14.379Z"
      },
      {
        "duration": 15,
        "start_time": "2022-01-15T16:03:14.669Z"
      },
      {
        "duration": 14,
        "start_time": "2022-01-15T16:03:29.527Z"
      },
      {
        "duration": 3,
        "start_time": "2022-01-15T16:04:51.488Z"
      },
      {
        "duration": 6,
        "start_time": "2022-01-15T16:05:05.222Z"
      },
      {
        "duration": 49,
        "start_time": "2022-01-15T16:05:05.231Z"
      },
      {
        "duration": 18,
        "start_time": "2022-01-15T16:05:05.284Z"
      },
      {
        "duration": 14,
        "start_time": "2022-01-15T16:05:05.305Z"
      },
      {
        "duration": 45,
        "start_time": "2022-01-15T16:05:05.322Z"
      },
      {
        "duration": 12,
        "start_time": "2022-01-15T16:05:05.370Z"
      },
      {
        "duration": 24,
        "start_time": "2022-01-15T16:05:05.384Z"
      },
      {
        "duration": 6,
        "start_time": "2022-01-15T16:05:05.413Z"
      },
      {
        "duration": 48,
        "start_time": "2022-01-15T16:05:05.422Z"
      },
      {
        "duration": 10,
        "start_time": "2022-01-15T16:05:05.473Z"
      },
      {
        "duration": 11,
        "start_time": "2022-01-15T16:05:05.485Z"
      },
      {
        "duration": 6,
        "start_time": "2022-01-15T16:05:05.499Z"
      },
      {
        "duration": 60,
        "start_time": "2022-01-15T16:05:05.508Z"
      },
      {
        "duration": 38,
        "start_time": "2022-01-15T16:05:05.570Z"
      },
      {
        "duration": 7,
        "start_time": "2022-01-15T16:05:05.610Z"
      },
      {
        "duration": 14,
        "start_time": "2022-01-15T16:05:05.619Z"
      },
      {
        "duration": 31,
        "start_time": "2022-01-15T16:05:05.636Z"
      },
      {
        "duration": 5,
        "start_time": "2022-01-15T16:05:05.670Z"
      },
      {
        "duration": 8,
        "start_time": "2022-01-15T16:05:05.678Z"
      },
      {
        "duration": 33,
        "start_time": "2022-01-15T16:05:05.688Z"
      },
      {
        "duration": 53,
        "start_time": "2022-01-15T16:05:05.723Z"
      },
      {
        "duration": 9,
        "start_time": "2022-01-15T16:05:05.779Z"
      },
      {
        "duration": 18,
        "start_time": "2022-01-15T16:05:05.795Z"
      },
      {
        "duration": 9,
        "start_time": "2022-01-15T16:05:05.815Z"
      },
      {
        "duration": 55,
        "start_time": "2022-01-15T16:05:05.827Z"
      },
      {
        "duration": 9,
        "start_time": "2022-01-15T16:05:05.884Z"
      },
      {
        "duration": 6,
        "start_time": "2022-01-15T16:05:05.895Z"
      },
      {
        "duration": 7,
        "start_time": "2022-01-15T16:05:05.903Z"
      },
      {
        "duration": 55,
        "start_time": "2022-01-15T16:05:05.913Z"
      },
      {
        "duration": 198,
        "start_time": "2022-01-15T16:05:05.971Z"
      },
      {
        "duration": 449,
        "start_time": "2022-01-15T16:05:06.171Z"
      },
      {
        "duration": 281,
        "start_time": "2022-01-15T16:05:06.623Z"
      },
      {
        "duration": 40,
        "start_time": "2022-01-15T16:05:06.907Z"
      },
      {
        "duration": 128,
        "start_time": "2022-01-15T16:05:06.949Z"
      },
      {
        "duration": 547,
        "start_time": "2022-01-15T16:05:07.080Z"
      },
      {
        "duration": 271,
        "start_time": "2022-01-15T16:05:07.629Z"
      },
      {
        "duration": 65,
        "start_time": "2022-01-15T16:05:07.902Z"
      },
      {
        "duration": 201,
        "start_time": "2022-01-15T16:05:07.971Z"
      },
      {
        "duration": 96,
        "start_time": "2022-01-15T16:05:08.174Z"
      },
      {
        "duration": 552,
        "start_time": "2022-01-15T16:05:08.274Z"
      },
      {
        "duration": 283,
        "start_time": "2022-01-15T16:05:08.828Z"
      },
      {
        "duration": 238,
        "start_time": "2022-01-15T16:05:09.113Z"
      },
      {
        "duration": 29,
        "start_time": "2022-01-15T16:05:09.354Z"
      },
      {
        "duration": 299,
        "start_time": "2022-01-15T16:05:09.385Z"
      },
      {
        "duration": 275,
        "start_time": "2022-01-15T16:05:09.687Z"
      },
      {
        "duration": 13976,
        "start_time": "2022-01-15T16:05:09.967Z"
      },
      {
        "duration": 285,
        "start_time": "2022-01-15T16:05:23.945Z"
      },
      {
        "duration": 28,
        "start_time": "2022-01-15T16:05:30.428Z"
      },
      {
        "duration": 363,
        "start_time": "2022-01-15T16:06:32.801Z"
      },
      {
        "duration": 6,
        "start_time": "2022-01-15T16:06:36.828Z"
      },
      {
        "duration": 40,
        "start_time": "2022-01-15T16:06:36.838Z"
      },
      {
        "duration": 21,
        "start_time": "2022-01-15T16:06:36.881Z"
      },
      {
        "duration": 17,
        "start_time": "2022-01-15T16:06:36.905Z"
      },
      {
        "duration": 4,
        "start_time": "2022-01-15T16:06:36.925Z"
      },
      {
        "duration": 6,
        "start_time": "2022-01-15T16:06:36.968Z"
      },
      {
        "duration": 30,
        "start_time": "2022-01-15T16:06:36.977Z"
      },
      {
        "duration": 57,
        "start_time": "2022-01-15T16:06:37.013Z"
      },
      {
        "duration": 10,
        "start_time": "2022-01-15T16:06:37.074Z"
      },
      {
        "duration": 10,
        "start_time": "2022-01-15T16:06:37.087Z"
      },
      {
        "duration": 10,
        "start_time": "2022-01-15T16:06:37.100Z"
      },
      {
        "duration": 9,
        "start_time": "2022-01-15T16:06:37.112Z"
      },
      {
        "duration": 59,
        "start_time": "2022-01-15T16:06:37.123Z"
      },
      {
        "duration": 36,
        "start_time": "2022-01-15T16:06:37.185Z"
      },
      {
        "duration": 7,
        "start_time": "2022-01-15T16:06:37.224Z"
      },
      {
        "duration": 35,
        "start_time": "2022-01-15T16:06:37.233Z"
      },
      {
        "duration": 11,
        "start_time": "2022-01-15T16:06:37.270Z"
      },
      {
        "duration": 14,
        "start_time": "2022-01-15T16:06:37.283Z"
      },
      {
        "duration": 7,
        "start_time": "2022-01-15T16:06:37.300Z"
      },
      {
        "duration": 68,
        "start_time": "2022-01-15T16:06:37.309Z"
      },
      {
        "duration": 18,
        "start_time": "2022-01-15T16:06:37.380Z"
      },
      {
        "duration": 11,
        "start_time": "2022-01-15T16:06:37.401Z"
      },
      {
        "duration": 58,
        "start_time": "2022-01-15T16:06:37.419Z"
      },
      {
        "duration": 10,
        "start_time": "2022-01-15T16:06:37.481Z"
      },
      {
        "duration": 22,
        "start_time": "2022-01-15T16:06:37.494Z"
      },
      {
        "duration": 9,
        "start_time": "2022-01-15T16:06:37.519Z"
      },
      {
        "duration": 37,
        "start_time": "2022-01-15T16:06:37.531Z"
      },
      {
        "duration": 14,
        "start_time": "2022-01-15T16:06:37.571Z"
      },
      {
        "duration": 180,
        "start_time": "2022-01-15T16:06:37.587Z"
      },
      {
        "duration": 111,
        "start_time": "2022-01-15T16:06:37.770Z"
      },
      {
        "duration": 462,
        "start_time": "2022-01-15T16:06:37.968Z"
      },
      {
        "duration": 364,
        "start_time": "2022-01-15T16:06:38.433Z"
      },
      {
        "duration": 43,
        "start_time": "2022-01-15T16:06:38.799Z"
      },
      {
        "duration": 207,
        "start_time": "2022-01-15T16:06:38.869Z"
      },
      {
        "duration": 452,
        "start_time": "2022-01-15T16:06:39.078Z"
      },
      {
        "duration": 271,
        "start_time": "2022-01-15T16:06:39.533Z"
      },
      {
        "duration": 63,
        "start_time": "2022-01-15T16:06:39.806Z"
      },
      {
        "duration": 199,
        "start_time": "2022-01-15T16:06:39.872Z"
      },
      {
        "duration": 106,
        "start_time": "2022-01-15T16:06:40.074Z"
      },
      {
        "duration": 565,
        "start_time": "2022-01-15T16:06:40.183Z"
      },
      {
        "duration": 290,
        "start_time": "2022-01-15T16:06:40.751Z"
      },
      {
        "duration": 292,
        "start_time": "2022-01-15T16:06:41.044Z"
      },
      {
        "duration": 33,
        "start_time": "2022-01-15T16:06:41.338Z"
      },
      {
        "duration": 320,
        "start_time": "2022-01-15T16:06:41.374Z"
      },
      {
        "duration": 295,
        "start_time": "2022-01-15T16:06:41.697Z"
      },
      {
        "duration": 15402,
        "start_time": "2022-01-15T16:06:41.994Z"
      },
      {
        "duration": 16,
        "start_time": "2022-01-15T16:06:57.398Z"
      },
      {
        "duration": 15116,
        "start_time": "2022-01-15T16:34:13.069Z"
      },
      {
        "duration": 17,
        "start_time": "2022-01-15T16:34:28.187Z"
      },
      {
        "duration": 29,
        "start_time": "2022-01-15T16:34:28.207Z"
      },
      {
        "duration": 302,
        "start_time": "2022-01-15T16:34:28.267Z"
      },
      {
        "duration": 283,
        "start_time": "2022-01-15T16:34:28.571Z"
      },
      {
        "duration": 10,
        "start_time": "2022-01-15T16:34:28.857Z"
      },
      {
        "duration": 5,
        "start_time": "2022-01-15T16:34:28.870Z"
      },
      {
        "duration": 29715,
        "start_time": "2022-01-15T16:34:28.880Z"
      },
      {
        "duration": 12,
        "start_time": "2022-01-15T16:34:58.598Z"
      },
      {
        "duration": 13,
        "start_time": "2022-01-15T16:34:58.613Z"
      },
      {
        "duration": 312,
        "start_time": "2022-01-15T16:34:58.629Z"
      },
      {
        "duration": 31,
        "start_time": "2022-01-15T16:34:58.944Z"
      },
      {
        "duration": 6,
        "start_time": "2022-01-15T16:34:58.977Z"
      },
      {
        "duration": 8,
        "start_time": "2022-01-15T16:38:32.706Z"
      },
      {
        "duration": 48,
        "start_time": "2022-01-15T16:38:32.717Z"
      },
      {
        "duration": 21,
        "start_time": "2022-01-15T16:38:32.769Z"
      },
      {
        "duration": 17,
        "start_time": "2022-01-15T16:38:32.793Z"
      },
      {
        "duration": 9,
        "start_time": "2022-01-15T16:38:32.814Z"
      },
      {
        "duration": 42,
        "start_time": "2022-01-15T16:38:32.825Z"
      },
      {
        "duration": 31,
        "start_time": "2022-01-15T16:38:32.870Z"
      },
      {
        "duration": 6,
        "start_time": "2022-01-15T16:38:32.906Z"
      },
      {
        "duration": 12,
        "start_time": "2022-01-15T16:38:32.917Z"
      },
      {
        "duration": 10,
        "start_time": "2022-01-15T16:38:32.968Z"
      },
      {
        "duration": 18,
        "start_time": "2022-01-15T16:38:32.981Z"
      },
      {
        "duration": 13,
        "start_time": "2022-01-15T16:38:33.001Z"
      },
      {
        "duration": 50,
        "start_time": "2022-01-15T16:38:33.017Z"
      },
      {
        "duration": 38,
        "start_time": "2022-01-15T16:38:33.070Z"
      },
      {
        "duration": 7,
        "start_time": "2022-01-15T16:38:33.110Z"
      },
      {
        "duration": 12,
        "start_time": "2022-01-15T16:38:33.119Z"
      },
      {
        "duration": 34,
        "start_time": "2022-01-15T16:38:33.134Z"
      },
      {
        "duration": 20,
        "start_time": "2022-01-15T16:38:33.172Z"
      },
      {
        "duration": 6,
        "start_time": "2022-01-15T16:38:33.194Z"
      },
      {
        "duration": 40,
        "start_time": "2022-01-15T16:38:33.202Z"
      },
      {
        "duration": 39,
        "start_time": "2022-01-15T16:38:33.245Z"
      },
      {
        "duration": 14,
        "start_time": "2022-01-15T16:38:33.286Z"
      },
      {
        "duration": 20,
        "start_time": "2022-01-15T16:38:33.306Z"
      },
      {
        "duration": 9,
        "start_time": "2022-01-15T16:38:33.329Z"
      },
      {
        "duration": 44,
        "start_time": "2022-01-15T16:38:33.340Z"
      },
      {
        "duration": 9,
        "start_time": "2022-01-15T16:38:33.386Z"
      },
      {
        "duration": 8,
        "start_time": "2022-01-15T16:38:33.397Z"
      },
      {
        "duration": 13,
        "start_time": "2022-01-15T16:38:33.407Z"
      },
      {
        "duration": 156,
        "start_time": "2022-01-15T16:38:33.422Z"
      },
      {
        "duration": 209,
        "start_time": "2022-01-15T16:38:33.668Z"
      },
      {
        "duration": 445,
        "start_time": "2022-01-15T16:38:33.880Z"
      },
      {
        "duration": 444,
        "start_time": "2022-01-15T16:38:34.328Z"
      },
      {
        "duration": 91,
        "start_time": "2022-01-15T16:38:34.776Z"
      },
      {
        "duration": 203,
        "start_time": "2022-01-15T16:38:34.871Z"
      },
      {
        "duration": 637,
        "start_time": "2022-01-15T16:38:35.077Z"
      },
      {
        "duration": 285,
        "start_time": "2022-01-15T16:38:35.716Z"
      },
      {
        "duration": 76,
        "start_time": "2022-01-15T16:38:36.004Z"
      },
      {
        "duration": 282,
        "start_time": "2022-01-15T16:38:36.084Z"
      },
      {
        "duration": 12,
        "start_time": "2022-01-15T16:38:36.369Z"
      },
      {
        "duration": 799,
        "start_time": "2022-01-15T16:38:36.385Z"
      },
      {
        "duration": 280,
        "start_time": "2022-01-15T16:38:37.187Z"
      },
      {
        "duration": 259,
        "start_time": "2022-01-15T16:38:37.470Z"
      },
      {
        "duration": 38,
        "start_time": "2022-01-15T16:38:37.731Z"
      },
      {
        "duration": 390,
        "start_time": "2022-01-15T16:38:37.771Z"
      },
      {
        "duration": 275,
        "start_time": "2022-01-15T16:38:38.167Z"
      },
      {
        "duration": 19936,
        "start_time": "2022-01-15T16:38:47.256Z"
      },
      {
        "duration": 341,
        "start_time": "2022-01-15T16:39:07.195Z"
      },
      {
        "duration": 29,
        "start_time": "2022-01-15T16:39:13.704Z"
      },
      {
        "duration": 9,
        "start_time": "2022-01-15T16:42:51.153Z"
      },
      {
        "duration": 7,
        "start_time": "2022-01-15T16:43:23.985Z"
      },
      {
        "duration": 45,
        "start_time": "2022-01-15T16:43:23.996Z"
      },
      {
        "duration": 25,
        "start_time": "2022-01-15T16:43:24.044Z"
      },
      {
        "duration": 12,
        "start_time": "2022-01-15T16:43:24.072Z"
      },
      {
        "duration": 4,
        "start_time": "2022-01-15T16:43:24.087Z"
      },
      {
        "duration": 7,
        "start_time": "2022-01-15T16:43:24.093Z"
      },
      {
        "duration": 71,
        "start_time": "2022-01-15T16:43:24.103Z"
      },
      {
        "duration": 5,
        "start_time": "2022-01-15T16:43:24.178Z"
      },
      {
        "duration": 14,
        "start_time": "2022-01-15T16:43:24.186Z"
      },
      {
        "duration": 65,
        "start_time": "2022-01-15T16:43:24.202Z"
      },
      {
        "duration": 6,
        "start_time": "2022-01-15T16:43:24.270Z"
      },
      {
        "duration": 8,
        "start_time": "2022-01-15T16:43:24.279Z"
      },
      {
        "duration": 22,
        "start_time": "2022-01-15T16:43:24.289Z"
      },
      {
        "duration": 78,
        "start_time": "2022-01-15T16:43:24.314Z"
      },
      {
        "duration": 8,
        "start_time": "2022-01-15T16:43:24.395Z"
      },
      {
        "duration": 10,
        "start_time": "2022-01-15T16:43:24.405Z"
      },
      {
        "duration": 9,
        "start_time": "2022-01-15T16:43:24.418Z"
      },
      {
        "duration": 42,
        "start_time": "2022-01-15T16:43:24.430Z"
      },
      {
        "duration": 5,
        "start_time": "2022-01-15T16:43:24.475Z"
      },
      {
        "duration": 37,
        "start_time": "2022-01-15T16:43:24.483Z"
      },
      {
        "duration": 58,
        "start_time": "2022-01-15T16:43:24.523Z"
      },
      {
        "duration": 12,
        "start_time": "2022-01-15T16:43:24.584Z"
      },
      {
        "duration": 19,
        "start_time": "2022-01-15T16:43:24.603Z"
      },
      {
        "duration": 45,
        "start_time": "2022-01-15T16:43:24.626Z"
      },
      {
        "duration": 20,
        "start_time": "2022-01-15T16:43:24.673Z"
      },
      {
        "duration": 9,
        "start_time": "2022-01-15T16:43:24.696Z"
      },
      {
        "duration": 9,
        "start_time": "2022-01-15T16:43:24.708Z"
      },
      {
        "duration": 6,
        "start_time": "2022-01-15T16:43:24.720Z"
      },
      {
        "duration": 198,
        "start_time": "2022-01-15T16:43:24.769Z"
      },
      {
        "duration": 107,
        "start_time": "2022-01-15T16:43:24.970Z"
      },
      {
        "duration": 550,
        "start_time": "2022-01-15T16:43:25.080Z"
      },
      {
        "duration": 273,
        "start_time": "2022-01-15T16:43:25.633Z"
      },
      {
        "duration": 61,
        "start_time": "2022-01-15T16:43:25.909Z"
      },
      {
        "duration": 205,
        "start_time": "2022-01-15T16:43:26.067Z"
      },
      {
        "duration": 465,
        "start_time": "2022-01-15T16:43:26.275Z"
      },
      {
        "duration": 283,
        "start_time": "2022-01-15T16:43:26.742Z"
      },
      {
        "duration": 43,
        "start_time": "2022-01-15T16:43:27.027Z"
      },
      {
        "duration": 199,
        "start_time": "2022-01-15T16:43:27.073Z"
      },
      {
        "duration": 14,
        "start_time": "2022-01-15T16:43:27.274Z"
      },
      {
        "duration": 547,
        "start_time": "2022-01-15T16:43:27.290Z"
      },
      {
        "duration": 287,
        "start_time": "2022-01-15T16:43:27.840Z"
      },
      {
        "duration": 274,
        "start_time": "2022-01-15T16:43:28.131Z"
      },
      {
        "duration": 21,
        "start_time": "2022-01-15T16:43:28.408Z"
      },
      {
        "duration": 309,
        "start_time": "2022-01-15T16:43:28.432Z"
      },
      {
        "duration": 384,
        "start_time": "2022-01-15T16:43:28.745Z"
      },
      {
        "duration": 16076,
        "start_time": "2022-01-15T16:43:29.132Z"
      },
      {
        "duration": 17,
        "start_time": "2022-01-15T16:43:45.210Z"
      },
      {
        "duration": 66,
        "start_time": "2022-01-15T16:43:45.230Z"
      },
      {
        "duration": 314,
        "start_time": "2022-01-15T16:43:45.299Z"
      },
      {
        "duration": 436,
        "start_time": "2022-01-15T16:43:45.617Z"
      },
      {
        "duration": 11,
        "start_time": "2022-01-15T16:43:46.056Z"
      },
      {
        "duration": 8,
        "start_time": "2022-01-15T16:43:46.069Z"
      },
      {
        "duration": 38041,
        "start_time": "2022-01-15T16:43:46.079Z"
      },
      {
        "duration": 11,
        "start_time": "2022-01-15T16:44:24.123Z"
      },
      {
        "duration": 12,
        "start_time": "2022-01-15T16:44:24.136Z"
      },
      {
        "duration": 268,
        "start_time": "2022-01-15T16:44:24.151Z"
      },
      {
        "duration": 15,
        "start_time": "2022-01-15T16:44:24.421Z"
      },
      {
        "duration": 26,
        "start_time": "2022-01-15T16:44:30.218Z"
      },
      {
        "duration": 27,
        "start_time": "2022-01-15T16:45:28.306Z"
      },
      {
        "duration": 23,
        "start_time": "2022-01-15T16:45:34.657Z"
      },
      {
        "duration": 6,
        "start_time": "2022-01-15T18:41:05.436Z"
      },
      {
        "duration": 11,
        "start_time": "2022-01-15T18:41:23.482Z"
      },
      {
        "duration": 13,
        "start_time": "2022-01-15T18:41:40.009Z"
      },
      {
        "duration": 8,
        "start_time": "2022-01-15T18:44:36.350Z"
      },
      {
        "duration": 31,
        "start_time": "2022-01-15T18:44:42.698Z"
      },
      {
        "duration": 13,
        "start_time": "2022-01-15T18:46:39.078Z"
      },
      {
        "duration": 8,
        "start_time": "2022-01-15T19:08:38.593Z"
      },
      {
        "duration": 4,
        "start_time": "2022-01-15T19:09:05.657Z"
      },
      {
        "duration": 28,
        "start_time": "2022-01-15T19:09:05.664Z"
      },
      {
        "duration": 76,
        "start_time": "2022-01-15T19:09:05.696Z"
      },
      {
        "duration": 4,
        "start_time": "2022-01-15T19:09:09.835Z"
      },
      {
        "duration": 23,
        "start_time": "2022-01-15T19:09:11.675Z"
      },
      {
        "duration": 410,
        "start_time": "2022-01-15T19:09:23.222Z"
      },
      {
        "duration": 92,
        "start_time": "2022-01-15T19:12:53.686Z"
      },
      {
        "duration": 204,
        "start_time": "2022-01-15T19:12:59.436Z"
      },
      {
        "duration": 6,
        "start_time": "2022-01-15T19:13:16.311Z"
      },
      {
        "duration": 395,
        "start_time": "2022-01-15T19:13:41.819Z"
      },
      {
        "duration": 458,
        "start_time": "2022-01-15T19:14:00.576Z"
      },
      {
        "duration": 431,
        "start_time": "2022-01-15T19:14:16.783Z"
      },
      {
        "duration": 14,
        "start_time": "2022-01-15T19:15:02.493Z"
      },
      {
        "duration": 473,
        "start_time": "2022-01-15T19:15:25.858Z"
      },
      {
        "duration": 425,
        "start_time": "2022-01-15T19:15:35.389Z"
      },
      {
        "duration": 3,
        "start_time": "2022-01-15T19:18:17.154Z"
      },
      {
        "duration": 28092,
        "start_time": "2022-01-15T19:18:18.024Z"
      },
      {
        "duration": 23,
        "start_time": "2022-01-15T19:19:31.412Z"
      },
      {
        "duration": 28067,
        "start_time": "2022-01-15T19:20:21.478Z"
      },
      {
        "duration": 104,
        "start_time": "2022-01-15T19:21:05.744Z"
      },
      {
        "duration": 95,
        "start_time": "2022-01-15T19:21:09.240Z"
      },
      {
        "duration": 41,
        "start_time": "2022-01-15T19:21:14.600Z"
      },
      {
        "duration": 313,
        "start_time": "2022-01-15T19:21:39.157Z"
      },
      {
        "duration": 280,
        "start_time": "2022-01-15T19:22:21.490Z"
      },
      {
        "duration": 278,
        "start_time": "2022-01-15T19:22:26.871Z"
      },
      {
        "duration": 9,
        "start_time": "2022-01-15T19:22:43.431Z"
      },
      {
        "duration": 47,
        "start_time": "2022-01-15T19:22:43.444Z"
      },
      {
        "duration": 19,
        "start_time": "2022-01-15T19:22:43.494Z"
      },
      {
        "duration": 14,
        "start_time": "2022-01-15T19:22:43.515Z"
      },
      {
        "duration": 5,
        "start_time": "2022-01-15T19:22:43.531Z"
      },
      {
        "duration": 31,
        "start_time": "2022-01-15T19:22:43.538Z"
      },
      {
        "duration": 23,
        "start_time": "2022-01-15T19:22:43.573Z"
      },
      {
        "duration": 5,
        "start_time": "2022-01-15T19:22:43.599Z"
      },
      {
        "duration": 60,
        "start_time": "2022-01-15T19:22:43.607Z"
      },
      {
        "duration": 10,
        "start_time": "2022-01-15T19:22:43.671Z"
      },
      {
        "duration": 11,
        "start_time": "2022-01-15T19:22:43.684Z"
      },
      {
        "duration": 9,
        "start_time": "2022-01-15T19:22:43.698Z"
      },
      {
        "duration": 63,
        "start_time": "2022-01-15T19:22:43.710Z"
      },
      {
        "duration": 35,
        "start_time": "2022-01-15T19:22:43.776Z"
      },
      {
        "duration": 7,
        "start_time": "2022-01-15T19:22:43.814Z"
      },
      {
        "duration": 41,
        "start_time": "2022-01-15T19:22:43.827Z"
      },
      {
        "duration": 8,
        "start_time": "2022-01-15T19:22:43.871Z"
      },
      {
        "duration": 9,
        "start_time": "2022-01-15T19:22:43.881Z"
      },
      {
        "duration": 4,
        "start_time": "2022-01-15T19:22:43.892Z"
      },
      {
        "duration": 71,
        "start_time": "2022-01-15T19:22:43.899Z"
      },
      {
        "duration": 16,
        "start_time": "2022-01-15T19:22:43.972Z"
      },
      {
        "duration": 9,
        "start_time": "2022-01-15T19:22:43.991Z"
      },
      {
        "duration": 20,
        "start_time": "2022-01-15T19:22:44.002Z"
      },
      {
        "duration": 45,
        "start_time": "2022-01-15T19:22:44.025Z"
      },
      {
        "duration": 19,
        "start_time": "2022-01-15T19:22:44.072Z"
      },
      {
        "duration": 7,
        "start_time": "2022-01-15T19:22:44.094Z"
      },
      {
        "duration": 5,
        "start_time": "2022-01-15T19:22:44.104Z"
      },
      {
        "duration": 6,
        "start_time": "2022-01-15T19:22:44.112Z"
      },
      {
        "duration": 6,
        "start_time": "2022-01-15T19:22:44.197Z"
      },
      {
        "duration": 9,
        "start_time": "2022-01-15T19:22:44.205Z"
      },
      {
        "duration": 53,
        "start_time": "2022-01-15T19:22:44.217Z"
      },
      {
        "duration": 197,
        "start_time": "2022-01-15T19:22:44.274Z"
      },
      {
        "duration": 558,
        "start_time": "2022-01-15T19:22:44.474Z"
      },
      {
        "duration": 559,
        "start_time": "2022-01-15T19:22:45.034Z"
      },
      {
        "duration": 74,
        "start_time": "2022-01-15T19:22:45.596Z"
      },
      {
        "duration": 201,
        "start_time": "2022-01-15T19:22:45.674Z"
      },
      {
        "duration": 464,
        "start_time": "2022-01-15T19:22:45.879Z"
      },
      {
        "duration": 455,
        "start_time": "2022-01-15T19:22:46.346Z"
      },
      {
        "duration": 64,
        "start_time": "2022-01-15T19:22:46.803Z"
      },
      {
        "duration": 206,
        "start_time": "2022-01-15T19:22:46.871Z"
      },
      {
        "duration": 87,
        "start_time": "2022-01-15T19:22:47.079Z"
      },
      {
        "duration": 476,
        "start_time": "2022-01-15T19:22:47.170Z"
      },
      {
        "duration": 461,
        "start_time": "2022-01-15T19:22:47.649Z"
      },
      {
        "duration": 275,
        "start_time": "2022-01-15T19:22:48.112Z"
      },
      {
        "duration": 22,
        "start_time": "2022-01-15T19:22:48.390Z"
      },
      {
        "duration": 310,
        "start_time": "2022-01-15T19:22:48.414Z"
      },
      {
        "duration": 278,
        "start_time": "2022-01-15T19:22:48.727Z"
      },
      {
        "duration": 15511,
        "start_time": "2022-01-15T19:22:49.008Z"
      },
      {
        "duration": 16,
        "start_time": "2022-01-15T19:23:04.522Z"
      },
      {
        "duration": 49,
        "start_time": "2022-01-15T19:23:04.541Z"
      },
      {
        "duration": 313,
        "start_time": "2022-01-15T19:23:04.595Z"
      },
      {
        "duration": 312,
        "start_time": "2022-01-15T19:23:04.912Z"
      },
      {
        "duration": 4,
        "start_time": "2022-01-15T19:23:05.226Z"
      },
      {
        "duration": 27909,
        "start_time": "2022-01-15T19:23:05.233Z"
      },
      {
        "duration": 23,
        "start_time": "2022-01-15T19:23:33.145Z"
      },
      {
        "duration": 306,
        "start_time": "2022-01-15T19:23:33.171Z"
      },
      {
        "duration": 288,
        "start_time": "2022-01-15T19:23:33.480Z"
      },
      {
        "duration": 15855,
        "start_time": "2022-01-15T19:35:24.091Z"
      },
      {
        "duration": 12967,
        "start_time": "2022-01-15T19:36:22.156Z"
      },
      {
        "duration": 18,
        "start_time": "2022-01-15T19:36:44.512Z"
      },
      {
        "duration": 31,
        "start_time": "2022-01-15T19:36:46.085Z"
      },
      {
        "duration": 1645,
        "start_time": "2022-01-16T09:57:14.050Z"
      },
      {
        "duration": 35,
        "start_time": "2022-01-16T09:57:15.698Z"
      },
      {
        "duration": 33,
        "start_time": "2022-01-16T09:57:15.736Z"
      },
      {
        "duration": 13,
        "start_time": "2022-01-16T09:57:15.771Z"
      },
      {
        "duration": 5,
        "start_time": "2022-01-16T09:57:15.787Z"
      },
      {
        "duration": 8,
        "start_time": "2022-01-16T09:57:15.794Z"
      },
      {
        "duration": 22,
        "start_time": "2022-01-16T09:57:15.805Z"
      },
      {
        "duration": 5,
        "start_time": "2022-01-16T09:57:15.868Z"
      },
      {
        "duration": 13,
        "start_time": "2022-01-16T09:57:15.876Z"
      },
      {
        "duration": 10,
        "start_time": "2022-01-16T09:57:15.891Z"
      },
      {
        "duration": 8,
        "start_time": "2022-01-16T09:57:15.903Z"
      },
      {
        "duration": 7,
        "start_time": "2022-01-16T09:57:15.913Z"
      },
      {
        "duration": 60,
        "start_time": "2022-01-16T09:57:15.922Z"
      },
      {
        "duration": 34,
        "start_time": "2022-01-16T09:57:15.985Z"
      },
      {
        "duration": 7,
        "start_time": "2022-01-16T09:57:16.021Z"
      },
      {
        "duration": 43,
        "start_time": "2022-01-16T09:57:16.030Z"
      },
      {
        "duration": 8,
        "start_time": "2022-01-16T09:57:16.076Z"
      },
      {
        "duration": 6,
        "start_time": "2022-01-16T09:57:16.087Z"
      },
      {
        "duration": 4,
        "start_time": "2022-01-16T09:57:16.096Z"
      },
      {
        "duration": 69,
        "start_time": "2022-01-16T09:57:16.103Z"
      },
      {
        "duration": 18,
        "start_time": "2022-01-16T09:57:16.174Z"
      },
      {
        "duration": 10,
        "start_time": "2022-01-16T09:57:16.194Z"
      },
      {
        "duration": 20,
        "start_time": "2022-01-16T09:57:16.209Z"
      },
      {
        "duration": 40,
        "start_time": "2022-01-16T09:57:16.232Z"
      },
      {
        "duration": 20,
        "start_time": "2022-01-16T09:57:16.274Z"
      },
      {
        "duration": 8,
        "start_time": "2022-01-16T09:57:16.296Z"
      },
      {
        "duration": 5,
        "start_time": "2022-01-16T09:57:16.307Z"
      },
      {
        "duration": 8,
        "start_time": "2022-01-16T09:57:16.314Z"
      },
      {
        "duration": 47,
        "start_time": "2022-01-16T09:57:16.324Z"
      },
      {
        "duration": 13,
        "start_time": "2022-01-16T09:57:16.374Z"
      },
      {
        "duration": 80,
        "start_time": "2022-01-16T09:57:16.390Z"
      },
      {
        "duration": 203,
        "start_time": "2022-01-16T09:57:16.474Z"
      },
      {
        "duration": 476,
        "start_time": "2022-01-16T09:57:16.768Z"
      },
      {
        "duration": 444,
        "start_time": "2022-01-16T09:57:17.246Z"
      },
      {
        "duration": 75,
        "start_time": "2022-01-16T09:57:17.693Z"
      },
      {
        "duration": 199,
        "start_time": "2022-01-16T09:57:17.773Z"
      },
      {
        "duration": 456,
        "start_time": "2022-01-16T09:57:17.974Z"
      },
      {
        "duration": 447,
        "start_time": "2022-01-16T09:57:18.432Z"
      },
      {
        "duration": 31,
        "start_time": "2022-01-16T09:57:18.881Z"
      },
      {
        "duration": 257,
        "start_time": "2022-01-16T09:57:18.915Z"
      },
      {
        "duration": 12,
        "start_time": "2022-01-16T09:57:19.174Z"
      },
      {
        "duration": 468,
        "start_time": "2022-01-16T09:57:19.268Z"
      },
      {
        "duration": 433,
        "start_time": "2022-01-16T09:57:19.739Z"
      },
      {
        "duration": 30,
        "start_time": "2022-01-16T09:57:20.174Z"
      },
      {
        "duration": 30,
        "start_time": "2022-01-16T09:57:34.348Z"
      },
      {
        "duration": 189,
        "start_time": "2022-01-16T09:57:35.280Z"
      },
      {
        "duration": 520,
        "start_time": "2022-01-16T09:57:55.764Z"
      },
      {
        "duration": 427,
        "start_time": "2022-01-16T09:58:06.299Z"
      },
      {
        "duration": 105,
        "start_time": "2022-01-16T10:05:33.617Z"
      },
      {
        "duration": 20,
        "start_time": "2022-01-16T10:05:37.215Z"
      },
      {
        "duration": 279,
        "start_time": "2022-01-16T10:05:43.884Z"
      },
      {
        "duration": 287,
        "start_time": "2022-01-16T10:05:50.195Z"
      },
      {
        "duration": 7374,
        "start_time": "2022-01-16T10:06:02.163Z"
      },
      {
        "duration": 17,
        "start_time": "2022-01-16T10:06:43.936Z"
      },
      {
        "duration": 28,
        "start_time": "2022-01-16T10:06:49.163Z"
      },
      {
        "duration": 344,
        "start_time": "2022-01-16T10:07:21.082Z"
      },
      {
        "duration": 6997,
        "start_time": "2022-01-16T10:08:21.430Z"
      },
      {
        "duration": 31,
        "start_time": "2022-01-16T10:08:35.373Z"
      },
      {
        "duration": 454,
        "start_time": "2022-01-16T10:09:26.770Z"
      },
      {
        "duration": 269,
        "start_time": "2022-01-16T10:09:32.748Z"
      },
      {
        "duration": 254,
        "start_time": "2022-01-16T10:09:53.221Z"
      },
      {
        "duration": 20,
        "start_time": "2022-01-16T10:09:56.594Z"
      },
      {
        "duration": 264,
        "start_time": "2022-01-16T10:10:23.369Z"
      },
      {
        "duration": 20,
        "start_time": "2022-01-16T10:10:26.967Z"
      },
      {
        "duration": 111,
        "start_time": "2022-01-16T10:11:13.930Z"
      },
      {
        "duration": 21,
        "start_time": "2022-01-16T10:11:17.171Z"
      },
      {
        "duration": 19,
        "start_time": "2022-01-16T10:13:20.083Z"
      },
      {
        "duration": 118,
        "start_time": "2022-01-16T10:13:26.449Z"
      },
      {
        "duration": 21,
        "start_time": "2022-01-16T10:13:34.243Z"
      },
      {
        "duration": 20,
        "start_time": "2022-01-16T10:15:04.686Z"
      },
      {
        "duration": 109,
        "start_time": "2022-01-16T10:16:06.404Z"
      },
      {
        "duration": 24,
        "start_time": "2022-01-16T10:16:09.392Z"
      },
      {
        "duration": 20,
        "start_time": "2022-01-16T10:16:18.802Z"
      },
      {
        "duration": 284,
        "start_time": "2022-01-16T10:16:40.746Z"
      },
      {
        "duration": 279,
        "start_time": "2022-01-16T10:16:47.718Z"
      },
      {
        "duration": 257,
        "start_time": "2022-01-16T10:16:52.484Z"
      },
      {
        "duration": 7005,
        "start_time": "2022-01-16T10:17:27.790Z"
      },
      {
        "duration": 7249,
        "start_time": "2022-01-16T10:18:03.969Z"
      },
      {
        "duration": 19,
        "start_time": "2022-01-16T10:18:39.806Z"
      },
      {
        "duration": 7122,
        "start_time": "2022-01-16T10:18:58.466Z"
      },
      {
        "duration": 19,
        "start_time": "2022-01-16T10:19:12.328Z"
      },
      {
        "duration": 25,
        "start_time": "2022-01-16T10:19:14.985Z"
      },
      {
        "duration": 309,
        "start_time": "2022-01-16T10:19:35.153Z"
      },
      {
        "duration": 289,
        "start_time": "2022-01-16T10:19:39.273Z"
      },
      {
        "duration": 3,
        "start_time": "2022-01-16T10:20:23.879Z"
      },
      {
        "duration": 7497,
        "start_time": "2022-01-16T10:20:25.579Z"
      },
      {
        "duration": 27,
        "start_time": "2022-01-16T10:20:37.013Z"
      },
      {
        "duration": 293,
        "start_time": "2022-01-16T10:22:01.530Z"
      },
      {
        "duration": 31949,
        "start_time": "2022-01-16T10:22:09.101Z"
      },
      {
        "duration": 19,
        "start_time": "2022-01-16T10:24:33.191Z"
      },
      {
        "duration": 108,
        "start_time": "2022-01-16T11:53:49.483Z"
      },
      {
        "duration": 21,
        "start_time": "2022-01-16T11:53:51.523Z"
      },
      {
        "duration": 6961,
        "start_time": "2022-01-16T11:54:06.393Z"
      },
      {
        "duration": 23,
        "start_time": "2022-01-16T11:54:28.936Z"
      },
      {
        "duration": 9,
        "start_time": "2022-01-16T12:20:14.463Z"
      },
      {
        "duration": 42,
        "start_time": "2022-01-16T12:20:14.476Z"
      },
      {
        "duration": 20,
        "start_time": "2022-01-16T12:20:14.520Z"
      },
      {
        "duration": 35,
        "start_time": "2022-01-16T12:20:14.543Z"
      },
      {
        "duration": 4,
        "start_time": "2022-01-16T12:20:14.582Z"
      },
      {
        "duration": 8,
        "start_time": "2022-01-16T12:20:14.588Z"
      },
      {
        "duration": 25,
        "start_time": "2022-01-16T12:20:14.600Z"
      },
      {
        "duration": 6,
        "start_time": "2022-01-16T12:20:14.629Z"
      },
      {
        "duration": 6,
        "start_time": "2022-01-16T12:20:14.680Z"
      },
      {
        "duration": 27,
        "start_time": "2022-01-16T12:20:14.688Z"
      },
      {
        "duration": 56,
        "start_time": "2022-01-16T12:20:14.718Z"
      },
      {
        "duration": 7,
        "start_time": "2022-01-16T12:20:14.777Z"
      },
      {
        "duration": 9,
        "start_time": "2022-01-16T12:20:14.809Z"
      },
      {
        "duration": 9,
        "start_time": "2022-01-16T12:20:14.824Z"
      },
      {
        "duration": 6,
        "start_time": "2022-01-16T12:20:14.837Z"
      },
      {
        "duration": 27,
        "start_time": "2022-01-16T12:20:14.846Z"
      },
      {
        "duration": 39,
        "start_time": "2022-01-16T12:20:14.877Z"
      },
      {
        "duration": 67,
        "start_time": "2022-01-16T12:20:14.919Z"
      },
      {
        "duration": 10,
        "start_time": "2022-01-16T12:20:14.988Z"
      },
      {
        "duration": 33,
        "start_time": "2022-01-16T12:20:15.001Z"
      },
      {
        "duration": 9,
        "start_time": "2022-01-16T12:20:15.036Z"
      },
      {
        "duration": 43,
        "start_time": "2022-01-16T12:20:15.048Z"
      },
      {
        "duration": 8,
        "start_time": "2022-01-16T12:20:15.094Z"
      },
      {
        "duration": 11,
        "start_time": "2022-01-16T12:20:15.105Z"
      },
      {
        "duration": 6,
        "start_time": "2022-01-16T12:20:15.119Z"
      },
      {
        "duration": 42,
        "start_time": "2022-01-16T12:20:15.128Z"
      },
      {
        "duration": 13,
        "start_time": "2022-01-16T12:20:15.173Z"
      },
      {
        "duration": 90,
        "start_time": "2022-01-16T12:20:15.189Z"
      },
      {
        "duration": 200,
        "start_time": "2022-01-16T12:20:15.282Z"
      },
      {
        "duration": 469,
        "start_time": "2022-01-16T12:20:15.493Z"
      },
      {
        "duration": 449,
        "start_time": "2022-01-16T12:20:15.969Z"
      },
      {
        "duration": 59,
        "start_time": "2022-01-16T12:20:16.421Z"
      },
      {
        "duration": 195,
        "start_time": "2022-01-16T12:20:16.485Z"
      },
      {
        "duration": 482,
        "start_time": "2022-01-16T12:20:16.685Z"
      },
      {
        "duration": 453,
        "start_time": "2022-01-16T12:20:17.173Z"
      },
      {
        "duration": 63,
        "start_time": "2022-01-16T12:20:17.628Z"
      },
      {
        "duration": 115,
        "start_time": "2022-01-16T12:20:17.767Z"
      },
      {
        "duration": 97,
        "start_time": "2022-01-16T12:20:17.885Z"
      },
      {
        "duration": 504,
        "start_time": "2022-01-16T12:20:17.985Z"
      },
      {
        "duration": 433,
        "start_time": "2022-01-16T12:20:18.492Z"
      },
      {
        "duration": 52,
        "start_time": "2022-01-16T12:20:18.928Z"
      },
      {
        "duration": 196,
        "start_time": "2022-01-16T12:20:18.983Z"
      },
      {
        "duration": 147,
        "start_time": "2022-01-16T12:20:19.182Z"
      },
      {
        "duration": 20,
        "start_time": "2022-01-16T12:20:19.331Z"
      },
      {
        "duration": 303,
        "start_time": "2022-01-16T12:20:19.368Z"
      },
      {
        "duration": 287,
        "start_time": "2022-01-16T12:20:19.673Z"
      },
      {
        "duration": 7173,
        "start_time": "2022-01-16T12:20:19.967Z"
      },
      {
        "duration": 40,
        "start_time": "2022-01-16T12:20:27.142Z"
      },
      {
        "duration": 427,
        "start_time": "2022-01-16T12:20:27.184Z"
      },
      {
        "duration": 301,
        "start_time": "2022-01-16T12:20:27.613Z"
      },
      {
        "duration": 5,
        "start_time": "2022-01-16T12:20:27.917Z"
      },
      {
        "duration": 34996,
        "start_time": "2022-01-16T12:20:27.925Z"
      },
      {
        "duration": 23,
        "start_time": "2022-01-16T12:21:02.923Z"
      },
      {
        "duration": 297,
        "start_time": "2022-01-16T12:21:02.949Z"
      },
      {
        "duration": 302,
        "start_time": "2022-01-16T12:21:03.248Z"
      },
      {
        "duration": 309,
        "start_time": "2022-01-16T12:22:12.992Z"
      },
      {
        "duration": 10,
        "start_time": "2022-01-16T12:22:23.386Z"
      },
      {
        "duration": 13,
        "start_time": "2022-01-16T12:22:38.449Z"
      },
      {
        "duration": 32,
        "start_time": "2022-01-16T13:32:50.338Z"
      },
      {
        "duration": 274,
        "start_time": "2022-01-16T13:33:23.302Z"
      },
      {
        "duration": 284,
        "start_time": "2022-01-16T13:33:50.515Z"
      },
      {
        "duration": 383,
        "start_time": "2022-01-16T13:34:52.339Z"
      },
      {
        "duration": 10,
        "start_time": "2022-01-16T13:34:59.617Z"
      },
      {
        "duration": 39,
        "start_time": "2022-01-16T13:34:59.630Z"
      },
      {
        "duration": 28,
        "start_time": "2022-01-16T13:34:59.677Z"
      },
      {
        "duration": 62,
        "start_time": "2022-01-16T13:34:59.709Z"
      },
      {
        "duration": 5,
        "start_time": "2022-01-16T13:34:59.774Z"
      },
      {
        "duration": 9,
        "start_time": "2022-01-16T13:34:59.782Z"
      },
      {
        "duration": 29,
        "start_time": "2022-01-16T13:34:59.794Z"
      },
      {
        "duration": 14,
        "start_time": "2022-01-16T13:34:59.869Z"
      },
      {
        "duration": 18,
        "start_time": "2022-01-16T13:34:59.887Z"
      },
      {
        "duration": 30,
        "start_time": "2022-01-16T13:34:59.909Z"
      },
      {
        "duration": 67,
        "start_time": "2022-01-16T13:34:59.942Z"
      },
      {
        "duration": 8,
        "start_time": "2022-01-16T13:35:00.025Z"
      },
      {
        "duration": 13,
        "start_time": "2022-01-16T13:35:00.037Z"
      },
      {
        "duration": 23,
        "start_time": "2022-01-16T13:35:00.053Z"
      },
      {
        "duration": 15,
        "start_time": "2022-01-16T13:35:00.079Z"
      },
      {
        "duration": 7,
        "start_time": "2022-01-16T13:35:00.098Z"
      },
      {
        "duration": 67,
        "start_time": "2022-01-16T13:35:00.108Z"
      },
      {
        "duration": 20,
        "start_time": "2022-01-16T13:35:00.178Z"
      },
      {
        "duration": 21,
        "start_time": "2022-01-16T13:35:00.201Z"
      },
      {
        "duration": 53,
        "start_time": "2022-01-16T13:35:00.226Z"
      },
      {
        "duration": 14,
        "start_time": "2022-01-16T13:35:00.282Z"
      },
      {
        "duration": 31,
        "start_time": "2022-01-16T13:35:00.300Z"
      },
      {
        "duration": 38,
        "start_time": "2022-01-16T13:35:00.340Z"
      },
      {
        "duration": 21,
        "start_time": "2022-01-16T13:35:00.383Z"
      },
      {
        "duration": 13,
        "start_time": "2022-01-16T13:35:00.406Z"
      },
      {
        "duration": 31,
        "start_time": "2022-01-16T13:35:00.422Z"
      },
      {
        "duration": 34,
        "start_time": "2022-01-16T13:35:00.456Z"
      },
      {
        "duration": 64,
        "start_time": "2022-01-16T13:35:00.493Z"
      },
      {
        "duration": 200,
        "start_time": "2022-01-16T13:35:00.582Z"
      },
      {
        "duration": 677,
        "start_time": "2022-01-16T13:35:00.786Z"
      },
      {
        "duration": 448,
        "start_time": "2022-01-16T13:35:01.468Z"
      },
      {
        "duration": 148,
        "start_time": "2022-01-16T13:35:01.919Z"
      },
      {
        "duration": 198,
        "start_time": "2022-01-16T13:35:02.071Z"
      },
      {
        "duration": 470,
        "start_time": "2022-01-16T13:35:02.272Z"
      },
      {
        "duration": 581,
        "start_time": "2022-01-16T13:35:02.745Z"
      },
      {
        "duration": 50,
        "start_time": "2022-01-16T13:35:03.328Z"
      },
      {
        "duration": 189,
        "start_time": "2022-01-16T13:35:03.387Z"
      },
      {
        "duration": 97,
        "start_time": "2022-01-16T13:35:03.579Z"
      },
      {
        "duration": 617,
        "start_time": "2022-01-16T13:35:03.679Z"
      },
      {
        "duration": 708,
        "start_time": "2022-01-16T13:35:04.299Z"
      },
      {
        "duration": 58,
        "start_time": "2022-01-16T13:35:05.010Z"
      },
      {
        "duration": 199,
        "start_time": "2022-01-16T13:35:05.071Z"
      },
      {
        "duration": 167,
        "start_time": "2022-01-16T13:35:05.273Z"
      },
      {
        "duration": 46,
        "start_time": "2022-01-16T13:35:05.443Z"
      },
      {
        "duration": 419,
        "start_time": "2022-01-16T13:35:05.492Z"
      },
      {
        "duration": 288,
        "start_time": "2022-01-16T13:35:05.913Z"
      },
      {
        "duration": 10567,
        "start_time": "2022-01-16T13:35:06.204Z"
      },
      {
        "duration": 38,
        "start_time": "2022-01-16T13:35:16.774Z"
      },
      {
        "duration": 490,
        "start_time": "2022-01-16T13:35:16.816Z"
      },
      {
        "duration": 302,
        "start_time": "2022-01-16T13:35:17.309Z"
      },
      {
        "duration": 3,
        "start_time": "2022-01-16T13:35:17.614Z"
      },
      {
        "duration": 43240,
        "start_time": "2022-01-16T13:35:17.620Z"
      },
      {
        "duration": 36,
        "start_time": "2022-01-16T13:36:00.863Z"
      },
      {
        "duration": 411,
        "start_time": "2022-01-16T13:36:00.902Z"
      },
      {
        "duration": 315,
        "start_time": "2022-01-16T13:36:01.316Z"
      },
      {
        "duration": 5,
        "start_time": "2022-01-16T13:36:01.636Z"
      },
      {
        "duration": 761,
        "start_time": "2022-01-16T13:36:07.741Z"
      },
      {
        "duration": 46903,
        "start_time": "2022-01-16T13:37:44.843Z"
      },
      {
        "duration": 41,
        "start_time": "2022-01-16T13:38:37.080Z"
      },
      {
        "duration": 309,
        "start_time": "2022-01-16T13:38:48.272Z"
      },
      {
        "duration": 405,
        "start_time": "2022-01-16T13:38:54.285Z"
      },
      {
        "duration": 315,
        "start_time": "2022-01-16T13:39:00.728Z"
      },
      {
        "duration": 19,
        "start_time": "2022-01-16T13:39:13.777Z"
      },
      {
        "duration": 31,
        "start_time": "2022-01-16T13:39:36.060Z"
      },
      {
        "duration": 17,
        "start_time": "2022-01-16T13:41:02.655Z"
      },
      {
        "duration": 25,
        "start_time": "2022-01-16T13:42:01.489Z"
      },
      {
        "duration": 574,
        "start_time": "2022-01-16T13:42:25.158Z"
      },
      {
        "duration": 1034,
        "start_time": "2022-01-16T13:42:30.042Z"
      },
      {
        "duration": 37,
        "start_time": "2022-01-16T13:42:53.333Z"
      },
      {
        "duration": 323,
        "start_time": "2022-01-16T13:45:24.477Z"
      },
      {
        "duration": 7,
        "start_time": "2022-01-16T13:46:20.727Z"
      },
      {
        "duration": 9,
        "start_time": "2022-01-16T13:46:34.095Z"
      },
      {
        "duration": 7,
        "start_time": "2022-01-16T13:46:41.636Z"
      },
      {
        "duration": 386,
        "start_time": "2022-01-16T13:47:04.346Z"
      },
      {
        "duration": 113,
        "start_time": "2022-01-16T13:47:14.194Z"
      },
      {
        "duration": 3883,
        "start_time": "2022-01-16T13:48:47.736Z"
      },
      {
        "duration": 112,
        "start_time": "2022-01-16T13:50:00.120Z"
      },
      {
        "duration": 348,
        "start_time": "2022-01-16T13:50:07.981Z"
      },
      {
        "duration": 272,
        "start_time": "2022-01-16T13:52:13.664Z"
      },
      {
        "duration": 1623,
        "start_time": "2022-01-16T13:52:20.060Z"
      },
      {
        "duration": 36,
        "start_time": "2022-01-16T13:52:21.685Z"
      },
      {
        "duration": 23,
        "start_time": "2022-01-16T13:52:21.724Z"
      },
      {
        "duration": 22,
        "start_time": "2022-01-16T13:52:21.749Z"
      },
      {
        "duration": 4,
        "start_time": "2022-01-16T13:52:21.773Z"
      },
      {
        "duration": 8,
        "start_time": "2022-01-16T13:52:21.779Z"
      },
      {
        "duration": 24,
        "start_time": "2022-01-16T13:52:21.789Z"
      },
      {
        "duration": 4,
        "start_time": "2022-01-16T13:52:21.817Z"
      },
      {
        "duration": 49,
        "start_time": "2022-01-16T13:52:21.824Z"
      },
      {
        "duration": 25,
        "start_time": "2022-01-16T13:52:21.875Z"
      },
      {
        "duration": 36,
        "start_time": "2022-01-16T13:52:21.903Z"
      },
      {
        "duration": 26,
        "start_time": "2022-01-16T13:52:21.942Z"
      },
      {
        "duration": 12,
        "start_time": "2022-01-16T13:52:21.971Z"
      },
      {
        "duration": 21,
        "start_time": "2022-01-16T13:52:21.985Z"
      },
      {
        "duration": 12,
        "start_time": "2022-01-16T13:52:22.009Z"
      },
      {
        "duration": 13,
        "start_time": "2022-01-16T13:52:22.023Z"
      },
      {
        "duration": 52,
        "start_time": "2022-01-16T13:52:22.038Z"
      },
      {
        "duration": 18,
        "start_time": "2022-01-16T13:52:22.092Z"
      },
      {
        "duration": 12,
        "start_time": "2022-01-16T13:52:22.113Z"
      },
      {
        "duration": 52,
        "start_time": "2022-01-16T13:52:22.127Z"
      },
      {
        "duration": 8,
        "start_time": "2022-01-16T13:52:22.182Z"
      },
      {
        "duration": 19,
        "start_time": "2022-01-16T13:52:22.193Z"
      },
      {
        "duration": 9,
        "start_time": "2022-01-16T13:52:22.217Z"
      },
      {
        "duration": 39,
        "start_time": "2022-01-16T13:52:22.229Z"
      },
      {
        "duration": 14,
        "start_time": "2022-01-16T13:52:22.271Z"
      },
      {
        "duration": 12,
        "start_time": "2022-01-16T13:52:22.287Z"
      },
      {
        "duration": 12,
        "start_time": "2022-01-16T13:52:22.301Z"
      },
      {
        "duration": 55,
        "start_time": "2022-01-16T13:52:22.316Z"
      },
      {
        "duration": 298,
        "start_time": "2022-01-16T13:52:22.375Z"
      },
      {
        "duration": 477,
        "start_time": "2022-01-16T13:52:22.676Z"
      },
      {
        "duration": 463,
        "start_time": "2022-01-16T13:52:23.156Z"
      },
      {
        "duration": 46,
        "start_time": "2022-01-16T13:52:23.622Z"
      },
      {
        "duration": 204,
        "start_time": "2022-01-16T13:52:23.672Z"
      },
      {
        "duration": 498,
        "start_time": "2022-01-16T13:52:23.878Z"
      },
      {
        "duration": 501,
        "start_time": "2022-01-16T13:52:24.378Z"
      },
      {
        "duration": 86,
        "start_time": "2022-01-16T13:52:24.882Z"
      },
      {
        "duration": 197,
        "start_time": "2022-01-16T13:52:24.972Z"
      },
      {
        "duration": 95,
        "start_time": "2022-01-16T13:52:25.173Z"
      },
      {
        "duration": 828,
        "start_time": "2022-01-16T13:52:25.272Z"
      },
      {
        "duration": 534,
        "start_time": "2022-01-16T13:52:26.102Z"
      },
      {
        "duration": 42,
        "start_time": "2022-01-16T13:52:26.638Z"
      },
      {
        "duration": 286,
        "start_time": "2022-01-16T13:52:26.683Z"
      },
      {
        "duration": 123,
        "start_time": "2022-01-16T13:52:26.972Z"
      },
      {
        "duration": 18,
        "start_time": "2022-01-16T13:52:27.098Z"
      },
      {
        "duration": 309,
        "start_time": "2022-01-16T13:52:27.119Z"
      },
      {
        "duration": 272,
        "start_time": "2022-01-16T13:52:27.431Z"
      },
      {
        "duration": 7026,
        "start_time": "2022-01-16T13:52:27.706Z"
      },
      {
        "duration": 38,
        "start_time": "2022-01-16T13:52:34.734Z"
      },
      {
        "duration": 311,
        "start_time": "2022-01-16T13:52:34.775Z"
      },
      {
        "duration": 309,
        "start_time": "2022-01-16T13:52:35.089Z"
      },
      {
        "duration": 4,
        "start_time": "2022-01-16T13:52:35.401Z"
      },
      {
        "duration": 27842,
        "start_time": "2022-01-16T13:52:35.407Z"
      },
      {
        "duration": 28,
        "start_time": "2022-01-16T13:53:03.251Z"
      },
      {
        "duration": 333,
        "start_time": "2022-01-16T13:53:03.283Z"
      },
      {
        "duration": 291,
        "start_time": "2022-01-16T13:53:03.618Z"
      },
      {
        "duration": 19,
        "start_time": "2022-01-16T13:53:03.911Z"
      },
      {
        "duration": 10,
        "start_time": "2022-01-16T13:53:03.932Z"
      },
      {
        "duration": 5,
        "start_time": "2022-01-16T13:53:03.968Z"
      },
      {
        "duration": 552,
        "start_time": "2022-01-16T13:54:06.037Z"
      },
      {
        "duration": 40,
        "start_time": "2022-01-16T13:54:18.117Z"
      },
      {
        "duration": 39,
        "start_time": "2022-01-16T13:54:36.102Z"
      },
      {
        "duration": 36,
        "start_time": "2022-01-16T13:54:43.346Z"
      },
      {
        "duration": 39,
        "start_time": "2022-01-16T13:55:36.573Z"
      },
      {
        "duration": 5,
        "start_time": "2022-01-16T13:56:09.995Z"
      },
      {
        "duration": 13,
        "start_time": "2022-01-16T13:56:47.041Z"
      },
      {
        "duration": 12,
        "start_time": "2022-01-16T13:57:03.605Z"
      },
      {
        "duration": 46,
        "start_time": "2022-01-16T13:58:07.150Z"
      },
      {
        "duration": 283,
        "start_time": "2022-01-16T13:59:13.413Z"
      },
      {
        "duration": 60,
        "start_time": "2022-01-16T13:59:35.694Z"
      },
      {
        "duration": 46,
        "start_time": "2022-01-16T13:59:50.848Z"
      },
      {
        "duration": 37,
        "start_time": "2022-01-16T14:00:19.890Z"
      },
      {
        "duration": 43,
        "start_time": "2022-01-16T14:00:32.262Z"
      },
      {
        "duration": 6,
        "start_time": "2022-01-16T14:02:14.063Z"
      },
      {
        "duration": 40,
        "start_time": "2022-01-16T14:02:14.071Z"
      },
      {
        "duration": 20,
        "start_time": "2022-01-16T14:02:14.115Z"
      },
      {
        "duration": 36,
        "start_time": "2022-01-16T14:02:14.138Z"
      },
      {
        "duration": 5,
        "start_time": "2022-01-16T14:02:14.177Z"
      },
      {
        "duration": 10,
        "start_time": "2022-01-16T14:02:14.185Z"
      },
      {
        "duration": 24,
        "start_time": "2022-01-16T14:02:14.197Z"
      },
      {
        "duration": 5,
        "start_time": "2022-01-16T14:02:14.224Z"
      },
      {
        "duration": 7,
        "start_time": "2022-01-16T14:02:14.268Z"
      },
      {
        "duration": 23,
        "start_time": "2022-01-16T14:02:14.278Z"
      },
      {
        "duration": 39,
        "start_time": "2022-01-16T14:02:14.304Z"
      },
      {
        "duration": 7,
        "start_time": "2022-01-16T14:02:14.366Z"
      },
      {
        "duration": 12,
        "start_time": "2022-01-16T14:02:14.376Z"
      },
      {
        "duration": 9,
        "start_time": "2022-01-16T14:02:14.391Z"
      },
      {
        "duration": 9,
        "start_time": "2022-01-16T14:02:14.402Z"
      },
      {
        "duration": 12,
        "start_time": "2022-01-16T14:02:14.414Z"
      },
      {
        "duration": 63,
        "start_time": "2022-01-16T14:02:14.428Z"
      },
      {
        "duration": 18,
        "start_time": "2022-01-16T14:02:14.493Z"
      },
      {
        "duration": 10,
        "start_time": "2022-01-16T14:02:14.513Z"
      },
      {
        "duration": 52,
        "start_time": "2022-01-16T14:02:14.526Z"
      },
      {
        "duration": 8,
        "start_time": "2022-01-16T14:02:14.581Z"
      },
      {
        "duration": 25,
        "start_time": "2022-01-16T14:02:14.592Z"
      },
      {
        "duration": 8,
        "start_time": "2022-01-16T14:02:14.619Z"
      },
      {
        "duration": 37,
        "start_time": "2022-01-16T14:02:14.630Z"
      },
      {
        "duration": 8,
        "start_time": "2022-01-16T14:02:14.670Z"
      },
      {
        "duration": 12,
        "start_time": "2022-01-16T14:02:14.680Z"
      },
      {
        "duration": 10,
        "start_time": "2022-01-16T14:02:14.698Z"
      },
      {
        "duration": 65,
        "start_time": "2022-01-16T14:02:14.711Z"
      },
      {
        "duration": 199,
        "start_time": "2022-01-16T14:02:14.868Z"
      },
      {
        "duration": 460,
        "start_time": "2022-01-16T14:02:15.070Z"
      },
      {
        "duration": 408,
        "start_time": "2022-01-16T14:02:15.533Z"
      },
      {
        "duration": 123,
        "start_time": "2022-01-16T14:02:15.945Z"
      },
      {
        "duration": 205,
        "start_time": "2022-01-16T14:02:16.071Z"
      },
      {
        "duration": 463,
        "start_time": "2022-01-16T14:02:16.278Z"
      },
      {
        "duration": 454,
        "start_time": "2022-01-16T14:02:16.744Z"
      },
      {
        "duration": 28,
        "start_time": "2022-01-16T14:02:17.201Z"
      },
      {
        "duration": 205,
        "start_time": "2022-01-16T14:02:17.270Z"
      },
      {
        "duration": 12,
        "start_time": "2022-01-16T14:02:17.478Z"
      },
      {
        "duration": 459,
        "start_time": "2022-01-16T14:02:17.569Z"
      },
      {
        "duration": 407,
        "start_time": "2022-01-16T14:02:18.031Z"
      },
      {
        "duration": 48,
        "start_time": "2022-01-16T14:02:18.441Z"
      },
      {
        "duration": 202,
        "start_time": "2022-01-16T14:02:18.570Z"
      },
      {
        "duration": 127,
        "start_time": "2022-01-16T14:02:18.774Z"
      },
      {
        "duration": 23,
        "start_time": "2022-01-16T14:02:18.904Z"
      },
      {
        "duration": 315,
        "start_time": "2022-01-16T14:02:18.930Z"
      },
      {
        "duration": 362,
        "start_time": "2022-01-16T14:02:19.248Z"
      },
      {
        "duration": 7236,
        "start_time": "2022-01-16T14:02:19.613Z"
      },
      {
        "duration": 34,
        "start_time": "2022-01-16T14:02:26.852Z"
      },
      {
        "duration": 344,
        "start_time": "2022-01-16T14:02:26.888Z"
      },
      {
        "duration": 282,
        "start_time": "2022-01-16T14:02:27.234Z"
      },
      {
        "duration": 5,
        "start_time": "2022-01-16T14:02:27.519Z"
      },
      {
        "duration": 35369,
        "start_time": "2022-01-16T14:02:27.527Z"
      },
      {
        "duration": 41,
        "start_time": "2022-01-16T14:03:02.899Z"
      },
      {
        "duration": 347,
        "start_time": "2022-01-16T14:03:02.942Z"
      },
      {
        "duration": 301,
        "start_time": "2022-01-16T14:03:03.291Z"
      },
      {
        "duration": 17,
        "start_time": "2022-01-16T14:03:03.596Z"
      },
      {
        "duration": 10,
        "start_time": "2022-01-16T14:03:13.830Z"
      },
      {
        "duration": 53,
        "start_time": "2022-01-16T14:03:14.742Z"
      },
      {
        "duration": 33,
        "start_time": "2022-01-16T14:03:39.069Z"
      },
      {
        "duration": 8,
        "start_time": "2022-01-16T14:04:48.649Z"
      },
      {
        "duration": 53,
        "start_time": "2022-01-16T14:04:49.483Z"
      },
      {
        "duration": 273,
        "start_time": "2022-01-16T14:05:26.050Z"
      },
      {
        "duration": 42,
        "start_time": "2022-01-16T14:05:27.023Z"
      },
      {
        "duration": 346,
        "start_time": "2022-01-16T14:06:23.592Z"
      },
      {
        "duration": 17,
        "start_time": "2022-01-16T14:06:48.530Z"
      },
      {
        "duration": 44,
        "start_time": "2022-01-16T14:06:53.967Z"
      },
      {
        "duration": 292,
        "start_time": "2022-01-16T14:07:07.528Z"
      },
      {
        "duration": 13,
        "start_time": "2022-01-16T14:07:51.439Z"
      },
      {
        "duration": 10,
        "start_time": "2022-01-16T14:08:12.062Z"
      },
      {
        "duration": 44,
        "start_time": "2022-01-16T14:08:13.136Z"
      },
      {
        "duration": 17,
        "start_time": "2022-01-16T14:08:30.334Z"
      },
      {
        "duration": 8,
        "start_time": "2022-01-16T14:08:42.416Z"
      },
      {
        "duration": 44,
        "start_time": "2022-01-16T14:08:43.869Z"
      },
      {
        "duration": 15,
        "start_time": "2022-01-16T14:10:00.355Z"
      },
      {
        "duration": 6,
        "start_time": "2022-01-16T14:10:09.325Z"
      },
      {
        "duration": 46,
        "start_time": "2022-01-16T14:10:10.105Z"
      },
      {
        "duration": 56,
        "start_time": "2022-01-16T14:10:50.103Z"
      },
      {
        "duration": 58,
        "start_time": "2022-01-16T14:10:58.886Z"
      },
      {
        "duration": 18,
        "start_time": "2022-01-16T14:11:15.788Z"
      },
      {
        "duration": 71,
        "start_time": "2022-01-16T14:11:16.248Z"
      },
      {
        "duration": 62,
        "start_time": "2022-01-16T14:11:59.507Z"
      },
      {
        "duration": 67,
        "start_time": "2022-01-16T14:12:21.154Z"
      },
      {
        "duration": 62,
        "start_time": "2022-01-16T14:13:45.268Z"
      },
      {
        "duration": 24,
        "start_time": "2022-01-16T14:15:49.240Z"
      },
      {
        "duration": 43,
        "start_time": "2022-01-16T14:16:13.890Z"
      },
      {
        "duration": 5,
        "start_time": "2022-01-16T14:16:44.094Z"
      },
      {
        "duration": 24,
        "start_time": "2022-01-16T14:16:44.544Z"
      },
      {
        "duration": 67,
        "start_time": "2022-01-16T14:16:45.087Z"
      },
      {
        "duration": 19,
        "start_time": "2022-01-16T14:17:33.288Z"
      },
      {
        "duration": 89,
        "start_time": "2022-01-16T14:17:38.760Z"
      },
      {
        "duration": 95,
        "start_time": "2022-01-16T14:18:03.343Z"
      },
      {
        "duration": 18,
        "start_time": "2022-01-16T14:18:09.777Z"
      },
      {
        "duration": 36,
        "start_time": "2022-01-16T14:18:16.379Z"
      },
      {
        "duration": 36,
        "start_time": "2022-01-16T14:18:24.180Z"
      },
      {
        "duration": 44,
        "start_time": "2022-01-16T14:19:16.097Z"
      },
      {
        "duration": 41,
        "start_time": "2022-01-16T14:19:28.837Z"
      },
      {
        "duration": 40,
        "start_time": "2022-01-16T14:21:56.464Z"
      },
      {
        "duration": 6,
        "start_time": "2022-01-16T14:24:08.040Z"
      },
      {
        "duration": 19,
        "start_time": "2022-01-16T14:24:08.500Z"
      },
      {
        "duration": 24,
        "start_time": "2022-01-16T14:24:19.062Z"
      },
      {
        "duration": 269,
        "start_time": "2022-01-16T14:25:33.808Z"
      },
      {
        "duration": 292,
        "start_time": "2022-01-16T14:26:00.922Z"
      },
      {
        "duration": 9,
        "start_time": "2022-01-16T14:26:12.809Z"
      },
      {
        "duration": 25,
        "start_time": "2022-01-16T14:26:59.501Z"
      },
      {
        "duration": 17,
        "start_time": "2022-01-16T14:27:02.548Z"
      },
      {
        "duration": 12,
        "start_time": "2022-01-16T14:27:09.247Z"
      },
      {
        "duration": 13,
        "start_time": "2022-01-16T14:27:12.797Z"
      },
      {
        "duration": 292,
        "start_time": "2022-01-16T14:29:57.488Z"
      },
      {
        "duration": 371,
        "start_time": "2022-01-16T14:30:07.406Z"
      },
      {
        "duration": 401,
        "start_time": "2022-01-16T14:30:27.622Z"
      },
      {
        "duration": 7905,
        "start_time": "2022-01-16T14:30:37.212Z"
      },
      {
        "duration": 8,
        "start_time": "2022-01-16T14:31:30.905Z"
      },
      {
        "duration": 6,
        "start_time": "2022-01-16T14:31:41.714Z"
      },
      {
        "duration": 42,
        "start_time": "2022-01-16T14:31:48.997Z"
      },
      {
        "duration": 49,
        "start_time": "2022-01-16T14:33:01.121Z"
      },
      {
        "duration": 67,
        "start_time": "2022-01-16T14:33:26.639Z"
      },
      {
        "duration": 5,
        "start_time": "2022-01-16T14:33:43.615Z"
      },
      {
        "duration": 45,
        "start_time": "2022-01-16T14:33:44.114Z"
      },
      {
        "duration": 55,
        "start_time": "2022-01-16T14:33:54.236Z"
      },
      {
        "duration": 68,
        "start_time": "2022-01-16T14:34:14.404Z"
      },
      {
        "duration": 45,
        "start_time": "2022-01-16T14:34:25.093Z"
      },
      {
        "duration": 50,
        "start_time": "2022-01-16T14:34:31.534Z"
      },
      {
        "duration": 5,
        "start_time": "2022-01-16T14:34:44.112Z"
      },
      {
        "duration": 38,
        "start_time": "2022-01-16T14:34:44.850Z"
      },
      {
        "duration": 5,
        "start_time": "2022-01-16T14:34:54.733Z"
      },
      {
        "duration": 55,
        "start_time": "2022-01-16T14:34:55.242Z"
      },
      {
        "duration": 13,
        "start_time": "2022-01-16T14:35:04.196Z"
      },
      {
        "duration": 20,
        "start_time": "2022-01-16T14:35:14.462Z"
      },
      {
        "duration": 15,
        "start_time": "2022-01-16T14:35:22.824Z"
      },
      {
        "duration": 5,
        "start_time": "2022-01-16T14:35:34.951Z"
      },
      {
        "duration": 18,
        "start_time": "2022-01-16T14:35:36.316Z"
      },
      {
        "duration": 6,
        "start_time": "2022-01-16T14:35:52.920Z"
      },
      {
        "duration": 295,
        "start_time": "2022-01-16T14:36:53.887Z"
      },
      {
        "duration": 289,
        "start_time": "2022-01-16T14:41:10.478Z"
      },
      {
        "duration": 6,
        "start_time": "2022-01-16T14:41:18.594Z"
      },
      {
        "duration": 11,
        "start_time": "2022-01-16T14:41:51.410Z"
      },
      {
        "duration": 22,
        "start_time": "2022-01-16T14:42:27.983Z"
      },
      {
        "duration": 317,
        "start_time": "2022-01-16T14:47:54.428Z"
      },
      {
        "duration": 18,
        "start_time": "2022-01-16T14:48:06.539Z"
      },
      {
        "duration": 280,
        "start_time": "2022-01-16T14:48:59.829Z"
      },
      {
        "duration": 34,
        "start_time": "2022-01-16T14:49:11.535Z"
      },
      {
        "duration": 309,
        "start_time": "2022-01-16T14:49:31.561Z"
      },
      {
        "duration": 19,
        "start_time": "2022-01-16T14:49:52.004Z"
      },
      {
        "duration": 11654,
        "start_time": "2022-01-16T14:50:09.970Z"
      },
      {
        "duration": 6,
        "start_time": "2022-01-16T14:50:24.289Z"
      },
      {
        "duration": 20,
        "start_time": "2022-01-16T15:04:42.924Z"
      },
      {
        "duration": 8,
        "start_time": "2022-01-16T15:04:44.839Z"
      },
      {
        "duration": 18,
        "start_time": "2022-01-16T15:04:45.312Z"
      },
      {
        "duration": 27,
        "start_time": "2022-01-16T15:04:46.267Z"
      },
      {
        "duration": 6,
        "start_time": "2022-01-16T15:04:49.184Z"
      },
      {
        "duration": 11,
        "start_time": "2022-01-16T15:04:50.934Z"
      },
      {
        "duration": 6,
        "start_time": "2022-01-16T15:04:59.611Z"
      },
      {
        "duration": 9,
        "start_time": "2022-01-16T15:05:00.493Z"
      },
      {
        "duration": 5,
        "start_time": "2022-01-16T15:05:05.795Z"
      },
      {
        "duration": 12,
        "start_time": "2022-01-16T15:05:06.460Z"
      },
      {
        "duration": 5,
        "start_time": "2022-01-16T15:05:16.555Z"
      },
      {
        "duration": 10,
        "start_time": "2022-01-16T15:05:17.179Z"
      },
      {
        "duration": 5,
        "start_time": "2022-01-16T15:05:25.926Z"
      },
      {
        "duration": 6,
        "start_time": "2022-01-16T15:05:28.586Z"
      },
      {
        "duration": 11,
        "start_time": "2022-01-16T15:05:29.258Z"
      },
      {
        "duration": 6,
        "start_time": "2022-01-16T15:05:55.945Z"
      },
      {
        "duration": 11,
        "start_time": "2022-01-16T15:05:57.568Z"
      },
      {
        "duration": 9,
        "start_time": "2022-01-16T15:06:20.299Z"
      },
      {
        "duration": 27,
        "start_time": "2022-01-16T15:06:20.672Z"
      },
      {
        "duration": 27,
        "start_time": "2022-01-16T15:06:21.486Z"
      },
      {
        "duration": 7,
        "start_time": "2022-01-16T15:06:25.154Z"
      },
      {
        "duration": 11,
        "start_time": "2022-01-16T15:06:29.426Z"
      },
      {
        "duration": 6,
        "start_time": "2022-01-16T15:06:36.579Z"
      },
      {
        "duration": 9,
        "start_time": "2022-01-16T15:06:37.244Z"
      },
      {
        "duration": 5,
        "start_time": "2022-01-16T15:06:41.548Z"
      },
      {
        "duration": 9,
        "start_time": "2022-01-16T15:06:42.214Z"
      },
      {
        "duration": 10,
        "start_time": "2022-01-16T15:07:33.396Z"
      },
      {
        "duration": 13,
        "start_time": "2022-01-16T15:08:09.681Z"
      },
      {
        "duration": 7,
        "start_time": "2022-01-16T15:11:14.305Z"
      },
      {
        "duration": 18,
        "start_time": "2022-01-16T15:11:14.717Z"
      },
      {
        "duration": 25,
        "start_time": "2022-01-16T15:11:15.223Z"
      },
      {
        "duration": 6,
        "start_time": "2022-01-16T15:11:16.258Z"
      },
      {
        "duration": 9,
        "start_time": "2022-01-16T15:11:17.082Z"
      },
      {
        "duration": 6,
        "start_time": "2022-01-16T15:11:21.140Z"
      },
      {
        "duration": 9,
        "start_time": "2022-01-16T15:11:22.300Z"
      },
      {
        "duration": 5,
        "start_time": "2022-01-16T15:11:42.552Z"
      },
      {
        "duration": 12,
        "start_time": "2022-01-16T15:11:43.269Z"
      },
      {
        "duration": 10,
        "start_time": "2022-01-16T15:11:58.866Z"
      },
      {
        "duration": 9,
        "start_time": "2022-01-16T15:11:59.556Z"
      },
      {
        "duration": 19,
        "start_time": "2022-01-16T15:12:04.897Z"
      },
      {
        "duration": 19,
        "start_time": "2022-01-16T15:12:13.786Z"
      },
      {
        "duration": 9,
        "start_time": "2022-01-16T15:14:55.356Z"
      },
      {
        "duration": 5,
        "start_time": "2022-01-16T15:15:08.467Z"
      },
      {
        "duration": 10,
        "start_time": "2022-01-16T15:15:09.165Z"
      },
      {
        "duration": 8,
        "start_time": "2022-01-16T15:15:10.267Z"
      },
      {
        "duration": 7,
        "start_time": "2022-01-16T15:15:17.150Z"
      },
      {
        "duration": 9,
        "start_time": "2022-01-16T15:15:17.782Z"
      },
      {
        "duration": 11,
        "start_time": "2022-01-16T15:15:19.516Z"
      },
      {
        "duration": 6,
        "start_time": "2022-01-16T15:15:24.513Z"
      },
      {
        "duration": 9,
        "start_time": "2022-01-16T15:15:24.943Z"
      },
      {
        "duration": 9,
        "start_time": "2022-01-16T15:15:25.607Z"
      },
      {
        "duration": 6,
        "start_time": "2022-01-16T15:15:53.520Z"
      },
      {
        "duration": 9,
        "start_time": "2022-01-16T15:15:54.574Z"
      },
      {
        "duration": 6,
        "start_time": "2022-01-16T15:16:25.687Z"
      },
      {
        "duration": 11,
        "start_time": "2022-01-16T15:16:26.130Z"
      },
      {
        "duration": 10,
        "start_time": "2022-01-16T15:16:26.557Z"
      },
      {
        "duration": 6,
        "start_time": "2022-01-16T15:16:30.361Z"
      },
      {
        "duration": 10,
        "start_time": "2022-01-16T15:16:30.952Z"
      },
      {
        "duration": 9,
        "start_time": "2022-01-16T15:16:32.072Z"
      }
    ],
    "kernelspec": {
      "display_name": "Python 3",
      "language": "python",
      "name": "python3"
    },
    "language_info": {
      "codemirror_mode": {
        "name": "ipython",
        "version": 3
      },
      "file_extension": ".py",
      "mimetype": "text/x-python",
      "name": "python",
      "nbconvert_exporter": "python",
      "pygments_lexer": "ipython3",
      "version": "3.7.8"
    },
    "toc": {
      "base_numbering": 1,
      "nav_menu": {},
      "number_sections": true,
      "sideBar": true,
      "skip_h1_title": true,
      "title_cell": "Содержание",
      "title_sidebar": "Contents",
      "toc_cell": true,
      "toc_position": {
        "height": "543.2px",
        "left": "107px",
        "top": "212.125px",
        "width": "281.594px"
      },
      "toc_section_display": true,
      "toc_window_display": false
    },
    "colab": {
      "name": "customer_outflow_.ipynb",
      "provenance": [],
      "collapsed_sections": [
        "9lkW6tCrlsjn",
        "QGrtrncNlsju",
        "qESabeK7lsj2",
        "Gr2d-sMLlsj-",
        "UBIKTWl4lskT",
        "3gDaTiRslskV",
        "4V__q8y4lskb",
        "YgD2LWdRlskh",
        "PW6zIUnUlskp",
        "B2dDjKielskv",
        "YL3T522glsk4",
        "J1TrCUj0lsk_",
        "tmzPRTKklslO"
      ]
    }
  },
  "nbformat": 4,
  "nbformat_minor": 0
}