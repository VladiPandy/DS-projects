{
  "cells": [
    {
      "cell_type": "markdown",
      "metadata": {
        "id": "9Q7CV8FvR7X-"
      },
      "source": [
        "## Загрузка и подготовка данных"
      ]
    },
    {
      "cell_type": "markdown",
      "metadata": {
        "id": "9Hm_e-hFR7X_"
      },
      "source": [
        "Импортируем все необходимые нам библиотеки:"
      ]
    },
    {
      "cell_type": "code",
      "execution_count": 1,
      "metadata": {
        "id": "T6SCtOIkR7YA"
      },
      "outputs": [],
      "source": [
        "import pandas as pd\n",
        "from sklearn.model_selection import train_test_split\n",
        "from sklearn.linear_model import LinearRegression\n",
        "from sklearn.metrics import mean_squared_error\n",
        "from sklearn.metrics import r2_score\n",
        "from sklearn.tree import DecisionTreeRegressor\n",
        "from sklearn.ensemble import RandomForestRegressor\n",
        "from sklearn.metrics import mean_absolute_error\n",
        "import numpy as np\n",
        "import matplotlib.pyplot as plt\n",
        "import seaborn as sns"
      ]
    },
    {
      "cell_type": "markdown",
      "metadata": {
        "id": "rZIzMKBER7YD"
      },
      "source": [
        "В переменную `data_region_1` сохраним таблицу по 1 региону:"
      ]
    },
    {
      "cell_type": "code",
      "execution_count": 4,
      "metadata": {
        "scrolled": true,
        "id": "K-Qk6cllR7YF",
        "outputId": "f118e4ce-dfdf-43ae-a3a7-00ca3fd408cc",
        "colab": {
          "base_uri": "https://localhost:8080/",
          "height": 206
        }
      },
      "outputs": [
        {
          "output_type": "execute_result",
          "data": {
            "text/html": [
              "\n",
              "  <div id=\"df-c9d6b096-23f5-46ad-89a1-82cd75d8b8d8\">\n",
              "    <div class=\"colab-df-container\">\n",
              "      <div>\n",
              "<style scoped>\n",
              "    .dataframe tbody tr th:only-of-type {\n",
              "        vertical-align: middle;\n",
              "    }\n",
              "\n",
              "    .dataframe tbody tr th {\n",
              "        vertical-align: top;\n",
              "    }\n",
              "\n",
              "    .dataframe thead th {\n",
              "        text-align: right;\n",
              "    }\n",
              "</style>\n",
              "<table border=\"1\" class=\"dataframe\">\n",
              "  <thead>\n",
              "    <tr style=\"text-align: right;\">\n",
              "      <th></th>\n",
              "      <th>id</th>\n",
              "      <th>f0</th>\n",
              "      <th>f1</th>\n",
              "      <th>f2</th>\n",
              "      <th>product</th>\n",
              "    </tr>\n",
              "  </thead>\n",
              "  <tbody>\n",
              "    <tr>\n",
              "      <th>0</th>\n",
              "      <td>txEyH</td>\n",
              "      <td>0.705745</td>\n",
              "      <td>-0.497823</td>\n",
              "      <td>1.221170</td>\n",
              "      <td>105.280062</td>\n",
              "    </tr>\n",
              "    <tr>\n",
              "      <th>1</th>\n",
              "      <td>2acmU</td>\n",
              "      <td>1.334711</td>\n",
              "      <td>-0.340164</td>\n",
              "      <td>4.365080</td>\n",
              "      <td>73.037750</td>\n",
              "    </tr>\n",
              "    <tr>\n",
              "      <th>2</th>\n",
              "      <td>409Wp</td>\n",
              "      <td>1.022732</td>\n",
              "      <td>0.151990</td>\n",
              "      <td>1.419926</td>\n",
              "      <td>85.265647</td>\n",
              "    </tr>\n",
              "    <tr>\n",
              "      <th>3</th>\n",
              "      <td>iJLyR</td>\n",
              "      <td>-0.032172</td>\n",
              "      <td>0.139033</td>\n",
              "      <td>2.978566</td>\n",
              "      <td>168.620776</td>\n",
              "    </tr>\n",
              "    <tr>\n",
              "      <th>4</th>\n",
              "      <td>Xdl7t</td>\n",
              "      <td>1.988431</td>\n",
              "      <td>0.155413</td>\n",
              "      <td>4.751769</td>\n",
              "      <td>154.036647</td>\n",
              "    </tr>\n",
              "  </tbody>\n",
              "</table>\n",
              "</div>\n",
              "      <button class=\"colab-df-convert\" onclick=\"convertToInteractive('df-c9d6b096-23f5-46ad-89a1-82cd75d8b8d8')\"\n",
              "              title=\"Convert this dataframe to an interactive table.\"\n",
              "              style=\"display:none;\">\n",
              "        \n",
              "  <svg xmlns=\"http://www.w3.org/2000/svg\" height=\"24px\"viewBox=\"0 0 24 24\"\n",
              "       width=\"24px\">\n",
              "    <path d=\"M0 0h24v24H0V0z\" fill=\"none\"/>\n",
              "    <path d=\"M18.56 5.44l.94 2.06.94-2.06 2.06-.94-2.06-.94-.94-2.06-.94 2.06-2.06.94zm-11 1L8.5 8.5l.94-2.06 2.06-.94-2.06-.94L8.5 2.5l-.94 2.06-2.06.94zm10 10l.94 2.06.94-2.06 2.06-.94-2.06-.94-.94-2.06-.94 2.06-2.06.94z\"/><path d=\"M17.41 7.96l-1.37-1.37c-.4-.4-.92-.59-1.43-.59-.52 0-1.04.2-1.43.59L10.3 9.45l-7.72 7.72c-.78.78-.78 2.05 0 2.83L4 21.41c.39.39.9.59 1.41.59.51 0 1.02-.2 1.41-.59l7.78-7.78 2.81-2.81c.8-.78.8-2.07 0-2.86zM5.41 20L4 18.59l7.72-7.72 1.47 1.35L5.41 20z\"/>\n",
              "  </svg>\n",
              "      </button>\n",
              "      \n",
              "  <style>\n",
              "    .colab-df-container {\n",
              "      display:flex;\n",
              "      flex-wrap:wrap;\n",
              "      gap: 12px;\n",
              "    }\n",
              "\n",
              "    .colab-df-convert {\n",
              "      background-color: #E8F0FE;\n",
              "      border: none;\n",
              "      border-radius: 50%;\n",
              "      cursor: pointer;\n",
              "      display: none;\n",
              "      fill: #1967D2;\n",
              "      height: 32px;\n",
              "      padding: 0 0 0 0;\n",
              "      width: 32px;\n",
              "    }\n",
              "\n",
              "    .colab-df-convert:hover {\n",
              "      background-color: #E2EBFA;\n",
              "      box-shadow: 0px 1px 2px rgba(60, 64, 67, 0.3), 0px 1px 3px 1px rgba(60, 64, 67, 0.15);\n",
              "      fill: #174EA6;\n",
              "    }\n",
              "\n",
              "    [theme=dark] .colab-df-convert {\n",
              "      background-color: #3B4455;\n",
              "      fill: #D2E3FC;\n",
              "    }\n",
              "\n",
              "    [theme=dark] .colab-df-convert:hover {\n",
              "      background-color: #434B5C;\n",
              "      box-shadow: 0px 1px 3px 1px rgba(0, 0, 0, 0.15);\n",
              "      filter: drop-shadow(0px 1px 2px rgba(0, 0, 0, 0.3));\n",
              "      fill: #FFFFFF;\n",
              "    }\n",
              "  </style>\n",
              "\n",
              "      <script>\n",
              "        const buttonEl =\n",
              "          document.querySelector('#df-c9d6b096-23f5-46ad-89a1-82cd75d8b8d8 button.colab-df-convert');\n",
              "        buttonEl.style.display =\n",
              "          google.colab.kernel.accessAllowed ? 'block' : 'none';\n",
              "\n",
              "        async function convertToInteractive(key) {\n",
              "          const element = document.querySelector('#df-c9d6b096-23f5-46ad-89a1-82cd75d8b8d8');\n",
              "          const dataTable =\n",
              "            await google.colab.kernel.invokeFunction('convertToInteractive',\n",
              "                                                     [key], {});\n",
              "          if (!dataTable) return;\n",
              "\n",
              "          const docLinkHtml = 'Like what you see? Visit the ' +\n",
              "            '<a target=\"_blank\" href=https://colab.research.google.com/notebooks/data_table.ipynb>data table notebook</a>'\n",
              "            + ' to learn more about interactive tables.';\n",
              "          element.innerHTML = '';\n",
              "          dataTable['output_type'] = 'display_data';\n",
              "          await google.colab.output.renderOutput(dataTable, element);\n",
              "          const docLink = document.createElement('div');\n",
              "          docLink.innerHTML = docLinkHtml;\n",
              "          element.appendChild(docLink);\n",
              "        }\n",
              "      </script>\n",
              "    </div>\n",
              "  </div>\n",
              "  "
            ],
            "text/plain": [
              "      id        f0        f1        f2     product\n",
              "0  txEyH  0.705745 -0.497823  1.221170  105.280062\n",
              "1  2acmU  1.334711 -0.340164  4.365080   73.037750\n",
              "2  409Wp  1.022732  0.151990  1.419926   85.265647\n",
              "3  iJLyR -0.032172  0.139033  2.978566  168.620776\n",
              "4  Xdl7t  1.988431  0.155413  4.751769  154.036647"
            ]
          },
          "metadata": {},
          "execution_count": 4
        }
      ],
      "source": [
        "data_region_1=pd.read_csv('_')\n",
        "data_region_1.head()"
      ]
    },
    {
      "cell_type": "markdown",
      "metadata": {
        "id": "7SEKCwRDR7YI"
      },
      "source": [
        "В переменную `data_region_2` сохраним таблицу по 2 региону:"
      ]
    },
    {
      "cell_type": "code",
      "execution_count": 3,
      "metadata": {
        "scrolled": true,
        "id": "IqR5HXRGR7YK",
        "outputId": "350a6c15-b63e-42bf-d60a-6e488b011f36",
        "colab": {
          "base_uri": "https://localhost:8080/",
          "height": 206
        }
      },
      "outputs": [
        {
          "output_type": "execute_result",
          "data": {
            "text/html": [
              "\n",
              "  <div id=\"df-60aa7bc3-f6d2-4779-b52a-13a79a90568a\">\n",
              "    <div class=\"colab-df-container\">\n",
              "      <div>\n",
              "<style scoped>\n",
              "    .dataframe tbody tr th:only-of-type {\n",
              "        vertical-align: middle;\n",
              "    }\n",
              "\n",
              "    .dataframe tbody tr th {\n",
              "        vertical-align: top;\n",
              "    }\n",
              "\n",
              "    .dataframe thead th {\n",
              "        text-align: right;\n",
              "    }\n",
              "</style>\n",
              "<table border=\"1\" class=\"dataframe\">\n",
              "  <thead>\n",
              "    <tr style=\"text-align: right;\">\n",
              "      <th></th>\n",
              "      <th>id</th>\n",
              "      <th>f0</th>\n",
              "      <th>f1</th>\n",
              "      <th>f2</th>\n",
              "      <th>product</th>\n",
              "    </tr>\n",
              "  </thead>\n",
              "  <tbody>\n",
              "    <tr>\n",
              "      <th>0</th>\n",
              "      <td>kBEdx</td>\n",
              "      <td>-15.001348</td>\n",
              "      <td>-8.276000</td>\n",
              "      <td>-0.005876</td>\n",
              "      <td>3.179103</td>\n",
              "    </tr>\n",
              "    <tr>\n",
              "      <th>1</th>\n",
              "      <td>62mP7</td>\n",
              "      <td>14.272088</td>\n",
              "      <td>-3.475083</td>\n",
              "      <td>0.999183</td>\n",
              "      <td>26.953261</td>\n",
              "    </tr>\n",
              "    <tr>\n",
              "      <th>2</th>\n",
              "      <td>vyE1P</td>\n",
              "      <td>6.263187</td>\n",
              "      <td>-5.948386</td>\n",
              "      <td>5.001160</td>\n",
              "      <td>134.766305</td>\n",
              "    </tr>\n",
              "    <tr>\n",
              "      <th>3</th>\n",
              "      <td>KcrkZ</td>\n",
              "      <td>-13.081196</td>\n",
              "      <td>-11.506057</td>\n",
              "      <td>4.999415</td>\n",
              "      <td>137.945408</td>\n",
              "    </tr>\n",
              "    <tr>\n",
              "      <th>4</th>\n",
              "      <td>AHL4O</td>\n",
              "      <td>12.702195</td>\n",
              "      <td>-8.147433</td>\n",
              "      <td>5.004363</td>\n",
              "      <td>134.766305</td>\n",
              "    </tr>\n",
              "  </tbody>\n",
              "</table>\n",
              "</div>\n",
              "      <button class=\"colab-df-convert\" onclick=\"convertToInteractive('df-60aa7bc3-f6d2-4779-b52a-13a79a90568a')\"\n",
              "              title=\"Convert this dataframe to an interactive table.\"\n",
              "              style=\"display:none;\">\n",
              "        \n",
              "  <svg xmlns=\"http://www.w3.org/2000/svg\" height=\"24px\"viewBox=\"0 0 24 24\"\n",
              "       width=\"24px\">\n",
              "    <path d=\"M0 0h24v24H0V0z\" fill=\"none\"/>\n",
              "    <path d=\"M18.56 5.44l.94 2.06.94-2.06 2.06-.94-2.06-.94-.94-2.06-.94 2.06-2.06.94zm-11 1L8.5 8.5l.94-2.06 2.06-.94-2.06-.94L8.5 2.5l-.94 2.06-2.06.94zm10 10l.94 2.06.94-2.06 2.06-.94-2.06-.94-.94-2.06-.94 2.06-2.06.94z\"/><path d=\"M17.41 7.96l-1.37-1.37c-.4-.4-.92-.59-1.43-.59-.52 0-1.04.2-1.43.59L10.3 9.45l-7.72 7.72c-.78.78-.78 2.05 0 2.83L4 21.41c.39.39.9.59 1.41.59.51 0 1.02-.2 1.41-.59l7.78-7.78 2.81-2.81c.8-.78.8-2.07 0-2.86zM5.41 20L4 18.59l7.72-7.72 1.47 1.35L5.41 20z\"/>\n",
              "  </svg>\n",
              "      </button>\n",
              "      \n",
              "  <style>\n",
              "    .colab-df-container {\n",
              "      display:flex;\n",
              "      flex-wrap:wrap;\n",
              "      gap: 12px;\n",
              "    }\n",
              "\n",
              "    .colab-df-convert {\n",
              "      background-color: #E8F0FE;\n",
              "      border: none;\n",
              "      border-radius: 50%;\n",
              "      cursor: pointer;\n",
              "      display: none;\n",
              "      fill: #1967D2;\n",
              "      height: 32px;\n",
              "      padding: 0 0 0 0;\n",
              "      width: 32px;\n",
              "    }\n",
              "\n",
              "    .colab-df-convert:hover {\n",
              "      background-color: #E2EBFA;\n",
              "      box-shadow: 0px 1px 2px rgba(60, 64, 67, 0.3), 0px 1px 3px 1px rgba(60, 64, 67, 0.15);\n",
              "      fill: #174EA6;\n",
              "    }\n",
              "\n",
              "    [theme=dark] .colab-df-convert {\n",
              "      background-color: #3B4455;\n",
              "      fill: #D2E3FC;\n",
              "    }\n",
              "\n",
              "    [theme=dark] .colab-df-convert:hover {\n",
              "      background-color: #434B5C;\n",
              "      box-shadow: 0px 1px 3px 1px rgba(0, 0, 0, 0.15);\n",
              "      filter: drop-shadow(0px 1px 2px rgba(0, 0, 0, 0.3));\n",
              "      fill: #FFFFFF;\n",
              "    }\n",
              "  </style>\n",
              "\n",
              "      <script>\n",
              "        const buttonEl =\n",
              "          document.querySelector('#df-60aa7bc3-f6d2-4779-b52a-13a79a90568a button.colab-df-convert');\n",
              "        buttonEl.style.display =\n",
              "          google.colab.kernel.accessAllowed ? 'block' : 'none';\n",
              "\n",
              "        async function convertToInteractive(key) {\n",
              "          const element = document.querySelector('#df-60aa7bc3-f6d2-4779-b52a-13a79a90568a');\n",
              "          const dataTable =\n",
              "            await google.colab.kernel.invokeFunction('convertToInteractive',\n",
              "                                                     [key], {});\n",
              "          if (!dataTable) return;\n",
              "\n",
              "          const docLinkHtml = 'Like what you see? Visit the ' +\n",
              "            '<a target=\"_blank\" href=https://colab.research.google.com/notebooks/data_table.ipynb>data table notebook</a>'\n",
              "            + ' to learn more about interactive tables.';\n",
              "          element.innerHTML = '';\n",
              "          dataTable['output_type'] = 'display_data';\n",
              "          await google.colab.output.renderOutput(dataTable, element);\n",
              "          const docLink = document.createElement('div');\n",
              "          docLink.innerHTML = docLinkHtml;\n",
              "          element.appendChild(docLink);\n",
              "        }\n",
              "      </script>\n",
              "    </div>\n",
              "  </div>\n",
              "  "
            ],
            "text/plain": [
              "      id         f0         f1        f2     product\n",
              "0  kBEdx -15.001348  -8.276000 -0.005876    3.179103\n",
              "1  62mP7  14.272088  -3.475083  0.999183   26.953261\n",
              "2  vyE1P   6.263187  -5.948386  5.001160  134.766305\n",
              "3  KcrkZ -13.081196 -11.506057  4.999415  137.945408\n",
              "4  AHL4O  12.702195  -8.147433  5.004363  134.766305"
            ]
          },
          "metadata": {},
          "execution_count": 3
        }
      ],
      "source": [
        "data_region_2=pd.read_csv('https://code.s3.yandex.net/datasets/geo_data_1.csv')\n",
        "data_region_2.head()"
      ]
    },
    {
      "cell_type": "markdown",
      "metadata": {
        "id": "GleSMH9uR7YM"
      },
      "source": [
        "В переменную `data_region_3` сохраним таблицу по 3 региону:"
      ]
    },
    {
      "cell_type": "code",
      "execution_count": 2,
      "metadata": {
        "scrolled": true,
        "id": "KuHlM9ncR7YN",
        "outputId": "5e05d85c-bf53-4e4f-d863-7959e99bfc37",
        "colab": {
          "base_uri": "https://localhost:8080/",
          "height": 206
        }
      },
      "outputs": [
        {
          "output_type": "execute_result",
          "data": {
            "text/html": [
              "\n",
              "  <div id=\"df-eeb12b38-2f0b-4a75-a914-91ce81d3da37\">\n",
              "    <div class=\"colab-df-container\">\n",
              "      <div>\n",
              "<style scoped>\n",
              "    .dataframe tbody tr th:only-of-type {\n",
              "        vertical-align: middle;\n",
              "    }\n",
              "\n",
              "    .dataframe tbody tr th {\n",
              "        vertical-align: top;\n",
              "    }\n",
              "\n",
              "    .dataframe thead th {\n",
              "        text-align: right;\n",
              "    }\n",
              "</style>\n",
              "<table border=\"1\" class=\"dataframe\">\n",
              "  <thead>\n",
              "    <tr style=\"text-align: right;\">\n",
              "      <th></th>\n",
              "      <th>id</th>\n",
              "      <th>f0</th>\n",
              "      <th>f1</th>\n",
              "      <th>f2</th>\n",
              "      <th>product</th>\n",
              "    </tr>\n",
              "  </thead>\n",
              "  <tbody>\n",
              "    <tr>\n",
              "      <th>0</th>\n",
              "      <td>fwXo0</td>\n",
              "      <td>-1.146987</td>\n",
              "      <td>0.963328</td>\n",
              "      <td>-0.828965</td>\n",
              "      <td>27.758673</td>\n",
              "    </tr>\n",
              "    <tr>\n",
              "      <th>1</th>\n",
              "      <td>WJtFt</td>\n",
              "      <td>0.262778</td>\n",
              "      <td>0.269839</td>\n",
              "      <td>-2.530187</td>\n",
              "      <td>56.069697</td>\n",
              "    </tr>\n",
              "    <tr>\n",
              "      <th>2</th>\n",
              "      <td>ovLUW</td>\n",
              "      <td>0.194587</td>\n",
              "      <td>0.289035</td>\n",
              "      <td>-5.586433</td>\n",
              "      <td>62.871910</td>\n",
              "    </tr>\n",
              "    <tr>\n",
              "      <th>3</th>\n",
              "      <td>q6cA6</td>\n",
              "      <td>2.236060</td>\n",
              "      <td>-0.553760</td>\n",
              "      <td>0.930038</td>\n",
              "      <td>114.572842</td>\n",
              "    </tr>\n",
              "    <tr>\n",
              "      <th>4</th>\n",
              "      <td>WPMUX</td>\n",
              "      <td>-0.515993</td>\n",
              "      <td>1.716266</td>\n",
              "      <td>5.899011</td>\n",
              "      <td>149.600746</td>\n",
              "    </tr>\n",
              "  </tbody>\n",
              "</table>\n",
              "</div>\n",
              "      <button class=\"colab-df-convert\" onclick=\"convertToInteractive('df-eeb12b38-2f0b-4a75-a914-91ce81d3da37')\"\n",
              "              title=\"Convert this dataframe to an interactive table.\"\n",
              "              style=\"display:none;\">\n",
              "        \n",
              "  <svg xmlns=\"http://www.w3.org/2000/svg\" height=\"24px\"viewBox=\"0 0 24 24\"\n",
              "       width=\"24px\">\n",
              "    <path d=\"M0 0h24v24H0V0z\" fill=\"none\"/>\n",
              "    <path d=\"M18.56 5.44l.94 2.06.94-2.06 2.06-.94-2.06-.94-.94-2.06-.94 2.06-2.06.94zm-11 1L8.5 8.5l.94-2.06 2.06-.94-2.06-.94L8.5 2.5l-.94 2.06-2.06.94zm10 10l.94 2.06.94-2.06 2.06-.94-2.06-.94-.94-2.06-.94 2.06-2.06.94z\"/><path d=\"M17.41 7.96l-1.37-1.37c-.4-.4-.92-.59-1.43-.59-.52 0-1.04.2-1.43.59L10.3 9.45l-7.72 7.72c-.78.78-.78 2.05 0 2.83L4 21.41c.39.39.9.59 1.41.59.51 0 1.02-.2 1.41-.59l7.78-7.78 2.81-2.81c.8-.78.8-2.07 0-2.86zM5.41 20L4 18.59l7.72-7.72 1.47 1.35L5.41 20z\"/>\n",
              "  </svg>\n",
              "      </button>\n",
              "      \n",
              "  <style>\n",
              "    .colab-df-container {\n",
              "      display:flex;\n",
              "      flex-wrap:wrap;\n",
              "      gap: 12px;\n",
              "    }\n",
              "\n",
              "    .colab-df-convert {\n",
              "      background-color: #E8F0FE;\n",
              "      border: none;\n",
              "      border-radius: 50%;\n",
              "      cursor: pointer;\n",
              "      display: none;\n",
              "      fill: #1967D2;\n",
              "      height: 32px;\n",
              "      padding: 0 0 0 0;\n",
              "      width: 32px;\n",
              "    }\n",
              "\n",
              "    .colab-df-convert:hover {\n",
              "      background-color: #E2EBFA;\n",
              "      box-shadow: 0px 1px 2px rgba(60, 64, 67, 0.3), 0px 1px 3px 1px rgba(60, 64, 67, 0.15);\n",
              "      fill: #174EA6;\n",
              "    }\n",
              "\n",
              "    [theme=dark] .colab-df-convert {\n",
              "      background-color: #3B4455;\n",
              "      fill: #D2E3FC;\n",
              "    }\n",
              "\n",
              "    [theme=dark] .colab-df-convert:hover {\n",
              "      background-color: #434B5C;\n",
              "      box-shadow: 0px 1px 3px 1px rgba(0, 0, 0, 0.15);\n",
              "      filter: drop-shadow(0px 1px 2px rgba(0, 0, 0, 0.3));\n",
              "      fill: #FFFFFF;\n",
              "    }\n",
              "  </style>\n",
              "\n",
              "      <script>\n",
              "        const buttonEl =\n",
              "          document.querySelector('#df-eeb12b38-2f0b-4a75-a914-91ce81d3da37 button.colab-df-convert');\n",
              "        buttonEl.style.display =\n",
              "          google.colab.kernel.accessAllowed ? 'block' : 'none';\n",
              "\n",
              "        async function convertToInteractive(key) {\n",
              "          const element = document.querySelector('#df-eeb12b38-2f0b-4a75-a914-91ce81d3da37');\n",
              "          const dataTable =\n",
              "            await google.colab.kernel.invokeFunction('convertToInteractive',\n",
              "                                                     [key], {});\n",
              "          if (!dataTable) return;\n",
              "\n",
              "          const docLinkHtml = 'Like what you see? Visit the ' +\n",
              "            '<a target=\"_blank\" href=https://colab.research.google.com/notebooks/data_table.ipynb>data table notebook</a>'\n",
              "            + ' to learn more about interactive tables.';\n",
              "          element.innerHTML = '';\n",
              "          dataTable['output_type'] = 'display_data';\n",
              "          await google.colab.output.renderOutput(dataTable, element);\n",
              "          const docLink = document.createElement('div');\n",
              "          docLink.innerHTML = docLinkHtml;\n",
              "          element.appendChild(docLink);\n",
              "        }\n",
              "      </script>\n",
              "    </div>\n",
              "  </div>\n",
              "  "
            ],
            "text/plain": [
              "      id        f0        f1        f2     product\n",
              "0  fwXo0 -1.146987  0.963328 -0.828965   27.758673\n",
              "1  WJtFt  0.262778  0.269839 -2.530187   56.069697\n",
              "2  ovLUW  0.194587  0.289035 -5.586433   62.871910\n",
              "3  q6cA6  2.236060 -0.553760  0.930038  114.572842\n",
              "4  WPMUX -0.515993  1.716266  5.899011  149.600746"
            ]
          },
          "metadata": {},
          "execution_count": 2
        }
      ],
      "source": [
        "data_region_3=pd.read_csv('https://code.s3.yandex.net/datasets/geo_data_2.csv')\n",
        "data_region_3.head()"
      ]
    },
    {
      "cell_type": "markdown",
      "metadata": {
        "id": "I5-myQHjR7YO"
      },
      "source": [
        "Согласно документации столбы обозначают:"
      ]
    },
    {
      "cell_type": "markdown",
      "metadata": {
        "id": "2obYLRnNR7YP"
      },
      "source": [
        "* `id` — уникальный идентификатор скважины\n",
        "* `f0, f1, f2` — три признака точек\n",
        "* `product` — объём запасов в скважине "
      ]
    },
    {
      "cell_type": "markdown",
      "metadata": {
        "id": "d_IeMjHAR7YQ"
      },
      "source": [
        "Посмотрим на общую информацию по трем таблицам:"
      ]
    },
    {
      "cell_type": "code",
      "execution_count": 5,
      "metadata": {
        "id": "1WF7TR9nR7YR",
        "outputId": "e5bc2c2c-cb4a-4ec5-93de-d6da14848659",
        "colab": {
          "base_uri": "https://localhost:8080/"
        }
      },
      "outputs": [
        {
          "output_type": "stream",
          "name": "stdout",
          "text": [
            "<class 'pandas.core.frame.DataFrame'>\n",
            "RangeIndex: 100000 entries, 0 to 99999\n",
            "Data columns (total 5 columns):\n",
            " #   Column   Non-Null Count   Dtype  \n",
            "---  ------   --------------   -----  \n",
            " 0   id       100000 non-null  object \n",
            " 1   f0       100000 non-null  float64\n",
            " 2   f1       100000 non-null  float64\n",
            " 3   f2       100000 non-null  float64\n",
            " 4   product  100000 non-null  float64\n",
            "dtypes: float64(4), object(1)\n",
            "memory usage: 3.8+ MB\n"
          ]
        }
      ],
      "source": [
        "data_region_1.info()"
      ]
    },
    {
      "cell_type": "code",
      "execution_count": 6,
      "metadata": {
        "scrolled": true,
        "id": "16mRH-fHR7YS",
        "outputId": "2b8f25f4-3bd7-49d1-c26c-28fa2267d66b",
        "colab": {
          "base_uri": "https://localhost:8080/"
        }
      },
      "outputs": [
        {
          "output_type": "stream",
          "name": "stdout",
          "text": [
            "<class 'pandas.core.frame.DataFrame'>\n",
            "RangeIndex: 100000 entries, 0 to 99999\n",
            "Data columns (total 5 columns):\n",
            " #   Column   Non-Null Count   Dtype  \n",
            "---  ------   --------------   -----  \n",
            " 0   id       100000 non-null  object \n",
            " 1   f0       100000 non-null  float64\n",
            " 2   f1       100000 non-null  float64\n",
            " 3   f2       100000 non-null  float64\n",
            " 4   product  100000 non-null  float64\n",
            "dtypes: float64(4), object(1)\n",
            "memory usage: 3.8+ MB\n"
          ]
        }
      ],
      "source": [
        "data_region_2.info()"
      ]
    },
    {
      "cell_type": "code",
      "execution_count": 7,
      "metadata": {
        "id": "6wOERyCqR7YS",
        "outputId": "4f8a40f1-92de-4a74-8f08-bace0ec1b92b",
        "colab": {
          "base_uri": "https://localhost:8080/"
        }
      },
      "outputs": [
        {
          "output_type": "stream",
          "name": "stdout",
          "text": [
            "<class 'pandas.core.frame.DataFrame'>\n",
            "RangeIndex: 100000 entries, 0 to 99999\n",
            "Data columns (total 5 columns):\n",
            " #   Column   Non-Null Count   Dtype  \n",
            "---  ------   --------------   -----  \n",
            " 0   id       100000 non-null  object \n",
            " 1   f0       100000 non-null  float64\n",
            " 2   f1       100000 non-null  float64\n",
            " 3   f2       100000 non-null  float64\n",
            " 4   product  100000 non-null  float64\n",
            "dtypes: float64(4), object(1)\n",
            "memory usage: 3.8+ MB\n"
          ]
        }
      ],
      "source": [
        "data_region_3.info()"
      ]
    },
    {
      "cell_type": "markdown",
      "metadata": {
        "id": "SRkx6bZaR7YT"
      },
      "source": [
        "**Вывод**\n",
        "\n",
        "Данные не требуют какую-либо предподготовку."
      ]
    },
    {
      "cell_type": "markdown",
      "metadata": {
        "id": "U8lImaFsR7YY"
      },
      "source": [
        "## Обучение и проверка модели"
      ]
    },
    {
      "cell_type": "markdown",
      "metadata": {
        "id": "Eky9B1tLR7YY"
      },
      "source": [
        "Так как мы будем работать с тремя таблицами сразу, я сделаю функции для упрощения исследования."
      ]
    },
    {
      "cell_type": "markdown",
      "metadata": {
        "id": "jd4ZIZAFR7YZ"
      },
      "source": [
        "Создадим функцию для разбмения данных:"
      ]
    },
    {
      "cell_type": "code",
      "execution_count": 10,
      "metadata": {
        "id": "WjqpvqajR7YZ"
      },
      "outputs": [],
      "source": [
        "def spli(data):\n",
        "    features=data[['f0','f1','f2']]\n",
        "    target=data['product']\n",
        "    features_train, features_valid, target_train, target_valid = train_test_split(\n",
        "    features, target, test_size=0.25, random_state=12345)\n",
        "    return features_train, features_valid, target_train, target_valid, features, target"
      ]
    },
    {
      "cell_type": "markdown",
      "metadata": {
        "id": "Knj7PC-ER7Ya"
      },
      "source": [
        "Теперь создадим функцию, которая будет возвращать таблицу с четырьмя метриками : `RMSE`,`MAE`,`R2` и `среднее значение`"
      ]
    },
    {
      "cell_type": "code",
      "execution_count": 11,
      "metadata": {
        "id": "lNIXT2qrR7Yb"
      },
      "outputs": [],
      "source": [
        "def metrics(data_1,data_2,data_3,mod):\n",
        "    features_train_1, features_valid_1, target_train_1, target_valid_1,features_1,target_1=spli(data_1)\n",
        "    features_train_2, features_valid_2, target_train_2, target_valid_2,features_2,target_2=spli(data_2)\n",
        "    features_train_3, features_valid_3, target_train_3, target_valid_3,features_3,target_3=spli(data_3)\n",
        "    model_1,predicted_valid_1=mod(data_1)\n",
        "    model_2,predicted_valid_2=mod(data_2)   \n",
        "    model_3,predicted_valid_3=mod(data_3)\n",
        "    RMSE_1=(mean_squared_error(target_valid_1, predicted_valid_1))**0.5\n",
        "    RMSE_2=(mean_squared_error(target_valid_2, predicted_valid_2))**0.5\n",
        "    RMSE_3=(mean_squared_error(target_valid_3, predicted_valid_3))**0.5\n",
        "    MAE_1=mean_absolute_error(target_valid_1, predicted_valid_1)\n",
        "    MAE_2=mean_absolute_error(target_valid_2, predicted_valid_2)\n",
        "    MAE_3=mean_absolute_error(target_valid_3, predicted_valid_3)\n",
        "    R2_1=model_1.score(features_valid_1, target_valid_1)\n",
        "    R2_2=model_2.score(features_valid_2, target_valid_2)\n",
        "    R2_3=model_3.score(features_valid_3, target_valid_3)\n",
        "    mean_1=data_1['product'].mean()\n",
        "    mean_2=data_2['product'].mean()\n",
        "    mean_3=data_3['product'].mean()\n",
        "    df=pd.DataFrame({'region_1' : [RMSE_1,MAE_1,R2_1,mean_1],\n",
        "                     'region_2': [RMSE_2,MAE_2,R2_2,mean_2],\n",
        "                    'region_3': [RMSE_3,MAE_3,R2_3,mean_3]},index=['RMSE','MAE','R2','среднее значение'])\n",
        "    return df"
      ]
    },
    {
      "cell_type": "markdown",
      "metadata": {
        "id": "TtURn3l2R7Ye"
      },
      "source": [
        "###  Линейная регрессия "
      ]
    },
    {
      "cell_type": "markdown",
      "metadata": {
        "id": "M1CVKJaqR7Ye"
      },
      "source": [
        "Рассмотрим модель линейной регрессии для наших таблиц."
      ]
    },
    {
      "cell_type": "markdown",
      "metadata": {
        "id": "NR7Z7hS3R7Yf"
      },
      "source": [
        "Создадим функцию для линейной регрессии:"
      ]
    },
    {
      "cell_type": "code",
      "execution_count": 12,
      "metadata": {
        "id": "KFAE7ElUR7Yf"
      },
      "outputs": [],
      "source": [
        "def liner_reg(data):\n",
        "    features_train, features_valid, target_train, target_valid,features,target=spli(data)\n",
        "    model=LinearRegression()\n",
        "    model.fit(features_train,target_train)\n",
        "    predicted_valid=model.predict(features_valid)\n",
        "    return model,predicted_valid"
      ]
    },
    {
      "cell_type": "markdown",
      "metadata": {
        "id": "b0hjOmqpR7Yg"
      },
      "source": [
        "Выведим таблицу со всеми метриками:"
      ]
    },
    {
      "cell_type": "code",
      "execution_count": 13,
      "metadata": {
        "colab": {
          "base_uri": "https://localhost:8080/",
          "height": 175
        },
        "id": "_r-PkFStR7Yg",
        "outputId": "131dddce-c929-4112-9ea9-e983c0f05397"
      },
      "outputs": [
        {
          "output_type": "execute_result",
          "data": {
            "text/html": [
              "\n",
              "  <div id=\"df-fb99f886-8884-4d71-a6ef-fa637a8c01ac\">\n",
              "    <div class=\"colab-df-container\">\n",
              "      <div>\n",
              "<style scoped>\n",
              "    .dataframe tbody tr th:only-of-type {\n",
              "        vertical-align: middle;\n",
              "    }\n",
              "\n",
              "    .dataframe tbody tr th {\n",
              "        vertical-align: top;\n",
              "    }\n",
              "\n",
              "    .dataframe thead th {\n",
              "        text-align: right;\n",
              "    }\n",
              "</style>\n",
              "<table border=\"1\" class=\"dataframe\">\n",
              "  <thead>\n",
              "    <tr style=\"text-align: right;\">\n",
              "      <th></th>\n",
              "      <th>region_1</th>\n",
              "      <th>region_2</th>\n",
              "      <th>region_3</th>\n",
              "    </tr>\n",
              "  </thead>\n",
              "  <tbody>\n",
              "    <tr>\n",
              "      <th>RMSE</th>\n",
              "      <td>37.579422</td>\n",
              "      <td>0.893099</td>\n",
              "      <td>40.029709</td>\n",
              "    </tr>\n",
              "    <tr>\n",
              "      <th>MAE</th>\n",
              "      <td>30.919601</td>\n",
              "      <td>0.718766</td>\n",
              "      <td>32.792652</td>\n",
              "    </tr>\n",
              "    <tr>\n",
              "      <th>R2</th>\n",
              "      <td>0.279943</td>\n",
              "      <td>0.999623</td>\n",
              "      <td>0.205248</td>\n",
              "    </tr>\n",
              "    <tr>\n",
              "      <th>среднее значение</th>\n",
              "      <td>92.500000</td>\n",
              "      <td>68.825000</td>\n",
              "      <td>95.000000</td>\n",
              "    </tr>\n",
              "  </tbody>\n",
              "</table>\n",
              "</div>\n",
              "      <button class=\"colab-df-convert\" onclick=\"convertToInteractive('df-fb99f886-8884-4d71-a6ef-fa637a8c01ac')\"\n",
              "              title=\"Convert this dataframe to an interactive table.\"\n",
              "              style=\"display:none;\">\n",
              "        \n",
              "  <svg xmlns=\"http://www.w3.org/2000/svg\" height=\"24px\"viewBox=\"0 0 24 24\"\n",
              "       width=\"24px\">\n",
              "    <path d=\"M0 0h24v24H0V0z\" fill=\"none\"/>\n",
              "    <path d=\"M18.56 5.44l.94 2.06.94-2.06 2.06-.94-2.06-.94-.94-2.06-.94 2.06-2.06.94zm-11 1L8.5 8.5l.94-2.06 2.06-.94-2.06-.94L8.5 2.5l-.94 2.06-2.06.94zm10 10l.94 2.06.94-2.06 2.06-.94-2.06-.94-.94-2.06-.94 2.06-2.06.94z\"/><path d=\"M17.41 7.96l-1.37-1.37c-.4-.4-.92-.59-1.43-.59-.52 0-1.04.2-1.43.59L10.3 9.45l-7.72 7.72c-.78.78-.78 2.05 0 2.83L4 21.41c.39.39.9.59 1.41.59.51 0 1.02-.2 1.41-.59l7.78-7.78 2.81-2.81c.8-.78.8-2.07 0-2.86zM5.41 20L4 18.59l7.72-7.72 1.47 1.35L5.41 20z\"/>\n",
              "  </svg>\n",
              "      </button>\n",
              "      \n",
              "  <style>\n",
              "    .colab-df-container {\n",
              "      display:flex;\n",
              "      flex-wrap:wrap;\n",
              "      gap: 12px;\n",
              "    }\n",
              "\n",
              "    .colab-df-convert {\n",
              "      background-color: #E8F0FE;\n",
              "      border: none;\n",
              "      border-radius: 50%;\n",
              "      cursor: pointer;\n",
              "      display: none;\n",
              "      fill: #1967D2;\n",
              "      height: 32px;\n",
              "      padding: 0 0 0 0;\n",
              "      width: 32px;\n",
              "    }\n",
              "\n",
              "    .colab-df-convert:hover {\n",
              "      background-color: #E2EBFA;\n",
              "      box-shadow: 0px 1px 2px rgba(60, 64, 67, 0.3), 0px 1px 3px 1px rgba(60, 64, 67, 0.15);\n",
              "      fill: #174EA6;\n",
              "    }\n",
              "\n",
              "    [theme=dark] .colab-df-convert {\n",
              "      background-color: #3B4455;\n",
              "      fill: #D2E3FC;\n",
              "    }\n",
              "\n",
              "    [theme=dark] .colab-df-convert:hover {\n",
              "      background-color: #434B5C;\n",
              "      box-shadow: 0px 1px 3px 1px rgba(0, 0, 0, 0.15);\n",
              "      filter: drop-shadow(0px 1px 2px rgba(0, 0, 0, 0.3));\n",
              "      fill: #FFFFFF;\n",
              "    }\n",
              "  </style>\n",
              "\n",
              "      <script>\n",
              "        const buttonEl =\n",
              "          document.querySelector('#df-fb99f886-8884-4d71-a6ef-fa637a8c01ac button.colab-df-convert');\n",
              "        buttonEl.style.display =\n",
              "          google.colab.kernel.accessAllowed ? 'block' : 'none';\n",
              "\n",
              "        async function convertToInteractive(key) {\n",
              "          const element = document.querySelector('#df-fb99f886-8884-4d71-a6ef-fa637a8c01ac');\n",
              "          const dataTable =\n",
              "            await google.colab.kernel.invokeFunction('convertToInteractive',\n",
              "                                                     [key], {});\n",
              "          if (!dataTable) return;\n",
              "\n",
              "          const docLinkHtml = 'Like what you see? Visit the ' +\n",
              "            '<a target=\"_blank\" href=https://colab.research.google.com/notebooks/data_table.ipynb>data table notebook</a>'\n",
              "            + ' to learn more about interactive tables.';\n",
              "          element.innerHTML = '';\n",
              "          dataTable['output_type'] = 'display_data';\n",
              "          await google.colab.output.renderOutput(dataTable, element);\n",
              "          const docLink = document.createElement('div');\n",
              "          docLink.innerHTML = docLinkHtml;\n",
              "          element.appendChild(docLink);\n",
              "        }\n",
              "      </script>\n",
              "    </div>\n",
              "  </div>\n",
              "  "
            ],
            "text/plain": [
              "                   region_1   region_2   region_3\n",
              "RMSE              37.579422   0.893099  40.029709\n",
              "MAE               30.919601   0.718766  32.792652\n",
              "R2                 0.279943   0.999623   0.205248\n",
              "среднее значение  92.500000  68.825000  95.000000"
            ]
          },
          "metadata": {},
          "execution_count": 13
        }
      ],
      "source": [
        "metrics(data_region_1,data_region_2,data_region_3,liner_reg)"
      ]
    },
    {
      "cell_type": "markdown",
      "metadata": {
        "id": "x0B2surlR7Yh"
      },
      "source": [
        "**Вывод**\n",
        "\n",
        "Наилучшие метрики у 2-го региона. Смущает коэффициент детерминациии(практически 1). Модель практически идеально предсказывает."
      ]
    },
    {
      "cell_type": "markdown",
      "metadata": {
        "id": "nHvcWQyAR7Yi"
      },
      "source": [
        "### Случайный лес"
      ]
    },
    {
      "cell_type": "markdown",
      "metadata": {
        "id": "5UVqh6BsR7Yj"
      },
      "source": [
        "Теперь посмотрим на модель случайного леса."
      ]
    },
    {
      "cell_type": "markdown",
      "metadata": {
        "id": "fEhQR0INR7Yj"
      },
      "source": [
        "Функция случайного леса:"
      ]
    },
    {
      "cell_type": "code",
      "execution_count": 14,
      "metadata": {
        "id": "KeEz4TL_R7Yk"
      },
      "outputs": [],
      "source": [
        "def rand_for(data):\n",
        "    spli(data)\n",
        "    best_model_RandomForest = None\n",
        "    best_result = 0   \n",
        "    best_depth=0\n",
        "    best_est=0\n",
        "    features_train, features_valid, target_train, target_valid,features,target=spli(data)\n",
        "    for depth in range (1, 14):       \n",
        "        model = RandomForestRegressor(random_state=12345,max_depth=depth) \n",
        "        model.fit(features_train,target_train) \n",
        "        result = model.score(features_valid,target_valid)\n",
        "        if result > best_result:       \n",
        "            best_model_RandomForest = model\n",
        "            best_result = result\n",
        "            best_depth = depth\n",
        "    for est in range(1, 125,25):   \n",
        "        model = RandomForestRegressor(random_state=12345, n_estimators=est,max_depth=best_depth) \n",
        "        model.fit(features_train,target_train) \n",
        "        result = model.score(features_valid,target_valid)\n",
        "        if result > best_result:\n",
        "            best_model_RandomForest = model\n",
        "            best_result = result\n",
        "            best_est = est\n",
        "    predicted_valid=best_model_RandomForest.predict(features_valid)   \n",
        "    return best_model_RandomForest,predicted_valid\n"
      ]
    },
    {
      "cell_type": "markdown",
      "metadata": {
        "id": "-TF_qRcRR7Yk"
      },
      "source": [
        "Выведим таблицу со всеми метриками:"
      ]
    },
    {
      "cell_type": "code",
      "execution_count": 20,
      "metadata": {
        "scrolled": true,
        "id": "glx7GOWdR7Yl",
        "outputId": "95d7a250-5909-4386-bfd5-8b88179f10d2",
        "colab": {
          "base_uri": "https://localhost:8080/",
          "height": 210
        }
      },
      "outputs": [
        {
          "output_type": "stream",
          "name": "stdout",
          "text": [
            "CPU times: user 10min 38s, sys: 960 ms, total: 10min 39s\n",
            "Wall time: 10min 38s\n"
          ]
        },
        {
          "output_type": "execute_result",
          "data": {
            "text/html": [
              "\n",
              "  <div id=\"df-886e9e17-d7e6-407b-a333-505b91d00255\">\n",
              "    <div class=\"colab-df-container\">\n",
              "      <div>\n",
              "<style scoped>\n",
              "    .dataframe tbody tr th:only-of-type {\n",
              "        vertical-align: middle;\n",
              "    }\n",
              "\n",
              "    .dataframe tbody tr th {\n",
              "        vertical-align: top;\n",
              "    }\n",
              "\n",
              "    .dataframe thead th {\n",
              "        text-align: right;\n",
              "    }\n",
              "</style>\n",
              "<table border=\"1\" class=\"dataframe\">\n",
              "  <thead>\n",
              "    <tr style=\"text-align: right;\">\n",
              "      <th></th>\n",
              "      <th>region_1</th>\n",
              "      <th>region_2</th>\n",
              "      <th>region_3</th>\n",
              "    </tr>\n",
              "  </thead>\n",
              "  <tbody>\n",
              "    <tr>\n",
              "      <th>RMSE</th>\n",
              "      <td>37.098920</td>\n",
              "      <td>0.717891</td>\n",
              "      <td>37.687925</td>\n",
              "    </tr>\n",
              "    <tr>\n",
              "      <th>MAE</th>\n",
              "      <td>30.523377</td>\n",
              "      <td>0.318670</td>\n",
              "      <td>31.110260</td>\n",
              "    </tr>\n",
              "    <tr>\n",
              "      <th>R2</th>\n",
              "      <td>0.298239</td>\n",
              "      <td>0.999757</td>\n",
              "      <td>0.295515</td>\n",
              "    </tr>\n",
              "    <tr>\n",
              "      <th>среднее значение</th>\n",
              "      <td>92.500000</td>\n",
              "      <td>68.825000</td>\n",
              "      <td>95.000000</td>\n",
              "    </tr>\n",
              "  </tbody>\n",
              "</table>\n",
              "</div>\n",
              "      <button class=\"colab-df-convert\" onclick=\"convertToInteractive('df-886e9e17-d7e6-407b-a333-505b91d00255')\"\n",
              "              title=\"Convert this dataframe to an interactive table.\"\n",
              "              style=\"display:none;\">\n",
              "        \n",
              "  <svg xmlns=\"http://www.w3.org/2000/svg\" height=\"24px\"viewBox=\"0 0 24 24\"\n",
              "       width=\"24px\">\n",
              "    <path d=\"M0 0h24v24H0V0z\" fill=\"none\"/>\n",
              "    <path d=\"M18.56 5.44l.94 2.06.94-2.06 2.06-.94-2.06-.94-.94-2.06-.94 2.06-2.06.94zm-11 1L8.5 8.5l.94-2.06 2.06-.94-2.06-.94L8.5 2.5l-.94 2.06-2.06.94zm10 10l.94 2.06.94-2.06 2.06-.94-2.06-.94-.94-2.06-.94 2.06-2.06.94z\"/><path d=\"M17.41 7.96l-1.37-1.37c-.4-.4-.92-.59-1.43-.59-.52 0-1.04.2-1.43.59L10.3 9.45l-7.72 7.72c-.78.78-.78 2.05 0 2.83L4 21.41c.39.39.9.59 1.41.59.51 0 1.02-.2 1.41-.59l7.78-7.78 2.81-2.81c.8-.78.8-2.07 0-2.86zM5.41 20L4 18.59l7.72-7.72 1.47 1.35L5.41 20z\"/>\n",
              "  </svg>\n",
              "      </button>\n",
              "      \n",
              "  <style>\n",
              "    .colab-df-container {\n",
              "      display:flex;\n",
              "      flex-wrap:wrap;\n",
              "      gap: 12px;\n",
              "    }\n",
              "\n",
              "    .colab-df-convert {\n",
              "      background-color: #E8F0FE;\n",
              "      border: none;\n",
              "      border-radius: 50%;\n",
              "      cursor: pointer;\n",
              "      display: none;\n",
              "      fill: #1967D2;\n",
              "      height: 32px;\n",
              "      padding: 0 0 0 0;\n",
              "      width: 32px;\n",
              "    }\n",
              "\n",
              "    .colab-df-convert:hover {\n",
              "      background-color: #E2EBFA;\n",
              "      box-shadow: 0px 1px 2px rgba(60, 64, 67, 0.3), 0px 1px 3px 1px rgba(60, 64, 67, 0.15);\n",
              "      fill: #174EA6;\n",
              "    }\n",
              "\n",
              "    [theme=dark] .colab-df-convert {\n",
              "      background-color: #3B4455;\n",
              "      fill: #D2E3FC;\n",
              "    }\n",
              "\n",
              "    [theme=dark] .colab-df-convert:hover {\n",
              "      background-color: #434B5C;\n",
              "      box-shadow: 0px 1px 3px 1px rgba(0, 0, 0, 0.15);\n",
              "      filter: drop-shadow(0px 1px 2px rgba(0, 0, 0, 0.3));\n",
              "      fill: #FFFFFF;\n",
              "    }\n",
              "  </style>\n",
              "\n",
              "      <script>\n",
              "        const buttonEl =\n",
              "          document.querySelector('#df-886e9e17-d7e6-407b-a333-505b91d00255 button.colab-df-convert');\n",
              "        buttonEl.style.display =\n",
              "          google.colab.kernel.accessAllowed ? 'block' : 'none';\n",
              "\n",
              "        async function convertToInteractive(key) {\n",
              "          const element = document.querySelector('#df-886e9e17-d7e6-407b-a333-505b91d00255');\n",
              "          const dataTable =\n",
              "            await google.colab.kernel.invokeFunction('convertToInteractive',\n",
              "                                                     [key], {});\n",
              "          if (!dataTable) return;\n",
              "\n",
              "          const docLinkHtml = 'Like what you see? Visit the ' +\n",
              "            '<a target=\"_blank\" href=https://colab.research.google.com/notebooks/data_table.ipynb>data table notebook</a>'\n",
              "            + ' to learn more about interactive tables.';\n",
              "          element.innerHTML = '';\n",
              "          dataTable['output_type'] = 'display_data';\n",
              "          await google.colab.output.renderOutput(dataTable, element);\n",
              "          const docLink = document.createElement('div');\n",
              "          docLink.innerHTML = docLinkHtml;\n",
              "          element.appendChild(docLink);\n",
              "        }\n",
              "      </script>\n",
              "    </div>\n",
              "  </div>\n",
              "  "
            ],
            "text/plain": [
              "                   region_1   region_2   region_3\n",
              "RMSE              37.098920   0.717891  37.687925\n",
              "MAE               30.523377   0.318670  31.110260\n",
              "R2                 0.298239   0.999757   0.295515\n",
              "среднее значение  92.500000  68.825000  95.000000"
            ]
          },
          "metadata": {},
          "execution_count": 20
        }
      ],
      "source": [
        "%%time\n",
        "metrics(data_region_1,data_region_2,data_region_3,rand_for)"
      ]
    },
    {
      "cell_type": "markdown",
      "metadata": {
        "id": "3dZNwJ91R7Ym"
      },
      "source": [
        "**Вывод**\n",
        "\n",
        "Немного улучшились метрики во всех таблицах. Но время выполнения модели слишком большое(2 минуты 20 секунд)."
      ]
    },
    {
      "cell_type": "markdown",
      "metadata": {
        "id": "kgr0-6O0R7Yo"
      },
      "source": [
        "### Дерево решений"
      ]
    },
    {
      "cell_type": "markdown",
      "metadata": {
        "id": "kFMyNyV1R7Yp"
      },
      "source": [
        "Теперь рассмотрим модель дерово решений.\n",
        "\n",
        "Создадим функцию:"
      ]
    },
    {
      "cell_type": "code",
      "execution_count": null,
      "metadata": {
        "id": "m-bzwNh8R7Yp"
      },
      "outputs": [],
      "source": [
        "def tree(data):\n",
        "    best_model_DecisionTree = None\n",
        "    best_result = 0   \n",
        "    best_depth=0\n",
        "    best_est=0\n",
        "    features_train, features_valid, target_train, target_valid,features,target=spli(data)\n",
        "    for depth in range (1, 14):       \n",
        "        model = DecisionTreeRegressor(random_state=12345,max_depth=depth) \n",
        "        model.fit(features_train,target_train) \n",
        "        result = model.score(features_valid,target_valid)\n",
        "        if result > best_result:       \n",
        "            best_model_DecisionTree = model\n",
        "            best_result = result\n",
        "            best_depth = depth\n",
        "    predicted_valid=best_model_DecisionTree.predict(features_valid)   \n",
        "    return best_model_DecisionTree,predicted_valid"
      ]
    },
    {
      "cell_type": "markdown",
      "metadata": {
        "id": "4xoMSLasR7Yq"
      },
      "source": [
        "Выведим все метрики для таблиц:"
      ]
    },
    {
      "cell_type": "code",
      "execution_count": null,
      "metadata": {
        "scrolled": true,
        "id": "B2yPBnc3R7Yq",
        "outputId": "f4ad4617-7414-4553-dfde-91c8df92eb47"
      },
      "outputs": [
        {
          "name": "stdout",
          "output_type": "stream",
          "text": [
            "CPU times: user 6.47 s, sys: 20 ms, total: 6.49 s\n",
            "Wall time: 6.5 s\n"
          ]
        },
        {
          "data": {
            "text/html": [
              "<div>\n",
              "<style scoped>\n",
              "    .dataframe tbody tr th:only-of-type {\n",
              "        vertical-align: middle;\n",
              "    }\n",
              "\n",
              "    .dataframe tbody tr th {\n",
              "        vertical-align: top;\n",
              "    }\n",
              "\n",
              "    .dataframe thead th {\n",
              "        text-align: right;\n",
              "    }\n",
              "</style>\n",
              "<table border=\"1\" class=\"dataframe\">\n",
              "  <thead>\n",
              "    <tr style=\"text-align: right;\">\n",
              "      <th></th>\n",
              "      <th>region_1</th>\n",
              "      <th>region_2</th>\n",
              "      <th>region_3</th>\n",
              "    </tr>\n",
              "  </thead>\n",
              "  <tbody>\n",
              "    <tr>\n",
              "      <td>RMSE</td>\n",
              "      <td>37.517855</td>\n",
              "      <td>0.728122</td>\n",
              "      <td>38.111004</td>\n",
              "    </tr>\n",
              "    <tr>\n",
              "      <td>MAE</td>\n",
              "      <td>30.819054</td>\n",
              "      <td>0.324007</td>\n",
              "      <td>31.429333</td>\n",
              "    </tr>\n",
              "    <tr>\n",
              "      <td>R2</td>\n",
              "      <td>0.282301</td>\n",
              "      <td>0.999750</td>\n",
              "      <td>0.279610</td>\n",
              "    </tr>\n",
              "    <tr>\n",
              "      <td>среднее значение</td>\n",
              "      <td>92.500000</td>\n",
              "      <td>68.825000</td>\n",
              "      <td>95.000000</td>\n",
              "    </tr>\n",
              "  </tbody>\n",
              "</table>\n",
              "</div>"
            ],
            "text/plain": [
              "                   region_1   region_2   region_3\n",
              "RMSE              37.517855   0.728122  38.111004\n",
              "MAE               30.819054   0.324007  31.429333\n",
              "R2                 0.282301   0.999750   0.279610\n",
              "среднее значение  92.500000  68.825000  95.000000"
            ]
          },
          "execution_count": 33,
          "metadata": {},
          "output_type": "execute_result"
        }
      ],
      "source": [
        "%%time\n",
        "\n",
        "metrics(data_region_1,data_region_2,data_region_3,tree)"
      ]
    },
    {
      "cell_type": "markdown",
      "metadata": {
        "id": "p_Aw2Ad5R7Yr"
      },
      "source": [
        "**Вывод** \n",
        "\n",
        "По сравнению c линейной регрессией метрики лучше. R2 на 1% в регионе 1 и на 7.5% в регионе 3.\n",
        "\n",
        "А по сравнению с деревом решения модель работает гораздо быстрее (6.7 секунд)"
      ]
    },
    {
      "cell_type": "markdown",
      "metadata": {
        "id": "bWDksWdJR7Ys"
      },
      "source": [
        "## Подготовка к расчёту прибыли"
      ]
    },
    {
      "cell_type": "markdown",
      "metadata": {
        "id": "UbVKa9gUR7Ys"
      },
      "source": [
        "Создадим переменные, которые понадобятся для расчета:"
      ]
    },
    {
      "cell_type": "code",
      "execution_count": null,
      "metadata": {
        "id": "5QeOy2hYR7Yt",
        "outputId": "efa57fcd-efef-4879-e20c-5bc21e4534d0"
      },
      "outputs": [
        {
          "data": {
            "text/plain": [
              "111.11111111111111"
            ]
          },
          "execution_count": 34,
          "metadata": {},
          "output_type": "execute_result"
        }
      ],
      "source": [
        "budget = 10000000000        #Бюджет на разработку скважин в регионе\n",
        "price_per_product = 450000  #Доход с каждой единицы продукта\n",
        "borehole=200                #Колличество обработаных скважин\n",
        "volume_need=budget/price_per_product/borehole\n",
        "volume_need                 #объём сырья для безубыточной разработки новой скважины"
      ]
    },
    {
      "cell_type": "markdown",
      "metadata": {
        "id": "kl3zF5pcR7Yt"
      },
      "source": [
        "**Вывод**\n",
        "\n",
        "Для того, чтобы скважина была безубыточной, необходимо наличие минимум 112 тонн баррелей на скважине. И это гораздо выше среднего значения в регионах(92.5,\t68.8, 95). Особенно во втором регионе. Это говорит о необходимости модели для предсказания  обьемов нефти."
      ]
    },
    {
      "cell_type": "markdown",
      "metadata": {
        "id": "BrqMIikRR7Yu"
      },
      "source": [
        "### Функцию для расчёта прибыли по выбранным скважинам и предсказаниям модели"
      ]
    },
    {
      "cell_type": "markdown",
      "metadata": {
        "id": "BXGeo0WnR7Yu"
      },
      "source": [
        "Создадим функцию, которая будет возвращать доход от 200 выбранных моделью скважин:"
      ]
    },
    {
      "cell_type": "code",
      "execution_count": null,
      "metadata": {
        "id": "NEjrKjfxR7Yv"
      },
      "outputs": [],
      "source": [
        "def income(data,target, count,predicted):\n",
        "    pred_sorted = predicted.sort_values(ascending=False)\n",
        "    selected = target[pred_sorted.index][:count]\n",
        "    return ((price_per_product * selected.sum())-budget)"
      ]
    },
    {
      "cell_type": "markdown",
      "metadata": {
        "id": "WaU8e5LlR7Yv"
      },
      "source": [
        "## Расчёт прибыли и рисков "
      ]
    },
    {
      "cell_type": "markdown",
      "metadata": {
        "id": "XBrWyan_R7Yw"
      },
      "source": [
        "Создадим функцию, где с помощью техники bootstrap с 1000 выборками найдем распределениие прибыли.\n",
        "\n",
        "Функция бедет возвращать массив прибыли, 2.5% квантиль прибыли, 97.5% квантиль и среднюю прибыль."
      ]
    },
    {
      "cell_type": "code",
      "execution_count": null,
      "metadata": {
        "id": "-cRQLNTiR7Yw"
      },
      "outputs": [],
      "source": [
        "def boot(data):\n",
        "    features_train, features_valid, target_train, target_valid,features,target = spli(data)\n",
        "    model,predicted_valid=liner_reg(data)\n",
        "    predicted_valid=pd.Series(model.predict(features))\n",
        "    state = np.random.RandomState(12345)\n",
        "    n=500/target.count()\n",
        "    values = []\n",
        "    for i in range(1000):\n",
        "        target_subsample = target.sample(frac=n, replace=True, random_state=state)\n",
        "        predicted = predicted_valid[target_subsample.index] \n",
        "        values.append(income(data,target_subsample, 200,predicted))\n",
        "    values = pd.Series(values)\n",
        "    high = values.quantile(0.975)\n",
        "    lower  = values.quantile(0.025)\n",
        "    mean = values.mean()  \n",
        "    return values,lower,mean,high"
      ]
    },
    {
      "cell_type": "markdown",
      "metadata": {
        "id": "guGCctkHR7Yw"
      },
      "source": [
        "Создадим таблицу, где будут отображаться значения по регионам."
      ]
    },
    {
      "cell_type": "code",
      "execution_count": null,
      "metadata": {
        "id": "WDmeu0luR7Yx"
      },
      "outputs": [],
      "source": [
        "values_1,lower_1,mean_1,high_1 = boot(data_region_1)"
      ]
    },
    {
      "cell_type": "code",
      "execution_count": null,
      "metadata": {
        "id": "dlcIq3ExR7Yx"
      },
      "outputs": [],
      "source": [
        "values_2,lower_2,mean_2,high_2=boot(data_region_2)"
      ]
    },
    {
      "cell_type": "code",
      "execution_count": null,
      "metadata": {
        "id": "McwxbKZ-R7Yx"
      },
      "outputs": [],
      "source": [
        "values_3,lower_3,mean_3,high_3=boot(data_region_3)"
      ]
    },
    {
      "cell_type": "code",
      "execution_count": null,
      "metadata": {
        "scrolled": true,
        "id": "lPZd8v9HR7Yy",
        "outputId": "00d9426f-7d62-442b-bdac-61520e7255b6"
      },
      "outputs": [
        {
          "data": {
            "text/html": [
              "<div>\n",
              "<style scoped>\n",
              "    .dataframe tbody tr th:only-of-type {\n",
              "        vertical-align: middle;\n",
              "    }\n",
              "\n",
              "    .dataframe tbody tr th {\n",
              "        vertical-align: top;\n",
              "    }\n",
              "\n",
              "    .dataframe thead th {\n",
              "        text-align: right;\n",
              "    }\n",
              "</style>\n",
              "<table border=\"1\" class=\"dataframe\">\n",
              "  <thead>\n",
              "    <tr style=\"text-align: right;\">\n",
              "      <th></th>\n",
              "      <th>region_1</th>\n",
              "      <th>region_2</th>\n",
              "      <th>region_3</th>\n",
              "    </tr>\n",
              "  </thead>\n",
              "  <tbody>\n",
              "    <tr>\n",
              "      <td>2.5% квантиль</td>\n",
              "      <td>-7.054177e+07</td>\n",
              "      <td>5.598853e+07</td>\n",
              "      <td>-1.770609e+08</td>\n",
              "    </tr>\n",
              "    <tr>\n",
              "      <td>средняя прибыль</td>\n",
              "      <td>4.310923e+08</td>\n",
              "      <td>4.629566e+08</td>\n",
              "      <td>3.805545e+08</td>\n",
              "    </tr>\n",
              "    <tr>\n",
              "      <td>97.5% квантиль</td>\n",
              "      <td>9.790197e+08</td>\n",
              "      <td>8.458393e+08</td>\n",
              "      <td>8.969855e+08</td>\n",
              "    </tr>\n",
              "  </tbody>\n",
              "</table>\n",
              "</div>"
            ],
            "text/plain": [
              "                     region_1      region_2      region_3\n",
              "2.5% квантиль   -7.054177e+07  5.598853e+07 -1.770609e+08\n",
              "средняя прибыль  4.310923e+08  4.629566e+08  3.805545e+08\n",
              "97.5% квантиль   9.790197e+08  8.458393e+08  8.969855e+08"
            ]
          },
          "execution_count": 40,
          "metadata": {},
          "output_type": "execute_result"
        }
      ],
      "source": [
        "pd.DataFrame({'region_1' : [lower_1,mean_1,high_1],'region_2' : [lower_2,mean_2,high_2],\n",
        "              'region_3' : [lower_3,mean_3,high_3]},index=['2.5% квантиль','средняя прибыль','97.5% квантиль'])"
      ]
    },
    {
      "cell_type": "markdown",
      "metadata": {
        "id": "OGTyTja8R7Yy"
      },
      "source": [
        "С помощью kdeplot отобразим распределение прибыли по регионам."
      ]
    },
    {
      "cell_type": "code",
      "execution_count": null,
      "metadata": {
        "scrolled": true,
        "id": "28KoA6RrR7Yz",
        "outputId": "fe6ba6e0-3b44-42cc-c559-55431d5b3edd"
      },
      "outputs": [
        {
          "data": {
            "image/png": "[encoded data removed]",
            "text/plain": [
              "<Figure size 864x576 with 1 Axes>"
            ]
          },
          "metadata": {
            "needs_background": "light"
          },
          "output_type": "display_data"
        }
      ],
      "source": [
        "plt.figure(figsize=(12,8))\n",
        "sns.kdeplot(values_1, shade=True, color=\"g\", label=\"Регион 1\", alpha=.4)\n",
        "sns.kdeplot(values_2, shade=True, color=\"r\", label=\"Регион 2\", alpha=.4)\n",
        "sns.kdeplot(values_3, shade=True, color=\"y\", label=\"Регион 3\", alpha=.4)\n",
        "plt.legend()\n",
        "plt.grid(color='grey')\n",
        "plt.show()"
      ]
    },
    {
      "cell_type": "markdown",
      "metadata": {
        "id": "1k1QRxtvR7Y0"
      },
      "source": [
        "### Расчет рисков"
      ]
    },
    {
      "cell_type": "markdown",
      "metadata": {
        "id": "jAmhMtn_R7Y0"
      },
      "source": [
        "Функция для расчета доли отрицательной прибыли по выбранным скважинам и предсказаниям модели:"
      ]
    },
    {
      "cell_type": "code",
      "execution_count": null,
      "metadata": {
        "id": "G1iFI2qjR7Y1"
      },
      "outputs": [],
      "source": [
        "def risks(values):\n",
        "    values=pd.Series(values)\n",
        "    val_minus=values[values < 0].count()\n",
        "    val=values.count()\n",
        "    return ((val_minus/val)*100)"
      ]
    },
    {
      "cell_type": "markdown",
      "metadata": {
        "id": "SeVpE_HsR7Y1"
      },
      "source": [
        "Отобразим все значения в таблице:"
      ]
    },
    {
      "cell_type": "code",
      "execution_count": null,
      "metadata": {
        "id": "5TjF-4hoR7Y1",
        "outputId": "ee84a5cb-ef95-4a80-88eb-2f52aa52c967"
      },
      "outputs": [
        {
          "data": {
            "text/html": [
              "<div>\n",
              "<style scoped>\n",
              "    .dataframe tbody tr th:only-of-type {\n",
              "        vertical-align: middle;\n",
              "    }\n",
              "\n",
              "    .dataframe tbody tr th {\n",
              "        vertical-align: top;\n",
              "    }\n",
              "\n",
              "    .dataframe thead th {\n",
              "        text-align: right;\n",
              "    }\n",
              "</style>\n",
              "<table border=\"1\" class=\"dataframe\">\n",
              "  <thead>\n",
              "    <tr style=\"text-align: right;\">\n",
              "      <th></th>\n",
              "      <th>region_1</th>\n",
              "      <th>region_2</th>\n",
              "      <th>region_3</th>\n",
              "    </tr>\n",
              "  </thead>\n",
              "  <tbody>\n",
              "    <tr>\n",
              "      <td>доля убыточных распределений, %</td>\n",
              "      <td>5.1</td>\n",
              "      <td>1.3</td>\n",
              "      <td>9.1</td>\n",
              "    </tr>\n",
              "  </tbody>\n",
              "</table>\n",
              "</div>"
            ],
            "text/plain": [
              "                                 region_1  region_2  region_3\n",
              "доля убыточных распределений, %       5.1       1.3       9.1"
            ]
          },
          "execution_count": 58,
          "metadata": {},
          "output_type": "execute_result"
        }
      ],
      "source": [
        "pd.DataFrame({'region_1': (risks(values_1)),'region_2': (risks(values_2)),'region_3': (risks(values_3))},\n",
        "             index=['доля убыточных распределений, %'])"
      ]
    },
    {
      "cell_type": "markdown",
      "metadata": {
        "id": "Jz3IbFbWR7Y3"
      },
      "source": [
        "**Вывод**\n",
        "\n",
        "По графику и полученной таблице можно сделать вывод, что наименьший риск убытка для разработки местораждения во `2 регионе`. В 95%-ом доверительном интервале 2-й регион единственный, где нет риска убытка.\n",
        "\n",
        "Наименьший риск убыточности во втором регионе (1.3%), что лишний раз потверждает наш выбор.\n",
        "\n",
        "Также там наблюдается наибольшая средняя прибыль."
      ]
    },
    {
      "cell_type": "markdown",
      "metadata": {
        "id": "Livyd1YCR7Y3"
      },
      "source": [
        "**Общий вывод**\n",
        "\n",
        "Данные по регионам были загружены и проанализированы. \n",
        "\n",
        "Для разбиения данных использовал функции, так как это упращает работу с несколькими таблицами.\n",
        "\n",
        "Были рассмотрены 3 модели и их метрики качества. Наилучший результат показало лес решений, но время обучения модели оказалось очень большим. Дерово решений обучалось гораздо быстрее, но результаты были похуже. Хуже всего показала себя логистическая регрессия.\n",
        "\n",
        "Было посчитано минимальное среднее количество продукта в месторождениях региона, достаточное для разработки. Он составиляет 112 тонн барреля.\n",
        "\n",
        "Проведена процедура Bootstrap, в ходе которого определили, что 2 регион является наименее рискованый для разработки скважин."
      ]
    }
  ],
  "metadata": {
    "ExecuteTimeLog": [
      {
        "duration": 240,
        "start_time": "2022-01-20T08:26:04.601Z"
      },
      {
        "duration": 704,
        "start_time": "2022-01-20T08:26:07.185Z"
      },
      {
        "duration": 211,
        "start_time": "2022-01-20T08:26:08.351Z"
      },
      {
        "duration": 325,
        "start_time": "2022-01-20T08:26:36.341Z"
      },
      {
        "duration": 125,
        "start_time": "2022-01-20T08:26:41.122Z"
      },
      {
        "duration": 119,
        "start_time": "2022-01-20T08:27:41.310Z"
      },
      {
        "duration": 130,
        "start_time": "2022-01-20T08:28:58.306Z"
      },
      {
        "duration": 12,
        "start_time": "2022-01-20T08:29:31.013Z"
      },
      {
        "duration": 12,
        "start_time": "2022-01-20T08:30:04.151Z"
      },
      {
        "duration": 11,
        "start_time": "2022-01-20T08:30:14.455Z"
      },
      {
        "duration": 203,
        "start_time": "2022-01-20T08:45:23.470Z"
      },
      {
        "duration": 1579,
        "start_time": "2022-01-20T08:45:31.101Z"
      },
      {
        "duration": 546,
        "start_time": "2022-01-20T08:45:32.682Z"
      },
      {
        "duration": 115,
        "start_time": "2022-01-20T08:45:33.231Z"
      },
      {
        "duration": 216,
        "start_time": "2022-01-20T08:45:49.674Z"
      },
      {
        "duration": 12,
        "start_time": "2022-01-20T08:47:06.443Z"
      },
      {
        "duration": 22,
        "start_time": "2022-01-20T08:47:12.097Z"
      },
      {
        "duration": 5236,
        "start_time": "2022-01-20T08:49:59.077Z"
      },
      {
        "duration": 7,
        "start_time": "2022-01-20T08:50:13.995Z"
      },
      {
        "duration": 239,
        "start_time": "2022-01-20T08:51:01.212Z"
      },
      {
        "duration": 410,
        "start_time": "2022-01-20T08:51:06.007Z"
      },
      {
        "duration": 34,
        "start_time": "2022-01-20T08:51:10.252Z"
      },
      {
        "duration": 3,
        "start_time": "2022-01-20T08:51:28.399Z"
      },
      {
        "duration": 214,
        "start_time": "2022-01-20T08:52:28.940Z"
      },
      {
        "duration": 474,
        "start_time": "2022-01-20T08:52:32.740Z"
      },
      {
        "duration": 190,
        "start_time": "2022-01-20T08:52:59.180Z"
      },
      {
        "duration": 197,
        "start_time": "2022-01-20T08:53:10.889Z"
      },
      {
        "duration": 2,
        "start_time": "2022-01-20T08:53:18.463Z"
      },
      {
        "duration": 21,
        "start_time": "2022-01-20T08:53:20.220Z"
      },
      {
        "duration": 8,
        "start_time": "2022-01-20T08:53:51.448Z"
      },
      {
        "duration": 212,
        "start_time": "2022-01-20T08:55:15.645Z"
      },
      {
        "duration": 2,
        "start_time": "2022-01-20T08:55:20.801Z"
      },
      {
        "duration": 6,
        "start_time": "2022-01-20T08:55:25.695Z"
      },
      {
        "duration": 8,
        "start_time": "2022-01-20T08:55:31.416Z"
      },
      {
        "duration": 7,
        "start_time": "2022-01-20T08:55:43.354Z"
      },
      {
        "duration": 742,
        "start_time": "2022-01-20T08:59:30.085Z"
      },
      {
        "duration": 2,
        "start_time": "2022-01-20T08:59:35.490Z"
      },
      {
        "duration": 5,
        "start_time": "2022-01-20T08:59:40.398Z"
      },
      {
        "duration": 142,
        "start_time": "2022-01-20T09:02:10.081Z"
      },
      {
        "duration": 23,
        "start_time": "2022-01-20T09:02:15.171Z"
      },
      {
        "duration": 48114,
        "start_time": "2022-01-20T09:02:19.409Z"
      },
      {
        "duration": 3,
        "start_time": "2022-01-20T09:06:44.342Z"
      },
      {
        "duration": 121,
        "start_time": "2022-01-20T09:06:44.346Z"
      },
      {
        "duration": 103,
        "start_time": "2022-01-20T09:06:44.469Z"
      },
      {
        "duration": 113,
        "start_time": "2022-01-20T09:06:44.573Z"
      },
      {
        "duration": 8,
        "start_time": "2022-01-20T09:06:44.688Z"
      },
      {
        "duration": 20,
        "start_time": "2022-01-20T09:06:44.698Z"
      },
      {
        "duration": 9,
        "start_time": "2022-01-20T09:06:44.719Z"
      },
      {
        "duration": 11,
        "start_time": "2022-01-20T09:06:44.729Z"
      },
      {
        "duration": 5,
        "start_time": "2022-01-20T09:06:44.741Z"
      },
      {
        "duration": 27,
        "start_time": "2022-01-20T09:06:44.750Z"
      },
      {
        "duration": 3,
        "start_time": "2022-01-20T09:06:44.812Z"
      },
      {
        "duration": 5,
        "start_time": "2022-01-20T09:06:44.817Z"
      },
      {
        "duration": 20,
        "start_time": "2022-01-20T09:06:44.823Z"
      },
      {
        "duration": 7,
        "start_time": "2022-01-20T09:06:44.844Z"
      },
      {
        "duration": 7,
        "start_time": "2022-01-20T09:06:44.913Z"
      },
      {
        "duration": 48090,
        "start_time": "2022-01-20T09:06:45.013Z"
      },
      {
        "duration": 155415,
        "start_time": "2022-01-20T09:07:33.105Z"
      },
      {
        "duration": 2198,
        "start_time": "2022-01-20T09:10:08.522Z"
      },
      {
        "duration": 820,
        "start_time": "2022-01-20T09:10:18.402Z"
      },
      {
        "duration": 2361,
        "start_time": "2022-01-20T09:10:20.351Z"
      },
      {
        "duration": 760,
        "start_time": "2022-01-20T09:10:22.714Z"
      },
      {
        "duration": 188,
        "start_time": "2022-01-20T09:10:23.476Z"
      },
      {
        "duration": 3,
        "start_time": "2022-01-20T09:10:29.024Z"
      },
      {
        "duration": 5,
        "start_time": "2022-01-20T09:10:34.514Z"
      },
      {
        "duration": 7531,
        "start_time": "2022-01-20T09:15:03.928Z"
      },
      {
        "duration": 34,
        "start_time": "2022-01-20T09:15:45.710Z"
      },
      {
        "duration": 6,
        "start_time": "2022-01-20T09:16:04.628Z"
      },
      {
        "duration": 14,
        "start_time": "2022-01-20T09:16:06.930Z"
      },
      {
        "duration": 13,
        "start_time": "2022-01-20T09:16:17.169Z"
      },
      {
        "duration": 5,
        "start_time": "2022-01-20T09:16:20.962Z"
      },
      {
        "duration": 13,
        "start_time": "2022-01-20T09:16:32.648Z"
      },
      {
        "duration": 5,
        "start_time": "2022-01-20T09:16:34.655Z"
      },
      {
        "duration": 5,
        "start_time": "2022-01-20T09:16:52.245Z"
      },
      {
        "duration": 276,
        "start_time": "2022-01-20T09:17:22.124Z"
      },
      {
        "duration": 190,
        "start_time": "2022-01-20T09:17:40.967Z"
      },
      {
        "duration": 32,
        "start_time": "2022-01-20T09:17:46.409Z"
      },
      {
        "duration": 2,
        "start_time": "2022-01-20T09:37:43.984Z"
      },
      {
        "duration": 4,
        "start_time": "2022-01-20T09:37:46.865Z"
      },
      {
        "duration": 4,
        "start_time": "2022-01-20T09:41:24.967Z"
      },
      {
        "duration": 3,
        "start_time": "2022-01-20T10:13:59.144Z"
      },
      {
        "duration": 3,
        "start_time": "2022-01-20T10:25:31.863Z"
      },
      {
        "duration": 127,
        "start_time": "2022-01-20T10:25:31.869Z"
      },
      {
        "duration": 115,
        "start_time": "2022-01-20T10:25:31.998Z"
      },
      {
        "duration": 123,
        "start_time": "2022-01-20T10:25:32.115Z"
      },
      {
        "duration": 9,
        "start_time": "2022-01-20T10:25:32.240Z"
      },
      {
        "duration": 16,
        "start_time": "2022-01-20T10:25:32.250Z"
      },
      {
        "duration": 10,
        "start_time": "2022-01-20T10:25:32.267Z"
      },
      {
        "duration": 4,
        "start_time": "2022-01-20T10:25:32.279Z"
      },
      {
        "duration": 11,
        "start_time": "2022-01-20T10:25:32.285Z"
      },
      {
        "duration": 3,
        "start_time": "2022-01-20T10:25:44.131Z"
      },
      {
        "duration": 14,
        "start_time": "2022-01-20T10:25:44.929Z"
      },
      {
        "duration": 28,
        "start_time": "2022-01-20T10:26:45.833Z"
      },
      {
        "duration": 17,
        "start_time": "2022-01-20T10:28:21.576Z"
      },
      {
        "duration": 2,
        "start_time": "2022-01-20T10:28:38.689Z"
      },
      {
        "duration": 14,
        "start_time": "2022-01-20T10:28:41.125Z"
      },
      {
        "duration": 15,
        "start_time": "2022-01-20T10:28:44.881Z"
      },
      {
        "duration": 5,
        "start_time": "2022-01-20T10:29:01.946Z"
      },
      {
        "duration": 28,
        "start_time": "2022-01-20T10:29:42.488Z"
      },
      {
        "duration": 16,
        "start_time": "2022-01-20T10:29:56.516Z"
      },
      {
        "duration": 5,
        "start_time": "2022-01-20T10:30:14.086Z"
      },
      {
        "duration": 26,
        "start_time": "2022-01-20T10:30:45.527Z"
      },
      {
        "duration": 15,
        "start_time": "2022-01-20T10:30:46.008Z"
      },
      {
        "duration": 5,
        "start_time": "2022-01-20T10:30:46.885Z"
      },
      {
        "duration": 27,
        "start_time": "2022-01-20T10:30:51.601Z"
      },
      {
        "duration": 15,
        "start_time": "2022-01-20T10:30:52.634Z"
      },
      {
        "duration": 30,
        "start_time": "2022-01-20T10:31:33.956Z"
      },
      {
        "duration": 17,
        "start_time": "2022-01-20T10:31:35.219Z"
      },
      {
        "duration": 5,
        "start_time": "2022-01-20T10:31:38.912Z"
      },
      {
        "duration": 26,
        "start_time": "2022-01-20T10:31:51.593Z"
      },
      {
        "duration": 15,
        "start_time": "2022-01-20T10:31:52.067Z"
      },
      {
        "duration": 5,
        "start_time": "2022-01-20T10:31:58.465Z"
      },
      {
        "duration": 4,
        "start_time": "2022-01-20T10:57:59.954Z"
      },
      {
        "duration": 877,
        "start_time": "2022-01-20T10:58:22.012Z"
      },
      {
        "duration": 5,
        "start_time": "2022-01-20T10:59:02.939Z"
      },
      {
        "duration": 3,
        "start_time": "2022-01-20T10:59:04.604Z"
      },
      {
        "duration": 26,
        "start_time": "2022-01-20T10:59:05.439Z"
      },
      {
        "duration": 859,
        "start_time": "2022-01-20T10:59:06.029Z"
      },
      {
        "duration": 4,
        "start_time": "2022-01-20T10:59:46.073Z"
      },
      {
        "duration": 898,
        "start_time": "2022-01-20T10:59:51.998Z"
      },
      {
        "duration": 4,
        "start_time": "2022-01-20T11:01:30.930Z"
      },
      {
        "duration": 963,
        "start_time": "2022-01-20T11:01:35.036Z"
      },
      {
        "duration": 4,
        "start_time": "2022-01-20T11:02:34.249Z"
      },
      {
        "duration": 3,
        "start_time": "2022-01-20T11:02:35.269Z"
      },
      {
        "duration": 26,
        "start_time": "2022-01-20T11:02:35.672Z"
      },
      {
        "duration": 1025,
        "start_time": "2022-01-20T11:02:36.391Z"
      },
      {
        "duration": 4,
        "start_time": "2022-01-20T11:02:55.736Z"
      },
      {
        "duration": 891,
        "start_time": "2022-01-20T11:02:57.388Z"
      },
      {
        "duration": 4,
        "start_time": "2022-01-20T11:03:23.343Z"
      },
      {
        "duration": 483,
        "start_time": "2022-01-20T11:03:26.032Z"
      },
      {
        "duration": 4,
        "start_time": "2022-01-20T11:03:49.937Z"
      },
      {
        "duration": 853,
        "start_time": "2022-01-20T11:03:52.704Z"
      },
      {
        "duration": 4,
        "start_time": "2022-01-20T11:04:10.007Z"
      },
      {
        "duration": 539,
        "start_time": "2022-01-20T11:04:12.572Z"
      },
      {
        "duration": 5,
        "start_time": "2022-01-20T11:13:01.682Z"
      },
      {
        "duration": 1311,
        "start_time": "2022-01-20T11:13:04.549Z"
      },
      {
        "duration": 3,
        "start_time": "2022-01-20T11:14:14.365Z"
      },
      {
        "duration": 4,
        "start_time": "2022-01-20T11:14:16.758Z"
      },
      {
        "duration": 372,
        "start_time": "2022-01-20T11:14:19.042Z"
      },
      {
        "duration": 5,
        "start_time": "2022-01-20T11:16:55.883Z"
      },
      {
        "duration": 426,
        "start_time": "2022-01-20T11:16:58.987Z"
      },
      {
        "duration": 5,
        "start_time": "2022-01-20T11:17:10.982Z"
      },
      {
        "duration": 474,
        "start_time": "2022-01-20T11:17:13.540Z"
      },
      {
        "duration": 5,
        "start_time": "2022-01-20T11:20:33.756Z"
      },
      {
        "duration": 1064,
        "start_time": "2022-01-20T11:20:36.731Z"
      },
      {
        "duration": 6,
        "start_time": "2022-01-20T11:20:56.255Z"
      },
      {
        "duration": 556,
        "start_time": "2022-01-20T11:20:58.871Z"
      },
      {
        "duration": 6,
        "start_time": "2022-01-20T11:22:44.824Z"
      },
      {
        "duration": 550,
        "start_time": "2022-01-20T11:22:48.168Z"
      },
      {
        "duration": 5,
        "start_time": "2022-01-20T11:23:05.284Z"
      },
      {
        "duration": 9,
        "start_time": "2022-01-20T11:25:05.930Z"
      },
      {
        "duration": 3,
        "start_time": "2022-01-20T11:25:08.642Z"
      },
      {
        "duration": 501,
        "start_time": "2022-01-20T11:25:10.116Z"
      },
      {
        "duration": 194,
        "start_time": "2022-01-20T11:28:02.499Z"
      },
      {
        "duration": 6,
        "start_time": "2022-01-20T11:28:06.753Z"
      },
      {
        "duration": 497,
        "start_time": "2022-01-20T11:28:09.124Z"
      },
      {
        "duration": 526,
        "start_time": "2022-01-20T11:28:23.872Z"
      },
      {
        "duration": 66,
        "start_time": "2022-01-20T11:30:14.248Z"
      },
      {
        "duration": 78,
        "start_time": "2022-01-20T11:30:41.335Z"
      },
      {
        "duration": 77,
        "start_time": "2022-01-20T11:31:08.639Z"
      },
      {
        "duration": 71,
        "start_time": "2022-01-20T11:31:41.902Z"
      },
      {
        "duration": 5,
        "start_time": "2022-01-20T11:32:40.466Z"
      },
      {
        "duration": 140250,
        "start_time": "2022-01-20T11:33:24.891Z"
      },
      {
        "duration": 4,
        "start_time": "2022-01-20T11:37:27.021Z"
      },
      {
        "duration": 23256,
        "start_time": "2022-01-20T11:37:45.510Z"
      },
      {
        "duration": 4,
        "start_time": "2022-01-20T11:38:40.640Z"
      },
      {
        "duration": 6466,
        "start_time": "2022-01-20T11:38:41.569Z"
      },
      {
        "duration": 5,
        "start_time": "2022-01-20T11:42:52.617Z"
      },
      {
        "duration": 506,
        "start_time": "2022-01-20T11:42:55.610Z"
      },
      {
        "duration": 3,
        "start_time": "2022-01-20T12:09:50.707Z"
      },
      {
        "duration": 180,
        "start_time": "2022-01-20T12:12:55.202Z"
      },
      {
        "duration": 4,
        "start_time": "2022-01-20T12:12:56.912Z"
      },
      {
        "duration": 391,
        "start_time": "2022-01-20T12:12:57.687Z"
      },
      {
        "duration": 3,
        "start_time": "2022-01-20T12:13:28.638Z"
      },
      {
        "duration": 8447,
        "start_time": "2022-01-20T12:13:37.280Z"
      },
      {
        "duration": 71,
        "start_time": "2022-01-20T12:17:35.252Z"
      },
      {
        "duration": 61,
        "start_time": "2022-01-20T12:17:51.240Z"
      },
      {
        "duration": 4,
        "start_time": "2022-01-20T12:18:13.685Z"
      },
      {
        "duration": 236,
        "start_time": "2022-01-20T12:18:15.457Z"
      },
      {
        "duration": 4,
        "start_time": "2022-01-20T12:19:23.317Z"
      },
      {
        "duration": 205,
        "start_time": "2022-01-20T12:19:24.086Z"
      },
      {
        "duration": 1025,
        "start_time": "2022-01-20T12:19:33.115Z"
      },
      {
        "duration": 135,
        "start_time": "2022-01-20T12:19:34.141Z"
      },
      {
        "duration": 125,
        "start_time": "2022-01-20T12:19:34.278Z"
      },
      {
        "duration": 122,
        "start_time": "2022-01-20T12:19:34.405Z"
      },
      {
        "duration": 12,
        "start_time": "2022-01-20T12:19:34.529Z"
      },
      {
        "duration": 11,
        "start_time": "2022-01-20T12:19:34.542Z"
      },
      {
        "duration": 11,
        "start_time": "2022-01-20T12:19:34.555Z"
      },
      {
        "duration": 4,
        "start_time": "2022-01-20T12:19:34.567Z"
      },
      {
        "duration": 40,
        "start_time": "2022-01-20T12:19:34.574Z"
      },
      {
        "duration": 73,
        "start_time": "2022-01-20T12:19:34.616Z"
      },
      {
        "duration": 294,
        "start_time": "2022-01-20T12:19:34.396Z"
      },
      {
        "duration": 293,
        "start_time": "2022-01-20T12:19:34.399Z"
      },
      {
        "duration": 292,
        "start_time": "2022-01-20T12:19:34.401Z"
      },
      {
        "duration": 291,
        "start_time": "2022-01-20T12:19:34.403Z"
      },
      {
        "duration": 289,
        "start_time": "2022-01-20T12:19:34.406Z"
      },
      {
        "duration": 286,
        "start_time": "2022-01-20T12:19:34.410Z"
      },
      {
        "duration": 284,
        "start_time": "2022-01-20T12:19:34.413Z"
      },
      {
        "duration": 282,
        "start_time": "2022-01-20T12:19:34.415Z"
      },
      {
        "duration": 275,
        "start_time": "2022-01-20T12:19:34.424Z"
      },
      {
        "duration": 3,
        "start_time": "2022-01-20T12:20:20.492Z"
      },
      {
        "duration": 120,
        "start_time": "2022-01-20T12:20:21.476Z"
      },
      {
        "duration": 122,
        "start_time": "2022-01-20T12:20:22.171Z"
      },
      {
        "duration": 120,
        "start_time": "2022-01-20T12:20:22.832Z"
      },
      {
        "duration": 9,
        "start_time": "2022-01-20T12:20:23.884Z"
      },
      {
        "duration": 9,
        "start_time": "2022-01-20T12:20:24.326Z"
      },
      {
        "duration": 9,
        "start_time": "2022-01-20T12:20:24.837Z"
      },
      {
        "duration": 3,
        "start_time": "2022-01-20T12:20:26.082Z"
      },
      {
        "duration": 6,
        "start_time": "2022-01-20T12:20:26.646Z"
      },
      {
        "duration": 77,
        "start_time": "2022-01-20T12:20:28.237Z"
      },
      {
        "duration": 3,
        "start_time": "2022-01-20T12:20:33.573Z"
      },
      {
        "duration": 471,
        "start_time": "2022-01-20T12:20:34.912Z"
      },
      {
        "duration": 6,
        "start_time": "2022-01-20T12:21:52.297Z"
      },
      {
        "duration": 3,
        "start_time": "2022-01-20T12:21:55.054Z"
      },
      {
        "duration": 800,
        "start_time": "2022-01-20T12:21:55.556Z"
      },
      {
        "duration": 6,
        "start_time": "2022-01-20T12:22:52.728Z"
      },
      {
        "duration": 618,
        "start_time": "2022-01-20T12:22:56.495Z"
      },
      {
        "duration": 67,
        "start_time": "2022-01-20T12:23:03.330Z"
      },
      {
        "duration": 4,
        "start_time": "2022-01-20T12:23:13.553Z"
      },
      {
        "duration": 6856,
        "start_time": "2022-01-20T12:23:14.640Z"
      },
      {
        "duration": 3,
        "start_time": "2022-01-20T12:23:34.146Z"
      },
      {
        "duration": 3,
        "start_time": "2022-01-20T12:24:00.099Z"
      },
      {
        "duration": 5,
        "start_time": "2022-01-20T12:24:01.831Z"
      },
      {
        "duration": 2087,
        "start_time": "2022-01-20T12:24:02.919Z"
      },
      {
        "duration": 5,
        "start_time": "2022-01-20T12:27:09.245Z"
      },
      {
        "duration": 2243,
        "start_time": "2022-01-20T12:27:10.688Z"
      },
      {
        "duration": 4,
        "start_time": "2022-01-20T12:28:18.677Z"
      },
      {
        "duration": 5,
        "start_time": "2022-01-20T12:28:31.200Z"
      },
      {
        "duration": 2208,
        "start_time": "2022-01-20T12:28:41.001Z"
      },
      {
        "duration": 4,
        "start_time": "2022-01-20T12:30:37.127Z"
      },
      {
        "duration": 850,
        "start_time": "2022-01-20T12:30:37.788Z"
      },
      {
        "duration": 13,
        "start_time": "2022-01-20T12:32:24.412Z"
      },
      {
        "duration": 488,
        "start_time": "2022-01-20T12:32:25.556Z"
      },
      {
        "duration": 3,
        "start_time": "2022-01-20T12:32:28.610Z"
      },
      {
        "duration": 482,
        "start_time": "2022-01-20T12:32:31.748Z"
      },
      {
        "duration": 3,
        "start_time": "2022-01-20T12:34:29.287Z"
      },
      {
        "duration": 5,
        "start_time": "2022-01-20T12:34:30.238Z"
      },
      {
        "duration": 618,
        "start_time": "2022-01-20T12:34:30.853Z"
      },
      {
        "duration": 5,
        "start_time": "2022-01-20T12:36:44.410Z"
      },
      {
        "duration": 1663,
        "start_time": "2022-01-20T12:36:45.098Z"
      },
      {
        "duration": 4,
        "start_time": "2022-01-20T12:38:33.855Z"
      },
      {
        "duration": 1446,
        "start_time": "2022-01-20T12:38:35.432Z"
      },
      {
        "duration": 3,
        "start_time": "2022-01-20T12:42:05.252Z"
      },
      {
        "duration": 4,
        "start_time": "2022-01-20T12:42:06.593Z"
      },
      {
        "duration": 1448,
        "start_time": "2022-01-20T12:42:07.320Z"
      },
      {
        "duration": 4,
        "start_time": "2022-01-20T12:42:38.232Z"
      },
      {
        "duration": 5,
        "start_time": "2022-01-20T12:42:38.812Z"
      },
      {
        "duration": 1519,
        "start_time": "2022-01-20T12:42:39.231Z"
      },
      {
        "duration": 3,
        "start_time": "2022-01-20T12:42:46.094Z"
      },
      {
        "duration": 4,
        "start_time": "2022-01-20T12:42:47.220Z"
      },
      {
        "duration": 1502,
        "start_time": "2022-01-20T12:42:47.671Z"
      },
      {
        "duration": 5,
        "start_time": "2022-01-20T12:42:57.967Z"
      },
      {
        "duration": 3226,
        "start_time": "2022-01-20T12:42:58.371Z"
      },
      {
        "duration": 3,
        "start_time": "2022-01-20T12:43:23.290Z"
      },
      {
        "duration": 4,
        "start_time": "2022-01-20T12:43:23.876Z"
      },
      {
        "duration": 3224,
        "start_time": "2022-01-20T12:43:24.309Z"
      },
      {
        "duration": 3203,
        "start_time": "2022-01-20T12:43:42.111Z"
      },
      {
        "duration": 4,
        "start_time": "2022-01-20T12:44:05.076Z"
      },
      {
        "duration": 3233,
        "start_time": "2022-01-20T12:44:05.335Z"
      },
      {
        "duration": 5,
        "start_time": "2022-01-20T12:44:17.656Z"
      },
      {
        "duration": 3230,
        "start_time": "2022-01-20T12:44:18.091Z"
      },
      {
        "duration": 3264,
        "start_time": "2022-01-20T12:44:55.173Z"
      },
      {
        "duration": 3160,
        "start_time": "2022-01-20T12:45:00.558Z"
      },
      {
        "duration": 5,
        "start_time": "2022-01-20T12:45:19.699Z"
      },
      {
        "duration": 3093,
        "start_time": "2022-01-20T12:45:20.860Z"
      },
      {
        "duration": 5,
        "start_time": "2022-01-20T12:45:27.352Z"
      },
      {
        "duration": 3213,
        "start_time": "2022-01-20T12:45:27.666Z"
      },
      {
        "duration": 3266,
        "start_time": "2022-01-20T12:45:30.880Z"
      },
      {
        "duration": 3267,
        "start_time": "2022-01-20T12:45:34.148Z"
      },
      {
        "duration": 4,
        "start_time": "2022-01-20T12:45:47.103Z"
      },
      {
        "duration": 3139,
        "start_time": "2022-01-20T12:45:47.771Z"
      },
      {
        "duration": 3056,
        "start_time": "2022-01-20T12:45:50.912Z"
      },
      {
        "duration": 3338,
        "start_time": "2022-01-20T12:45:53.971Z"
      },
      {
        "duration": 5,
        "start_time": "2022-01-20T12:46:18.507Z"
      },
      {
        "duration": 3095,
        "start_time": "2022-01-20T12:46:19.729Z"
      },
      {
        "duration": 4,
        "start_time": "2022-01-20T12:46:54.401Z"
      },
      {
        "duration": 3295,
        "start_time": "2022-01-20T12:46:55.361Z"
      },
      {
        "duration": 3257,
        "start_time": "2022-01-20T12:49:29.119Z"
      },
      {
        "duration": 5,
        "start_time": "2022-01-20T12:49:53.095Z"
      },
      {
        "duration": 3229,
        "start_time": "2022-01-20T12:49:53.720Z"
      },
      {
        "duration": 3284,
        "start_time": "2022-01-20T12:49:56.950Z"
      },
      {
        "duration": 3064,
        "start_time": "2022-01-20T12:50:00.236Z"
      },
      {
        "duration": 5,
        "start_time": "2022-01-20T12:50:17.228Z"
      },
      {
        "duration": 234,
        "start_time": "2022-01-20T12:50:28.404Z"
      },
      {
        "duration": 157,
        "start_time": "2022-01-20T12:51:03.502Z"
      },
      {
        "duration": 437,
        "start_time": "2022-01-20T12:51:20.778Z"
      },
      {
        "duration": 378,
        "start_time": "2022-01-20T12:51:25.385Z"
      },
      {
        "duration": 177,
        "start_time": "2022-01-20T12:51:42.998Z"
      },
      {
        "duration": 244,
        "start_time": "2022-01-20T12:52:07.831Z"
      },
      {
        "duration": 879,
        "start_time": "2022-01-20T12:52:38.964Z"
      },
      {
        "duration": 195,
        "start_time": "2022-01-20T12:52:42.040Z"
      },
      {
        "duration": 190,
        "start_time": "2022-01-20T13:06:48.080Z"
      },
      {
        "duration": 3,
        "start_time": "2022-01-20T13:06:55.931Z"
      },
      {
        "duration": 304,
        "start_time": "2022-01-20T13:07:01.215Z"
      },
      {
        "duration": 189,
        "start_time": "2022-01-20T13:07:56.973Z"
      },
      {
        "duration": 486,
        "start_time": "2022-01-20T13:08:05.756Z"
      },
      {
        "duration": 395,
        "start_time": "2022-01-20T13:08:31.172Z"
      },
      {
        "duration": 373,
        "start_time": "2022-01-20T13:08:47.473Z"
      },
      {
        "duration": 526,
        "start_time": "2022-01-20T13:09:01.170Z"
      },
      {
        "duration": 292,
        "start_time": "2022-01-20T13:09:10.147Z"
      },
      {
        "duration": 473,
        "start_time": "2022-01-20T13:09:46.056Z"
      },
      {
        "duration": 462,
        "start_time": "2022-01-20T13:09:58.502Z"
      },
      {
        "duration": 202,
        "start_time": "2022-01-20T13:10:17.530Z"
      },
      {
        "duration": 301,
        "start_time": "2022-01-20T13:10:33.308Z"
      },
      {
        "duration": 185,
        "start_time": "2022-01-20T13:10:58.153Z"
      },
      {
        "duration": 307,
        "start_time": "2022-01-20T13:11:02.279Z"
      },
      {
        "duration": 224,
        "start_time": "2022-01-20T13:11:42.191Z"
      },
      {
        "duration": 221,
        "start_time": "2022-01-20T13:11:50.752Z"
      },
      {
        "duration": 185,
        "start_time": "2022-01-20T13:13:50.990Z"
      },
      {
        "duration": 52,
        "start_time": "2022-01-20T13:13:58.710Z"
      },
      {
        "duration": 177,
        "start_time": "2022-01-20T13:14:02.708Z"
      },
      {
        "duration": 352,
        "start_time": "2022-01-20T13:14:28.743Z"
      },
      {
        "duration": 346,
        "start_time": "2022-01-20T13:17:02.747Z"
      },
      {
        "duration": 627,
        "start_time": "2022-01-20T13:18:23.264Z"
      },
      {
        "duration": 406,
        "start_time": "2022-01-20T13:18:36.216Z"
      },
      {
        "duration": 344,
        "start_time": "2022-01-20T13:18:46.376Z"
      },
      {
        "duration": 1144,
        "start_time": "2022-01-20T15:05:28.280Z"
      },
      {
        "duration": 4,
        "start_time": "2022-01-20T15:05:39.323Z"
      },
      {
        "duration": 133,
        "start_time": "2022-01-20T15:05:39.329Z"
      },
      {
        "duration": 123,
        "start_time": "2022-01-20T15:05:39.465Z"
      },
      {
        "duration": 123,
        "start_time": "2022-01-20T15:05:39.591Z"
      },
      {
        "duration": 11,
        "start_time": "2022-01-20T15:05:39.716Z"
      },
      {
        "duration": 10,
        "start_time": "2022-01-20T15:05:39.729Z"
      },
      {
        "duration": 10,
        "start_time": "2022-01-20T15:05:39.741Z"
      },
      {
        "duration": 4,
        "start_time": "2022-01-20T15:05:39.753Z"
      },
      {
        "duration": 7,
        "start_time": "2022-01-20T15:05:39.760Z"
      },
      {
        "duration": 44,
        "start_time": "2022-01-20T15:05:39.769Z"
      },
      {
        "duration": 598,
        "start_time": "2022-01-20T15:05:39.815Z"
      },
      {
        "duration": 96,
        "start_time": "2022-01-20T15:05:40.416Z"
      },
      {
        "duration": 262,
        "start_time": "2022-01-20T15:05:40.252Z"
      },
      {
        "duration": 254,
        "start_time": "2022-01-20T15:05:40.262Z"
      },
      {
        "duration": 251,
        "start_time": "2022-01-20T15:05:40.266Z"
      },
      {
        "duration": 245,
        "start_time": "2022-01-20T15:05:40.274Z"
      },
      {
        "duration": 244,
        "start_time": "2022-01-20T15:05:40.276Z"
      },
      {
        "duration": 242,
        "start_time": "2022-01-20T15:05:40.279Z"
      },
      {
        "duration": 241,
        "start_time": "2022-01-20T15:05:40.282Z"
      },
      {
        "duration": 238,
        "start_time": "2022-01-20T15:05:40.286Z"
      },
      {
        "duration": 293,
        "start_time": "2022-01-20T15:05:56.842Z"
      },
      {
        "duration": 70,
        "start_time": "2022-01-20T15:06:19.338Z"
      },
      {
        "duration": 5,
        "start_time": "2022-01-20T15:06:25.675Z"
      },
      {
        "duration": 142928,
        "start_time": "2022-01-20T15:06:27.718Z"
      },
      {
        "duration": 4,
        "start_time": "2022-01-20T15:10:09.593Z"
      },
      {
        "duration": 6657,
        "start_time": "2022-01-20T15:10:10.216Z"
      },
      {
        "duration": 4,
        "start_time": "2022-01-20T15:10:16.875Z"
      },
      {
        "duration": 7,
        "start_time": "2022-01-20T15:10:16.880Z"
      },
      {
        "duration": 6,
        "start_time": "2022-01-20T15:10:16.890Z"
      },
      {
        "duration": 3198,
        "start_time": "2022-01-20T15:10:16.898Z"
      },
      {
        "duration": 3128,
        "start_time": "2022-01-20T15:10:20.098Z"
      },
      {
        "duration": 3176,
        "start_time": "2022-01-20T15:10:23.228Z"
      },
      {
        "duration": 228,
        "start_time": "2022-01-20T15:10:26.406Z"
      },
      {
        "duration": 273,
        "start_time": "2022-01-20T15:11:38.813Z"
      },
      {
        "duration": 271,
        "start_time": "2022-01-20T15:11:43.714Z"
      },
      {
        "duration": 293,
        "start_time": "2022-01-20T15:11:51.708Z"
      },
      {
        "duration": 349,
        "start_time": "2022-01-20T15:11:59.365Z"
      },
      {
        "duration": 72,
        "start_time": "2022-01-20T15:12:47.216Z"
      },
      {
        "duration": 315,
        "start_time": "2022-01-20T15:12:52.088Z"
      },
      {
        "duration": 286,
        "start_time": "2022-01-20T15:13:22.869Z"
      },
      {
        "duration": 62,
        "start_time": "2022-01-20T15:14:20.148Z"
      },
      {
        "duration": 277,
        "start_time": "2022-01-20T15:15:41.382Z"
      },
      {
        "duration": 277,
        "start_time": "2022-01-20T15:15:50.398Z"
      },
      {
        "duration": 195,
        "start_time": "2022-01-20T15:18:06.858Z"
      },
      {
        "duration": 298,
        "start_time": "2022-01-20T15:18:16.288Z"
      },
      {
        "duration": 6,
        "start_time": "2022-01-20T15:19:04.955Z"
      },
      {
        "duration": 5,
        "start_time": "2022-01-20T15:19:15.522Z"
      },
      {
        "duration": 72,
        "start_time": "2022-01-20T15:19:26.257Z"
      },
      {
        "duration": 6,
        "start_time": "2022-01-20T15:19:35.789Z"
      },
      {
        "duration": 4,
        "start_time": "2022-01-20T15:19:50.763Z"
      },
      {
        "duration": 4,
        "start_time": "2022-01-20T15:20:11.113Z"
      },
      {
        "duration": 4,
        "start_time": "2022-01-20T15:20:16.440Z"
      },
      {
        "duration": 5,
        "start_time": "2022-01-20T15:20:24.586Z"
      },
      {
        "duration": 275,
        "start_time": "2022-01-20T15:21:25.112Z"
      },
      {
        "duration": 302,
        "start_time": "2022-01-20T15:21:38.610Z"
      },
      {
        "duration": 288,
        "start_time": "2022-01-20T15:21:55.849Z"
      },
      {
        "duration": 285,
        "start_time": "2022-01-20T15:25:29.574Z"
      },
      {
        "duration": 405,
        "start_time": "2022-01-20T15:26:10.332Z"
      },
      {
        "duration": 414,
        "start_time": "2022-01-20T15:26:22.235Z"
      },
      {
        "duration": 390,
        "start_time": "2022-01-20T15:26:47.028Z"
      },
      {
        "duration": 257,
        "start_time": "2022-01-20T15:26:58.432Z"
      },
      {
        "duration": 257,
        "start_time": "2022-01-20T15:28:44.062Z"
      },
      {
        "duration": 146,
        "start_time": "2022-01-20T15:31:27.129Z"
      },
      {
        "duration": 286,
        "start_time": "2022-01-20T15:31:36.113Z"
      },
      {
        "duration": 272,
        "start_time": "2022-01-20T15:32:29.578Z"
      },
      {
        "duration": 264,
        "start_time": "2022-01-20T15:32:36.563Z"
      },
      {
        "duration": 418,
        "start_time": "2022-01-20T15:32:42.513Z"
      },
      {
        "duration": 272,
        "start_time": "2022-01-20T15:32:46.330Z"
      },
      {
        "duration": 299,
        "start_time": "2022-01-20T15:32:55.010Z"
      },
      {
        "duration": 367,
        "start_time": "2022-01-20T15:34:11.394Z"
      },
      {
        "duration": 284,
        "start_time": "2022-01-20T15:35:23.253Z"
      },
      {
        "duration": 76,
        "start_time": "2022-01-20T15:35:30.699Z"
      },
      {
        "duration": 266,
        "start_time": "2022-01-20T15:35:35.860Z"
      },
      {
        "duration": 279,
        "start_time": "2022-01-20T15:36:18.084Z"
      },
      {
        "duration": 5,
        "start_time": "2022-01-20T15:41:15.511Z"
      },
      {
        "duration": 3337,
        "start_time": "2022-01-20T15:41:17.353Z"
      },
      {
        "duration": 3138,
        "start_time": "2022-01-20T15:42:04.685Z"
      },
      {
        "duration": 4,
        "start_time": "2022-01-20T15:43:45.913Z"
      },
      {
        "duration": 3213,
        "start_time": "2022-01-20T15:43:47.033Z"
      },
      {
        "duration": 3245,
        "start_time": "2022-01-20T15:43:50.248Z"
      },
      {
        "duration": 3165,
        "start_time": "2022-01-20T15:43:53.495Z"
      },
      {
        "duration": 10,
        "start_time": "2022-01-20T15:45:30.998Z"
      },
      {
        "duration": 1095,
        "start_time": "2022-01-21T09:58:57.978Z"
      },
      {
        "duration": 130,
        "start_time": "2022-01-21T09:58:59.074Z"
      },
      {
        "duration": 116,
        "start_time": "2022-01-21T09:58:59.205Z"
      },
      {
        "duration": 114,
        "start_time": "2022-01-21T09:58:59.322Z"
      },
      {
        "duration": 9,
        "start_time": "2022-01-21T09:58:59.437Z"
      },
      {
        "duration": 9,
        "start_time": "2022-01-21T09:58:59.447Z"
      },
      {
        "duration": 8,
        "start_time": "2022-01-21T09:58:59.457Z"
      },
      {
        "duration": 3,
        "start_time": "2022-01-21T09:58:59.467Z"
      },
      {
        "duration": 6,
        "start_time": "2022-01-21T09:58:59.471Z"
      },
      {
        "duration": 3,
        "start_time": "2022-01-21T09:58:59.512Z"
      },
      {
        "duration": 597,
        "start_time": "2022-01-21T09:58:59.516Z"
      },
      {
        "duration": 219,
        "start_time": "2022-01-21T09:59:23.187Z"
      },
      {
        "duration": 5,
        "start_time": "2022-01-21T09:59:37.542Z"
      },
      {
        "duration": 140235,
        "start_time": "2022-01-21T09:59:37.583Z"
      },
      {
        "duration": 4,
        "start_time": "2022-01-21T10:03:35.689Z"
      },
      {
        "duration": 6639,
        "start_time": "2022-01-21T10:03:37.166Z"
      },
      {
        "duration": 60,
        "start_time": "2022-01-21T10:03:43.806Z"
      },
      {
        "duration": 1545,
        "start_time": "2022-01-21T11:02:03.156Z"
      },
      {
        "duration": 559,
        "start_time": "2022-01-21T11:02:04.703Z"
      },
      {
        "duration": 259,
        "start_time": "2022-01-21T11:02:05.266Z"
      },
      {
        "duration": 261,
        "start_time": "2022-01-21T11:02:05.845Z"
      },
      {
        "duration": 15,
        "start_time": "2022-01-21T11:02:07.790Z"
      },
      {
        "duration": 14,
        "start_time": "2022-01-21T11:02:08.001Z"
      },
      {
        "duration": 19,
        "start_time": "2022-01-21T11:02:08.660Z"
      },
      {
        "duration": 5,
        "start_time": "2022-01-21T11:03:37.762Z"
      },
      {
        "duration": 9,
        "start_time": "2022-01-21T11:03:41.031Z"
      },
      {
        "duration": 4,
        "start_time": "2022-01-21T11:05:08.114Z"
      },
      {
        "duration": 692,
        "start_time": "2022-01-21T11:05:09.279Z"
      },
      {
        "duration": 7,
        "start_time": "2022-01-21T11:06:39.037Z"
      },
      {
        "duration": 207847,
        "start_time": "2022-01-21T11:06:40.596Z"
      },
      {
        "duration": 7,
        "start_time": "2022-01-21T11:11:33.961Z"
      },
      {
        "duration": 9740,
        "start_time": "2022-01-21T11:11:35.467Z"
      },
      {
        "duration": 102,
        "start_time": "2022-01-21T11:11:45.210Z"
      },
      {
        "duration": 1256,
        "start_time": "2022-01-21T11:11:44.059Z"
      },
      {
        "duration": 7,
        "start_time": "2022-01-21T11:11:52.807Z"
      },
      {
        "duration": 6,
        "start_time": "2022-01-21T11:11:55.517Z"
      },
      {
        "duration": 7,
        "start_time": "2022-01-21T11:11:56.416Z"
      },
      {
        "duration": 5593,
        "start_time": "2022-01-21T11:11:57.472Z"
      },
      {
        "duration": 5540,
        "start_time": "2022-01-21T11:12:03.068Z"
      },
      {
        "duration": 5666,
        "start_time": "2022-01-21T11:12:08.611Z"
      },
      {
        "duration": 14,
        "start_time": "2022-01-21T11:12:14.281Z"
      },
      {
        "duration": 516,
        "start_time": "2022-01-21T11:12:14.298Z"
      },
      {
        "duration": 204,
        "start_time": "2022-01-21T12:12:26.396Z"
      },
      {
        "duration": 4,
        "start_time": "2022-01-21T12:12:31.522Z"
      },
      {
        "duration": 128,
        "start_time": "2022-01-21T12:12:31.529Z"
      },
      {
        "duration": 114,
        "start_time": "2022-01-21T12:12:31.659Z"
      },
      {
        "duration": 113,
        "start_time": "2022-01-21T12:12:31.774Z"
      },
      {
        "duration": 9,
        "start_time": "2022-01-21T12:12:31.888Z"
      },
      {
        "duration": 19,
        "start_time": "2022-01-21T12:12:31.898Z"
      },
      {
        "duration": 10,
        "start_time": "2022-01-21T12:12:31.919Z"
      },
      {
        "duration": 3,
        "start_time": "2022-01-21T12:12:31.930Z"
      },
      {
        "duration": 7,
        "start_time": "2022-01-21T12:12:31.934Z"
      },
      {
        "duration": 7,
        "start_time": "2022-01-21T12:12:31.942Z"
      },
      {
        "duration": 662,
        "start_time": "2022-01-21T12:12:31.951Z"
      },
      {
        "duration": 6,
        "start_time": "2022-01-21T12:12:32.615Z"
      },
      {
        "duration": 3,
        "start_time": "2022-01-21T12:14:56.077Z"
      },
      {
        "duration": 6513,
        "start_time": "2022-01-21T12:14:56.082Z"
      },
      {
        "duration": 4,
        "start_time": "2022-01-21T12:15:02.596Z"
      },
      {
        "duration": 3,
        "start_time": "2022-01-21T12:15:02.612Z"
      },
      {
        "duration": 6,
        "start_time": "2022-01-21T12:15:02.617Z"
      },
      {
        "duration": 3311,
        "start_time": "2022-01-21T12:15:02.626Z"
      },
      {
        "duration": 3397,
        "start_time": "2022-01-21T12:15:05.939Z"
      },
      {
        "duration": 3349,
        "start_time": "2022-01-21T12:15:09.338Z"
      },
      {
        "duration": 9,
        "start_time": "2022-01-21T12:15:12.689Z"
      },
      {
        "duration": 300,
        "start_time": "2022-01-21T12:15:12.699Z"
      },
      {
        "duration": 146821,
        "start_time": "2022-01-21T12:15:13.000Z"
      },
      {
        "duration": 2,
        "start_time": "2022-01-21T12:17:39.823Z"
      },
      {
        "duration": 3,
        "start_time": "2022-01-21T12:19:17.638Z"
      },
      {
        "duration": 383,
        "start_time": "2022-01-21T12:19:34.932Z"
      },
      {
        "duration": 3,
        "start_time": "2022-01-21T12:19:55.936Z"
      },
      {
        "duration": 7,
        "start_time": "2022-01-21T12:20:00.059Z"
      },
      {
        "duration": 6,
        "start_time": "2022-01-21T12:20:13.614Z"
      },
      {
        "duration": 6,
        "start_time": "2022-01-21T12:20:21.465Z"
      },
      {
        "duration": 383,
        "start_time": "2022-01-21T12:20:40.262Z"
      },
      {
        "duration": 3,
        "start_time": "2022-01-21T12:20:50.417Z"
      },
      {
        "duration": 6,
        "start_time": "2022-01-21T12:20:51.350Z"
      },
      {
        "duration": 3,
        "start_time": "2022-01-21T12:21:04.552Z"
      },
      {
        "duration": 6,
        "start_time": "2022-01-21T12:21:05.318Z"
      },
      {
        "duration": 14,
        "start_time": "2022-01-21T12:24:58.925Z"
      },
      {
        "duration": 14,
        "start_time": "2022-01-21T12:25:15.518Z"
      },
      {
        "duration": 3,
        "start_time": "2022-01-21T12:25:23.510Z"
      },
      {
        "duration": 13,
        "start_time": "2022-01-21T12:25:24.365Z"
      }
    ],
    "kernelspec": {
      "display_name": "Python 3",
      "language": "python",
      "name": "python3"
    },
    "language_info": {
      "codemirror_mode": {
        "name": "ipython",
        "version": 3
      },
      "file_extension": ".py",
      "mimetype": "text/x-python",
      "name": "python",
      "nbconvert_exporter": "python",
      "pygments_lexer": "ipython3",
      "version": "3.7.8"
    },
    "toc": {
      "base_numbering": 1,
      "nav_menu": {},
      "number_sections": true,
      "sideBar": true,
      "skip_h1_title": true,
      "title_cell": "Table of Contents",
      "title_sidebar": "Contents",
      "toc_cell": false,
      "toc_position": {},
      "toc_section_display": true,
      "toc_window_display": false
    },
    "colab": {
      "name": "DS_oil_well.ipynb",
      "provenance": [],
      "collapsed_sections": []
    }
  },
  "nbformat": 4,
  "nbformat_minor": 0
}